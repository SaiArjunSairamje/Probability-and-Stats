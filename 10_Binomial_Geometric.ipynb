{
  "nbformat": 4,
  "nbformat_minor": 0,
  "metadata": {
    "colab": {
      "provenance": [],
      "include_colab_link": true
    },
    "kernelspec": {
      "name": "python3",
      "display_name": "Python 3"
    },
    "language_info": {
      "name": "python"
    }
  },
  "cells": [
    {
      "cell_type": "markdown",
      "metadata": {
        "id": "view-in-github",
        "colab_type": "text"
      },
      "source": [
        "<a href=\"https://colab.research.google.com/github/SaiArjunSairamje/Probability-and-Stats/blob/main/10_Binomial_Geometric.ipynb\" target=\"_parent\"><img src=\"https://colab.research.google.com/assets/colab-badge.svg\" alt=\"Open In Colab\"/></a>"
      ]
    },
    {
      "cell_type": "code",
      "execution_count": null,
      "metadata": {
        "id": "4K6dMdWdM21q"
      },
      "outputs": [],
      "source": [
        "import numpy as np\n",
        "import pandas as pd\n",
        "import matplotlib.pyplot as plt\n",
        "import seaborn as sns\n",
        "import math\n",
        "\n",
        "from scipy.stats import binom, geom"
      ]
    },
    {
      "cell_type": "code",
      "source": [
        "'''\n",
        "Binomial means --> each trial has a fixed prob of success and we are counting the number of success\n",
        "Bernouli--> its a special case of BInomial with n=1 (only 1 trial)\n",
        "'''"
      ],
      "metadata": {
        "colab": {
          "base_uri": "https://localhost:8080/",
          "height": 35
        },
        "id": "isFnr482RT4_",
        "outputId": "ec9fcf62-884d-4b02-bb82-c1cf0c984437"
      },
      "execution_count": null,
      "outputs": [
        {
          "output_type": "execute_result",
          "data": {
            "text/plain": [
              "'\\nBinomial means --> each trial has a fixed prob of success and we are counting the number of success\\nBernouli--> its a special case of BInomial with n=1 (only 1 trial)\\n'"
            ],
            "application/vnd.google.colaboratory.intrinsic+json": {
              "type": "string"
            }
          },
          "metadata": {},
          "execution_count": 51
        }
      ]
    },
    {
      "cell_type": "code",
      "source": [],
      "metadata": {
        "id": "AhZ3BfDaRila"
      },
      "execution_count": null,
      "outputs": []
    },
    {
      "cell_type": "markdown",
      "source": [
        "One interview --> One trial"
      ],
      "metadata": {
        "id": "N9uia7yGRxMf"
      }
    },
    {
      "cell_type": "code",
      "source": [
        "'''\n",
        "Suppose you are giving one interview. Let X denote the number of offer letters you can get.\n",
        "What are all the possible values that X can take\n",
        "'''"
      ],
      "metadata": {
        "colab": {
          "base_uri": "https://localhost:8080/",
          "height": 35
        },
        "id": "xA8t3yxuR1y6",
        "outputId": "02e6c04e-89b4-4aa1-cbea-9b5a1217545f"
      },
      "execution_count": null,
      "outputs": [
        {
          "output_type": "execute_result",
          "data": {
            "text/plain": [
              "'\\nSuppose you are giving one interview. Let X denote the number of offer letters you can get.\\nWhat are all the possible values that X can take\\n'"
            ],
            "application/vnd.google.colaboratory.intrinsic+json": {
              "type": "string"
            }
          },
          "metadata": {},
          "execution_count": 52
        }
      ]
    },
    {
      "cell_type": "code",
      "source": [
        "p = 0.1 #porb of success (10%)\n",
        "x_vals = [0, 1] #number of offer letters"
      ],
      "metadata": {
        "id": "uUUSQAToR11g"
      },
      "execution_count": null,
      "outputs": []
    },
    {
      "cell_type": "code",
      "source": [
        "probs = [1-p, p] #prob of 0 or 1 offer letter\n",
        "probs"
      ],
      "metadata": {
        "colab": {
          "base_uri": "https://localhost:8080/"
        },
        "id": "yfBtVYG8Rz5k",
        "outputId": "6ec20dfa-e379-440a-90c3-95fb92c5c0af"
      },
      "execution_count": null,
      "outputs": [
        {
          "output_type": "execute_result",
          "data": {
            "text/plain": [
              "[0.9, 0.1]"
            ]
          },
          "metadata": {},
          "execution_count": 54
        }
      ]
    },
    {
      "cell_type": "code",
      "source": [
        "sns.barplot(x = x_vals, y = probs)#PMF"
      ],
      "metadata": {
        "colab": {
          "base_uri": "https://localhost:8080/",
          "height": 447
        },
        "id": "tYwDFDGjSe6m",
        "outputId": "1eef20b3-ca34-4b3a-d447-bccc131e5d52"
      },
      "execution_count": null,
      "outputs": [
        {
          "output_type": "execute_result",
          "data": {
            "text/plain": [
              "<Axes: >"
            ]
          },
          "metadata": {},
          "execution_count": 55
        },
        {
          "output_type": "display_data",
          "data": {
            "text/plain": [
              "<Figure size 640x480 with 1 Axes>"
            ],
            "image/png": "[encoded data removed]"
          },
          "metadata": {}
        }
      ]
    },
    {
      "cell_type": "code",
      "source": [
        "#For one trial, this probability mass function represents \"Bernouli Distribution\"\n",
        "\n",
        "#Bernouli is a special case of Binomial with n = 1"
      ],
      "metadata": {
        "id": "bJanERrTSpNk"
      },
      "execution_count": null,
      "outputs": []
    },
    {
      "cell_type": "code",
      "source": [
        "#Two trials"
      ],
      "metadata": {
        "id": "g6FsFSuJS4nU"
      },
      "execution_count": null,
      "outputs": []
    },
    {
      "cell_type": "markdown",
      "source": [
        "Question: Suppose you are giving two interviews. Let X denote number of offer letters you can get. What are all the possible values that X can take?\n",
        "\n",
        "Answer: {0, 1, 2}"
      ],
      "metadata": {
        "id": "iTmApxQFUq7b"
      }
    },
    {
      "cell_type": "code",
      "source": [
        "n = 2\n",
        "p = 0.1"
      ],
      "metadata": {
        "id": "QHor1jJbS8lH"
      },
      "execution_count": null,
      "outputs": []
    },
    {
      "cell_type": "code",
      "source": [
        "x_vals = [0, 1, 2]"
      ],
      "metadata": {
        "id": "_SKQ2UgNUvnC"
      },
      "execution_count": null,
      "outputs": []
    },
    {
      "cell_type": "code",
      "source": [
        "probs = [\n",
        "        (1-p)*(1-p), #prob of x = 0\n",
        "        p*(1-p) + (1-p)*p, #prob of x = 1\n",
        "        p*p #prob x = 2\n",
        "]"
      ],
      "metadata": {
        "id": "zLyCwb5VUxJg"
      },
      "execution_count": null,
      "outputs": []
    },
    {
      "cell_type": "code",
      "source": [
        "probs"
      ],
      "metadata": {
        "colab": {
          "base_uri": "https://localhost:8080/"
        },
        "id": "uAGLhuhLVHYb",
        "outputId": "b8c5a8bc-3aad-4d19-d2f7-d66f7cd77dff"
      },
      "execution_count": null,
      "outputs": [
        {
          "output_type": "execute_result",
          "data": {
            "text/plain": [
              "[0.81, 0.18000000000000002, 0.010000000000000002]"
            ]
          },
          "metadata": {},
          "execution_count": 61
        }
      ]
    },
    {
      "cell_type": "code",
      "source": [
        "#PMF\n",
        "sns.barplot(x = x_vals, y = probs)"
      ],
      "metadata": {
        "colab": {
          "base_uri": "https://localhost:8080/",
          "height": 447
        },
        "id": "s0LU8JiaVINU",
        "outputId": "afd9906d-cb75-4801-efbe-27e79dd736c3"
      },
      "execution_count": null,
      "outputs": [
        {
          "output_type": "execute_result",
          "data": {
            "text/plain": [
              "<Axes: >"
            ]
          },
          "metadata": {},
          "execution_count": 62
        },
        {
          "output_type": "display_data",
          "data": {
            "text/plain": [
              "<Figure size 640x480 with 1 Axes>"
            ],
            "image/png": "[encoded data removed]"
          },
          "metadata": {}
        }
      ]
    },
    {
      "cell_type": "code",
      "source": [
        "#Three trials"
      ],
      "metadata": {
        "id": "WO256toHVPG_"
      },
      "execution_count": null,
      "outputs": []
    },
    {
      "cell_type": "code",
      "source": [
        "n = 3\n",
        "p = 0.1\n"
      ],
      "metadata": {
        "id": "0NRv_OxHXFoo"
      },
      "execution_count": null,
      "outputs": []
    },
    {
      "cell_type": "code",
      "source": [
        "x_vals = [0, 1, 2, 3]"
      ],
      "metadata": {
        "id": "nQHaG6YUXIWN"
      },
      "execution_count": null,
      "outputs": []
    },
    {
      "cell_type": "code",
      "source": [
        "probs = [\n",
        "        (1-p)*(1-p)*(1-p), #prob for x = 0\n",
        "        (1-p)*(1-p)*p + (1-p)*p*(1-p) + p*(1-p)*(1-p), #prob of x = 1\n",
        "        (1-p)*p*p + p*(1-p)*p + p*p*(1-p), #prob x = 2\n",
        "        p*p*p #prob for x = 4\n",
        "]"
      ],
      "metadata": {
        "id": "eMv_4UuNXKpL"
      },
      "execution_count": null,
      "outputs": []
    },
    {
      "cell_type": "code",
      "source": [
        "probs"
      ],
      "metadata": {
        "colab": {
          "base_uri": "https://localhost:8080/"
        },
        "id": "JwR5PybMXqUY",
        "outputId": "0f3d8bc4-b6f4-4e61-cbc5-53fe7498a194"
      },
      "execution_count": null,
      "outputs": [
        {
          "output_type": "execute_result",
          "data": {
            "text/plain": [
              "[0.7290000000000001,\n",
              " 0.24300000000000005,\n",
              " 0.027000000000000003,\n",
              " 0.0010000000000000002]"
            ]
          },
          "metadata": {},
          "execution_count": 67
        }
      ]
    },
    {
      "cell_type": "code",
      "source": [
        "sns.barplot(x = x_vals, y = probs)"
      ],
      "metadata": {
        "colab": {
          "base_uri": "https://localhost:8080/",
          "height": 447
        },
        "id": "fVRQFNsRX6Rt",
        "outputId": "530f758a-ee63-4d08-87e2-2b5df6389a66"
      },
      "execution_count": null,
      "outputs": [
        {
          "output_type": "execute_result",
          "data": {
            "text/plain": [
              "<Axes: >"
            ]
          },
          "metadata": {},
          "execution_count": 68
        },
        {
          "output_type": "display_data",
          "data": {
            "text/plain": [
              "<Figure size 640x480 with 1 Axes>"
            ],
            "image/png": "[encoded data removed]"
          },
          "metadata": {}
        }
      ]
    },
    {
      "cell_type": "code",
      "source": [
        "probs_binom = binom.pmf(x_vals, n= 3, p = 0.1)\n",
        "sns.barplot(x = x_vals, y = probs_binom)"
      ],
      "metadata": {
        "colab": {
          "base_uri": "https://localhost:8080/",
          "height": 447
        },
        "id": "DY-c_5DYYAbF",
        "outputId": "6d664eb2-b1dd-477d-c01d-0675a4242dd0"
      },
      "execution_count": null,
      "outputs": [
        {
          "output_type": "execute_result",
          "data": {
            "text/plain": [
              "<Axes: >"
            ]
          },
          "metadata": {},
          "execution_count": 69
        },
        {
          "output_type": "display_data",
          "data": {
            "text/plain": [
              "<Figure size 640x480 with 1 Axes>"
            ],
            "image/png": "[encoded data removed]"
          },
          "metadata": {}
        }
      ]
    },
    {
      "cell_type": "code",
      "source": [
        "print(probs_binom)"
      ],
      "metadata": {
        "colab": {
          "base_uri": "https://localhost:8080/"
        },
        "id": "041iJX_tYsIu",
        "outputId": "1b2b1c8b-8fad-4cbc-dada-31320894b4d4"
      },
      "execution_count": null,
      "outputs": [
        {
          "output_type": "stream",
          "name": "stdout",
          "text": [
            "[0.729 0.243 0.027 0.001]\n"
          ]
        }
      ]
    },
    {
      "cell_type": "code",
      "source": [
        "a = binom.pmf(0, n= 3, p = 0.1)\n",
        "print(a)"
      ],
      "metadata": {
        "colab": {
          "base_uri": "https://localhost:8080/"
        },
        "id": "aM-wLHUHYxYI",
        "outputId": "1b6c067d-6237-429b-fc3a-3c7e278f3194"
      },
      "execution_count": null,
      "outputs": [
        {
          "output_type": "stream",
          "name": "stdout",
          "text": [
            "0.7290000000000001\n"
          ]
        }
      ]
    },
    {
      "cell_type": "code",
      "source": [
        "a = binom.pmf([0,1], n= 3, p = 0.1)\n",
        "print(a)"
      ],
      "metadata": {
        "colab": {
          "base_uri": "https://localhost:8080/"
        },
        "id": "aM0RbpGeZb3j",
        "outputId": "17db01a7-a7e0-43aa-9de4-9cc32ac325ec"
      },
      "execution_count": null,
      "outputs": [
        {
          "output_type": "stream",
          "name": "stdout",
          "text": [
            "[0.729 0.243]\n"
          ]
        }
      ]
    },
    {
      "cell_type": "code",
      "source": [
        "#N trials"
      ],
      "metadata": {
        "id": "F0PS1Tqua_kL"
      },
      "execution_count": null,
      "outputs": []
    },
    {
      "cell_type": "code",
      "source": [
        "n = 10\n",
        "p = 0.1\n",
        "x_vals = np.arange(0,n+1)\n",
        "probs_binom = binom.pmf(x_vals, n = n, p = p)\n",
        "sns.barplot(x = x_vals, y = probs_binom)\n",
        "\n",
        "#HW - try to change n and p and observe the pattern"
      ],
      "metadata": {
        "colab": {
          "base_uri": "https://localhost:8080/",
          "height": 447
        },
        "id": "80Q0gttqcfnx",
        "outputId": "ea280ad3-15e9-4c2a-b573-6a3628958beb"
      },
      "execution_count": null,
      "outputs": [
        {
          "output_type": "execute_result",
          "data": {
            "text/plain": [
              "<Axes: >"
            ]
          },
          "metadata": {},
          "execution_count": 74
        },
        {
          "output_type": "display_data",
          "data": {
            "text/plain": [
              "<Figure size 640x480 with 1 Axes>"
            ],
            "image/png": "[encoded data removed]"
          },
          "metadata": {}
        }
      ]
    },
    {
      "cell_type": "code",
      "source": [
        "#Binomial Formula"
      ],
      "metadata": {
        "id": "Cv9CtDg9c6hH"
      },
      "execution_count": null,
      "outputs": []
    },
    {
      "cell_type": "code",
      "source": [
        "n = 15\n",
        "p = 0.1"
      ],
      "metadata": {
        "id": "v2roXdHLh4bP"
      },
      "execution_count": null,
      "outputs": []
    },
    {
      "cell_type": "code",
      "source": [
        "binom.pmf(k = 3, n=n, p=p) #nck*p^k*(1-p)^(n-k)"
      ],
      "metadata": {
        "colab": {
          "base_uri": "https://localhost:8080/"
        },
        "id": "ogcn69Rkh6Yw",
        "outputId": "6fec6584-1f10-4e24-8ffb-1b672c1673d6"
      },
      "execution_count": null,
      "outputs": [
        {
          "output_type": "execute_result",
          "data": {
            "text/plain": [
              "0.1285054390988551"
            ]
          },
          "metadata": {},
          "execution_count": 77
        }
      ]
    },
    {
      "cell_type": "code",
      "source": [
        "math.comb(15,3)*p**3*(1-p)**(n-3)"
      ],
      "metadata": {
        "colab": {
          "base_uri": "https://localhost:8080/"
        },
        "id": "iVhG1zVliEVO",
        "outputId": "5d248a09-45b0-423f-9766-d86c212cf56f"
      },
      "execution_count": null,
      "outputs": [
        {
          "output_type": "execute_result",
          "data": {
            "text/plain": [
              "0.1285054390988551"
            ]
          },
          "metadata": {},
          "execution_count": 78
        }
      ]
    },
    {
      "cell_type": "code",
      "source": [
        "#Geometric distribution"
      ],
      "metadata": {
        "id": "SEmgwZ3RiTF6"
      },
      "execution_count": null,
      "outputs": []
    },
    {
      "cell_type": "code",
      "source": [
        "#here we are interested in no.of interviews as number of offer letrer is fixed to 1 - first success"
      ],
      "metadata": {
        "id": "gGQjY9XZkvKm"
      },
      "execution_count": null,
      "outputs": []
    },
    {
      "cell_type": "code",
      "source": [
        "# X: no of interviews till first success"
      ],
      "metadata": {
        "id": "G1Uabbo2lATK"
      },
      "execution_count": null,
      "outputs": []
    },
    {
      "cell_type": "code",
      "source": [
        "p = 0.1"
      ],
      "metadata": {
        "id": "ZicQWgmplEOU"
      },
      "execution_count": null,
      "outputs": []
    },
    {
      "cell_type": "code",
      "source": [
        "x_vals = np.arange(1, 20) #technically, infinite values"
      ],
      "metadata": {
        "id": "OtHKXxYdlFbf"
      },
      "execution_count": null,
      "outputs": []
    },
    {
      "cell_type": "code",
      "source": [
        "probs_geom = geom.pmf(x_vals, p=p)\n",
        "sns.barplot(x=x_vals, y = probs_geom)"
      ],
      "metadata": {
        "colab": {
          "base_uri": "https://localhost:8080/",
          "height": 447
        },
        "id": "rJZrnHxilMbr",
        "outputId": "a12a9a4f-6e0f-4df2-eb20-b869783a448c"
      },
      "execution_count": null,
      "outputs": [
        {
          "output_type": "execute_result",
          "data": {
            "text/plain": [
              "<Axes: >"
            ]
          },
          "metadata": {},
          "execution_count": 84
        },
        {
          "output_type": "display_data",
          "data": {
            "text/plain": [
              "<Figure size 640x480 with 1 Axes>"
            ],
            "image/png": "[encoded data removed]"
          },
          "metadata": {}
        }
      ]
    },
    {
      "cell_type": "code",
      "source": [
        "# Suppose we float 10 quizzes with four options each. Calculate the probability that a student, who randomly guesses, answers exactly 2 questions correctly"
      ],
      "metadata": {
        "colab": {
          "base_uri": "https://localhost:8080/",
          "height": 141
        },
        "id": "GznfTDDUlbmv",
        "outputId": "df2fd351-f7a8-4f77-d4e4-e07d3ba2f59b"
      },
      "execution_count": null,
      "outputs": [
        {
          "output_type": "error",
          "ename": "SyntaxError",
          "evalue": "ignored",
          "traceback": [
            "\u001b[0;36m  File \u001b[0;32m\"<ipython-input-85-ccc94da343f3>\"\u001b[0;36m, line \u001b[0;32m1\u001b[0m\n\u001b[0;31m    Suppose we float 10 quizzes with four options each. Calculate the probability that a student, who randomly guesses, answers exactly 2 questions correctly\u001b[0m\n\u001b[0m            ^\u001b[0m\n\u001b[0;31mSyntaxError\u001b[0m\u001b[0;31m:\u001b[0m invalid syntax\n"
          ]
        }
      ]
    },
    {
      "cell_type": "code",
      "source": [],
      "metadata": {
        "id": "G2WvRgdJrW6T"
      },
      "execution_count": null,
      "outputs": []
    },
    {
      "cell_type": "markdown",
      "metadata": {
        "id": "59e0cc20"
      },
      "source": [
        "# Binomial CDF"
      ]
    },
    {
      "cell_type": "markdown",
      "metadata": {
        "id": "eafb15d5"
      },
      "source": [
        "Messi and penalty:\n",
        "Success rate is 80%"
      ]
    },
    {
      "cell_type": "markdown",
      "metadata": {
        "id": "0a94e305"
      },
      "source": [
        "He kicks 10 times. What is the probability of having 7 or less successes?"
      ]
    },
    {
      "cell_type": "code",
      "execution_count": null,
      "metadata": {
        "id": "e1e30949"
      },
      "outputs": [],
      "source": [
        "n = 10\n",
        "p = 0.8"
      ]
    },
    {
      "cell_type": "code",
      "execution_count": null,
      "metadata": {
        "colab": {
          "base_uri": "https://localhost:8080/"
        },
        "id": "7d7e5715",
        "outputId": "c77137f4-5186-4952-84bb-af7efbaede48"
      },
      "outputs": [
        {
          "output_type": "execute_result",
          "data": {
            "text/plain": [
              "0.32220047359999987"
            ]
          },
          "metadata": {},
          "execution_count": 87
        }
      ],
      "source": [
        "binom.cdf(k=7, n=n, p=p)"
      ]
    },
    {
      "cell_type": "code",
      "execution_count": null,
      "metadata": {
        "colab": {
          "base_uri": "https://localhost:8080/"
        },
        "id": "2a6c873b",
        "outputId": "6bc02423-3641-4d94-bd5f-b68cf9e7224f"
      },
      "outputs": [
        {
          "output_type": "execute_result",
          "data": {
            "text/plain": [
              "0.3222004735999996"
            ]
          },
          "metadata": {},
          "execution_count": 88
        }
      ],
      "source": [
        "np.sum([binom.pmf(k=i, n=n, p=p) for i in np.arange(0, 8)]) #adding all the pmf from 0 to 7 (k)\n",
        "#cdf is sum of individual pmfs (usually when <= asked --> cumulative)"
      ]
    },
    {
      "cell_type": "code",
      "execution_count": null,
      "metadata": {
        "colab": {
          "base_uri": "https://localhost:8080/"
        },
        "id": "b777ff61",
        "outputId": "bb2c400c-8ddc-4eaf-e267-85e2a2398488"
      },
      "outputs": [
        {
          "output_type": "execute_result",
          "data": {
            "text/plain": [
              "0.3222004735999996"
            ]
          },
          "metadata": {},
          "execution_count": 89
        }
      ],
      "source": [
        "prob = 0\n",
        "for i in range(8):\n",
        "    prob += binom.pmf(k=i, n=n, p=p)\n",
        "prob"
      ]
    },
    {
      "cell_type": "code",
      "source": [
        "#usually we will solve x<=4 types of questions using compleement : 1- x<= format as cdf is avialalbe which captures 0 to x=k in one go"
      ],
      "metadata": {
        "id": "w_bwAWP2vtKQ"
      },
      "execution_count": null,
      "outputs": []
    },
    {
      "cell_type": "code",
      "source": [
        "#praactical usecase of Gemoetric - as an HR how many intervaiews shall I take to get my first hire candidate"
      ],
      "metadata": {
        "id": "zR0wnDxJwJWO"
      },
      "execution_count": null,
      "outputs": []
    },
    {
      "cell_type": "markdown",
      "source": [],
      "metadata": {
        "id": "VbzXGVAivso9"
      }
    },
    {
      "cell_type": "markdown",
      "source": [
        "Suppose we float 10 quizzes with four options each. Calculate the probability that a student, who randomly guesses, answers exactly 2 questions correctly"
      ],
      "metadata": {
        "id": "TquA_SG2qngb"
      }
    }
  ]
}