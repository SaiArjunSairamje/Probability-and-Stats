{
  "nbformat": 4,
  "nbformat_minor": 0,
  "metadata": {
    "colab": {
      "provenance": [],
      "include_colab_link": true
    },
    "kernelspec": {
      "name": "python3",
      "display_name": "Python 3"
    },
    "language_info": {
      "name": "python"
    }
  },
  "cells": [
    {
      "cell_type": "markdown",
      "metadata": {
        "id": "view-in-github",
        "colab_type": "text"
      },
      "source": [
        "<a href=\"https://colab.research.google.com/github/SaiArjunSairamje/Probability-and-Stats/blob/main/central_limit_theorem.ipynb\" target=\"_parent\"><img src=\"https://colab.research.google.com/assets/colab-badge.svg\" alt=\"Open In Colab\"/></a>"
      ]
    },
    {
      "cell_type": "code",
      "source": [
        "'''\n",
        "Central limit theorem:\n",
        "---------------------------------\n",
        "> From sample, what can be infer about population:\n",
        "\t- Central Limit Theorem (CLT)\n",
        "\t- Confidence Interva (NOTE: next lecture...)\n",
        "> For population:\n",
        "\t- data.head()\t#population\n",
        "\t- mu = data.mean()\t#population mean,\n",
        "\t- sigma = data.std()\t#population std dev\n",
        "\t- sns.histplot(data)\t#distribution\n",
        "> Analysis of sample size 5:\n",
        "\t- data.sample(5)\t#random selection of 5 rows\n",
        "\t- np.mean(data.sample(5))\t#mean of one sample mean (NOTE: every time, this mean is different & is close to the population mean of 66.3)\n",
        "\t- sample_mean_5 = [np.mean(data.sample(5)) for i in range(20000)]\t#mean of 20000 sample means using list comprehension\n",
        "\t- len(sample_mean_5)\t#length of mean of 20000 sample means\n",
        "\t- sns.histplot(sample_mean_5)\t\t#distribution\n",
        "\t- np.mean(sample_mean_5)\t#Mean of sample means ≈ mean of population\n",
        " \t- np.std(sample_mean_5)\t\t#Std dev of sample < Std dev of population\n",
        " (NOTE: Standard Error (i.e. Standard deviation of the sample mean): As the number of sample size increases, the \"Std dev of sample < Std dev of \tpopulation\". This is called as \"Standard Error\" with the formula \"sigma/sqrt(n)\")\n",
        "\t- sigma/np.sqrt(5)\t\t#\"Standard Error\" for n = 5\n",
        "> Analysis of sample size 20:\n",
        "\t- (Same as above steps but take the random selection of 20 rows)\n",
        "> Analysis of sample size 100:\n",
        "\t- (Same as above steps but take the random selection of 100 rows)\n",
        "\n",
        "Formula:\n",
        "\tLet \"x̄ = (x1+x2+x3+...+xn)/n\" denotes the sample mean.\n",
        "\tThen x̄ follows a normal/gaussian distribution with expected mean.\n",
        "\tThat is, \"E(x̄)=μ\" where \"E(x̄)\" is expected mean and \"μ\" is population mean.\n",
        "\tAnd, Standard deviation of \"x̄ = σ / √n\"\n",
        "In other words, x̄ ≈ N(μ, σ/√n)\n",
        "\tThat is, x̄ follows a Normal/Gaussian Distribution as \"N\" with mean as \"μ\" and std dev as \"σ/√n\"\n",
        "NOTE: If n is large (n > 30), then sigma \"σ\" is finite. That is, original distribution need not be normal distribution...\n",
        "\n",
        "  Q) Systolic blood pressure of a group of people is known to have an average of 122 mmHg and a standard deviation of 10 mmHg (assume normal distribution). Calculate the probability that the average blood pressure of 16 people will be greater than 125mmHg.\n",
        "  Q) Weekly toothpaste sales have a mean 1000 and std dev 200 (assume normal distri). What is the probability that the average weekly sales next month is more than 1110?\t(Ans: 0.13)\n",
        "\n",
        "Customized Code:\n",
        "\tdef clt_prob(mu , sigma, n, obs):\n",
        "  \t\tstd_err = sigma/np.sqrt(n)\n",
        "  \t\tz = (obs - mu)/std_err\n",
        "  \t\tprob_less = norm.cdf(z)\n",
        "  \t\tprob_greater = 1 - norm.cdf(z)\n",
        "  \t\treturn prob_less, prob_greater\n",
        "\t#blood pressure\n",
        "\tclt_prob(122, 10, 16, 125)\n",
        "\t#toothpaste\n",
        "\tclt_prob(1000, 200, 4, 1110)\n",
        "\n",
        "  Q) In an e-commerce website, the average purchase amount per customer is $80 with a standard deviation of $15. If we randomly select a sample of 50 customers, what is the probability that the average purchase amount in the sample will be less than $75?\t(Ans: 0.009)\n",
        "'''"
      ],
      "metadata": {
        "id": "UBgNOXOPJgUx"
      },
      "execution_count": null,
      "outputs": []
    },
    {
      "cell_type": "code",
      "execution_count": null,
      "metadata": {
        "id": "8ss-VLuaIstv"
      },
      "outputs": [],
      "source": [
        "import numpy as np\n",
        "import pandas as pd\n",
        "import seaborn as sns\n",
        "import matplotlib.pyplot as plt\n",
        "\n",
        "from scipy.stats import norm"
      ]
    },
    {
      "cell_type": "code",
      "source": [
        "df_hw = pd.read_csv(\"weight-height.csv\")"
      ],
      "metadata": {
        "id": "b_B8jnu3Jr-s"
      },
      "execution_count": null,
      "outputs": []
    },
    {
      "cell_type": "code",
      "source": [
        "df_hw.head()"
      ],
      "metadata": {
        "colab": {
          "base_uri": "https://localhost:8080/",
          "height": 206
        },
        "id": "fAc0U5I7J2lR",
        "outputId": "5e232262-1007-432a-f6db-2fd4eb8b7b58"
      },
      "execution_count": null,
      "outputs": [
        {
          "output_type": "execute_result",
          "data": {
            "text/plain": [
              "  Gender     Height      Weight\n",
              "0   Male  73.847017  241.893563\n",
              "1   Male  68.781904  162.310473\n",
              "2   Male  74.110105  212.740856\n",
              "3   Male  71.730978  220.042470\n",
              "4   Male  69.881796  206.349801"
            ],
            "text/html": [
              "\n",
              "\n",
              "  <div id=\"df-9458e522-c2e0-445e-8bd8-7f53e40940f2\">\n",
              "    <div class=\"colab-df-container\">\n",
              "      <div>\n",
              "<style scoped>\n",
              "    .dataframe tbody tr th:only-of-type {\n",
              "        vertical-align: middle;\n",
              "    }\n",
              "\n",
              "    .dataframe tbody tr th {\n",
              "        vertical-align: top;\n",
              "    }\n",
              "\n",
              "    .dataframe thead th {\n",
              "        text-align: right;\n",
              "    }\n",
              "</style>\n",
              "<table border=\"1\" class=\"dataframe\">\n",
              "  <thead>\n",
              "    <tr style=\"text-align: right;\">\n",
              "      <th></th>\n",
              "      <th>Gender</th>\n",
              "      <th>Height</th>\n",
              "      <th>Weight</th>\n",
              "    </tr>\n",
              "  </thead>\n",
              "  <tbody>\n",
              "    <tr>\n",
              "      <th>0</th>\n",
              "      <td>Male</td>\n",
              "      <td>73.847017</td>\n",
              "      <td>241.893563</td>\n",
              "    </tr>\n",
              "    <tr>\n",
              "      <th>1</th>\n",
              "      <td>Male</td>\n",
              "      <td>68.781904</td>\n",
              "      <td>162.310473</td>\n",
              "    </tr>\n",
              "    <tr>\n",
              "      <th>2</th>\n",
              "      <td>Male</td>\n",
              "      <td>74.110105</td>\n",
              "      <td>212.740856</td>\n",
              "    </tr>\n",
              "    <tr>\n",
              "      <th>3</th>\n",
              "      <td>Male</td>\n",
              "      <td>71.730978</td>\n",
              "      <td>220.042470</td>\n",
              "    </tr>\n",
              "    <tr>\n",
              "      <th>4</th>\n",
              "      <td>Male</td>\n",
              "      <td>69.881796</td>\n",
              "      <td>206.349801</td>\n",
              "    </tr>\n",
              "  </tbody>\n",
              "</table>\n",
              "</div>\n",
              "      <button class=\"colab-df-convert\" onclick=\"convertToInteractive('df-9458e522-c2e0-445e-8bd8-7f53e40940f2')\"\n",
              "              title=\"Convert this dataframe to an interactive table.\"\n",
              "              style=\"display:none;\">\n",
              "\n",
              "  <svg xmlns=\"http://www.w3.org/2000/svg\" height=\"24px\"viewBox=\"0 0 24 24\"\n",
              "       width=\"24px\">\n",
              "    <path d=\"M0 0h24v24H0V0z\" fill=\"none\"/>\n",
              "    <path d=\"M18.56 5.44l.94 2.06.94-2.06 2.06-.94-2.06-.94-.94-2.06-.94 2.06-2.06.94zm-11 1L8.5 8.5l.94-2.06 2.06-.94-2.06-.94L8.5 2.5l-.94 2.06-2.06.94zm10 10l.94 2.06.94-2.06 2.06-.94-2.06-.94-.94-2.06-.94 2.06-2.06.94z\"/><path d=\"M17.41 7.96l-1.37-1.37c-.4-.4-.92-.59-1.43-.59-.52 0-1.04.2-1.43.59L10.3 9.45l-7.72 7.72c-.78.78-.78 2.05 0 2.83L4 21.41c.39.39.9.59 1.41.59.51 0 1.02-.2 1.41-.59l7.78-7.78 2.81-2.81c.8-.78.8-2.07 0-2.86zM5.41 20L4 18.59l7.72-7.72 1.47 1.35L5.41 20z\"/>\n",
              "  </svg>\n",
              "      </button>\n",
              "\n",
              "\n",
              "\n",
              "    <div id=\"df-60994200-1009-4ef8-a012-f9a174878d2e\">\n",
              "      <button class=\"colab-df-quickchart\" onclick=\"quickchart('df-60994200-1009-4ef8-a012-f9a174878d2e')\"\n",
              "              title=\"Suggest charts.\"\n",
              "              style=\"display:none;\">\n",
              "\n",
              "<svg xmlns=\"http://www.w3.org/2000/svg\" height=\"24px\"viewBox=\"0 0 24 24\"\n",
              "     width=\"24px\">\n",
              "    <g>\n",
              "        <path d=\"M19 3H5c-1.1 0-2 .9-2 2v14c0 1.1.9 2 2 2h14c1.1 0 2-.9 2-2V5c0-1.1-.9-2-2-2zM9 17H7v-7h2v7zm4 0h-2V7h2v10zm4 0h-2v-4h2v4z\"/>\n",
              "    </g>\n",
              "</svg>\n",
              "      </button>\n",
              "    </div>\n",
              "\n",
              "<style>\n",
              "  .colab-df-quickchart {\n",
              "    background-color: #E8F0FE;\n",
              "    border: none;\n",
              "    border-radius: 50%;\n",
              "    cursor: pointer;\n",
              "    display: none;\n",
              "    fill: #1967D2;\n",
              "    height: 32px;\n",
              "    padding: 0 0 0 0;\n",
              "    width: 32px;\n",
              "  }\n",
              "\n",
              "  .colab-df-quickchart:hover {\n",
              "    background-color: #E2EBFA;\n",
              "    box-shadow: 0px 1px 2px rgba(60, 64, 67, 0.3), 0px 1px 3px 1px rgba(60, 64, 67, 0.15);\n",
              "    fill: #174EA6;\n",
              "  }\n",
              "\n",
              "  [theme=dark] .colab-df-quickchart {\n",
              "    background-color: #3B4455;\n",
              "    fill: #D2E3FC;\n",
              "  }\n",
              "\n",
              "  [theme=dark] .colab-df-quickchart:hover {\n",
              "    background-color: #434B5C;\n",
              "    box-shadow: 0px 1px 3px 1px rgba(0, 0, 0, 0.15);\n",
              "    filter: drop-shadow(0px 1px 2px rgba(0, 0, 0, 0.3));\n",
              "    fill: #FFFFFF;\n",
              "  }\n",
              "</style>\n",
              "\n",
              "    <script>\n",
              "      async function quickchart(key) {\n",
              "        const containerElement = document.querySelector('#' + key);\n",
              "        const charts = await google.colab.kernel.invokeFunction(\n",
              "            'suggestCharts', [key], {});\n",
              "      }\n",
              "    </script>\n",
              "\n",
              "\n",
              "      <script>\n",
              "\n",
              "function displayQuickchartButton(domScope) {\n",
              "  let quickchartButtonEl =\n",
              "    domScope.querySelector('#df-60994200-1009-4ef8-a012-f9a174878d2e button.colab-df-quickchart');\n",
              "  quickchartButtonEl.style.display =\n",
              "    google.colab.kernel.accessAllowed ? 'block' : 'none';\n",
              "}\n",
              "\n",
              "        displayQuickchartButton(document);\n",
              "      </script>\n",
              "      <style>\n",
              "    .colab-df-container {\n",
              "      display:flex;\n",
              "      flex-wrap:wrap;\n",
              "      gap: 12px;\n",
              "    }\n",
              "\n",
              "    .colab-df-convert {\n",
              "      background-color: #E8F0FE;\n",
              "      border: none;\n",
              "      border-radius: 50%;\n",
              "      cursor: pointer;\n",
              "      display: none;\n",
              "      fill: #1967D2;\n",
              "      height: 32px;\n",
              "      padding: 0 0 0 0;\n",
              "      width: 32px;\n",
              "    }\n",
              "\n",
              "    .colab-df-convert:hover {\n",
              "      background-color: #E2EBFA;\n",
              "      box-shadow: 0px 1px 2px rgba(60, 64, 67, 0.3), 0px 1px 3px 1px rgba(60, 64, 67, 0.15);\n",
              "      fill: #174EA6;\n",
              "    }\n",
              "\n",
              "    [theme=dark] .colab-df-convert {\n",
              "      background-color: #3B4455;\n",
              "      fill: #D2E3FC;\n",
              "    }\n",
              "\n",
              "    [theme=dark] .colab-df-convert:hover {\n",
              "      background-color: #434B5C;\n",
              "      box-shadow: 0px 1px 3px 1px rgba(0, 0, 0, 0.15);\n",
              "      filter: drop-shadow(0px 1px 2px rgba(0, 0, 0, 0.3));\n",
              "      fill: #FFFFFF;\n",
              "    }\n",
              "  </style>\n",
              "\n",
              "      <script>\n",
              "        const buttonEl =\n",
              "          document.querySelector('#df-9458e522-c2e0-445e-8bd8-7f53e40940f2 button.colab-df-convert');\n",
              "        buttonEl.style.display =\n",
              "          google.colab.kernel.accessAllowed ? 'block' : 'none';\n",
              "\n",
              "        async function convertToInteractive(key) {\n",
              "          const element = document.querySelector('#df-9458e522-c2e0-445e-8bd8-7f53e40940f2');\n",
              "          const dataTable =\n",
              "            await google.colab.kernel.invokeFunction('convertToInteractive',\n",
              "                                                     [key], {});\n",
              "          if (!dataTable) return;\n",
              "\n",
              "          const docLinkHtml = 'Like what you see? Visit the ' +\n",
              "            '<a target=\"_blank\" href=https://colab.research.google.com/notebooks/data_table.ipynb>data table notebook</a>'\n",
              "            + ' to learn more about interactive tables.';\n",
              "          element.innerHTML = '';\n",
              "          dataTable['output_type'] = 'display_data';\n",
              "          await google.colab.output.renderOutput(dataTable, element);\n",
              "          const docLink = document.createElement('div');\n",
              "          docLink.innerHTML = docLinkHtml;\n",
              "          element.appendChild(docLink);\n",
              "        }\n",
              "      </script>\n",
              "    </div>\n",
              "  </div>\n"
            ]
          },
          "metadata": {},
          "execution_count": 3
        }
      ]
    },
    {
      "cell_type": "code",
      "source": [
        "df_hw.shape"
      ],
      "metadata": {
        "colab": {
          "base_uri": "https://localhost:8080/"
        },
        "id": "qOgggFNEJ3or",
        "outputId": "c0d53691-c26a-4679-edc9-b83fb292bae3"
      },
      "execution_count": null,
      "outputs": [
        {
          "output_type": "execute_result",
          "data": {
            "text/plain": [
              "(10000, 3)"
            ]
          },
          "metadata": {},
          "execution_count": 4
        }
      ]
    },
    {
      "cell_type": "code",
      "source": [
        "df_height = df_hw[\"Height\"]"
      ],
      "metadata": {
        "id": "9SPn06hbJ70U"
      },
      "execution_count": null,
      "outputs": []
    },
    {
      "cell_type": "code",
      "source": [
        "df_height.head() #population"
      ],
      "metadata": {
        "colab": {
          "base_uri": "https://localhost:8080/"
        },
        "id": "uJmxp2KFKA6t",
        "outputId": "8e6f4fd0-9f44-4245-d6f2-6651b04fb99e"
      },
      "execution_count": null,
      "outputs": [
        {
          "output_type": "execute_result",
          "data": {
            "text/plain": [
              "0    73.847017\n",
              "1    68.781904\n",
              "2    74.110105\n",
              "3    71.730978\n",
              "4    69.881796\n",
              "Name: Height, dtype: float64"
            ]
          },
          "metadata": {},
          "execution_count": 8
        }
      ]
    },
    {
      "cell_type": "code",
      "source": [
        "mu = df_height.mean() #population mean"
      ],
      "metadata": {
        "id": "wz1hWDqhKD0Z"
      },
      "execution_count": null,
      "outputs": []
    },
    {
      "cell_type": "code",
      "source": [
        "mu"
      ],
      "metadata": {
        "colab": {
          "base_uri": "https://localhost:8080/"
        },
        "id": "TVPFcBNBKRNm",
        "outputId": "e3986fb0-e229-444b-c569-48afb3e270a1"
      },
      "execution_count": null,
      "outputs": [
        {
          "output_type": "execute_result",
          "data": {
            "text/plain": [
              "66.36755975482124"
            ]
          },
          "metadata": {},
          "execution_count": 10
        }
      ]
    },
    {
      "cell_type": "code",
      "source": [
        "sigma = df_height.std() #population std dev\n",
        "sigma"
      ],
      "metadata": {
        "colab": {
          "base_uri": "https://localhost:8080/"
        },
        "id": "NKW9Pb7PKR1K",
        "outputId": "9c07aa5d-fadf-4089-c7f2-8acaa97758f1"
      },
      "execution_count": null,
      "outputs": [
        {
          "output_type": "execute_result",
          "data": {
            "text/plain": [
              "3.8475281207732293"
            ]
          },
          "metadata": {},
          "execution_count": 11
        }
      ]
    },
    {
      "cell_type": "code",
      "source": [
        "sns.histplot(df_height)"
      ],
      "metadata": {
        "colab": {
          "base_uri": "https://localhost:8080/",
          "height": 467
        },
        "id": "oL4GjeLaKZDP",
        "outputId": "9f763a55-72ab-4ba7-8d0b-c892c448e5bf"
      },
      "execution_count": null,
      "outputs": [
        {
          "output_type": "execute_result",
          "data": {
            "text/plain": [
              "<Axes: xlabel='Height', ylabel='Count'>"
            ]
          },
          "metadata": {},
          "execution_count": 12
        },
        {
          "output_type": "display_data",
          "data": {
            "text/plain": [
              "<Figure size 640x480 with 1 Axes>"
            ],
            "image/png": "[encoded data removed]"
          },
          "metadata": {}
        }
      ]
    },
    {
      "cell_type": "code",
      "source": [
        "#analysis for sample size 5"
      ],
      "metadata": {
        "id": "Htab45RNOcV0"
      },
      "execution_count": null,
      "outputs": []
    },
    {
      "cell_type": "code",
      "source": [
        "df_height.sample(5) #random selection of 5 rows"
      ],
      "metadata": {
        "colab": {
          "base_uri": "https://localhost:8080/"
        },
        "id": "xKR_0GcPKc8X",
        "outputId": "9dd30061-7bb0-4e12-9d07-765ef2a79daf"
      },
      "execution_count": null,
      "outputs": [
        {
          "output_type": "execute_result",
          "data": {
            "text/plain": [
              "6091    65.204481\n",
              "9605    63.329421\n",
              "214     65.903301\n",
              "9247    68.206414\n",
              "3034    71.363595\n",
              "Name: Height, dtype: float64"
            ]
          },
          "metadata": {},
          "execution_count": 15
        }
      ]
    },
    {
      "cell_type": "code",
      "source": [
        "#every time, this mean is different\n",
        "#it is close to the population mean of 66.3\n",
        "np.mean(df_height.sample(5))"
      ],
      "metadata": {
        "colab": {
          "base_uri": "https://localhost:8080/"
        },
        "id": "AfyBPOnVK8fe",
        "outputId": "f1f64f0a-1df7-4ab2-f95b-710a23a050e7"
      },
      "execution_count": null,
      "outputs": [
        {
          "output_type": "execute_result",
          "data": {
            "text/plain": [
              "65.37328655308434"
            ]
          },
          "metadata": {},
          "execution_count": 20
        }
      ]
    },
    {
      "cell_type": "code",
      "source": [
        "sample_mean_5 = [np.mean(df_height.sample(5)) for i in range(20000) ]\n",
        "len(sample_mean_5) # each of these numbers represents a sample mean of sample size 5\n",
        "sns.histplot(sample_mean_5)"
      ],
      "metadata": {
        "colab": {
          "base_uri": "https://localhost:8080/",
          "height": 448
        },
        "id": "ZA4bLlxMMcv_",
        "outputId": "0a83fcc4-559b-4fee-d5f8-4a35e517e60b"
      },
      "execution_count": null,
      "outputs": [
        {
          "output_type": "execute_result",
          "data": {
            "text/plain": [
              "<Axes: ylabel='Count'>"
            ]
          },
          "metadata": {},
          "execution_count": 25
        },
        {
          "output_type": "display_data",
          "data": {
            "text/plain": [
              "<Figure size 640x480 with 1 Axes>"
            ],
            "image/png": "[encoded data removed]"
          },
          "metadata": {}
        }
      ]
    },
    {
      "cell_type": "code",
      "source": [
        "np.mean(sample_mean_5)"
      ],
      "metadata": {
        "colab": {
          "base_uri": "https://localhost:8080/"
        },
        "id": "7NQCotJ0Mv1f",
        "outputId": "78e03468-7931-4959-9277-e92cfe095638"
      },
      "execution_count": null,
      "outputs": [
        {
          "output_type": "execute_result",
          "data": {
            "text/plain": [
              "66.36255067416181"
            ]
          },
          "metadata": {},
          "execution_count": 26
        }
      ]
    },
    {
      "cell_type": "code",
      "source": [
        "np.std(sample_mean_5)"
      ],
      "metadata": {
        "colab": {
          "base_uri": "https://localhost:8080/"
        },
        "id": "PGlOAqCkM69P",
        "outputId": "4f0478b9-a11a-4c11-8518-203f99b28eaf"
      },
      "execution_count": null,
      "outputs": [
        {
          "output_type": "execute_result",
          "data": {
            "text/plain": [
              "1.7226151841454147"
            ]
          },
          "metadata": {},
          "execution_count": 27
        }
      ]
    },
    {
      "cell_type": "code",
      "source": [
        "sigma/np.sqrt(5) #standard error for n = 5"
      ],
      "metadata": {
        "colab": {
          "base_uri": "https://localhost:8080/"
        },
        "id": "wd5k-fc9R25w",
        "outputId": "a9b33a8f-593b-4e27-d15e-f7c003e917d2"
      },
      "execution_count": null,
      "outputs": [
        {
          "output_type": "execute_result",
          "data": {
            "text/plain": [
              "1.7206668846781923"
            ]
          },
          "metadata": {},
          "execution_count": 44
        }
      ]
    },
    {
      "cell_type": "code",
      "source": [
        "#Do everything for sample size 20"
      ],
      "metadata": {
        "id": "4epEoHheNNDe"
      },
      "execution_count": null,
      "outputs": []
    },
    {
      "cell_type": "code",
      "source": [
        "df_height.sample(20) #random selection of 5 rows"
      ],
      "metadata": {
        "colab": {
          "base_uri": "https://localhost:8080/"
        },
        "id": "kumJ9YVbObHF",
        "outputId": "78f615b1-c25b-4a3b-cb84-ed991bd25e74"
      },
      "execution_count": null,
      "outputs": [
        {
          "output_type": "execute_result",
          "data": {
            "text/plain": [
              "2654    67.919671\n",
              "7090    64.839564\n",
              "8450    63.653964\n",
              "1535    66.854111\n",
              "262     70.993144\n",
              "471     68.766162\n",
              "3976    70.428942\n",
              "4131    69.543116\n",
              "9045    66.100469\n",
              "362     64.955078\n",
              "5024    66.103873\n",
              "89      72.316825\n",
              "5763    63.071171\n",
              "3501    72.177193\n",
              "1313    67.612220\n",
              "5205    64.276243\n",
              "5637    62.198927\n",
              "7602    64.467889\n",
              "7030    64.655848\n",
              "4496    68.836933\n",
              "Name: Height, dtype: float64"
            ]
          },
          "metadata": {},
          "execution_count": 29
        }
      ]
    },
    {
      "cell_type": "code",
      "source": [
        "np.mean(df_height.sample(20))"
      ],
      "metadata": {
        "colab": {
          "base_uri": "https://localhost:8080/"
        },
        "id": "vVMEwVYGOgHZ",
        "outputId": "01099f12-842f-40e9-f05a-70a97c6523b6"
      },
      "execution_count": null,
      "outputs": [
        {
          "output_type": "execute_result",
          "data": {
            "text/plain": [
              "66.82875512150743"
            ]
          },
          "metadata": {},
          "execution_count": 30
        }
      ]
    },
    {
      "cell_type": "code",
      "source": [
        "sample_mean_20 = [np.mean(df_height.sample(20))  for i in range(20000)]"
      ],
      "metadata": {
        "id": "xrzfR2fhOlDh"
      },
      "execution_count": null,
      "outputs": []
    },
    {
      "cell_type": "code",
      "source": [
        "len(sample_mean_20)"
      ],
      "metadata": {
        "colab": {
          "base_uri": "https://localhost:8080/"
        },
        "id": "iR9oqQfKO28z",
        "outputId": "c038a118-bd8a-44c0-a69f-b8faa82a914e"
      },
      "execution_count": null,
      "outputs": [
        {
          "output_type": "execute_result",
          "data": {
            "text/plain": [
              "20000"
            ]
          },
          "metadata": {},
          "execution_count": 32
        }
      ]
    },
    {
      "cell_type": "code",
      "source": [
        "sns.histplot(sample_mean_20)"
      ],
      "metadata": {
        "colab": {
          "base_uri": "https://localhost:8080/",
          "height": 448
        },
        "id": "EHw3V-EMO-jg",
        "outputId": "813bc0b4-2fb7-4386-cb2f-96a742e39562"
      },
      "execution_count": null,
      "outputs": [
        {
          "output_type": "execute_result",
          "data": {
            "text/plain": [
              "<Axes: ylabel='Count'>"
            ]
          },
          "metadata": {},
          "execution_count": 33
        },
        {
          "output_type": "display_data",
          "data": {
            "text/plain": [
              "<Figure size 640x480 with 1 Axes>"
            ],
            "image/png": "[encoded data removed]"
          },
          "metadata": {}
        }
      ]
    },
    {
      "cell_type": "code",
      "source": [
        "np.mean(sample_mean_20)"
      ],
      "metadata": {
        "colab": {
          "base_uri": "https://localhost:8080/"
        },
        "id": "BFwDb96UPEaP",
        "outputId": "b1494750-1e9a-4ad9-e78f-1dd4493cc205"
      },
      "execution_count": null,
      "outputs": [
        {
          "output_type": "execute_result",
          "data": {
            "text/plain": [
              "66.35823593182431"
            ]
          },
          "metadata": {},
          "execution_count": 34
        }
      ]
    },
    {
      "cell_type": "code",
      "source": [
        "np.std(sample_mean_20)"
      ],
      "metadata": {
        "colab": {
          "base_uri": "https://localhost:8080/"
        },
        "id": "93oOCIqDPSiB",
        "outputId": "e764253f-6a39-4297-efa9-36802ff0b858"
      },
      "execution_count": null,
      "outputs": [
        {
          "output_type": "execute_result",
          "data": {
            "text/plain": [
              "0.8640633962275197"
            ]
          },
          "metadata": {},
          "execution_count": 35
        }
      ]
    },
    {
      "cell_type": "code",
      "source": [
        "sigma/np.sqrt(20) #standard error for n = 20"
      ],
      "metadata": {
        "colab": {
          "base_uri": "https://localhost:8080/"
        },
        "id": "xh_uWj6tRklD",
        "outputId": "77df6586-7928-46aa-97a4-09011ebeca3c"
      },
      "execution_count": null,
      "outputs": [
        {
          "output_type": "execute_result",
          "data": {
            "text/plain": [
              "0.8603334423390961"
            ]
          },
          "metadata": {},
          "execution_count": 43
        }
      ]
    },
    {
      "cell_type": "code",
      "source": [
        "#Do everything for sample size 100"
      ],
      "metadata": {
        "id": "s1h30sB2PVDK"
      },
      "execution_count": null,
      "outputs": []
    },
    {
      "cell_type": "code",
      "source": [
        "np.mean(df_height.sample(100))"
      ],
      "metadata": {
        "colab": {
          "base_uri": "https://localhost:8080/"
        },
        "id": "6NaA4lOtP178",
        "outputId": "4c669df5-2bd5-44f9-a6ca-42c52da3b29a"
      },
      "execution_count": null,
      "outputs": [
        {
          "output_type": "execute_result",
          "data": {
            "text/plain": [
              "65.65011698084976"
            ]
          },
          "metadata": {},
          "execution_count": 37
        }
      ]
    },
    {
      "cell_type": "code",
      "source": [
        "sample_mean_100 = [np.mean(df_height.sample(100))  for i in range(20000)]"
      ],
      "metadata": {
        "id": "p6mWdaRSP4OU"
      },
      "execution_count": null,
      "outputs": []
    },
    {
      "cell_type": "code",
      "source": [
        "len(sample_mean_100)"
      ],
      "metadata": {
        "colab": {
          "base_uri": "https://localhost:8080/"
        },
        "id": "cn4way62P9Sc",
        "outputId": "09f1cf3e-a71a-4a30-df8d-863b79747611"
      },
      "execution_count": null,
      "outputs": [
        {
          "output_type": "execute_result",
          "data": {
            "text/plain": [
              "20000"
            ]
          },
          "metadata": {},
          "execution_count": 39
        }
      ]
    },
    {
      "cell_type": "code",
      "source": [
        "sns.histplot(sample_mean_100)"
      ],
      "metadata": {
        "colab": {
          "base_uri": "https://localhost:8080/",
          "height": 448
        },
        "id": "8xq6p3CoQBJk",
        "outputId": "9d477de8-aba3-4fc5-d824-a11ece7034f8"
      },
      "execution_count": null,
      "outputs": [
        {
          "output_type": "execute_result",
          "data": {
            "text/plain": [
              "<Axes: ylabel='Count'>"
            ]
          },
          "metadata": {},
          "execution_count": 40
        },
        {
          "output_type": "display_data",
          "data": {
            "text/plain": [
              "<Figure size 640x480 with 1 Axes>"
            ],
            "image/png": "[encoded data removed]"
          },
          "metadata": {}
        }
      ]
    },
    {
      "cell_type": "code",
      "source": [
        "np.mean(sample_mean_100)"
      ],
      "metadata": {
        "colab": {
          "base_uri": "https://localhost:8080/"
        },
        "id": "5YIGSQc4QDrx",
        "outputId": "d1d970de-9721-41e9-d115-c4da0da91b61"
      },
      "execution_count": null,
      "outputs": [
        {
          "output_type": "execute_result",
          "data": {
            "text/plain": [
              "66.36730225812927"
            ]
          },
          "metadata": {},
          "execution_count": 41
        }
      ]
    },
    {
      "cell_type": "code",
      "source": [
        "np.std(sample_mean_100)"
      ],
      "metadata": {
        "colab": {
          "base_uri": "https://localhost:8080/"
        },
        "id": "F_yygd--QIow",
        "outputId": "1a9767f4-c73e-4a48-c11d-f09d18970b59"
      },
      "execution_count": null,
      "outputs": [
        {
          "output_type": "execute_result",
          "data": {
            "text/plain": [
              "0.3850606095775793"
            ]
          },
          "metadata": {},
          "execution_count": 42
        }
      ]
    },
    {
      "cell_type": "code",
      "source": [
        "sigma/np.sqrt(100) #standard error for n = 100"
      ],
      "metadata": {
        "colab": {
          "base_uri": "https://localhost:8080/"
        },
        "id": "SUlOje5SQN2s",
        "outputId": "7b548fce-1d69-4137-bd97-a501bc1e2483"
      },
      "execution_count": null,
      "outputs": [
        {
          "output_type": "execute_result",
          "data": {
            "text/plain": [
              "0.3847528120773229"
            ]
          },
          "metadata": {},
          "execution_count": 45
        }
      ]
    },
    {
      "cell_type": "code",
      "source": [
        "'''\n",
        "Systolic blood pressure of a group of people is known to have an average of 122 mmHg and a standard deviation of 10 mmHg. (normal distri)\n",
        "\n",
        "Calculate the probability that the average blood pressure of 16 people will be greater than 125mmHg.\n",
        "'''"
      ],
      "metadata": {
        "id": "ltwLXjitR9-s"
      },
      "execution_count": null,
      "outputs": []
    },
    {
      "cell_type": "code",
      "source": [
        "#blood pressure eg:"
      ],
      "metadata": {
        "id": "Uv-9yFhHXgFM"
      },
      "execution_count": null,
      "outputs": []
    },
    {
      "cell_type": "code",
      "source": [
        "z = (125 - 122)/2.5"
      ],
      "metadata": {
        "id": "4oq8sCRgZ-N4"
      },
      "execution_count": null,
      "outputs": []
    },
    {
      "cell_type": "code",
      "source": [
        "ans = 1 - norm.cdf(z)"
      ],
      "metadata": {
        "id": "FNMHIVwxaBZo"
      },
      "execution_count": null,
      "outputs": []
    },
    {
      "cell_type": "code",
      "source": [
        "print(ans)"
      ],
      "metadata": {
        "colab": {
          "base_uri": "https://localhost:8080/"
        },
        "id": "cQFD9vYmaD0k",
        "outputId": "866581ef-a738-42a5-aad6-e3ee9c8b39e6"
      },
      "execution_count": null,
      "outputs": [
        {
          "output_type": "stream",
          "name": "stdout",
          "text": [
            "0.11506967022170822\n"
          ]
        }
      ]
    },
    {
      "cell_type": "code",
      "source": [
        "'''\n",
        "Weekly toothpaste sales have a mean 1000 and std dev 200. (assume normal distri)\n",
        "What is the probability that the average weekly sales next month is more than 1110?\n",
        "'''"
      ],
      "metadata": {
        "id": "Rqpqm5G1aFCM"
      },
      "execution_count": null,
      "outputs": []
    },
    {
      "cell_type": "code",
      "source": [
        "std_err = 200/np.sqrt(4)"
      ],
      "metadata": {
        "id": "wYwZVHRgceQi"
      },
      "execution_count": null,
      "outputs": []
    },
    {
      "cell_type": "code",
      "source": [
        "z = (1110 - 1000)/std_err"
      ],
      "metadata": {
        "id": "2QbO-cLnchho"
      },
      "execution_count": null,
      "outputs": []
    },
    {
      "cell_type": "code",
      "source": [
        "prob_less = norm.cdf(z)"
      ],
      "metadata": {
        "id": "xokgphy5cmEW"
      },
      "execution_count": null,
      "outputs": []
    },
    {
      "cell_type": "code",
      "source": [
        "prob_more = 1 - prob_less"
      ],
      "metadata": {
        "id": "Bb6T2ZXmcpBM"
      },
      "execution_count": null,
      "outputs": []
    },
    {
      "cell_type": "code",
      "source": [
        "prob_more"
      ],
      "metadata": {
        "colab": {
          "base_uri": "https://localhost:8080/"
        },
        "id": "IFFPIg9scsWk",
        "outputId": "96e2746d-6f71-41fd-fc95-56a8f3586573"
      },
      "execution_count": null,
      "outputs": [
        {
          "output_type": "execute_result",
          "data": {
            "text/plain": [
              "0.13566606094638267"
            ]
          },
          "metadata": {},
          "execution_count": 54
        }
      ]
    },
    {
      "cell_type": "code",
      "source": [
        "def clt_prob(mu , sigma, n, obs):\n",
        "  std_err = sigma/np.sqrt(n)\n",
        "  z = (obs - mu)/std_err\n",
        "  prob_less = norm.cdf(z)\n",
        "  prob_greater = 1 - norm.cdf(z)\n",
        "  return prob_less, prob_greater"
      ],
      "metadata": {
        "id": "8BXcuegVct1e"
      },
      "execution_count": null,
      "outputs": []
    },
    {
      "cell_type": "code",
      "source": [
        "#blood pressure\n",
        "clt_prob(122, 10, 16, 125)"
      ],
      "metadata": {
        "colab": {
          "base_uri": "https://localhost:8080/"
        },
        "id": "ibw_AP9YdRtL",
        "outputId": "22fb9f7d-ad31-468e-ccd2-ba3d18ec22e6"
      },
      "execution_count": null,
      "outputs": [
        {
          "output_type": "execute_result",
          "data": {
            "text/plain": [
              "(0.8849303297782918, 0.11506967022170822)"
            ]
          },
          "metadata": {},
          "execution_count": 57
        }
      ]
    },
    {
      "cell_type": "code",
      "source": [
        "#toothpaste\n",
        "clt_prob(1000, 200, 4, 1110)"
      ],
      "metadata": {
        "colab": {
          "base_uri": "https://localhost:8080/"
        },
        "id": "_pfGqpoddn6d",
        "outputId": "b80ee601-3117-482f-d9ea-c648c0119a5b"
      },
      "execution_count": null,
      "outputs": [
        {
          "output_type": "execute_result",
          "data": {
            "text/plain": [
              "(0.8643339390536173, 0.13566606094638267)"
            ]
          },
          "metadata": {},
          "execution_count": 58
        }
      ]
    },
    {
      "cell_type": "code",
      "source": [
        "'''\n",
        "In an e-commerce website, the average purchase amount per customer is $80 with a standard deviation of $15.\n",
        "If we randomly select a sample of 50 customers,\n",
        "what is the probability that the average purchase amount in the sample will be less than $75?\n",
        "\n",
        "'''"
      ],
      "metadata": {
        "id": "Sy6TgDeCd4lM"
      },
      "execution_count": null,
      "outputs": []
    },
    {
      "cell_type": "code",
      "source": [
        "clt_prob(80, 15, 50, 75)"
      ],
      "metadata": {
        "colab": {
          "base_uri": "https://localhost:8080/"
        },
        "id": "VD7f8nxHfLpw",
        "outputId": "643d1775-212c-408a-88c7-7c94653fd147"
      },
      "execution_count": null,
      "outputs": [
        {
          "output_type": "execute_result",
          "data": {
            "text/plain": [
              "(0.009211062727049501, 0.9907889372729505)"
            ]
          },
          "metadata": {},
          "execution_count": 59
        }
      ]
    },
    {
      "cell_type": "code",
      "source": [],
      "metadata": {
        "id": "cHftA2D9fUkc"
      },
      "execution_count": null,
      "outputs": []
    }
  ]
}