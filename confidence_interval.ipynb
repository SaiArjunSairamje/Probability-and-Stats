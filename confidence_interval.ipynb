{
  "nbformat": 4,
  "nbformat_minor": 0,
  "metadata": {
    "colab": {
      "provenance": [],
      "include_colab_link": true
    },
    "kernelspec": {
      "name": "python3",
      "display_name": "Python 3"
    },
    "language_info": {
      "name": "python"
    }
  },
  "cells": [
    {
      "cell_type": "markdown",
      "metadata": {
        "id": "view-in-github",
        "colab_type": "text"
      },
      "source": [
        "<a href=\"https://colab.research.google.com/github/SaiArjunSairamje/Probability-and-Stats/blob/main/confidence_interval.ipynb\" target=\"_parent\"><img src=\"https://colab.research.google.com/assets/colab-badge.svg\" alt=\"Open In Colab\"/></a>"
      ]
    },
    {
      "cell_type": "code",
      "execution_count": null,
      "metadata": {
        "id": "SYPHD0RHbG74"
      },
      "outputs": [],
      "source": [
        "import numpy as np\n",
        "import pandas as pd\n",
        "import matplotlib.pyplot as plt\n",
        "import seaborn as sns\n",
        "\n",
        "from scipy.stats import norm"
      ]
    },
    {
      "cell_type": "code",
      "source": [
        "'''\n",
        "The average time taken for customers to complete a purchase is 4 minutes with a standard deviation of 1 minute.\n",
        "Find the probability that a randomly selected customer will complete a purchase within 6 minutes?\n",
        "Assume Gaussian\n",
        "\n",
        "'''"
      ],
      "metadata": {
        "colab": {
          "base_uri": "https://localhost:8080/",
          "height": 53
        },
        "id": "BY2GWvTEcg6e",
        "outputId": "f7b20a3b-fdbd-49b6-abff-eb18cdf0d732"
      },
      "execution_count": null,
      "outputs": [
        {
          "output_type": "execute_result",
          "data": {
            "text/plain": [
              "'\\nThe average time taken for customers to complete a purchase is 4 minutes with a standard deviation of 1 minute. \\nFind the probability that a randomly selected customer will complete a purchase within 6 minutes? \\nAssume Gaussian\\n\\n'"
            ],
            "application/vnd.google.colaboratory.intrinsic+json": {
              "type": "string"
            }
          },
          "metadata": {},
          "execution_count": 3
        }
      ]
    },
    {
      "cell_type": "code",
      "source": [
        "z = (6-4)/1"
      ],
      "metadata": {
        "id": "E97V0x-8cv5j"
      },
      "execution_count": null,
      "outputs": []
    },
    {
      "cell_type": "code",
      "source": [
        "norm.cdf(z)"
      ],
      "metadata": {
        "colab": {
          "base_uri": "https://localhost:8080/"
        },
        "id": "RcF3o9Lsd5rP",
        "outputId": "c4315b20-1710-4092-e7cb-7415859e49f1"
      },
      "execution_count": null,
      "outputs": [
        {
          "output_type": "execute_result",
          "data": {
            "text/plain": [
              "0.9772498680518208"
            ]
          },
          "metadata": {},
          "execution_count": 5
        }
      ]
    },
    {
      "cell_type": "markdown",
      "source": [
        "What is the probability that the average time of the next 5 customers is less than 6 minutes?"
      ],
      "metadata": {
        "id": "PMEepOiRfYgy"
      }
    },
    {
      "cell_type": "code",
      "source": [
        "sigma = 1\n",
        "n = 5\n",
        "sigma_sample = sigma/np.sqrt(n)\n",
        "z = (6-4)/sigma_sample\n",
        "\n",
        "norm.cdf(z)"
      ],
      "metadata": {
        "colab": {
          "base_uri": "https://localhost:8080/"
        },
        "id": "Aq4mDS9tfbsG",
        "outputId": "281733b3-0500-4a2a-b3d9-756691cc4ffb"
      },
      "execution_count": null,
      "outputs": [
        {
          "output_type": "execute_result",
          "data": {
            "text/plain": [
              "0.9999961278917845"
            ]
          },
          "metadata": {},
          "execution_count": 8
        }
      ]
    },
    {
      "cell_type": "markdown",
      "source": [
        "The average order value on an e-commerce website is 50, with a standard deviation of 5. What is the probability that a randomly selected order will have a value exceeding 60?"
      ],
      "metadata": {
        "id": "gweZe7OweC83"
      }
    },
    {
      "cell_type": "code",
      "source": [
        "z = (60-50)/5\n",
        "\n",
        "1- norm.cdf(z)"
      ],
      "metadata": {
        "colab": {
          "base_uri": "https://localhost:8080/"
        },
        "id": "sg8gjCyUd7O3",
        "outputId": "08d55472-dcc6-424b-b871-9fd94cd0257c"
      },
      "execution_count": null,
      "outputs": [
        {
          "output_type": "execute_result",
          "data": {
            "text/plain": [
              "0.02275013194817921"
            ]
          },
          "metadata": {},
          "execution_count": 6
        }
      ]
    },
    {
      "cell_type": "markdown",
      "source": [
        "The average order value on an e-commerce website is 50, with a standard deviation of 5. What is the probability that the average of the next 3 orders exceeds 60?"
      ],
      "metadata": {
        "id": "pzMBHGosgEhZ"
      }
    },
    {
      "cell_type": "code",
      "source": [
        "sigma = 5\n",
        "n = 3\n",
        "sigma_sample = sigma/np.sqrt(n)\n",
        "z = (60-50)/sigma_sample\n",
        "1 - norm.cdf(z)"
      ],
      "metadata": {
        "colab": {
          "base_uri": "https://localhost:8080/"
        },
        "id": "WVGxjfF7gFh_",
        "outputId": "4312d9fe-eaf9-4231-9eef-3aca0dc24b10"
      },
      "execution_count": null,
      "outputs": [
        {
          "output_type": "execute_result",
          "data": {
            "text/plain": [
              "0.00026600275256960515"
            ]
          },
          "metadata": {},
          "execution_count": 9
        }
      ]
    },
    {
      "cell_type": "markdown",
      "source": [
        "Average body temperature has a mean of 98.6°F and a standard deviation of 0.5°F. What is the probability that a randomly chosen patient has a body temperature higher than 99.5°F?"
      ],
      "metadata": {
        "id": "bTL0dKd3exKV"
      }
    },
    {
      "cell_type": "code",
      "source": [
        "1 - norm.cdf((99.5 - 98.6)/0.5)"
      ],
      "metadata": {
        "colab": {
          "base_uri": "https://localhost:8080/"
        },
        "id": "DP4__mA7erWp",
        "outputId": "b877f8af-3c94-4095-d320-382bdefe0429"
      },
      "execution_count": null,
      "outputs": [
        {
          "output_type": "execute_result",
          "data": {
            "text/plain": [
              "0.03593031911292488"
            ]
          },
          "metadata": {},
          "execution_count": 7
        }
      ]
    },
    {
      "cell_type": "markdown",
      "source": [
        "Height"
      ],
      "metadata": {
        "id": "-7HGWhPCiGOI"
      }
    },
    {
      "cell_type": "markdown",
      "source": [
        "The mean height of a sample of 100 adults was found to be 65 inches, with a standard deviation of 2.5 inches. What is the mean height of the population?"
      ],
      "metadata": {
        "id": "AsvCHGM1iIW0"
      }
    },
    {
      "cell_type": "code",
      "source": [
        "sigma = 2.5\n",
        "sample_mean = 65\n",
        "n = 100"
      ],
      "metadata": {
        "id": "oPqYC_YgfEGG"
      },
      "execution_count": null,
      "outputs": []
    },
    {
      "cell_type": "code",
      "source": [
        "std_error = sigma/np.sqrt(n)"
      ],
      "metadata": {
        "id": "jul8vpf-jH-U"
      },
      "execution_count": null,
      "outputs": []
    },
    {
      "cell_type": "code",
      "source": [
        "std_error"
      ],
      "metadata": {
        "colab": {
          "base_uri": "https://localhost:8080/"
        },
        "id": "S9U5eK70jSXR",
        "outputId": "c4d6ade0-2eed-4942-d549-0e2b07d3a117"
      },
      "execution_count": null,
      "outputs": [
        {
          "output_type": "execute_result",
          "data": {
            "text/plain": [
              "0.25"
            ]
          },
          "metadata": {},
          "execution_count": 13
        }
      ]
    },
    {
      "cell_type": "code",
      "source": [
        "z1 = norm.ppf(0.025)\n",
        "z1"
      ],
      "metadata": {
        "colab": {
          "base_uri": "https://localhost:8080/"
        },
        "id": "unZeUYFxjTh2",
        "outputId": "aa3998a6-779c-4808-e0f2-6c18b77bfdf3"
      },
      "execution_count": null,
      "outputs": [
        {
          "output_type": "execute_result",
          "data": {
            "text/plain": [
              "-1.9599639845400545"
            ]
          },
          "metadata": {},
          "execution_count": 14
        }
      ]
    },
    {
      "cell_type": "code",
      "source": [
        "z2 = norm.ppf(0.975)\n",
        "z2"
      ],
      "metadata": {
        "colab": {
          "base_uri": "https://localhost:8080/"
        },
        "id": "opQ2pRvvlK2z",
        "outputId": "b9910452-ab3f-48e9-cea5-c09fa3c2fe45"
      },
      "execution_count": null,
      "outputs": [
        {
          "output_type": "execute_result",
          "data": {
            "text/plain": [
              "1.959963984540054"
            ]
          },
          "metadata": {},
          "execution_count": 15
        }
      ]
    },
    {
      "cell_type": "code",
      "source": [
        "x1 = z1*std_error + 65\n",
        "x1"
      ],
      "metadata": {
        "colab": {
          "base_uri": "https://localhost:8080/"
        },
        "id": "0dGBZVMzlUxZ",
        "outputId": "422975a2-b43e-4234-f16d-a1650c356f29"
      },
      "execution_count": null,
      "outputs": [
        {
          "output_type": "execute_result",
          "data": {
            "text/plain": [
              "64.51000900386498"
            ]
          },
          "metadata": {},
          "execution_count": 16
        }
      ]
    },
    {
      "cell_type": "code",
      "source": [
        "x2 = z2*std_error + 65\n",
        "x2"
      ],
      "metadata": {
        "colab": {
          "base_uri": "https://localhost:8080/"
        },
        "id": "iTXkym6alq0n",
        "outputId": "067e9b94-2b07-4676-d492-c613501e63b8"
      },
      "execution_count": null,
      "outputs": [
        {
          "output_type": "execute_result",
          "data": {
            "text/plain": [
              "65.48999099613502"
            ]
          },
          "metadata": {},
          "execution_count": 17
        }
      ]
    },
    {
      "cell_type": "code",
      "source": [
        "'''\n",
        "With 95% confidence (there is 95% probability) , we can say that the true mean (the mean height of the population)\n",
        "will be in the range [64.51 , 65.49]\n",
        "'''"
      ],
      "metadata": {
        "id": "xIVu5I7tlv_e"
      },
      "execution_count": null,
      "outputs": []
    },
    {
      "cell_type": "markdown",
      "source": [
        "90% confidence interval"
      ],
      "metadata": {
        "id": "Advgi8Rnpd1V"
      }
    },
    {
      "cell_type": "code",
      "source": [
        "z1 = norm.ppf(0.05)\n",
        "\n",
        "z2 = norm.ppf(0.95)\n"
      ],
      "metadata": {
        "id": "IxvZSAShpfQf"
      },
      "execution_count": null,
      "outputs": []
    },
    {
      "cell_type": "code",
      "source": [
        "x1 = z1*std_error + 65\n",
        "x2 = z2*std_error + 65"
      ],
      "metadata": {
        "id": "YRdqngqKp53O"
      },
      "execution_count": null,
      "outputs": []
    },
    {
      "cell_type": "code",
      "source": [
        "print(x1, x2)"
      ],
      "metadata": {
        "colab": {
          "base_uri": "https://localhost:8080/"
        },
        "id": "P1mVOj28p9zQ",
        "outputId": "bbaf9fbc-9362-42a1-aa1c-3c31cf4fdeb6"
      },
      "execution_count": null,
      "outputs": [
        {
          "output_type": "stream",
          "name": "stdout",
          "text": [
            "64.58878659326213 65.41121340673787\n"
          ]
        }
      ]
    },
    {
      "cell_type": "code",
      "source": [
        "'''\n",
        "With 90% confidence, the mean height of the population will be in the range [64.59, 65.41]\n",
        "'''"
      ],
      "metadata": {
        "id": "mNnpt0ypp_xl"
      },
      "execution_count": null,
      "outputs": []
    },
    {
      "cell_type": "markdown",
      "source": [
        "The sample mean recovery time of 100 patients after taking a drug was seen to be 10.5 days with a standard deviation of 2 days. Find the 95% confidence interval of the true mean."
      ],
      "metadata": {
        "id": "H3qua_YlqldY"
      }
    },
    {
      "cell_type": "code",
      "source": [
        "#crate function at the end\n",
        "def calc_CI(mean, std, N, prob):\n",
        "\n",
        "    std_err = std / np.sqrt(N)\n",
        "    print(\"SE \", std_err)\n",
        "\n",
        "    slice = (1 - (prob/100))/2\n",
        "    print(\"slice \", slice)\n",
        "\n",
        "    z1 = norm.ppf(slice)\n",
        "    print(\"z1 \", z1)\n",
        "\n",
        "    z2 = norm.ppf(1-slice)\n",
        "    print(\"z2 \", z2)\n",
        "\n",
        "    x1 = mean + ( z1 * std_err)\n",
        "    x2 = mean + ( z2 * std_err)\n",
        "\n",
        "    return x1, x2\n"
      ],
      "metadata": {
        "id": "wgmIUevZql0M"
      },
      "execution_count": null,
      "outputs": []
    },
    {
      "cell_type": "code",
      "source": [
        "calc_CI(10.5, 2, 100, 95)"
      ],
      "metadata": {
        "colab": {
          "base_uri": "https://localhost:8080/"
        },
        "id": "K8MhAmMy1Ym0",
        "outputId": "f9c6ccf5-62e9-40a3-f1d0-591e1728f490"
      },
      "execution_count": null,
      "outputs": [
        {
          "output_type": "stream",
          "name": "stdout",
          "text": [
            "SE  0.2\n",
            "slice  0.025000000000000022\n",
            "z1  -1.959963984540054\n",
            "z2  1.959963984540054\n"
          ]
        },
        {
          "output_type": "execute_result",
          "data": {
            "text/plain": [
              "(10.10800720309199, 10.89199279690801)"
            ]
          },
          "metadata": {},
          "execution_count": 53
        }
      ]
    },
    {
      "cell_type": "markdown",
      "source": [
        "The mean Youtube watch time of a sample of 100 students was found to be 3.5 hours, with a standard deviation of 1 hour. Construct a 90% confidence interval for the true watch time.\n"
      ],
      "metadata": {
        "id": "wRaj1KM61wkq"
      }
    },
    {
      "cell_type": "code",
      "source": [
        "calc_CI(3.5, 1, 100, 90)"
      ],
      "metadata": {
        "colab": {
          "base_uri": "https://localhost:8080/"
        },
        "id": "-50Bplmc10At",
        "outputId": "d73bab5a-de63-448c-c356-35740433bb24"
      },
      "execution_count": null,
      "outputs": [
        {
          "output_type": "stream",
          "name": "stdout",
          "text": [
            "SE  0.1\n",
            "slice  0.04999999999999999\n",
            "z1  -1.6448536269514729\n",
            "z2  1.6448536269514722\n"
          ]
        },
        {
          "output_type": "execute_result",
          "data": {
            "text/plain": [
              "(3.3355146373048528, 3.6644853626951472)"
            ]
          },
          "metadata": {},
          "execution_count": 54
        }
      ]
    },
    {
      "cell_type": "code",
      "source": [
        "sample_mean = 10.5\n",
        "n = 100\n",
        "sigma = 2\n",
        "\n",
        "\n",
        "std_error = sigma/np.sqrt(100)\n",
        "std_error\n",
        "\n",
        "z1 = norm.ppf(0.025)\n",
        "z2 = norm.ppf(0.975)\n",
        "\n",
        "x1 = z1*std_error + 10.5\n",
        "x2 = z2*std_error + 10.5\n",
        "\n",
        "print(x1, x2)"
      ],
      "metadata": {
        "colab": {
          "base_uri": "https://localhost:8080/"
        },
        "id": "ssSXP0HIre9K",
        "outputId": "e5c4562b-f139-451c-ebdc-cdc66c52df5e"
      },
      "execution_count": null,
      "outputs": [
        {
          "output_type": "stream",
          "name": "stdout",
          "text": [
            "10.108007203091988 10.89199279690801\n"
          ]
        }
      ]
    },
    {
      "cell_type": "code",
      "source": [
        "#Confidence interval using Bootstrap"
      ],
      "metadata": {
        "id": "WXaXmQmwrrNU"
      },
      "execution_count": null,
      "outputs": []
    },
    {
      "cell_type": "code",
      "source": [
        "survey_1 = [35, 36, 33, 37, 34, 35] #less variance"
      ],
      "metadata": {
        "id": "yrrhMdnitC_h"
      },
      "execution_count": null,
      "outputs": []
    },
    {
      "cell_type": "code",
      "source": [
        "np.mean(survey_1)"
      ],
      "metadata": {
        "colab": {
          "base_uri": "https://localhost:8080/"
        },
        "id": "yp1CVHcztn99",
        "outputId": "1dc3ea7a-21ab-4b0d-e89c-fd5568ac782b"
      },
      "execution_count": null,
      "outputs": [
        {
          "output_type": "execute_result",
          "data": {
            "text/plain": [
              "35.0"
            ]
          },
          "metadata": {},
          "execution_count": 25
        }
      ]
    },
    {
      "cell_type": "markdown",
      "source": [
        "Can we simulate more and more sets of samples like the ones above"
      ],
      "metadata": {
        "id": "pnWE_G7_t0r7"
      }
    },
    {
      "cell_type": "code",
      "source": [
        "np.random.choice(survey_1)"
      ],
      "metadata": {
        "colab": {
          "base_uri": "https://localhost:8080/"
        },
        "id": "XpGXhosmtrHa",
        "outputId": "cc4679ad-94ba-4305-fbbb-8a4c604d5fb2"
      },
      "execution_count": null,
      "outputs": [
        {
          "output_type": "execute_result",
          "data": {
            "text/plain": [
              "36"
            ]
          },
          "metadata": {},
          "execution_count": 30
        }
      ]
    },
    {
      "cell_type": "code",
      "source": [
        "#sample with replacement\n",
        "n = 6\n",
        "\n",
        "np.random.choice(survey_1, size = n)"
      ],
      "metadata": {
        "colab": {
          "base_uri": "https://localhost:8080/"
        },
        "id": "Uhk2q41juO36",
        "outputId": "6495e9d6-56b6-4254-c6f6-370eef90a069"
      },
      "execution_count": null,
      "outputs": [
        {
          "output_type": "execute_result",
          "data": {
            "text/plain": [
              "array([34, 35, 33, 37, 36, 35])"
            ]
          },
          "metadata": {},
          "execution_count": 31
        }
      ]
    },
    {
      "cell_type": "code",
      "source": [
        "np.random.choice(survey_1, size = n)"
      ],
      "metadata": {
        "colab": {
          "base_uri": "https://localhost:8080/"
        },
        "id": "ySApsycgukZI",
        "outputId": "03d99af8-f624-4168-af4a-d7355143f14e"
      },
      "execution_count": null,
      "outputs": [
        {
          "output_type": "execute_result",
          "data": {
            "text/plain": [
              "array([34, 33, 33, 35, 35, 37])"
            ]
          },
          "metadata": {},
          "execution_count": 32
        }
      ]
    },
    {
      "cell_type": "code",
      "source": [
        "bootstrapped_means_survey_1 = []\n",
        "for reps in range(10000):\n",
        "  bootstrapped_samples = np.random.choice(survey_1, size = n)\n",
        "  bootstrapped_mean = np.mean(bootstrapped_samples) #median, any statitical function\n",
        "  bootstrapped_means_survey_1.append(bootstrapped_mean)"
      ],
      "metadata": {
        "id": "aK7DZNDauy9g"
      },
      "execution_count": null,
      "outputs": []
    },
    {
      "cell_type": "code",
      "source": [
        "sns.histplot(bootstrapped_means_survey_1)"
      ],
      "metadata": {
        "colab": {
          "base_uri": "https://localhost:8080/",
          "height": 448
        },
        "id": "Vp37me04vptT",
        "outputId": "fb163ca8-f85b-40f3-bcac-8c5946292203"
      },
      "execution_count": null,
      "outputs": [
        {
          "output_type": "execute_result",
          "data": {
            "text/plain": [
              "<Axes: ylabel='Count'>"
            ]
          },
          "metadata": {},
          "execution_count": 34
        },
        {
          "output_type": "display_data",
          "data": {
            "text/plain": [
              "<Figure size 640x480 with 1 Axes>"
            ],
            "image/png": "[encoded data removed]"
          },
          "metadata": {}
        }
      ]
    },
    {
      "cell_type": "code",
      "source": [
        "len(bootstrapped_means_survey_1)"
      ],
      "metadata": {
        "colab": {
          "base_uri": "https://localhost:8080/"
        },
        "id": "F6k1BL3Yv1ry",
        "outputId": "54a1b781-6552-4f99-b3bf-c39fada8004b"
      },
      "execution_count": null,
      "outputs": [
        {
          "output_type": "execute_result",
          "data": {
            "text/plain": [
              "10000"
            ]
          },
          "metadata": {},
          "execution_count": 35
        }
      ]
    },
    {
      "cell_type": "code",
      "source": [
        "bootstrapped_means_survey_1[:5]"
      ],
      "metadata": {
        "colab": {
          "base_uri": "https://localhost:8080/"
        },
        "id": "vbW0Js-tv_-0",
        "outputId": "d70abee2-a071-446c-9fa3-1ac00788951a"
      },
      "execution_count": null,
      "outputs": [
        {
          "output_type": "execute_result",
          "data": {
            "text/plain": [
              "[34.5, 34.666666666666664, 34.833333333333336, 34.833333333333336, 35.0]"
            ]
          },
          "metadata": {},
          "execution_count": 36
        }
      ]
    },
    {
      "cell_type": "code",
      "source": [
        "#survey2"
      ],
      "metadata": {
        "id": "ydG-tv4QwDI8"
      },
      "execution_count": null,
      "outputs": []
    },
    {
      "cell_type": "code",
      "source": [
        "survey_2 = [20, 37, 17, 50, 53, 33] #more varaince"
      ],
      "metadata": {
        "id": "TXA4bZowwitC"
      },
      "execution_count": null,
      "outputs": []
    },
    {
      "cell_type": "code",
      "source": [
        "b_m_s2 = []\n",
        "n = 6\n",
        "\n",
        "for i in range(10000):\n",
        "  b_s = np.random.choice(survey_2, size = n)\n",
        "  b_s_mean = np.mean(b_s)\n",
        "  b_m_s2.append(b_s_mean)"
      ],
      "metadata": {
        "id": "FUDs_t71wnMp"
      },
      "execution_count": null,
      "outputs": []
    },
    {
      "cell_type": "code",
      "source": [
        "sns.histplot(b_m_s2)"
      ],
      "metadata": {
        "colab": {
          "base_uri": "https://localhost:8080/",
          "height": 448
        },
        "id": "zKtimCMtw8EP",
        "outputId": "bff6e967-3503-437e-bf7a-c0f7f96b1c7d"
      },
      "execution_count": null,
      "outputs": [
        {
          "output_type": "execute_result",
          "data": {
            "text/plain": [
              "<Axes: ylabel='Count'>"
            ]
          },
          "metadata": {},
          "execution_count": 41
        },
        {
          "output_type": "display_data",
          "data": {
            "text/plain": [
              "<Figure size 640x480 with 1 Axes>"
            ],
            "image/png": "[encoded data removed]"
          },
          "metadata": {}
        }
      ]
    },
    {
      "cell_type": "code",
      "source": [
        "#with 90% confidence interval --> true mean of the population\n"
      ],
      "metadata": {
        "id": "NJwRxkuYw-2n"
      },
      "execution_count": null,
      "outputs": []
    },
    {
      "cell_type": "code",
      "source": [
        "x1 = np.percentile(bootstrapped_means_survey_1, 2.5) #getting the 2.5th percentile of this bootstrapped sample"
      ],
      "metadata": {
        "id": "i0K-oxNRxfl8"
      },
      "execution_count": null,
      "outputs": []
    },
    {
      "cell_type": "code",
      "source": [
        "x1"
      ],
      "metadata": {
        "colab": {
          "base_uri": "https://localhost:8080/"
        },
        "id": "8U1bmHBexvyj",
        "outputId": "eb3d57f2-89d4-48ce-b1c1-ba5c26f99b6b"
      },
      "execution_count": null,
      "outputs": [
        {
          "output_type": "execute_result",
          "data": {
            "text/plain": [
              "34.0"
            ]
          },
          "metadata": {},
          "execution_count": 47
        }
      ]
    },
    {
      "cell_type": "code",
      "source": [
        "x2 = np.percentile(bootstrapped_means_survey_1, 97.5)"
      ],
      "metadata": {
        "id": "JFcInLkHxwb2"
      },
      "execution_count": null,
      "outputs": []
    },
    {
      "cell_type": "code",
      "source": [
        "x2"
      ],
      "metadata": {
        "colab": {
          "base_uri": "https://localhost:8080/"
        },
        "id": "utgxHsmMx2Dj",
        "outputId": "42fc84a5-8e7e-4c22-a00a-ac75abdf6acc"
      },
      "execution_count": null,
      "outputs": [
        {
          "output_type": "execute_result",
          "data": {
            "text/plain": [
              "36.0"
            ]
          },
          "metadata": {},
          "execution_count": 49
        }
      ]
    },
    {
      "cell_type": "code",
      "source": [
        "#with 95% confidence, the mean salary of the population will be [34.0 , 36.0]"
      ],
      "metadata": {
        "id": "QZvq202Lx40_"
      },
      "execution_count": null,
      "outputs": []
    },
    {
      "cell_type": "code",
      "source": [
        "x1 = np.percentile(b_m_s2, 2.5)\n",
        "x2 = np.percentile(b_m_s2, 97.5)\n",
        "\n",
        "print(x1, x2)"
      ],
      "metadata": {
        "colab": {
          "base_uri": "https://localhost:8080/"
        },
        "id": "jIWdlHvjyGOx",
        "outputId": "2cc6a69e-6fad-4c54-d37a-06d4e9192e07"
      },
      "execution_count": null,
      "outputs": [
        {
          "output_type": "stream",
          "name": "stdout",
          "text": [
            "24.166666666666668 46.0\n"
          ]
        }
      ]
    },
    {
      "cell_type": "code",
      "source": [],
      "metadata": {
        "id": "iiHifjUlyY8Y"
      },
      "execution_count": null,
      "outputs": []
    }
  ]
}