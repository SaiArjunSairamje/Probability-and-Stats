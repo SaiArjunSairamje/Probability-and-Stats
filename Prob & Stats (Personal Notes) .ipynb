{
  "nbformat": 4,
  "nbformat_minor": 0,
  "metadata": {
    "colab": {
      "provenance": [],
      "authorship_tag": "ABX9TyOB2NO48EmK6oyf3qDxeH4X",
      "include_colab_link": true
    },
    "kernelspec": {
      "name": "python3",
      "display_name": "Python 3"
    },
    "language_info": {
      "name": "python"
    }
  },
  "cells": [
    {
      "cell_type": "markdown",
      "metadata": {
        "id": "view-in-github",
        "colab_type": "text"
      },
      "source": [
        "<a href=\"https://colab.research.google.com/github/SaiArjunSairamje/Probability-and-Stats/blob/main/Prob%20%26%20Stats%20(Personal%20Notes)%20.ipynb\" target=\"_parent\"><img src=\"https://colab.research.google.com/assets/colab-badge.svg\" alt=\"Open In Colab\"/></a>"
      ]
    },
    {
      "cell_type": "code",
      "execution_count": 1,
      "metadata": {
        "id": "59wqHghlaFq2"
      },
      "outputs": [],
      "source": [
        "import numpy as np\n",
        "import pandas as pd\n",
        "import matplotlib.pyplot as plt\n",
        "import seaborn as sns\n",
        "\n",
        "from statsmodels.distributions.empirical_distribution import ECDF       # Empirical CDF (i.e. Empirical means from a data) --> \"Descriptive Statistics\"\n",
        "from scipy import stats         # stats.mode --> \"Descriptive Stats\"\n",
        "from scipy.stats import norm        # norm.cdf  # norm.ppf  # norm.interval --> \"Gaussian Distribution\"\n",
        "import math       # math.prob  # math.comb --> \"Combinatorics (i.e. Permutation & Combination)\"\n",
        "from scipy.stats import binom, geom         # binom.pmf # geom.pmf # binom.cdf --> \"Binomial & Geometric Distribution\""
      ]
    },
    {
      "cell_type": "markdown",
      "source": [
        "# <center>**Data Analytics and Visualisation - Probability and Stats**</center>\n",
        "***\n",
        "\n",
        "**Part 1**\n",
        "  - Basic Definitions\n",
        "  - Conditional Probability\n",
        "  - Bayes Theorem 1\n",
        "  - Bayes Theorem 2\n",
        "\n",
        "**Part 2**\n",
        "  - Descriptive Statistics\n",
        "  - Gaussian Distribution\n",
        "  - Central Limit Theorem\n",
        "  - Confidence Interval\n",
        "\n",
        "**Part 2**\n",
        "  - Combinatorics\n",
        "  - Binomial and Geometric distributions"
      ],
      "metadata": {
        "id": "BB1iLuX85546"
      }
    },
    {
      "cell_type": "markdown",
      "source": [
        "# <center>`Part 2.1:` **Descriptive Statistics**</center>\n",
        "***"
      ],
      "metadata": {
        "id": "1qOf0Q1Rbirb"
      }
    },
    {
      "cell_type": "code",
      "source": [
        "'''\n",
        "Descriptive Statistics (Content):\n",
        "--------------------------------------\n",
        "> Intro to Stats: Descriptive Statistics & Inferencial Statistics\n",
        "> Measures of central tendency (mean, median, mode, weighted average)\n",
        "> Measure of dispersion (range, percentiles & quartiles, interquartile range (IQR))\n",
        "> Data visualization (Box plots)\n",
        "> Outliers\n",
        "> Cumulative Distribution Function (CDF)\n",
        "> Data visualization (Histogram Plot) for Distribution of the data points\n",
        "> Measures of dispersion (variance, standard deviation, range)\n",
        "\n",
        "* Intro to Statistics: Descriptive Statistics & Inferencial Statistics\n",
        "* Measures of central tendency (mean, median, mode, weighted average)\n",
        "  (NOTE: Why Median better than Mean ??? \"Median is more robest to outliers\")\n",
        "  Q) There are 4 people whose average age is 24. We know the age of three people: 20, 22, and 28. What is the median age of these 4 people?\n",
        "  Q) In a survey about favourite animal, 30 people said cat, 40 people said dog, 20 people said cow. Wha is the mode of favourite animals in this data?\n",
        "  Q) The mean weight of 2 children in a family is 40 Kgs. If the weight of the mother is included, the mean becomes 45. What is the weight of the mother?\n",
        "  Q) A survey of number of pets in a town saw that 30% people had 0 pets, 40% had 1 pet, 10% had 2 pets, 20% had 3 pets. What is the average number of pets?\n",
        "\n",
        "* Measure of dispersion\n",
        "\t- Range (i.e. spread of data), variance, and standard deviation\n",
        "\t- Percentiles and quartiles\n",
        "\t- Interquartile range (IQR)\n",
        "* Data visualization (Box plots)\n",
        "\t- Percentiles, Min, Max\n",
        "\t- IQR (i.e. range b/w 25th & 75th percentiles)\n",
        "* Calculating Percentiles (25th, 50th (Median), 75th) & Quartiles (Q1, Q2, Q3)\n",
        "  For Percentiles:\n",
        "    Approach (1):\n",
        "\t- np.percentile(data[], 25) --> 25th percentile or Q1 quartile\n",
        "\t- np.percentile(data[], 50) --> 50th percentile or Q2 quartile or medium\n",
        "\t- np.percentile(data[], 75) --> 75th percentile or Q3 quartile\n",
        "    Approach (2):\n",
        "\t- data[].quantile(0.25) -->  Q1 quartile or 25th percentile\n",
        "\t- data[].quantile(0.50) -->  Q2 quartile or 50th percentile or medium\n",
        "\t- data[].quantile(0.75) -->  Q3 quartile or 75th percentile\n",
        "  For IQR (Interquartile Range):\n",
        "\t- (np.percentile(data[], 75) - np.percentile(data[], 75)) --> (75th percentile - 25th percentile)\n",
        "* Creating Data visualization (Box plots) for Percentiles & Quartiles\n",
        "\t- sns.boxplot(data = data[], orient = \"h\")\n",
        "* Calculating max (i.e. upper) & min (i.e. lower) points\n",
        "\t- upper_bound = min(actual_max, 75_percentile + 1.5*IQR)\n",
        "\t- lower_bound = max(0, 25_percentile - 1.5*IQR)\n",
        "* How much % of data is above the upper_bound (i.e. outliers)???\n",
        "\t- data_outlier = data[data[] > upper_bound]\n",
        "\t  len(data_outlier)\n",
        "\t  (above_output/count_value_from_describe_function)*100\n",
        "\n",
        "(NOTE: Using a different dataset)\n",
        "* Cumulative Distribution Function (CDF) (Connecting CDF to percentiles and cumulative probabilities in dataset)\n",
        "  Approach (1): Manual code\n",
        "\t- x_values = np.linspace(min_height, max_height, 1000)  --> creating x_axis (NOTE: similar to np.arange())\n",
        "\t  y_values = []\n",
        "\t  for x in x_values:\n",
        "\t  \tpeople_shorter_than_x = df_height[df_height <= x]\n",
        "    \t\tnum_people_shorter_than_x = len(people_shorter_than_x)\n",
        "\t\tfrac_people_shorter_than_x = num_people_shorter_than_x / total\n",
        "\t\ty_values.append(frac_people_shorter_than_x)\n",
        "\t\tplt.plot(x_values, y_values)\n",
        "  Approach (2): Pre-defined library\n",
        "\t- from statsmodels.distributions.empirical_distribution import ECDF  #Expirical CDF\n",
        "\t  e = ECDF(data)\n",
        "\t  plt.plot(e.x, e.y, c = \"r\")\n",
        "* Data visualization (Histogram Plot) for Distribution of the data points\n",
        "\t- sns.histplot(data[])\n",
        "* Measures of dispersion (variance, standard deviation, range)\n",
        "\t- formula for Variance\n",
        "\t- formula for Standard Deviation\n",
        "'''"
      ],
      "metadata": {
        "id": "TOlTtc3twZZY"
      },
      "execution_count": null,
      "outputs": []
    },
    {
      "cell_type": "code",
      "source": [
        "# Measures of central tendency (mean, median, mode, weighted average)\n",
        "length = [10, 20, 40, 50, 30, 60, 80, 90, 100, 70]\n",
        "\n",
        "mean = np.mean(length)\n",
        "median = np.median(length)\n",
        "\n",
        "from scipy import stats\n",
        "mode = stats.mode(length)\n",
        "\n",
        "print(f\"Mean: {mean} \\nMedia: {median} \\nMode: {mode}\")"
      ],
      "metadata": {
        "id": "NWexJaEGOJ6y",
        "outputId": "c657e5ff-dfaf-4cc0-9451-e5e3cfb351f8",
        "colab": {
          "base_uri": "https://localhost:8080/"
        }
      },
      "execution_count": null,
      "outputs": [
        {
          "output_type": "stream",
          "name": "stdout",
          "text": [
            "Mean: 55.0 \n",
            "Media: 55.0 \n",
            "Mode: ModeResult(mode=10, count=1)\n"
          ]
        }
      ]
    },
    {
      "cell_type": "code",
      "source": [
        "# Measure of dispersion (range, percentiles & quartiles, interquartile range (IQR))\n",
        "length = [10, 20, 40, 50, 30, 60 , 80, 90, 100, 70]\n",
        "\n",
        "range =  np.max(length) - np.min(length)\n",
        "percentile_50 = np.percentile(length, 50)       # we will learn more details going forward.\n",
        "\n",
        "print(f\"Range: {range} \\n50th Percentile: {percentile_50}\")"
      ],
      "metadata": {
        "id": "g4CuKorHmVxK",
        "outputId": "83b5b621-1caf-4537-b06a-05fec0dbe36a",
        "colab": {
          "base_uri": "https://localhost:8080/"
        }
      },
      "execution_count": 6,
      "outputs": [
        {
          "output_type": "stream",
          "name": "stdout",
          "text": [
            "Range: 90 \n",
            "50th Percentile: 55.0\n"
          ]
        }
      ]
    },
    {
      "cell_type": "code",
      "source": [
        "# Working with Sehwag & Dravid datasets\n",
        "sehwag = pd.read_csv(\"sehwag.csv\")\n",
        "dravid = pd.read_csv(\"dravid.csv\")"
      ],
      "metadata": {
        "id": "af6nNANRaOQR"
      },
      "execution_count": null,
      "outputs": []
    },
    {
      "cell_type": "code",
      "source": [
        "sehwag.head()"
      ],
      "metadata": {
        "colab": {
          "base_uri": "https://localhost:8080/",
          "height": 206
        },
        "id": "dKFbS3BLajcR",
        "outputId": "4777a002-5c8f-4a7a-b635-9339084f68f1"
      },
      "execution_count": null,
      "outputs": [
        {
          "output_type": "execute_result",
          "data": {
            "text/plain": [
              "   Runs Mins  BF  4s  6s      SR  Pos Dismissal  Inns  Unnamed: 9  \\\n",
              "0     1    5   2   0   0   50.00    7       lbw     1         NaN   \n",
              "1    19   18  24   0   1   79.16    6    caught     1         NaN   \n",
              "2    58   62  54   8   0  107.40    6    bowled     1         NaN   \n",
              "3     2    7   7   0   0   28.57    6    caught     2         NaN   \n",
              "4    11   19  16   1   0   68.75    6   not out     2         NaN   \n",
              "\n",
              "      Opposition     Ground   Start Date Unnamed: 13  \n",
              "0     v Pakistan     Mohali   1 Apr 1999  ODI # 1427  \n",
              "1     v Zimbabwe     Rajkot  14 Dec 2000  ODI # 1660  \n",
              "2    v Australia  Bengaluru  25 Mar 2001  ODI # 1696  \n",
              "3     v Zimbabwe   Bulawayo  27 Jun 2001  ODI # 1730  \n",
              "4  v West Indies   Bulawayo  30 Jun 2001  ODI # 1731  "
            ],
            "text/html": [
              "\n",
              "  <div id=\"df-6d287641-4f2a-46f5-95c5-afaa284b55ea\" class=\"colab-df-container\">\n",
              "    <div>\n",
              "<style scoped>\n",
              "    .dataframe tbody tr th:only-of-type {\n",
              "        vertical-align: middle;\n",
              "    }\n",
              "\n",
              "    .dataframe tbody tr th {\n",
              "        vertical-align: top;\n",
              "    }\n",
              "\n",
              "    .dataframe thead th {\n",
              "        text-align: right;\n",
              "    }\n",
              "</style>\n",
              "<table border=\"1\" class=\"dataframe\">\n",
              "  <thead>\n",
              "    <tr style=\"text-align: right;\">\n",
              "      <th></th>\n",
              "      <th>Runs</th>\n",
              "      <th>Mins</th>\n",
              "      <th>BF</th>\n",
              "      <th>4s</th>\n",
              "      <th>6s</th>\n",
              "      <th>SR</th>\n",
              "      <th>Pos</th>\n",
              "      <th>Dismissal</th>\n",
              "      <th>Inns</th>\n",
              "      <th>Unnamed: 9</th>\n",
              "      <th>Opposition</th>\n",
              "      <th>Ground</th>\n",
              "      <th>Start Date</th>\n",
              "      <th>Unnamed: 13</th>\n",
              "    </tr>\n",
              "  </thead>\n",
              "  <tbody>\n",
              "    <tr>\n",
              "      <th>0</th>\n",
              "      <td>1</td>\n",
              "      <td>5</td>\n",
              "      <td>2</td>\n",
              "      <td>0</td>\n",
              "      <td>0</td>\n",
              "      <td>50.00</td>\n",
              "      <td>7</td>\n",
              "      <td>lbw</td>\n",
              "      <td>1</td>\n",
              "      <td>NaN</td>\n",
              "      <td>v Pakistan</td>\n",
              "      <td>Mohali</td>\n",
              "      <td>1 Apr 1999</td>\n",
              "      <td>ODI # 1427</td>\n",
              "    </tr>\n",
              "    <tr>\n",
              "      <th>1</th>\n",
              "      <td>19</td>\n",
              "      <td>18</td>\n",
              "      <td>24</td>\n",
              "      <td>0</td>\n",
              "      <td>1</td>\n",
              "      <td>79.16</td>\n",
              "      <td>6</td>\n",
              "      <td>caught</td>\n",
              "      <td>1</td>\n",
              "      <td>NaN</td>\n",
              "      <td>v Zimbabwe</td>\n",
              "      <td>Rajkot</td>\n",
              "      <td>14 Dec 2000</td>\n",
              "      <td>ODI # 1660</td>\n",
              "    </tr>\n",
              "    <tr>\n",
              "      <th>2</th>\n",
              "      <td>58</td>\n",
              "      <td>62</td>\n",
              "      <td>54</td>\n",
              "      <td>8</td>\n",
              "      <td>0</td>\n",
              "      <td>107.40</td>\n",
              "      <td>6</td>\n",
              "      <td>bowled</td>\n",
              "      <td>1</td>\n",
              "      <td>NaN</td>\n",
              "      <td>v Australia</td>\n",
              "      <td>Bengaluru</td>\n",
              "      <td>25 Mar 2001</td>\n",
              "      <td>ODI # 1696</td>\n",
              "    </tr>\n",
              "    <tr>\n",
              "      <th>3</th>\n",
              "      <td>2</td>\n",
              "      <td>7</td>\n",
              "      <td>7</td>\n",
              "      <td>0</td>\n",
              "      <td>0</td>\n",
              "      <td>28.57</td>\n",
              "      <td>6</td>\n",
              "      <td>caught</td>\n",
              "      <td>2</td>\n",
              "      <td>NaN</td>\n",
              "      <td>v Zimbabwe</td>\n",
              "      <td>Bulawayo</td>\n",
              "      <td>27 Jun 2001</td>\n",
              "      <td>ODI # 1730</td>\n",
              "    </tr>\n",
              "    <tr>\n",
              "      <th>4</th>\n",
              "      <td>11</td>\n",
              "      <td>19</td>\n",
              "      <td>16</td>\n",
              "      <td>1</td>\n",
              "      <td>0</td>\n",
              "      <td>68.75</td>\n",
              "      <td>6</td>\n",
              "      <td>not out</td>\n",
              "      <td>2</td>\n",
              "      <td>NaN</td>\n",
              "      <td>v West Indies</td>\n",
              "      <td>Bulawayo</td>\n",
              "      <td>30 Jun 2001</td>\n",
              "      <td>ODI # 1731</td>\n",
              "    </tr>\n",
              "  </tbody>\n",
              "</table>\n",
              "</div>\n",
              "    <div class=\"colab-df-buttons\">\n",
              "\n",
              "  <div class=\"colab-df-container\">\n",
              "    <button class=\"colab-df-convert\" onclick=\"convertToInteractive('df-6d287641-4f2a-46f5-95c5-afaa284b55ea')\"\n",
              "            title=\"Convert this dataframe to an interactive table.\"\n",
              "            style=\"display:none;\">\n",
              "\n",
              "  <svg xmlns=\"http://www.w3.org/2000/svg\" height=\"24px\" viewBox=\"0 -960 960 960\">\n",
              "    <path d=\"M120-120v-720h720v720H120Zm60-500h600v-160H180v160Zm220 220h160v-160H400v160Zm0 220h160v-160H400v160ZM180-400h160v-160H180v160Zm440 0h160v-160H620v160ZM180-180h160v-160H180v160Zm440 0h160v-160H620v160Z\"/>\n",
              "  </svg>\n",
              "    </button>\n",
              "\n",
              "  <style>\n",
              "    .colab-df-container {\n",
              "      display:flex;\n",
              "      gap: 12px;\n",
              "    }\n",
              "\n",
              "    .colab-df-convert {\n",
              "      background-color: #E8F0FE;\n",
              "      border: none;\n",
              "      border-radius: 50%;\n",
              "      cursor: pointer;\n",
              "      display: none;\n",
              "      fill: #1967D2;\n",
              "      height: 32px;\n",
              "      padding: 0 0 0 0;\n",
              "      width: 32px;\n",
              "    }\n",
              "\n",
              "    .colab-df-convert:hover {\n",
              "      background-color: #E2EBFA;\n",
              "      box-shadow: 0px 1px 2px rgba(60, 64, 67, 0.3), 0px 1px 3px 1px rgba(60, 64, 67, 0.15);\n",
              "      fill: #174EA6;\n",
              "    }\n",
              "\n",
              "    .colab-df-buttons div {\n",
              "      margin-bottom: 4px;\n",
              "    }\n",
              "\n",
              "    [theme=dark] .colab-df-convert {\n",
              "      background-color: #3B4455;\n",
              "      fill: #D2E3FC;\n",
              "    }\n",
              "\n",
              "    [theme=dark] .colab-df-convert:hover {\n",
              "      background-color: #434B5C;\n",
              "      box-shadow: 0px 1px 3px 1px rgba(0, 0, 0, 0.15);\n",
              "      filter: drop-shadow(0px 1px 2px rgba(0, 0, 0, 0.3));\n",
              "      fill: #FFFFFF;\n",
              "    }\n",
              "  </style>\n",
              "\n",
              "    <script>\n",
              "      const buttonEl =\n",
              "        document.querySelector('#df-6d287641-4f2a-46f5-95c5-afaa284b55ea button.colab-df-convert');\n",
              "      buttonEl.style.display =\n",
              "        google.colab.kernel.accessAllowed ? 'block' : 'none';\n",
              "\n",
              "      async function convertToInteractive(key) {\n",
              "        const element = document.querySelector('#df-6d287641-4f2a-46f5-95c5-afaa284b55ea');\n",
              "        const dataTable =\n",
              "          await google.colab.kernel.invokeFunction('convertToInteractive',\n",
              "                                                    [key], {});\n",
              "        if (!dataTable) return;\n",
              "\n",
              "        const docLinkHtml = 'Like what you see? Visit the ' +\n",
              "          '<a target=\"_blank\" href=https://colab.research.google.com/notebooks/data_table.ipynb>data table notebook</a>'\n",
              "          + ' to learn more about interactive tables.';\n",
              "        element.innerHTML = '';\n",
              "        dataTable['output_type'] = 'display_data';\n",
              "        await google.colab.output.renderOutput(dataTable, element);\n",
              "        const docLink = document.createElement('div');\n",
              "        docLink.innerHTML = docLinkHtml;\n",
              "        element.appendChild(docLink);\n",
              "      }\n",
              "    </script>\n",
              "  </div>\n",
              "\n",
              "\n",
              "<div id=\"df-9073617d-106b-4801-b559-856400c16116\">\n",
              "  <button class=\"colab-df-quickchart\" onclick=\"quickchart('df-9073617d-106b-4801-b559-856400c16116')\"\n",
              "            title=\"Suggest charts.\"\n",
              "            style=\"display:none;\">\n",
              "\n",
              "<svg xmlns=\"http://www.w3.org/2000/svg\" height=\"24px\"viewBox=\"0 0 24 24\"\n",
              "     width=\"24px\">\n",
              "    <g>\n",
              "        <path d=\"M19 3H5c-1.1 0-2 .9-2 2v14c0 1.1.9 2 2 2h14c1.1 0 2-.9 2-2V5c0-1.1-.9-2-2-2zM9 17H7v-7h2v7zm4 0h-2V7h2v10zm4 0h-2v-4h2v4z\"/>\n",
              "    </g>\n",
              "</svg>\n",
              "  </button>\n",
              "\n",
              "<style>\n",
              "  .colab-df-quickchart {\n",
              "      --bg-color: #E8F0FE;\n",
              "      --fill-color: #1967D2;\n",
              "      --hover-bg-color: #E2EBFA;\n",
              "      --hover-fill-color: #174EA6;\n",
              "      --disabled-fill-color: #AAA;\n",
              "      --disabled-bg-color: #DDD;\n",
              "  }\n",
              "\n",
              "  [theme=dark] .colab-df-quickchart {\n",
              "      --bg-color: #3B4455;\n",
              "      --fill-color: #D2E3FC;\n",
              "      --hover-bg-color: #434B5C;\n",
              "      --hover-fill-color: #FFFFFF;\n",
              "      --disabled-bg-color: #3B4455;\n",
              "      --disabled-fill-color: #666;\n",
              "  }\n",
              "\n",
              "  .colab-df-quickchart {\n",
              "    background-color: var(--bg-color);\n",
              "    border: none;\n",
              "    border-radius: 50%;\n",
              "    cursor: pointer;\n",
              "    display: none;\n",
              "    fill: var(--fill-color);\n",
              "    height: 32px;\n",
              "    padding: 0;\n",
              "    width: 32px;\n",
              "  }\n",
              "\n",
              "  .colab-df-quickchart:hover {\n",
              "    background-color: var(--hover-bg-color);\n",
              "    box-shadow: 0 1px 2px rgba(60, 64, 67, 0.3), 0 1px 3px 1px rgba(60, 64, 67, 0.15);\n",
              "    fill: var(--button-hover-fill-color);\n",
              "  }\n",
              "\n",
              "  .colab-df-quickchart-complete:disabled,\n",
              "  .colab-df-quickchart-complete:disabled:hover {\n",
              "    background-color: var(--disabled-bg-color);\n",
              "    fill: var(--disabled-fill-color);\n",
              "    box-shadow: none;\n",
              "  }\n",
              "\n",
              "  .colab-df-spinner {\n",
              "    border: 2px solid var(--fill-color);\n",
              "    border-color: transparent;\n",
              "    border-bottom-color: var(--fill-color);\n",
              "    animation:\n",
              "      spin 1s steps(1) infinite;\n",
              "  }\n",
              "\n",
              "  @keyframes spin {\n",
              "    0% {\n",
              "      border-color: transparent;\n",
              "      border-bottom-color: var(--fill-color);\n",
              "      border-left-color: var(--fill-color);\n",
              "    }\n",
              "    20% {\n",
              "      border-color: transparent;\n",
              "      border-left-color: var(--fill-color);\n",
              "      border-top-color: var(--fill-color);\n",
              "    }\n",
              "    30% {\n",
              "      border-color: transparent;\n",
              "      border-left-color: var(--fill-color);\n",
              "      border-top-color: var(--fill-color);\n",
              "      border-right-color: var(--fill-color);\n",
              "    }\n",
              "    40% {\n",
              "      border-color: transparent;\n",
              "      border-right-color: var(--fill-color);\n",
              "      border-top-color: var(--fill-color);\n",
              "    }\n",
              "    60% {\n",
              "      border-color: transparent;\n",
              "      border-right-color: var(--fill-color);\n",
              "    }\n",
              "    80% {\n",
              "      border-color: transparent;\n",
              "      border-right-color: var(--fill-color);\n",
              "      border-bottom-color: var(--fill-color);\n",
              "    }\n",
              "    90% {\n",
              "      border-color: transparent;\n",
              "      border-bottom-color: var(--fill-color);\n",
              "    }\n",
              "  }\n",
              "</style>\n",
              "\n",
              "  <script>\n",
              "    async function quickchart(key) {\n",
              "      const quickchartButtonEl =\n",
              "        document.querySelector('#' + key + ' button');\n",
              "      quickchartButtonEl.disabled = true;  // To prevent multiple clicks.\n",
              "      quickchartButtonEl.classList.add('colab-df-spinner');\n",
              "      try {\n",
              "        const charts = await google.colab.kernel.invokeFunction(\n",
              "            'suggestCharts', [key], {});\n",
              "      } catch (error) {\n",
              "        console.error('Error during call to suggestCharts:', error);\n",
              "      }\n",
              "      quickchartButtonEl.classList.remove('colab-df-spinner');\n",
              "      quickchartButtonEl.classList.add('colab-df-quickchart-complete');\n",
              "    }\n",
              "    (() => {\n",
              "      let quickchartButtonEl =\n",
              "        document.querySelector('#df-9073617d-106b-4801-b559-856400c16116 button');\n",
              "      quickchartButtonEl.style.display =\n",
              "        google.colab.kernel.accessAllowed ? 'block' : 'none';\n",
              "    })();\n",
              "  </script>\n",
              "</div>\n",
              "    </div>\n",
              "  </div>\n"
            ]
          },
          "metadata": {},
          "execution_count": 4
        }
      ]
    },
    {
      "cell_type": "code",
      "source": [
        "dravid.head()"
      ],
      "metadata": {
        "colab": {
          "base_uri": "https://localhost:8080/",
          "height": 206
        },
        "id": "XdEkndAhamP3",
        "outputId": "d819f1cd-4e37-40c6-9ca9-67801eaa3ced"
      },
      "execution_count": null,
      "outputs": [
        {
          "output_type": "execute_result",
          "data": {
            "text/plain": [
              "   Runs Mins  BF  4s  6s      SR  Pos Dismissal  Inns  Unnamed: 9  \\\n",
              "0     3    -   4   0   0   75.00    4    caught     1         NaN   \n",
              "1     4    -   7   0   0   57.14    4   run out     1         NaN   \n",
              "2     3    -   5   0   0   60.00    5    caught     2         NaN   \n",
              "3    11   28  21   0   0   52.38    8    caught     2         NaN   \n",
              "4    22   21  15   3   0  146.66    6   not out     1         NaN   \n",
              "\n",
              "       Opposition      Ground   Start Date Unnamed: 13  \n",
              "0     v Sri Lanka   Singapore   3 Apr 1996  ODI # 1089  \n",
              "1      v Pakistan   Singapore   5 Apr 1996  ODI # 1091  \n",
              "2      v Pakistan     Sharjah  12 Apr 1996  ODI # 1094  \n",
              "3  v South Africa     Sharjah  14 Apr 1996  ODI # 1097  \n",
              "4       v England  Manchester  26 May 1996  ODI # 1104  "
            ],
            "text/html": [
              "\n",
              "  <div id=\"df-f332f051-6e89-4192-bc8b-471aac8550cb\" class=\"colab-df-container\">\n",
              "    <div>\n",
              "<style scoped>\n",
              "    .dataframe tbody tr th:only-of-type {\n",
              "        vertical-align: middle;\n",
              "    }\n",
              "\n",
              "    .dataframe tbody tr th {\n",
              "        vertical-align: top;\n",
              "    }\n",
              "\n",
              "    .dataframe thead th {\n",
              "        text-align: right;\n",
              "    }\n",
              "</style>\n",
              "<table border=\"1\" class=\"dataframe\">\n",
              "  <thead>\n",
              "    <tr style=\"text-align: right;\">\n",
              "      <th></th>\n",
              "      <th>Runs</th>\n",
              "      <th>Mins</th>\n",
              "      <th>BF</th>\n",
              "      <th>4s</th>\n",
              "      <th>6s</th>\n",
              "      <th>SR</th>\n",
              "      <th>Pos</th>\n",
              "      <th>Dismissal</th>\n",
              "      <th>Inns</th>\n",
              "      <th>Unnamed: 9</th>\n",
              "      <th>Opposition</th>\n",
              "      <th>Ground</th>\n",
              "      <th>Start Date</th>\n",
              "      <th>Unnamed: 13</th>\n",
              "    </tr>\n",
              "  </thead>\n",
              "  <tbody>\n",
              "    <tr>\n",
              "      <th>0</th>\n",
              "      <td>3</td>\n",
              "      <td>-</td>\n",
              "      <td>4</td>\n",
              "      <td>0</td>\n",
              "      <td>0</td>\n",
              "      <td>75.00</td>\n",
              "      <td>4</td>\n",
              "      <td>caught</td>\n",
              "      <td>1</td>\n",
              "      <td>NaN</td>\n",
              "      <td>v Sri Lanka</td>\n",
              "      <td>Singapore</td>\n",
              "      <td>3 Apr 1996</td>\n",
              "      <td>ODI # 1089</td>\n",
              "    </tr>\n",
              "    <tr>\n",
              "      <th>1</th>\n",
              "      <td>4</td>\n",
              "      <td>-</td>\n",
              "      <td>7</td>\n",
              "      <td>0</td>\n",
              "      <td>0</td>\n",
              "      <td>57.14</td>\n",
              "      <td>4</td>\n",
              "      <td>run out</td>\n",
              "      <td>1</td>\n",
              "      <td>NaN</td>\n",
              "      <td>v Pakistan</td>\n",
              "      <td>Singapore</td>\n",
              "      <td>5 Apr 1996</td>\n",
              "      <td>ODI # 1091</td>\n",
              "    </tr>\n",
              "    <tr>\n",
              "      <th>2</th>\n",
              "      <td>3</td>\n",
              "      <td>-</td>\n",
              "      <td>5</td>\n",
              "      <td>0</td>\n",
              "      <td>0</td>\n",
              "      <td>60.00</td>\n",
              "      <td>5</td>\n",
              "      <td>caught</td>\n",
              "      <td>2</td>\n",
              "      <td>NaN</td>\n",
              "      <td>v Pakistan</td>\n",
              "      <td>Sharjah</td>\n",
              "      <td>12 Apr 1996</td>\n",
              "      <td>ODI # 1094</td>\n",
              "    </tr>\n",
              "    <tr>\n",
              "      <th>3</th>\n",
              "      <td>11</td>\n",
              "      <td>28</td>\n",
              "      <td>21</td>\n",
              "      <td>0</td>\n",
              "      <td>0</td>\n",
              "      <td>52.38</td>\n",
              "      <td>8</td>\n",
              "      <td>caught</td>\n",
              "      <td>2</td>\n",
              "      <td>NaN</td>\n",
              "      <td>v South Africa</td>\n",
              "      <td>Sharjah</td>\n",
              "      <td>14 Apr 1996</td>\n",
              "      <td>ODI # 1097</td>\n",
              "    </tr>\n",
              "    <tr>\n",
              "      <th>4</th>\n",
              "      <td>22</td>\n",
              "      <td>21</td>\n",
              "      <td>15</td>\n",
              "      <td>3</td>\n",
              "      <td>0</td>\n",
              "      <td>146.66</td>\n",
              "      <td>6</td>\n",
              "      <td>not out</td>\n",
              "      <td>1</td>\n",
              "      <td>NaN</td>\n",
              "      <td>v England</td>\n",
              "      <td>Manchester</td>\n",
              "      <td>26 May 1996</td>\n",
              "      <td>ODI # 1104</td>\n",
              "    </tr>\n",
              "  </tbody>\n",
              "</table>\n",
              "</div>\n",
              "    <div class=\"colab-df-buttons\">\n",
              "\n",
              "  <div class=\"colab-df-container\">\n",
              "    <button class=\"colab-df-convert\" onclick=\"convertToInteractive('df-f332f051-6e89-4192-bc8b-471aac8550cb')\"\n",
              "            title=\"Convert this dataframe to an interactive table.\"\n",
              "            style=\"display:none;\">\n",
              "\n",
              "  <svg xmlns=\"http://www.w3.org/2000/svg\" height=\"24px\" viewBox=\"0 -960 960 960\">\n",
              "    <path d=\"M120-120v-720h720v720H120Zm60-500h600v-160H180v160Zm220 220h160v-160H400v160Zm0 220h160v-160H400v160ZM180-400h160v-160H180v160Zm440 0h160v-160H620v160ZM180-180h160v-160H180v160Zm440 0h160v-160H620v160Z\"/>\n",
              "  </svg>\n",
              "    </button>\n",
              "\n",
              "  <style>\n",
              "    .colab-df-container {\n",
              "      display:flex;\n",
              "      gap: 12px;\n",
              "    }\n",
              "\n",
              "    .colab-df-convert {\n",
              "      background-color: #E8F0FE;\n",
              "      border: none;\n",
              "      border-radius: 50%;\n",
              "      cursor: pointer;\n",
              "      display: none;\n",
              "      fill: #1967D2;\n",
              "      height: 32px;\n",
              "      padding: 0 0 0 0;\n",
              "      width: 32px;\n",
              "    }\n",
              "\n",
              "    .colab-df-convert:hover {\n",
              "      background-color: #E2EBFA;\n",
              "      box-shadow: 0px 1px 2px rgba(60, 64, 67, 0.3), 0px 1px 3px 1px rgba(60, 64, 67, 0.15);\n",
              "      fill: #174EA6;\n",
              "    }\n",
              "\n",
              "    .colab-df-buttons div {\n",
              "      margin-bottom: 4px;\n",
              "    }\n",
              "\n",
              "    [theme=dark] .colab-df-convert {\n",
              "      background-color: #3B4455;\n",
              "      fill: #D2E3FC;\n",
              "    }\n",
              "\n",
              "    [theme=dark] .colab-df-convert:hover {\n",
              "      background-color: #434B5C;\n",
              "      box-shadow: 0px 1px 3px 1px rgba(0, 0, 0, 0.15);\n",
              "      filter: drop-shadow(0px 1px 2px rgba(0, 0, 0, 0.3));\n",
              "      fill: #FFFFFF;\n",
              "    }\n",
              "  </style>\n",
              "\n",
              "    <script>\n",
              "      const buttonEl =\n",
              "        document.querySelector('#df-f332f051-6e89-4192-bc8b-471aac8550cb button.colab-df-convert');\n",
              "      buttonEl.style.display =\n",
              "        google.colab.kernel.accessAllowed ? 'block' : 'none';\n",
              "\n",
              "      async function convertToInteractive(key) {\n",
              "        const element = document.querySelector('#df-f332f051-6e89-4192-bc8b-471aac8550cb');\n",
              "        const dataTable =\n",
              "          await google.colab.kernel.invokeFunction('convertToInteractive',\n",
              "                                                    [key], {});\n",
              "        if (!dataTable) return;\n",
              "\n",
              "        const docLinkHtml = 'Like what you see? Visit the ' +\n",
              "          '<a target=\"_blank\" href=https://colab.research.google.com/notebooks/data_table.ipynb>data table notebook</a>'\n",
              "          + ' to learn more about interactive tables.';\n",
              "        element.innerHTML = '';\n",
              "        dataTable['output_type'] = 'display_data';\n",
              "        await google.colab.output.renderOutput(dataTable, element);\n",
              "        const docLink = document.createElement('div');\n",
              "        docLink.innerHTML = docLinkHtml;\n",
              "        element.appendChild(docLink);\n",
              "      }\n",
              "    </script>\n",
              "  </div>\n",
              "\n",
              "\n",
              "<div id=\"df-d4651e47-98d6-4cb5-98cb-c55631e5970a\">\n",
              "  <button class=\"colab-df-quickchart\" onclick=\"quickchart('df-d4651e47-98d6-4cb5-98cb-c55631e5970a')\"\n",
              "            title=\"Suggest charts.\"\n",
              "            style=\"display:none;\">\n",
              "\n",
              "<svg xmlns=\"http://www.w3.org/2000/svg\" height=\"24px\"viewBox=\"0 0 24 24\"\n",
              "     width=\"24px\">\n",
              "    <g>\n",
              "        <path d=\"M19 3H5c-1.1 0-2 .9-2 2v14c0 1.1.9 2 2 2h14c1.1 0 2-.9 2-2V5c0-1.1-.9-2-2-2zM9 17H7v-7h2v7zm4 0h-2V7h2v10zm4 0h-2v-4h2v4z\"/>\n",
              "    </g>\n",
              "</svg>\n",
              "  </button>\n",
              "\n",
              "<style>\n",
              "  .colab-df-quickchart {\n",
              "      --bg-color: #E8F0FE;\n",
              "      --fill-color: #1967D2;\n",
              "      --hover-bg-color: #E2EBFA;\n",
              "      --hover-fill-color: #174EA6;\n",
              "      --disabled-fill-color: #AAA;\n",
              "      --disabled-bg-color: #DDD;\n",
              "  }\n",
              "\n",
              "  [theme=dark] .colab-df-quickchart {\n",
              "      --bg-color: #3B4455;\n",
              "      --fill-color: #D2E3FC;\n",
              "      --hover-bg-color: #434B5C;\n",
              "      --hover-fill-color: #FFFFFF;\n",
              "      --disabled-bg-color: #3B4455;\n",
              "      --disabled-fill-color: #666;\n",
              "  }\n",
              "\n",
              "  .colab-df-quickchart {\n",
              "    background-color: var(--bg-color);\n",
              "    border: none;\n",
              "    border-radius: 50%;\n",
              "    cursor: pointer;\n",
              "    display: none;\n",
              "    fill: var(--fill-color);\n",
              "    height: 32px;\n",
              "    padding: 0;\n",
              "    width: 32px;\n",
              "  }\n",
              "\n",
              "  .colab-df-quickchart:hover {\n",
              "    background-color: var(--hover-bg-color);\n",
              "    box-shadow: 0 1px 2px rgba(60, 64, 67, 0.3), 0 1px 3px 1px rgba(60, 64, 67, 0.15);\n",
              "    fill: var(--button-hover-fill-color);\n",
              "  }\n",
              "\n",
              "  .colab-df-quickchart-complete:disabled,\n",
              "  .colab-df-quickchart-complete:disabled:hover {\n",
              "    background-color: var(--disabled-bg-color);\n",
              "    fill: var(--disabled-fill-color);\n",
              "    box-shadow: none;\n",
              "  }\n",
              "\n",
              "  .colab-df-spinner {\n",
              "    border: 2px solid var(--fill-color);\n",
              "    border-color: transparent;\n",
              "    border-bottom-color: var(--fill-color);\n",
              "    animation:\n",
              "      spin 1s steps(1) infinite;\n",
              "  }\n",
              "\n",
              "  @keyframes spin {\n",
              "    0% {\n",
              "      border-color: transparent;\n",
              "      border-bottom-color: var(--fill-color);\n",
              "      border-left-color: var(--fill-color);\n",
              "    }\n",
              "    20% {\n",
              "      border-color: transparent;\n",
              "      border-left-color: var(--fill-color);\n",
              "      border-top-color: var(--fill-color);\n",
              "    }\n",
              "    30% {\n",
              "      border-color: transparent;\n",
              "      border-left-color: var(--fill-color);\n",
              "      border-top-color: var(--fill-color);\n",
              "      border-right-color: var(--fill-color);\n",
              "    }\n",
              "    40% {\n",
              "      border-color: transparent;\n",
              "      border-right-color: var(--fill-color);\n",
              "      border-top-color: var(--fill-color);\n",
              "    }\n",
              "    60% {\n",
              "      border-color: transparent;\n",
              "      border-right-color: var(--fill-color);\n",
              "    }\n",
              "    80% {\n",
              "      border-color: transparent;\n",
              "      border-right-color: var(--fill-color);\n",
              "      border-bottom-color: var(--fill-color);\n",
              "    }\n",
              "    90% {\n",
              "      border-color: transparent;\n",
              "      border-bottom-color: var(--fill-color);\n",
              "    }\n",
              "  }\n",
              "</style>\n",
              "\n",
              "  <script>\n",
              "    async function quickchart(key) {\n",
              "      const quickchartButtonEl =\n",
              "        document.querySelector('#' + key + ' button');\n",
              "      quickchartButtonEl.disabled = true;  // To prevent multiple clicks.\n",
              "      quickchartButtonEl.classList.add('colab-df-spinner');\n",
              "      try {\n",
              "        const charts = await google.colab.kernel.invokeFunction(\n",
              "            'suggestCharts', [key], {});\n",
              "      } catch (error) {\n",
              "        console.error('Error during call to suggestCharts:', error);\n",
              "      }\n",
              "      quickchartButtonEl.classList.remove('colab-df-spinner');\n",
              "      quickchartButtonEl.classList.add('colab-df-quickchart-complete');\n",
              "    }\n",
              "    (() => {\n",
              "      let quickchartButtonEl =\n",
              "        document.querySelector('#df-d4651e47-98d6-4cb5-98cb-c55631e5970a button');\n",
              "      quickchartButtonEl.style.display =\n",
              "        google.colab.kernel.accessAllowed ? 'block' : 'none';\n",
              "    })();\n",
              "  </script>\n",
              "</div>\n",
              "    </div>\n",
              "  </div>\n"
            ]
          },
          "metadata": {},
          "execution_count": 5
        }
      ]
    },
    {
      "cell_type": "markdown",
      "source": [
        "## **(1) Let's handle sehwag.csv first**"
      ],
      "metadata": {
        "id": "jo26N_tHjlZn"
      }
    },
    {
      "cell_type": "code",
      "source": [
        "sehwag.shape"
      ],
      "metadata": {
        "colab": {
          "base_uri": "https://localhost:8080/"
        },
        "id": "lEk-NnszayJg",
        "outputId": "33231999-ef55-425f-d640-380da5aad2cf"
      },
      "execution_count": null,
      "outputs": [
        {
          "output_type": "execute_result",
          "data": {
            "text/plain": [
              "(245, 14)"
            ]
          },
          "metadata": {},
          "execution_count": 6
        }
      ]
    },
    {
      "cell_type": "code",
      "source": [
        "sehwag.describe()"
      ],
      "metadata": {
        "colab": {
          "base_uri": "https://localhost:8080/",
          "height": 300
        },
        "id": "fwVnJZuda0C_",
        "outputId": "e9f8047c-4d86-427f-8200-6695c96070c9"
      },
      "execution_count": null,
      "outputs": [
        {
          "output_type": "execute_result",
          "data": {
            "text/plain": [
              "             Runs          BF          4s          6s          SR        Pos  \\\n",
              "count  245.000000  245.000000  245.000000  245.000000  245.000000  245.00000   \n",
              "mean    33.767347   32.363265    4.620408    0.555102   93.085755    1.82449   \n",
              "std     34.809419   29.175744    4.583335    1.124442   46.830716    1.24376   \n",
              "min      0.000000    1.000000    0.000000    0.000000    0.000000    1.00000   \n",
              "25%      8.000000   10.000000    1.000000    0.000000   65.850000    1.00000   \n",
              "50%     23.000000   25.000000    3.000000    0.000000   92.230000    1.00000   \n",
              "75%     46.000000   42.000000    7.000000    1.000000  123.800000    2.00000   \n",
              "max    219.000000  149.000000   25.000000    7.000000  260.000000    8.00000   \n",
              "\n",
              "             Inns  Unnamed: 9  \n",
              "count  245.000000         0.0  \n",
              "mean     1.530612         NaN  \n",
              "std      0.500084         NaN  \n",
              "min      1.000000         NaN  \n",
              "25%      1.000000         NaN  \n",
              "50%      2.000000         NaN  \n",
              "75%      2.000000         NaN  \n",
              "max      2.000000         NaN  "
            ],
            "text/html": [
              "\n",
              "  <div id=\"df-822f38a7-21d2-48dd-a038-060a3510054c\" class=\"colab-df-container\">\n",
              "    <div>\n",
              "<style scoped>\n",
              "    .dataframe tbody tr th:only-of-type {\n",
              "        vertical-align: middle;\n",
              "    }\n",
              "\n",
              "    .dataframe tbody tr th {\n",
              "        vertical-align: top;\n",
              "    }\n",
              "\n",
              "    .dataframe thead th {\n",
              "        text-align: right;\n",
              "    }\n",
              "</style>\n",
              "<table border=\"1\" class=\"dataframe\">\n",
              "  <thead>\n",
              "    <tr style=\"text-align: right;\">\n",
              "      <th></th>\n",
              "      <th>Runs</th>\n",
              "      <th>BF</th>\n",
              "      <th>4s</th>\n",
              "      <th>6s</th>\n",
              "      <th>SR</th>\n",
              "      <th>Pos</th>\n",
              "      <th>Inns</th>\n",
              "      <th>Unnamed: 9</th>\n",
              "    </tr>\n",
              "  </thead>\n",
              "  <tbody>\n",
              "    <tr>\n",
              "      <th>count</th>\n",
              "      <td>245.000000</td>\n",
              "      <td>245.000000</td>\n",
              "      <td>245.000000</td>\n",
              "      <td>245.000000</td>\n",
              "      <td>245.000000</td>\n",
              "      <td>245.00000</td>\n",
              "      <td>245.000000</td>\n",
              "      <td>0.0</td>\n",
              "    </tr>\n",
              "    <tr>\n",
              "      <th>mean</th>\n",
              "      <td>33.767347</td>\n",
              "      <td>32.363265</td>\n",
              "      <td>4.620408</td>\n",
              "      <td>0.555102</td>\n",
              "      <td>93.085755</td>\n",
              "      <td>1.82449</td>\n",
              "      <td>1.530612</td>\n",
              "      <td>NaN</td>\n",
              "    </tr>\n",
              "    <tr>\n",
              "      <th>std</th>\n",
              "      <td>34.809419</td>\n",
              "      <td>29.175744</td>\n",
              "      <td>4.583335</td>\n",
              "      <td>1.124442</td>\n",
              "      <td>46.830716</td>\n",
              "      <td>1.24376</td>\n",
              "      <td>0.500084</td>\n",
              "      <td>NaN</td>\n",
              "    </tr>\n",
              "    <tr>\n",
              "      <th>min</th>\n",
              "      <td>0.000000</td>\n",
              "      <td>1.000000</td>\n",
              "      <td>0.000000</td>\n",
              "      <td>0.000000</td>\n",
              "      <td>0.000000</td>\n",
              "      <td>1.00000</td>\n",
              "      <td>1.000000</td>\n",
              "      <td>NaN</td>\n",
              "    </tr>\n",
              "    <tr>\n",
              "      <th>25%</th>\n",
              "      <td>8.000000</td>\n",
              "      <td>10.000000</td>\n",
              "      <td>1.000000</td>\n",
              "      <td>0.000000</td>\n",
              "      <td>65.850000</td>\n",
              "      <td>1.00000</td>\n",
              "      <td>1.000000</td>\n",
              "      <td>NaN</td>\n",
              "    </tr>\n",
              "    <tr>\n",
              "      <th>50%</th>\n",
              "      <td>23.000000</td>\n",
              "      <td>25.000000</td>\n",
              "      <td>3.000000</td>\n",
              "      <td>0.000000</td>\n",
              "      <td>92.230000</td>\n",
              "      <td>1.00000</td>\n",
              "      <td>2.000000</td>\n",
              "      <td>NaN</td>\n",
              "    </tr>\n",
              "    <tr>\n",
              "      <th>75%</th>\n",
              "      <td>46.000000</td>\n",
              "      <td>42.000000</td>\n",
              "      <td>7.000000</td>\n",
              "      <td>1.000000</td>\n",
              "      <td>123.800000</td>\n",
              "      <td>2.00000</td>\n",
              "      <td>2.000000</td>\n",
              "      <td>NaN</td>\n",
              "    </tr>\n",
              "    <tr>\n",
              "      <th>max</th>\n",
              "      <td>219.000000</td>\n",
              "      <td>149.000000</td>\n",
              "      <td>25.000000</td>\n",
              "      <td>7.000000</td>\n",
              "      <td>260.000000</td>\n",
              "      <td>8.00000</td>\n",
              "      <td>2.000000</td>\n",
              "      <td>NaN</td>\n",
              "    </tr>\n",
              "  </tbody>\n",
              "</table>\n",
              "</div>\n",
              "    <div class=\"colab-df-buttons\">\n",
              "\n",
              "  <div class=\"colab-df-container\">\n",
              "    <button class=\"colab-df-convert\" onclick=\"convertToInteractive('df-822f38a7-21d2-48dd-a038-060a3510054c')\"\n",
              "            title=\"Convert this dataframe to an interactive table.\"\n",
              "            style=\"display:none;\">\n",
              "\n",
              "  <svg xmlns=\"http://www.w3.org/2000/svg\" height=\"24px\" viewBox=\"0 -960 960 960\">\n",
              "    <path d=\"M120-120v-720h720v720H120Zm60-500h600v-160H180v160Zm220 220h160v-160H400v160Zm0 220h160v-160H400v160ZM180-400h160v-160H180v160Zm440 0h160v-160H620v160ZM180-180h160v-160H180v160Zm440 0h160v-160H620v160Z\"/>\n",
              "  </svg>\n",
              "    </button>\n",
              "\n",
              "  <style>\n",
              "    .colab-df-container {\n",
              "      display:flex;\n",
              "      gap: 12px;\n",
              "    }\n",
              "\n",
              "    .colab-df-convert {\n",
              "      background-color: #E8F0FE;\n",
              "      border: none;\n",
              "      border-radius: 50%;\n",
              "      cursor: pointer;\n",
              "      display: none;\n",
              "      fill: #1967D2;\n",
              "      height: 32px;\n",
              "      padding: 0 0 0 0;\n",
              "      width: 32px;\n",
              "    }\n",
              "\n",
              "    .colab-df-convert:hover {\n",
              "      background-color: #E2EBFA;\n",
              "      box-shadow: 0px 1px 2px rgba(60, 64, 67, 0.3), 0px 1px 3px 1px rgba(60, 64, 67, 0.15);\n",
              "      fill: #174EA6;\n",
              "    }\n",
              "\n",
              "    .colab-df-buttons div {\n",
              "      margin-bottom: 4px;\n",
              "    }\n",
              "\n",
              "    [theme=dark] .colab-df-convert {\n",
              "      background-color: #3B4455;\n",
              "      fill: #D2E3FC;\n",
              "    }\n",
              "\n",
              "    [theme=dark] .colab-df-convert:hover {\n",
              "      background-color: #434B5C;\n",
              "      box-shadow: 0px 1px 3px 1px rgba(0, 0, 0, 0.15);\n",
              "      filter: drop-shadow(0px 1px 2px rgba(0, 0, 0, 0.3));\n",
              "      fill: #FFFFFF;\n",
              "    }\n",
              "  </style>\n",
              "\n",
              "    <script>\n",
              "      const buttonEl =\n",
              "        document.querySelector('#df-822f38a7-21d2-48dd-a038-060a3510054c button.colab-df-convert');\n",
              "      buttonEl.style.display =\n",
              "        google.colab.kernel.accessAllowed ? 'block' : 'none';\n",
              "\n",
              "      async function convertToInteractive(key) {\n",
              "        const element = document.querySelector('#df-822f38a7-21d2-48dd-a038-060a3510054c');\n",
              "        const dataTable =\n",
              "          await google.colab.kernel.invokeFunction('convertToInteractive',\n",
              "                                                    [key], {});\n",
              "        if (!dataTable) return;\n",
              "\n",
              "        const docLinkHtml = 'Like what you see? Visit the ' +\n",
              "          '<a target=\"_blank\" href=https://colab.research.google.com/notebooks/data_table.ipynb>data table notebook</a>'\n",
              "          + ' to learn more about interactive tables.';\n",
              "        element.innerHTML = '';\n",
              "        dataTable['output_type'] = 'display_data';\n",
              "        await google.colab.output.renderOutput(dataTable, element);\n",
              "        const docLink = document.createElement('div');\n",
              "        docLink.innerHTML = docLinkHtml;\n",
              "        element.appendChild(docLink);\n",
              "      }\n",
              "    </script>\n",
              "  </div>\n",
              "\n",
              "\n",
              "<div id=\"df-1c542b85-9bc0-4a59-84bc-fa8849bcca35\">\n",
              "  <button class=\"colab-df-quickchart\" onclick=\"quickchart('df-1c542b85-9bc0-4a59-84bc-fa8849bcca35')\"\n",
              "            title=\"Suggest charts.\"\n",
              "            style=\"display:none;\">\n",
              "\n",
              "<svg xmlns=\"http://www.w3.org/2000/svg\" height=\"24px\"viewBox=\"0 0 24 24\"\n",
              "     width=\"24px\">\n",
              "    <g>\n",
              "        <path d=\"M19 3H5c-1.1 0-2 .9-2 2v14c0 1.1.9 2 2 2h14c1.1 0 2-.9 2-2V5c0-1.1-.9-2-2-2zM9 17H7v-7h2v7zm4 0h-2V7h2v10zm4 0h-2v-4h2v4z\"/>\n",
              "    </g>\n",
              "</svg>\n",
              "  </button>\n",
              "\n",
              "<style>\n",
              "  .colab-df-quickchart {\n",
              "      --bg-color: #E8F0FE;\n",
              "      --fill-color: #1967D2;\n",
              "      --hover-bg-color: #E2EBFA;\n",
              "      --hover-fill-color: #174EA6;\n",
              "      --disabled-fill-color: #AAA;\n",
              "      --disabled-bg-color: #DDD;\n",
              "  }\n",
              "\n",
              "  [theme=dark] .colab-df-quickchart {\n",
              "      --bg-color: #3B4455;\n",
              "      --fill-color: #D2E3FC;\n",
              "      --hover-bg-color: #434B5C;\n",
              "      --hover-fill-color: #FFFFFF;\n",
              "      --disabled-bg-color: #3B4455;\n",
              "      --disabled-fill-color: #666;\n",
              "  }\n",
              "\n",
              "  .colab-df-quickchart {\n",
              "    background-color: var(--bg-color);\n",
              "    border: none;\n",
              "    border-radius: 50%;\n",
              "    cursor: pointer;\n",
              "    display: none;\n",
              "    fill: var(--fill-color);\n",
              "    height: 32px;\n",
              "    padding: 0;\n",
              "    width: 32px;\n",
              "  }\n",
              "\n",
              "  .colab-df-quickchart:hover {\n",
              "    background-color: var(--hover-bg-color);\n",
              "    box-shadow: 0 1px 2px rgba(60, 64, 67, 0.3), 0 1px 3px 1px rgba(60, 64, 67, 0.15);\n",
              "    fill: var(--button-hover-fill-color);\n",
              "  }\n",
              "\n",
              "  .colab-df-quickchart-complete:disabled,\n",
              "  .colab-df-quickchart-complete:disabled:hover {\n",
              "    background-color: var(--disabled-bg-color);\n",
              "    fill: var(--disabled-fill-color);\n",
              "    box-shadow: none;\n",
              "  }\n",
              "\n",
              "  .colab-df-spinner {\n",
              "    border: 2px solid var(--fill-color);\n",
              "    border-color: transparent;\n",
              "    border-bottom-color: var(--fill-color);\n",
              "    animation:\n",
              "      spin 1s steps(1) infinite;\n",
              "  }\n",
              "\n",
              "  @keyframes spin {\n",
              "    0% {\n",
              "      border-color: transparent;\n",
              "      border-bottom-color: var(--fill-color);\n",
              "      border-left-color: var(--fill-color);\n",
              "    }\n",
              "    20% {\n",
              "      border-color: transparent;\n",
              "      border-left-color: var(--fill-color);\n",
              "      border-top-color: var(--fill-color);\n",
              "    }\n",
              "    30% {\n",
              "      border-color: transparent;\n",
              "      border-left-color: var(--fill-color);\n",
              "      border-top-color: var(--fill-color);\n",
              "      border-right-color: var(--fill-color);\n",
              "    }\n",
              "    40% {\n",
              "      border-color: transparent;\n",
              "      border-right-color: var(--fill-color);\n",
              "      border-top-color: var(--fill-color);\n",
              "    }\n",
              "    60% {\n",
              "      border-color: transparent;\n",
              "      border-right-color: var(--fill-color);\n",
              "    }\n",
              "    80% {\n",
              "      border-color: transparent;\n",
              "      border-right-color: var(--fill-color);\n",
              "      border-bottom-color: var(--fill-color);\n",
              "    }\n",
              "    90% {\n",
              "      border-color: transparent;\n",
              "      border-bottom-color: var(--fill-color);\n",
              "    }\n",
              "  }\n",
              "</style>\n",
              "\n",
              "  <script>\n",
              "    async function quickchart(key) {\n",
              "      const quickchartButtonEl =\n",
              "        document.querySelector('#' + key + ' button');\n",
              "      quickchartButtonEl.disabled = true;  // To prevent multiple clicks.\n",
              "      quickchartButtonEl.classList.add('colab-df-spinner');\n",
              "      try {\n",
              "        const charts = await google.colab.kernel.invokeFunction(\n",
              "            'suggestCharts', [key], {});\n",
              "      } catch (error) {\n",
              "        console.error('Error during call to suggestCharts:', error);\n",
              "      }\n",
              "      quickchartButtonEl.classList.remove('colab-df-spinner');\n",
              "      quickchartButtonEl.classList.add('colab-df-quickchart-complete');\n",
              "    }\n",
              "    (() => {\n",
              "      let quickchartButtonEl =\n",
              "        document.querySelector('#df-1c542b85-9bc0-4a59-84bc-fa8849bcca35 button');\n",
              "      quickchartButtonEl.style.display =\n",
              "        google.colab.kernel.accessAllowed ? 'block' : 'none';\n",
              "    })();\n",
              "  </script>\n",
              "</div>\n",
              "    </div>\n",
              "  </div>\n"
            ]
          },
          "metadata": {},
          "execution_count": 7
        }
      ]
    },
    {
      "cell_type": "code",
      "source": [
        "sehwag[\"Runs\"].describe()     # We are handling only the \"Runs\" column in this dataset"
      ],
      "metadata": {
        "colab": {
          "base_uri": "https://localhost:8080/"
        },
        "id": "UQebto9ia2RG",
        "outputId": "ce580778-7170-449e-d290-313306765f85"
      },
      "execution_count": null,
      "outputs": [
        {
          "output_type": "execute_result",
          "data": {
            "text/plain": [
              "count    245.000000\n",
              "mean      33.767347\n",
              "std       34.809419\n",
              "min        0.000000\n",
              "25%        8.000000\n",
              "50%       23.000000\n",
              "75%       46.000000\n",
              "max      219.000000\n",
              "Name: Runs, dtype: float64"
            ]
          },
          "metadata": {},
          "execution_count": 8
        }
      ]
    },
    {
      "cell_type": "markdown",
      "source": [
        "### **Calculating Percentiles (25th, 50th `(Median)`, 75th) / Quartiles (Q1, Q2, Q3)**\n",
        "\n",
        "> **`Approach (1):` np.percentile()**\n",
        "\n",
        "> **`Approach (2):` dataset[col].quantile()**"
      ],
      "metadata": {
        "id": "vzsXFK_Qc0sz"
      }
    },
    {
      "cell_type": "code",
      "source": [
        "# Approach (1)"
      ],
      "metadata": {
        "id": "vFGA8_Q_cPPd"
      },
      "execution_count": null,
      "outputs": []
    },
    {
      "cell_type": "code",
      "source": [
        "perc_25 = np.percentile(sehwag[\"Runs\"], 25)\n",
        "perc_25"
      ],
      "metadata": {
        "colab": {
          "base_uri": "https://localhost:8080/"
        },
        "id": "IkCBis26a-Mv",
        "outputId": "9f74d06f-d411-44cd-caea-4f9148e9c4f8"
      },
      "execution_count": null,
      "outputs": [
        {
          "output_type": "execute_result",
          "data": {
            "text/plain": [
              "8.0"
            ]
          },
          "metadata": {},
          "execution_count": 10
        }
      ]
    },
    {
      "cell_type": "code",
      "source": [
        "perc_50 = np.percentile(sehwag[\"Runs\"], 50)\n",
        "perc_50"
      ],
      "metadata": {
        "colab": {
          "base_uri": "https://localhost:8080/"
        },
        "id": "4LZpyi6dbRAf",
        "outputId": "b05958c5-8cc5-4b12-8c66-1e12ef3a607b"
      },
      "execution_count": null,
      "outputs": [
        {
          "output_type": "execute_result",
          "data": {
            "text/plain": [
              "23.0"
            ]
          },
          "metadata": {},
          "execution_count": 11
        }
      ]
    },
    {
      "cell_type": "code",
      "source": [
        "perc_75 = np.percentile(sehwag[\"Runs\"], 75)\n",
        "perc_75"
      ],
      "metadata": {
        "colab": {
          "base_uri": "https://localhost:8080/"
        },
        "id": "-IKvWN0nbXz3",
        "outputId": "c451678c-5cf0-4af3-f418-48db3d643057"
      },
      "execution_count": null,
      "outputs": [
        {
          "output_type": "execute_result",
          "data": {
            "text/plain": [
              "46.0"
            ]
          },
          "metadata": {},
          "execution_count": 12
        }
      ]
    },
    {
      "cell_type": "code",
      "source": [
        "# Approach (2)"
      ],
      "metadata": {
        "id": "W3eLmeQtcJpv"
      },
      "execution_count": null,
      "outputs": []
    },
    {
      "cell_type": "code",
      "source": [
        "p_25 = sehwag[\"Runs\"].quantile(0.25)      # Q1 or p_25\n",
        "p_50 = sehwag[\"Runs\"].quantile(0.5)       # Q2 or p_50 or median\n",
        "p_75 = sehwag[\"Runs\"].quantile(0.75)      # Q3 or p_75\n",
        "print(p_25, p_50, p_75)"
      ],
      "metadata": {
        "colab": {
          "base_uri": "https://localhost:8080/"
        },
        "id": "CcvaiwBrcSPX",
        "outputId": "46bc5c50-cb4c-427c-bf36-75d95ba45c2e"
      },
      "execution_count": null,
      "outputs": [
        {
          "output_type": "stream",
          "name": "stdout",
          "text": [
            "8.0 23.0 46.0\n"
          ]
        }
      ]
    },
    {
      "cell_type": "markdown",
      "source": [
        "### **Calculating IQR (Interquartile Range)**"
      ],
      "metadata": {
        "id": "KVbEnVaqc9Y5"
      }
    },
    {
      "cell_type": "code",
      "source": [
        "iqr = p_75 - p_25\n",
        "iqr"
      ],
      "metadata": {
        "colab": {
          "base_uri": "https://localhost:8080/"
        },
        "id": "uzUKJOG5chHY",
        "outputId": "ecefee86-627b-45c3-d77a-14da45133df6"
      },
      "execution_count": null,
      "outputs": [
        {
          "output_type": "execute_result",
          "data": {
            "text/plain": [
              "38.0"
            ]
          },
          "metadata": {},
          "execution_count": 24
        }
      ]
    },
    {
      "cell_type": "markdown",
      "source": [
        "### **Creating Data visualization (Box plots) for Percentiles & Quartiles**"
      ],
      "metadata": {
        "id": "h3govwCDe6Ta"
      }
    },
    {
      "cell_type": "code",
      "source": [
        "sns.boxplot(data = sehwag[\"Runs\"], orient = \"h\")"
      ],
      "metadata": {
        "colab": {
          "base_uri": "https://localhost:8080/",
          "height": 448
        },
        "id": "8RmdEwW5cxgP",
        "outputId": "798b5282-e707-41c8-e8ac-dba6abf7d829"
      },
      "execution_count": null,
      "outputs": [
        {
          "output_type": "execute_result",
          "data": {
            "text/plain": [
              "<Axes: >"
            ]
          },
          "metadata": {},
          "execution_count": 16
        },
        {
          "output_type": "display_data",
          "data": {
            "text/plain": [
              "<Figure size 640x480 with 1 Axes>"
            ],
            "image/png": "[encoded data removed]"
          },
          "metadata": {}
        }
      ]
    },
    {
      "cell_type": "markdown",
      "source": [
        "### **Calculating the max (i.e. upper boundary) & min (i.e. lower boundary) points**\n",
        "\n",
        "- **upper_bound = min(actual_max, 75_percentile + 1.5*IQR)**\n",
        "- **lower_bound = max(0, 25_percentile - 1.5*IQR)**"
      ],
      "metadata": {
        "id": "Kzxm4gPpfwBs"
      }
    },
    {
      "cell_type": "code",
      "source": [
        "lower = p_25 - 1.5*iqr\n",
        "lower"
      ],
      "metadata": {
        "id": "2KlrIwBcTEyC",
        "outputId": "3c9c8ff8-ba4d-4e89-9a45-c817025e66b4",
        "colab": {
          "base_uri": "https://localhost:8080/"
        }
      },
      "execution_count": null,
      "outputs": [
        {
          "output_type": "execute_result",
          "data": {
            "text/plain": [
              "-49.0"
            ]
          },
          "metadata": {},
          "execution_count": 25
        }
      ]
    },
    {
      "cell_type": "code",
      "source": [
        "lower = max(0, p_25 - 1.5*iqr)    # since there is no negative marks in crisket, let's keep the maximum lower value as 0\n",
        "lower"
      ],
      "metadata": {
        "colab": {
          "base_uri": "https://localhost:8080/"
        },
        "id": "s7ZtDdrGfLVf",
        "outputId": "4eb35c5d-7e9e-4b81-d588-01ea2ffa3fd2"
      },
      "execution_count": null,
      "outputs": [
        {
          "output_type": "execute_result",
          "data": {
            "text/plain": [
              "0"
            ]
          },
          "metadata": {},
          "execution_count": 26
        }
      ]
    },
    {
      "cell_type": "code",
      "source": [
        "upper = p_75 + 1.5 * iqr      # easier code since we know the 75% percentile\n",
        "upper"
      ],
      "metadata": {
        "colab": {
          "base_uri": "https://localhost:8080/"
        },
        "id": "r9kH4VpXh_Lp",
        "outputId": "8a0f9083-cc14-43e3-9fb7-3485016077af"
      },
      "execution_count": null,
      "outputs": [
        {
          "output_type": "execute_result",
          "data": {
            "text/plain": [
              "103.0"
            ]
          },
          "metadata": {},
          "execution_count": 18
        }
      ]
    },
    {
      "cell_type": "code",
      "source": [
        "upper2 = min(max(sehwag[\"Runs\"]), p_75 + 1.5 * iqr)\n",
        "upper2"
      ],
      "metadata": {
        "colab": {
          "base_uri": "https://localhost:8080/"
        },
        "id": "hFS3oK1NhQnN",
        "outputId": "3dcf4b3a-adf2-49e1-c3b9-353aa5b8bc3d"
      },
      "execution_count": null,
      "outputs": [
        {
          "output_type": "execute_result",
          "data": {
            "text/plain": [
              "103.0"
            ]
          },
          "metadata": {},
          "execution_count": 19
        }
      ]
    },
    {
      "cell_type": "code",
      "source": [
        "print(f\"lower: {lower} \\nupper: {upper}\")"
      ],
      "metadata": {
        "colab": {
          "base_uri": "https://localhost:8080/"
        },
        "id": "GK11cvDPiJ-W",
        "outputId": "443d183e-30dc-43e8-9768-181f0dec79f5"
      },
      "execution_count": null,
      "outputs": [
        {
          "output_type": "stream",
          "name": "stdout",
          "text": [
            "lower: 0 \n",
            "upper: 103.0\n"
          ]
        }
      ]
    },
    {
      "cell_type": "markdown",
      "source": [
        "### **Calculating the % of data which is above the upper_bound (i.e. outliers)**\n"
      ],
      "metadata": {
        "id": "Vk9o_dCrixnz"
      }
    },
    {
      "cell_type": "code",
      "source": [
        "sehwag_outlier = sehwag[sehwag['Runs'] > upper]      # Masking"
      ],
      "metadata": {
        "id": "DIt2vIGuipSp"
      },
      "execution_count": null,
      "outputs": []
    },
    {
      "cell_type": "code",
      "source": [
        "len(sehwag_outlier)       # Number of Outliers"
      ],
      "metadata": {
        "colab": {
          "base_uri": "https://localhost:8080/"
        },
        "id": "2KdxzJadjUOu",
        "outputId": "279290d1-067f-437a-b248-918774ccc492"
      },
      "execution_count": null,
      "outputs": [
        {
          "output_type": "execute_result",
          "data": {
            "text/plain": [
              "14"
            ]
          },
          "metadata": {},
          "execution_count": 22
        }
      ]
    },
    {
      "cell_type": "code",
      "source": [
        "(14/245)*100          # % of Outliers"
      ],
      "metadata": {
        "colab": {
          "base_uri": "https://localhost:8080/"
        },
        "id": "BKloydXGjX--",
        "outputId": "88325fa8-6d84-4b11-82be-e02ec6478b50"
      },
      "execution_count": null,
      "outputs": [
        {
          "output_type": "execute_result",
          "data": {
            "text/plain": [
              "5.714285714285714"
            ]
          },
          "metadata": {},
          "execution_count": 23
        }
      ]
    },
    {
      "cell_type": "code",
      "source": [],
      "metadata": {
        "id": "Fc0Z6hR1m_8W"
      },
      "execution_count": null,
      "outputs": []
    },
    {
      "cell_type": "code",
      "source": [],
      "metadata": {
        "id": "BM_2_jE1m_5Y"
      },
      "execution_count": null,
      "outputs": []
    },
    {
      "cell_type": "markdown",
      "source": [
        "## **(2) Now let's handle dravid.csv `(NOTE: Same code steps as previous)`**"
      ],
      "metadata": {
        "id": "JyUVGmBcjxZc"
      }
    },
    {
      "cell_type": "code",
      "source": [
        "dravid.shape"
      ],
      "metadata": {
        "colab": {
          "base_uri": "https://localhost:8080/"
        },
        "id": "2IElvrIHfmEF",
        "outputId": "627f1e96-4aa7-436f-df72-a674c9221ec3"
      },
      "execution_count": null,
      "outputs": [
        {
          "output_type": "execute_result",
          "data": {
            "text/plain": [
              "(318, 14)"
            ]
          },
          "metadata": {},
          "execution_count": 24
        }
      ]
    },
    {
      "cell_type": "code",
      "source": [
        "dravid[\"Runs\"].describe()"
      ],
      "metadata": {
        "colab": {
          "base_uri": "https://localhost:8080/"
        },
        "id": "0L7QMVrgj58x",
        "outputId": "75754eba-cbc7-4ffb-cf76-67f3935149f4"
      },
      "execution_count": null,
      "outputs": [
        {
          "output_type": "execute_result",
          "data": {
            "text/plain": [
              "count    318.000000\n",
              "mean      34.242138\n",
              "std       29.681822\n",
              "min        0.000000\n",
              "25%       10.000000\n",
              "50%       26.000000\n",
              "75%       54.000000\n",
              "max      153.000000\n",
              "Name: Runs, dtype: float64"
            ]
          },
          "metadata": {},
          "execution_count": 25
        }
      ]
    },
    {
      "cell_type": "markdown",
      "source": [
        "**Calculating Percentiles (25th, 50th (Median), 75th) / Quartiles (Q1, Q2, Q3)**"
      ],
      "metadata": {
        "id": "VGxldY5-lPpY"
      }
    },
    {
      "cell_type": "code",
      "source": [
        "p_25 = np.percentile(dravid[\"Runs\"], 25)\n",
        "p_25"
      ],
      "metadata": {
        "colab": {
          "base_uri": "https://localhost:8080/"
        },
        "id": "KVRowRSqkC8Z",
        "outputId": "ba5e28c2-6b43-4093-c685-6b225dd9ff83"
      },
      "execution_count": null,
      "outputs": [
        {
          "output_type": "execute_result",
          "data": {
            "text/plain": [
              "10.0"
            ]
          },
          "metadata": {},
          "execution_count": 26
        }
      ]
    },
    {
      "cell_type": "code",
      "source": [
        "p_50 = np.percentile(dravid[\"Runs\"], 50)\n",
        "p_50"
      ],
      "metadata": {
        "colab": {
          "base_uri": "https://localhost:8080/"
        },
        "id": "M6kwWhU1ksyn",
        "outputId": "91aa6da2-b0b6-4d14-b501-8c27facc6d79"
      },
      "execution_count": null,
      "outputs": [
        {
          "output_type": "execute_result",
          "data": {
            "text/plain": [
              "26.0"
            ]
          },
          "metadata": {},
          "execution_count": 27
        }
      ]
    },
    {
      "cell_type": "code",
      "source": [
        "p_75 = np.percentile(dravid[\"Runs\"], 75)\n",
        "p_75"
      ],
      "metadata": {
        "colab": {
          "base_uri": "https://localhost:8080/"
        },
        "id": "dypCvCrpk3NI",
        "outputId": "b77c1e35-adba-440e-e0a0-697e75731022"
      },
      "execution_count": null,
      "outputs": [
        {
          "output_type": "execute_result",
          "data": {
            "text/plain": [
              "54.0"
            ]
          },
          "metadata": {},
          "execution_count": 28
        }
      ]
    },
    {
      "cell_type": "markdown",
      "source": [
        "**Calculating IQR (Interquartile Range)**"
      ],
      "metadata": {
        "id": "uZp-l80WlMI2"
      }
    },
    {
      "cell_type": "code",
      "source": [
        "iqr = p_75 - p_25\n",
        "iqr"
      ],
      "metadata": {
        "colab": {
          "base_uri": "https://localhost:8080/"
        },
        "id": "MrW-rC2RlHWH",
        "outputId": "032b0c02-4ec9-4433-9c80-5f2a245b5a19"
      },
      "execution_count": null,
      "outputs": [
        {
          "output_type": "execute_result",
          "data": {
            "text/plain": [
              "44.0"
            ]
          },
          "metadata": {},
          "execution_count": 29
        }
      ]
    },
    {
      "cell_type": "markdown",
      "source": [
        "**Creating Data visualization (Box plots) for Percentiles & Quartiles**"
      ],
      "metadata": {
        "id": "r64Gbyn_lH1b"
      }
    },
    {
      "cell_type": "code",
      "source": [
        "sns.boxplot(data = dravid[\"Runs\"], orient = \"h\")"
      ],
      "metadata": {
        "colab": {
          "base_uri": "https://localhost:8080/",
          "height": 448
        },
        "id": "VMQLc49Fk3KB",
        "outputId": "8dc0a925-5a7a-4c65-fb18-582bedd4b895"
      },
      "execution_count": null,
      "outputs": [
        {
          "output_type": "execute_result",
          "data": {
            "text/plain": [
              "<Axes: >"
            ]
          },
          "metadata": {},
          "execution_count": 30
        },
        {
          "output_type": "display_data",
          "data": {
            "text/plain": [
              "<Figure size 640x480 with 1 Axes>"
            ],
            "image/png": "[encoded data removed]"
          },
          "metadata": {}
        }
      ]
    },
    {
      "cell_type": "markdown",
      "source": [
        "**Calculating the max (i.e. upper boundary) & min (i.e. lower boundary) points**"
      ],
      "metadata": {
        "id": "yuZImG_xlEZf"
      }
    },
    {
      "cell_type": "code",
      "source": [
        "lower = max(0, p_25 - 1.5 * iqr)\n",
        "lower"
      ],
      "metadata": {
        "colab": {
          "base_uri": "https://localhost:8080/"
        },
        "id": "5aHv2OqklABS",
        "outputId": "4789a166-ea21-4911-99c7-b8416bca4b26"
      },
      "execution_count": null,
      "outputs": [
        {
          "output_type": "execute_result",
          "data": {
            "text/plain": [
              "0"
            ]
          },
          "metadata": {},
          "execution_count": 31
        }
      ]
    },
    {
      "cell_type": "code",
      "source": [
        "upper = p_75 + 1.5 * iqr\n",
        "upper"
      ],
      "metadata": {
        "colab": {
          "base_uri": "https://localhost:8080/"
        },
        "id": "9ZSdUPEwmAvS",
        "outputId": "b60817d5-788c-401b-d05e-e4daf333c113"
      },
      "execution_count": null,
      "outputs": [
        {
          "output_type": "execute_result",
          "data": {
            "text/plain": [
              "120.0"
            ]
          },
          "metadata": {},
          "execution_count": 32
        }
      ]
    },
    {
      "cell_type": "code",
      "source": [
        "print(f\"lower: {lower}, \\nupper: {upper}\")"
      ],
      "metadata": {
        "colab": {
          "base_uri": "https://localhost:8080/"
        },
        "id": "jhhldF_hmSen",
        "outputId": "324777ec-5d1c-497b-deb6-06db17c5c8a6"
      },
      "execution_count": null,
      "outputs": [
        {
          "output_type": "stream",
          "name": "stdout",
          "text": [
            "lower: 0, \n",
            "upper: 120.0\n"
          ]
        }
      ]
    },
    {
      "cell_type": "markdown",
      "source": [
        "**Calculating the % of data which is above the upper_bound (i.e. outliers)**"
      ],
      "metadata": {
        "id": "dMwBQRfnmIow"
      }
    },
    {
      "cell_type": "code",
      "source": [
        "dravid_outlier = dravid[dravid['Runs'] > upper]      # Masking"
      ],
      "metadata": {
        "id": "Gwj9_-QTmF9K"
      },
      "execution_count": null,
      "outputs": []
    },
    {
      "cell_type": "code",
      "source": [
        "len(dravid_outlier)       # Number of outliers"
      ],
      "metadata": {
        "colab": {
          "base_uri": "https://localhost:8080/"
        },
        "id": "fZn1D1gXmdUZ",
        "outputId": "c9ef35fc-473a-4f27-944d-058e0dcd2fef"
      },
      "execution_count": null,
      "outputs": [
        {
          "output_type": "execute_result",
          "data": {
            "text/plain": [
              "3"
            ]
          },
          "metadata": {},
          "execution_count": 35
        }
      ]
    },
    {
      "cell_type": "code",
      "source": [
        "(3 / 318) * 100       # % of Outliers"
      ],
      "metadata": {
        "colab": {
          "base_uri": "https://localhost:8080/"
        },
        "id": "l4FArI0smg9x",
        "outputId": "55755004-b453-4b54-9da7-a932068ce7c5"
      },
      "execution_count": null,
      "outputs": [
        {
          "output_type": "execute_result",
          "data": {
            "text/plain": [
              "0.9433962264150944"
            ]
          },
          "metadata": {},
          "execution_count": 36
        }
      ]
    },
    {
      "cell_type": "code",
      "source": [],
      "metadata": {
        "id": "ZLS_LP3_mm1i"
      },
      "execution_count": null,
      "outputs": []
    },
    {
      "cell_type": "code",
      "source": [],
      "metadata": {
        "id": "n_H1XvPRm3vs"
      },
      "execution_count": null,
      "outputs": []
    },
    {
      "cell_type": "markdown",
      "source": [
        "## **(3) Let's work on weight-height.csv**"
      ],
      "metadata": {
        "id": "Be3CFVxcm4KU"
      }
    },
    {
      "cell_type": "code",
      "source": [
        "df_hw = pd.read_csv(\"weight-height.csv\")\n",
        "df_hw"
      ],
      "metadata": {
        "colab": {
          "base_uri": "https://localhost:8080/",
          "height": 423
        },
        "id": "MIvYnltQm3On",
        "outputId": "4266aa74-f993-4564-812a-a2c5539c76be"
      },
      "execution_count": null,
      "outputs": [
        {
          "output_type": "execute_result",
          "data": {
            "text/plain": [
              "      Gender     Height      Weight\n",
              "0       Male  73.847017  241.893563\n",
              "1       Male  68.781904  162.310473\n",
              "2       Male  74.110105  212.740856\n",
              "3       Male  71.730978  220.042470\n",
              "4       Male  69.881796  206.349801\n",
              "...      ...        ...         ...\n",
              "9995  Female  66.172652  136.777454\n",
              "9996  Female  67.067155  170.867906\n",
              "9997  Female  63.867992  128.475319\n",
              "9998  Female  69.034243  163.852461\n",
              "9999  Female  61.944246  113.649103\n",
              "\n",
              "[10000 rows x 3 columns]"
            ],
            "text/html": [
              "\n",
              "  <div id=\"df-da984acb-7aa7-4bb1-b4b3-0d3038edc2f2\" class=\"colab-df-container\">\n",
              "    <div>\n",
              "<style scoped>\n",
              "    .dataframe tbody tr th:only-of-type {\n",
              "        vertical-align: middle;\n",
              "    }\n",
              "\n",
              "    .dataframe tbody tr th {\n",
              "        vertical-align: top;\n",
              "    }\n",
              "\n",
              "    .dataframe thead th {\n",
              "        text-align: right;\n",
              "    }\n",
              "</style>\n",
              "<table border=\"1\" class=\"dataframe\">\n",
              "  <thead>\n",
              "    <tr style=\"text-align: right;\">\n",
              "      <th></th>\n",
              "      <th>Gender</th>\n",
              "      <th>Height</th>\n",
              "      <th>Weight</th>\n",
              "    </tr>\n",
              "  </thead>\n",
              "  <tbody>\n",
              "    <tr>\n",
              "      <th>0</th>\n",
              "      <td>Male</td>\n",
              "      <td>73.847017</td>\n",
              "      <td>241.893563</td>\n",
              "    </tr>\n",
              "    <tr>\n",
              "      <th>1</th>\n",
              "      <td>Male</td>\n",
              "      <td>68.781904</td>\n",
              "      <td>162.310473</td>\n",
              "    </tr>\n",
              "    <tr>\n",
              "      <th>2</th>\n",
              "      <td>Male</td>\n",
              "      <td>74.110105</td>\n",
              "      <td>212.740856</td>\n",
              "    </tr>\n",
              "    <tr>\n",
              "      <th>3</th>\n",
              "      <td>Male</td>\n",
              "      <td>71.730978</td>\n",
              "      <td>220.042470</td>\n",
              "    </tr>\n",
              "    <tr>\n",
              "      <th>4</th>\n",
              "      <td>Male</td>\n",
              "      <td>69.881796</td>\n",
              "      <td>206.349801</td>\n",
              "    </tr>\n",
              "    <tr>\n",
              "      <th>...</th>\n",
              "      <td>...</td>\n",
              "      <td>...</td>\n",
              "      <td>...</td>\n",
              "    </tr>\n",
              "    <tr>\n",
              "      <th>9995</th>\n",
              "      <td>Female</td>\n",
              "      <td>66.172652</td>\n",
              "      <td>136.777454</td>\n",
              "    </tr>\n",
              "    <tr>\n",
              "      <th>9996</th>\n",
              "      <td>Female</td>\n",
              "      <td>67.067155</td>\n",
              "      <td>170.867906</td>\n",
              "    </tr>\n",
              "    <tr>\n",
              "      <th>9997</th>\n",
              "      <td>Female</td>\n",
              "      <td>63.867992</td>\n",
              "      <td>128.475319</td>\n",
              "    </tr>\n",
              "    <tr>\n",
              "      <th>9998</th>\n",
              "      <td>Female</td>\n",
              "      <td>69.034243</td>\n",
              "      <td>163.852461</td>\n",
              "    </tr>\n",
              "    <tr>\n",
              "      <th>9999</th>\n",
              "      <td>Female</td>\n",
              "      <td>61.944246</td>\n",
              "      <td>113.649103</td>\n",
              "    </tr>\n",
              "  </tbody>\n",
              "</table>\n",
              "<p>10000 rows × 3 columns</p>\n",
              "</div>\n",
              "    <div class=\"colab-df-buttons\">\n",
              "\n",
              "  <div class=\"colab-df-container\">\n",
              "    <button class=\"colab-df-convert\" onclick=\"convertToInteractive('df-da984acb-7aa7-4bb1-b4b3-0d3038edc2f2')\"\n",
              "            title=\"Convert this dataframe to an interactive table.\"\n",
              "            style=\"display:none;\">\n",
              "\n",
              "  <svg xmlns=\"http://www.w3.org/2000/svg\" height=\"24px\" viewBox=\"0 -960 960 960\">\n",
              "    <path d=\"M120-120v-720h720v720H120Zm60-500h600v-160H180v160Zm220 220h160v-160H400v160Zm0 220h160v-160H400v160ZM180-400h160v-160H180v160Zm440 0h160v-160H620v160ZM180-180h160v-160H180v160Zm440 0h160v-160H620v160Z\"/>\n",
              "  </svg>\n",
              "    </button>\n",
              "\n",
              "  <style>\n",
              "    .colab-df-container {\n",
              "      display:flex;\n",
              "      gap: 12px;\n",
              "    }\n",
              "\n",
              "    .colab-df-convert {\n",
              "      background-color: #E8F0FE;\n",
              "      border: none;\n",
              "      border-radius: 50%;\n",
              "      cursor: pointer;\n",
              "      display: none;\n",
              "      fill: #1967D2;\n",
              "      height: 32px;\n",
              "      padding: 0 0 0 0;\n",
              "      width: 32px;\n",
              "    }\n",
              "\n",
              "    .colab-df-convert:hover {\n",
              "      background-color: #E2EBFA;\n",
              "      box-shadow: 0px 1px 2px rgba(60, 64, 67, 0.3), 0px 1px 3px 1px rgba(60, 64, 67, 0.15);\n",
              "      fill: #174EA6;\n",
              "    }\n",
              "\n",
              "    .colab-df-buttons div {\n",
              "      margin-bottom: 4px;\n",
              "    }\n",
              "\n",
              "    [theme=dark] .colab-df-convert {\n",
              "      background-color: #3B4455;\n",
              "      fill: #D2E3FC;\n",
              "    }\n",
              "\n",
              "    [theme=dark] .colab-df-convert:hover {\n",
              "      background-color: #434B5C;\n",
              "      box-shadow: 0px 1px 3px 1px rgba(0, 0, 0, 0.15);\n",
              "      filter: drop-shadow(0px 1px 2px rgba(0, 0, 0, 0.3));\n",
              "      fill: #FFFFFF;\n",
              "    }\n",
              "  </style>\n",
              "\n",
              "    <script>\n",
              "      const buttonEl =\n",
              "        document.querySelector('#df-da984acb-7aa7-4bb1-b4b3-0d3038edc2f2 button.colab-df-convert');\n",
              "      buttonEl.style.display =\n",
              "        google.colab.kernel.accessAllowed ? 'block' : 'none';\n",
              "\n",
              "      async function convertToInteractive(key) {\n",
              "        const element = document.querySelector('#df-da984acb-7aa7-4bb1-b4b3-0d3038edc2f2');\n",
              "        const dataTable =\n",
              "          await google.colab.kernel.invokeFunction('convertToInteractive',\n",
              "                                                    [key], {});\n",
              "        if (!dataTable) return;\n",
              "\n",
              "        const docLinkHtml = 'Like what you see? Visit the ' +\n",
              "          '<a target=\"_blank\" href=https://colab.research.google.com/notebooks/data_table.ipynb>data table notebook</a>'\n",
              "          + ' to learn more about interactive tables.';\n",
              "        element.innerHTML = '';\n",
              "        dataTable['output_type'] = 'display_data';\n",
              "        await google.colab.output.renderOutput(dataTable, element);\n",
              "        const docLink = document.createElement('div');\n",
              "        docLink.innerHTML = docLinkHtml;\n",
              "        element.appendChild(docLink);\n",
              "      }\n",
              "    </script>\n",
              "  </div>\n",
              "\n",
              "\n",
              "<div id=\"df-12c25fcb-e8ea-441a-b9e4-14d794dfe65a\">\n",
              "  <button class=\"colab-df-quickchart\" onclick=\"quickchart('df-12c25fcb-e8ea-441a-b9e4-14d794dfe65a')\"\n",
              "            title=\"Suggest charts.\"\n",
              "            style=\"display:none;\">\n",
              "\n",
              "<svg xmlns=\"http://www.w3.org/2000/svg\" height=\"24px\"viewBox=\"0 0 24 24\"\n",
              "     width=\"24px\">\n",
              "    <g>\n",
              "        <path d=\"M19 3H5c-1.1 0-2 .9-2 2v14c0 1.1.9 2 2 2h14c1.1 0 2-.9 2-2V5c0-1.1-.9-2-2-2zM9 17H7v-7h2v7zm4 0h-2V7h2v10zm4 0h-2v-4h2v4z\"/>\n",
              "    </g>\n",
              "</svg>\n",
              "  </button>\n",
              "\n",
              "<style>\n",
              "  .colab-df-quickchart {\n",
              "      --bg-color: #E8F0FE;\n",
              "      --fill-color: #1967D2;\n",
              "      --hover-bg-color: #E2EBFA;\n",
              "      --hover-fill-color: #174EA6;\n",
              "      --disabled-fill-color: #AAA;\n",
              "      --disabled-bg-color: #DDD;\n",
              "  }\n",
              "\n",
              "  [theme=dark] .colab-df-quickchart {\n",
              "      --bg-color: #3B4455;\n",
              "      --fill-color: #D2E3FC;\n",
              "      --hover-bg-color: #434B5C;\n",
              "      --hover-fill-color: #FFFFFF;\n",
              "      --disabled-bg-color: #3B4455;\n",
              "      --disabled-fill-color: #666;\n",
              "  }\n",
              "\n",
              "  .colab-df-quickchart {\n",
              "    background-color: var(--bg-color);\n",
              "    border: none;\n",
              "    border-radius: 50%;\n",
              "    cursor: pointer;\n",
              "    display: none;\n",
              "    fill: var(--fill-color);\n",
              "    height: 32px;\n",
              "    padding: 0;\n",
              "    width: 32px;\n",
              "  }\n",
              "\n",
              "  .colab-df-quickchart:hover {\n",
              "    background-color: var(--hover-bg-color);\n",
              "    box-shadow: 0 1px 2px rgba(60, 64, 67, 0.3), 0 1px 3px 1px rgba(60, 64, 67, 0.15);\n",
              "    fill: var(--button-hover-fill-color);\n",
              "  }\n",
              "\n",
              "  .colab-df-quickchart-complete:disabled,\n",
              "  .colab-df-quickchart-complete:disabled:hover {\n",
              "    background-color: var(--disabled-bg-color);\n",
              "    fill: var(--disabled-fill-color);\n",
              "    box-shadow: none;\n",
              "  }\n",
              "\n",
              "  .colab-df-spinner {\n",
              "    border: 2px solid var(--fill-color);\n",
              "    border-color: transparent;\n",
              "    border-bottom-color: var(--fill-color);\n",
              "    animation:\n",
              "      spin 1s steps(1) infinite;\n",
              "  }\n",
              "\n",
              "  @keyframes spin {\n",
              "    0% {\n",
              "      border-color: transparent;\n",
              "      border-bottom-color: var(--fill-color);\n",
              "      border-left-color: var(--fill-color);\n",
              "    }\n",
              "    20% {\n",
              "      border-color: transparent;\n",
              "      border-left-color: var(--fill-color);\n",
              "      border-top-color: var(--fill-color);\n",
              "    }\n",
              "    30% {\n",
              "      border-color: transparent;\n",
              "      border-left-color: var(--fill-color);\n",
              "      border-top-color: var(--fill-color);\n",
              "      border-right-color: var(--fill-color);\n",
              "    }\n",
              "    40% {\n",
              "      border-color: transparent;\n",
              "      border-right-color: var(--fill-color);\n",
              "      border-top-color: var(--fill-color);\n",
              "    }\n",
              "    60% {\n",
              "      border-color: transparent;\n",
              "      border-right-color: var(--fill-color);\n",
              "    }\n",
              "    80% {\n",
              "      border-color: transparent;\n",
              "      border-right-color: var(--fill-color);\n",
              "      border-bottom-color: var(--fill-color);\n",
              "    }\n",
              "    90% {\n",
              "      border-color: transparent;\n",
              "      border-bottom-color: var(--fill-color);\n",
              "    }\n",
              "  }\n",
              "</style>\n",
              "\n",
              "  <script>\n",
              "    async function quickchart(key) {\n",
              "      const quickchartButtonEl =\n",
              "        document.querySelector('#' + key + ' button');\n",
              "      quickchartButtonEl.disabled = true;  // To prevent multiple clicks.\n",
              "      quickchartButtonEl.classList.add('colab-df-spinner');\n",
              "      try {\n",
              "        const charts = await google.colab.kernel.invokeFunction(\n",
              "            'suggestCharts', [key], {});\n",
              "      } catch (error) {\n",
              "        console.error('Error during call to suggestCharts:', error);\n",
              "      }\n",
              "      quickchartButtonEl.classList.remove('colab-df-spinner');\n",
              "      quickchartButtonEl.classList.add('colab-df-quickchart-complete');\n",
              "    }\n",
              "    (() => {\n",
              "      let quickchartButtonEl =\n",
              "        document.querySelector('#df-12c25fcb-e8ea-441a-b9e4-14d794dfe65a button');\n",
              "      quickchartButtonEl.style.display =\n",
              "        google.colab.kernel.accessAllowed ? 'block' : 'none';\n",
              "    })();\n",
              "  </script>\n",
              "</div>\n",
              "    </div>\n",
              "  </div>\n"
            ]
          },
          "metadata": {},
          "execution_count": 35
        }
      ]
    },
    {
      "cell_type": "code",
      "source": [
        "df_hw[\"Height\"].describe()    # inch"
      ],
      "metadata": {
        "colab": {
          "base_uri": "https://localhost:8080/"
        },
        "id": "-VbqGZs2nVnQ",
        "outputId": "32346571-25ab-42d0-f740-683e486654ae"
      },
      "execution_count": null,
      "outputs": [
        {
          "output_type": "execute_result",
          "data": {
            "text/plain": [
              "count    10000.000000\n",
              "mean        66.367560\n",
              "std          3.847528\n",
              "min         54.263133\n",
              "25%         63.505620\n",
              "50%         66.318070\n",
              "75%         69.174262\n",
              "max         78.998742\n",
              "Name: Height, dtype: float64"
            ]
          },
          "metadata": {},
          "execution_count": 36
        }
      ]
    },
    {
      "cell_type": "code",
      "source": [
        "df_height = df_hw[\"Height\"]"
      ],
      "metadata": {
        "id": "3kAIe7IznX6K"
      },
      "execution_count": null,
      "outputs": []
    },
    {
      "cell_type": "code",
      "source": [
        "min_height = df_height.min()"
      ],
      "metadata": {
        "id": "n0awURFanbBa"
      },
      "execution_count": null,
      "outputs": []
    },
    {
      "cell_type": "code",
      "source": [
        "max_height = df_height.max()"
      ],
      "metadata": {
        "id": "dc7K2Fucnc3E"
      },
      "execution_count": null,
      "outputs": []
    },
    {
      "cell_type": "code",
      "source": [
        "print(min_height, max_height)"
      ],
      "metadata": {
        "colab": {
          "base_uri": "https://localhost:8080/"
        },
        "id": "EzrRXKvvnefi",
        "outputId": "dc5d7b98-13d4-4005-f349-019641fac93d"
      },
      "execution_count": null,
      "outputs": [
        {
          "output_type": "stream",
          "name": "stdout",
          "text": [
            "54.2631333250971 78.9987423463896\n"
          ]
        }
      ]
    },
    {
      "cell_type": "code",
      "source": [
        "total = len(df_height)\n",
        "total"
      ],
      "metadata": {
        "colab": {
          "base_uri": "https://localhost:8080/"
        },
        "id": "XabvYHAMngQy",
        "outputId": "d801d4a2-5760-48d9-863b-e0b2b59a8980"
      },
      "execution_count": null,
      "outputs": [
        {
          "output_type": "execute_result",
          "data": {
            "text/plain": [
              "10000"
            ]
          },
          "metadata": {},
          "execution_count": 43
        }
      ]
    },
    {
      "cell_type": "markdown",
      "source": [
        "### **Cumulative Distribution Function (CDF)**\n",
        "\n",
        "Cumulative Distribution Function (CDF) `(Connecting CDF to percentiles and cumulative probabilities in dataset)`\n",
        "\n",
        "> **`Approach (1):` Manual code**\n",
        "\n",
        "> **`Approach (2):` from statsmodels.distributions.empirical_distribution import ECDF `(i.e. Empirical CDF)`**"
      ],
      "metadata": {
        "id": "LU47CImFnmgj"
      }
    },
    {
      "cell_type": "code",
      "source": [
        "# Approach (1)"
      ],
      "metadata": {
        "id": "puFrbBjKnh1n"
      },
      "execution_count": null,
      "outputs": []
    },
    {
      "cell_type": "code",
      "source": [
        "x_values = np.linspace(min_height, max_height, 1000)\n",
        "y_values = []\n",
        "\n",
        "for x in x_values:\n",
        "    people_shorter_than_x = df_height[df_height <= x]     # Masking\n",
        "\n",
        "    num_people_shorter_than_x = len(people_shorter_than_x)        # Number of people_shorter_than_x\n",
        "\n",
        "    frac_people_shorter_than_x = num_people_shorter_than_x / total        # Fraction of people_shorter_than_x\n",
        "\n",
        "    y_values.append(frac_people_shorter_than_x)        # Appending the list having fraction of people_shorter_than_x\n",
        "\n",
        "plt.plot(x_values, y_values)"
      ],
      "metadata": {
        "colab": {
          "base_uri": "https://localhost:8080/",
          "height": 448
        },
        "id": "JZQkFvyGn4jC",
        "outputId": "ac185a2e-9ec1-45f4-bd60-871a6f213517"
      },
      "execution_count": null,
      "outputs": [
        {
          "output_type": "execute_result",
          "data": {
            "text/plain": [
              "[<matplotlib.lines.Line2D at 0x7894a77eded0>]"
            ]
          },
          "metadata": {},
          "execution_count": 45
        },
        {
          "output_type": "display_data",
          "data": {
            "text/plain": [
              "<Figure size 640x480 with 1 Axes>"
            ],
            "image/png": "[encoded data removed]"
          },
          "metadata": {}
        }
      ]
    },
    {
      "cell_type": "code",
      "source": [
        "# Approach (2)"
      ],
      "metadata": {
        "id": "DvV8RcCZn48i"
      },
      "execution_count": null,
      "outputs": []
    },
    {
      "cell_type": "code",
      "source": [
        "from statsmodels.distributions.empirical_distribution import ECDF       # Empirical CDF (i.e. Empirical means from a data)"
      ],
      "metadata": {
        "id": "qbEJfNZQoLCf"
      },
      "execution_count": null,
      "outputs": []
    },
    {
      "cell_type": "code",
      "source": [
        "e = ECDF(df_height)"
      ],
      "metadata": {
        "id": "Z0Pto3mYoAHD"
      },
      "execution_count": null,
      "outputs": []
    },
    {
      "cell_type": "code",
      "source": [
        "plt.plot(e.x, e.y, c = \"r\")"
      ],
      "metadata": {
        "colab": {
          "base_uri": "https://localhost:8080/",
          "height": 448
        },
        "id": "6ue1hKMPoCFr",
        "outputId": "f8d447ac-933a-4c64-fb3a-f4432515380a"
      },
      "execution_count": null,
      "outputs": [
        {
          "output_type": "execute_result",
          "data": {
            "text/plain": [
              "[<matplotlib.lines.Line2D at 0x7894a76ef6d0>]"
            ]
          },
          "metadata": {},
          "execution_count": 49
        },
        {
          "output_type": "display_data",
          "data": {
            "text/plain": [
              "<Figure size 640x480 with 1 Axes>"
            ],
            "image/png": "[encoded data removed]"
          },
          "metadata": {}
        }
      ]
    },
    {
      "cell_type": "code",
      "source": [
        "df_height.describe()"
      ],
      "metadata": {
        "colab": {
          "base_uri": "https://localhost:8080/"
        },
        "id": "VZnNkEOioEMr",
        "outputId": "94044848-da66-4a46-a61b-25eb70f7fd5b"
      },
      "execution_count": null,
      "outputs": [
        {
          "output_type": "execute_result",
          "data": {
            "text/plain": [
              "count    10000.000000\n",
              "mean        66.367560\n",
              "std          3.847528\n",
              "min         54.263133\n",
              "25%         63.505620\n",
              "50%         66.318070\n",
              "75%         69.174262\n",
              "max         78.998742\n",
              "Name: Height, dtype: float64"
            ]
          },
          "metadata": {},
          "execution_count": 50
        }
      ]
    },
    {
      "cell_type": "markdown",
      "source": [
        "### **Data visualization (Histogram Plot) for Distribution of the data points**"
      ],
      "metadata": {
        "id": "mZAfWhaGoNIG"
      }
    },
    {
      "cell_type": "code",
      "source": [
        "sns.histplot(df_height)"
      ],
      "metadata": {
        "colab": {
          "base_uri": "https://localhost:8080/",
          "height": 467
        },
        "id": "6WyVAFVWoGgD",
        "outputId": "3b682f56-eea4-44aa-dc75-7405f11779b5"
      },
      "execution_count": null,
      "outputs": [
        {
          "output_type": "execute_result",
          "data": {
            "text/plain": [
              "<Axes: xlabel='Height', ylabel='Count'>"
            ]
          },
          "metadata": {},
          "execution_count": 51
        },
        {
          "output_type": "display_data",
          "data": {
            "text/plain": [
              "<Figure size 640x480 with 1 Axes>"
            ],
            "image/png": "[encoded data removed]"
          },
          "metadata": {}
        }
      ]
    },
    {
      "cell_type": "code",
      "source": [],
      "metadata": {
        "id": "iPXhSpl4ssid"
      },
      "execution_count": null,
      "outputs": []
    },
    {
      "cell_type": "code",
      "source": [],
      "metadata": {
        "id": "oT0heL3TssQA"
      },
      "execution_count": null,
      "outputs": []
    },
    {
      "cell_type": "markdown",
      "source": [
        "# <center>`Part 2.2:` **Gaussian distribution** `(weight-height.csv dataset)`</center>\n",
        "***"
      ],
      "metadata": {
        "id": "eyPviU3uss5l"
      }
    },
    {
      "cell_type": "code",
      "source": [
        "'''\n",
        "Gaussian Distribution (Content):\n",
        "--------------------------------------\n",
        "> 68/95/99 Rule (Emperical Rule)\n",
        "> (1) Z-Score (2) Z-Table Vs Python Library (SciPy)\n",
        "> Computing Prob\n",
        "> Actual example\n",
        "\n",
        "* 68/95/99 Rule (Emperical Rule)\n",
        "\t- 68% of the data falls within 1 standard deviation of the mean (μ ± σ) in a normal distribution\n",
        "\t- 95% of the data falls within 2 standard deviations of the mean (μ ± 2σ) in a normal distribution\n",
        "\t- 99.7% of the data falls within 3 standard deviations of the mean (μ ± 3σ) in a normal distribution\n",
        "  Q) The height of people is Gaussian with mean 65 inches and standard deviation 2.5 inches.\n",
        "\t\t(Q1) If I randomly meet one of these people, what is the probability their height is between 60 and 62.5 inches?\n",
        " \t\t(Q2) What fraction of people are shorter than 67.5?\n",
        "\t\t(Q3) What is the fraction of people whose height is between 60 and 72.5?\n",
        "\n",
        "* IMP: CDF and Percentile (a.k.a. Fraction) are inverse of each other\n",
        "  The CDF gives the cumulative probability up to a specific value, while percentiles provide the value below which a specified percentage of data falls. These two concepts complement each other and are essential in understanding and analyzing data distributions.\n",
        "\t- CDF --> Given the x-axis (input value), you can find the y-axis value (i.e. cumulative probability (a.k.a. fraction)) using CDF\n",
        "\t- Percentile (a.k.a. Fraction) --> Given the y-axis (i.e. cumulative probability (a.k.a. fraction)), you can find the x-axis value using percentiles\n",
        "\n",
        "* NOTE: There are 2 types of handling Gaussian Distribution queries:\n",
        "\t(1) Using 68/95/97 rule as shown previously\n",
        "\t(2) General approach (i.e. under \"Calculating Probabilities and Percentiles\" topic)\n",
        "\t\t- when the questions is based on \"shorter/lesser than\"\n",
        "\t\t- when the questions is based on \"between range\"\n",
        "\n",
        "* Computing Probabilities (i.e. y-axis) and Percentiles (i.e. x-axis)\n",
        "  General approach to find fraction (i.e. percentage) given x-axis input value. That is, CDF: \"given height --> tell me the fraction\"\n",
        "  Step (1)-Q) Given a person with hight 69.1 inch, how much standard deviation away it is from from the mean?\n",
        "\t\t- 69.1 = 65 + (z)2.5\n",
        "\t  \t  z = (69.1 - 65) / 2.5\n",
        "\t  \t  z = 1.64\n",
        "\t\t  That is,\n",
        "\t  \t  z = (height - mean) / standard_deviation\n",
        "  Step (2)-Q) What fraction of people are shorter than 69.1 inch?\n",
        "\t\t- Approach (1): Z-Score table (Link: https://www.z-table.com/)\n",
        "\t\t- Approach (2): Python Scipy library\n",
        "\n",
        "  Q) What fraction of people have height less than 70.8 inch?\n",
        "  Step (1): Z Score Calculation\n",
        "\t \t70.8 = 65 + (z)2.5\n",
        "\t  \tz = (70.8 - 65) / 2.5\n",
        "\t  \tz = 2.32\n",
        "  Step (2):\n",
        "\t- Approach (1) --> Z-Score table\n",
        "\t  \tZ-Score Table = 0.9898\n",
        "\t- Approach (2) --> Python Scipy\n",
        "\t\tfrom scipy.stats import norm\n",
        "\t\tz = (x_value - mean)/std   #Z Score Calculation\n",
        "\t\tnorm.cdf(z)\t# Alternative to Z-Score Table\n",
        "\n",
        "  Q) Balls produced by manufacturer have mean 50 mm and std dev 2 mm. What fraction of balls are smaller than 53 mm?\t(Ans: 0.93)\n",
        "\n",
        "* Deriving the Emperical Rule (68/95/99 Rule)\n",
        "  NOTE: norm.cdf() --> gives o/p based on questions asked in \"shorter/lesser than\"\n",
        "\tnorm.cdf() - norm.cdf() --> gives o/p based on questions asked in \"between range\"\n",
        "  Fraction of people having hegith between 1 standard deviation from the mean\n",
        "\t- norm.cdf(1)  #z = (67.5 - 65)/2.5 = 2.5/2.5 = 1\n",
        "\t  norm.cdf(-1)  #z = (62.5 - 65)/2.5 = -2.5/2.5 = -1\n",
        "\t  norm.cdf(1) - norm.cdf(-1)  #give o/p 0.68268...\n",
        "  Fraction of people having hegith between 2 standard deviation from the mean\n",
        "\t- norm.cdf(2) - norm.cdf(-2)  #give o/p 0.9544...\n",
        "  Fraction of people having hegith between 3 standard deviation from the mean\n",
        "\t- norm.cdf(3) - norm.cdf(-3)  #give o/p 0.9973...\n",
        "\n",
        "* Computing Probabilities (i.e. y-axis) and Percentiles (i.e. x-axis)-(Revised)\n",
        "  General approach to find x-axis (i.e. percentage) given y-axis value (i.e. fraction). That is, Percentile: \"given fraction --> tell percentage\"\n",
        "  Q) The height of people is Gaussian with mean 65 inches and standard deviation 2.5 inches. One person says: 96% people are shorter than me. What is my height?\n",
        "  \tStep (1): z = norm.ppf(y_value)  #PPF (Probability Point Function) is the inverse of the CDF that gives the Z-Score value\n",
        "  \tStep (2): height = mean + (z * std)\t#NOTE: this is how we started first previously as \"z = (x_value - meanu) / std\" so reversing back to same process\n",
        "\n",
        "* Actual example\n",
        "  Sample (Q) Skaters take a mean of 7.42 seconds and std dev of 0.34 seconds for 500 meters. What should his speed be such that he is faster than 95% of his competitors?\n",
        "  Case Study: Inventory Manager - Analyse sales data and choose an optimum inventory.\n",
        "\tQ1) A retail outlet sells around 1000 toothpastes a week, with std dev = 200. If the on-hand inventory is 1300, what is the need for replenishment within the week?\n",
        "\tQ2) We want at most 3% of times to be out of stock. What should be my inventory?\n",
        "'''"
      ],
      "metadata": {
        "id": "hB68-UunssLD"
      },
      "execution_count": null,
      "outputs": []
    },
    {
      "cell_type": "markdown",
      "source": [
        "### **(1) Z-Score & then Z-Table Vs Python Library (SciPy)**\n",
        "\n",
        "[Z-Score Table](https://www.z-table.com/)"
      ],
      "metadata": {
        "id": "nWoC07rBdqeW"
      }
    },
    {
      "cell_type": "code",
      "source": [
        "from scipy.stats import norm"
      ],
      "metadata": {
        "id": "SiaXpd8JwvoW"
      },
      "execution_count": null,
      "outputs": []
    },
    {
      "cell_type": "markdown",
      "source": [
        "**The height of people is Gaussian with mean (μ) 65 inches and standard deviation (𝜎) 2.5 inches**"
      ],
      "metadata": {
        "id": "Iy8kh9wYaiwr"
      }
    },
    {
      "cell_type": "code",
      "source": [
        "# Q. Fraction of people are shorter than 69.1\n",
        "z = (69.1 - 65)/2.5\n",
        "z"
      ],
      "metadata": {
        "colab": {
          "base_uri": "https://localhost:8080/"
        },
        "id": "Cde7EyxmaGpV",
        "outputId": "0731ffca-44bf-4f9b-919e-b239b2a45c66"
      },
      "execution_count": null,
      "outputs": [
        {
          "output_type": "execute_result",
          "data": {
            "text/plain": [
              "1.6399999999999977"
            ]
          },
          "metadata": {},
          "execution_count": 54
        }
      ]
    },
    {
      "cell_type": "code",
      "source": [
        "norm.cdf(z)     # alternative to z-table --> gives the fraction of people shorter/lesser than given H: 69.1"
      ],
      "metadata": {
        "colab": {
          "base_uri": "https://localhost:8080/"
        },
        "id": "EMOkBgePao5q",
        "outputId": "871b421d-e044-4562-f1b9-4fe5edb159a2"
      },
      "execution_count": null,
      "outputs": [
        {
          "output_type": "execute_result",
          "data": {
            "text/plain": [
              "0.949497416525896"
            ]
          },
          "metadata": {},
          "execution_count": 55
        }
      ]
    },
    {
      "cell_type": "code",
      "source": [
        "# Q. Fraction of people are shorter than 70.8\n",
        "z = (70.8 - 65) / 2.5\n",
        "norm.cdf(z)"
      ],
      "metadata": {
        "colab": {
          "base_uri": "https://localhost:8080/"
        },
        "id": "gdFWRP5fasoS",
        "outputId": "fbf3f1fc-8f60-4f24-ea99-ec1e7bee5bf0"
      },
      "execution_count": null,
      "outputs": [
        {
          "output_type": "execute_result",
          "data": {
            "text/plain": [
              "0.9898295613312803"
            ]
          },
          "metadata": {},
          "execution_count": 56
        }
      ]
    },
    {
      "cell_type": "markdown",
      "source": [
        "**Balls produced by manufacturer have mean (μ) 50 mm and std dev (𝜎) 2 mm. What fraction of balls are smaller than 53 mm?**"
      ],
      "metadata": {
        "id": "Tr_IkXVDbFU3"
      }
    },
    {
      "cell_type": "code",
      "source": [
        "z = (53 - 50) / 2\n",
        "norm.cdf(z)"
      ],
      "metadata": {
        "colab": {
          "base_uri": "https://localhost:8080/"
        },
        "id": "W1qgGNeFa3Mj",
        "outputId": "897271fc-784e-40a0-eeed-ade0c5805db8"
      },
      "execution_count": null,
      "outputs": [
        {
          "output_type": "execute_result",
          "data": {
            "text/plain": [
              "0.9331927987311419"
            ]
          },
          "metadata": {},
          "execution_count": 57
        }
      ]
    },
    {
      "cell_type": "markdown",
      "source": [
        "### **(2) Empirical Rule (68/95/99)**\n",
        "\n",
        "> **`NOTE:`** The **norm.cdf(z)** provides only the **lower than the given value based o/p percentage**. In order to obtain o/p based on **between than values**, we will be using the **Empirical Rule based idea**."
      ],
      "metadata": {
        "id": "950B7NihdYha"
      }
    },
    {
      "cell_type": "code",
      "source": [
        "# Q. Fraction are shorter than 67.5\n",
        "z = (67.5 - 65) / 2.5\n",
        "norm.cdf(z)"
      ],
      "metadata": {
        "colab": {
          "base_uri": "https://localhost:8080/"
        },
        "id": "r3f4-zUHb65b",
        "outputId": "44c0262a-bf18-43d6-8616-bdeda6d4b680"
      },
      "execution_count": null,
      "outputs": [
        {
          "output_type": "execute_result",
          "data": {
            "text/plain": [
              "0.8413447460685429"
            ]
          },
          "metadata": {},
          "execution_count": 58
        }
      ]
    },
    {
      "cell_type": "code",
      "source": [
        "'''\n",
        "That is, see the breakdown below which is same o/p as above cell:\n",
        "z = (67.5 - 65) / 2.5\n",
        "z = 2.5 / 2.5\n",
        "z = 1\n",
        "norm.cdf(z)\n",
        "'''"
      ],
      "metadata": {
        "id": "oY3fWP31gjPQ"
      },
      "execution_count": null,
      "outputs": []
    },
    {
      "cell_type": "code",
      "source": [
        "norm.cdf(1)     # Same o/p as above cell o/p"
      ],
      "metadata": {
        "colab": {
          "base_uri": "https://localhost:8080/"
        },
        "id": "zxuUWkYQgn2t",
        "outputId": "8788df71-4b6f-4b43-fdb7-5241644956a6"
      },
      "execution_count": null,
      "outputs": [
        {
          "output_type": "execute_result",
          "data": {
            "text/plain": [
              "0.8413447460685429"
            ]
          },
          "metadata": {},
          "execution_count": 60
        }
      ]
    },
    {
      "cell_type": "code",
      "source": [
        "# Q. Fraction are shorter than 62.5\n",
        "z = (62.5 - 65) / 2.5\n",
        "norm.cdf(z)"
      ],
      "metadata": {
        "colab": {
          "base_uri": "https://localhost:8080/"
        },
        "id": "pCfNLuINeXwc",
        "outputId": "b1600193-042a-468f-83da-8af5f30c88b8"
      },
      "execution_count": null,
      "outputs": [
        {
          "output_type": "execute_result",
          "data": {
            "text/plain": [
              "0.15865525393145707"
            ]
          },
          "metadata": {},
          "execution_count": 61
        }
      ]
    },
    {
      "cell_type": "code",
      "source": [
        "'''\n",
        "That is, see the breakdown below which is same o/p as above cell:\n",
        "z = (62.5 - 65) / 2.5\n",
        "z = -2.5 / 2.5\n",
        "z = -1\n",
        "norm.cdf(z)\n",
        "'''"
      ],
      "metadata": {
        "id": "iRnoX2zDe4KE"
      },
      "execution_count": null,
      "outputs": []
    },
    {
      "cell_type": "code",
      "source": [
        "norm.cdf(-1)      # Same o/p as above cell o/p"
      ],
      "metadata": {
        "colab": {
          "base_uri": "https://localhost:8080/"
        },
        "id": "t_cOl-eEgMRm",
        "outputId": "81a8311a-bc59-4562-ed29-0191392baf05"
      },
      "execution_count": null,
      "outputs": [
        {
          "output_type": "execute_result",
          "data": {
            "text/plain": [
              "0.15865525393145707"
            ]
          },
          "metadata": {},
          "execution_count": 63
        }
      ]
    },
    {
      "cell_type": "code",
      "source": [
        "# Q. Fraction of people having height within 1 standard deviation from the mean (i.e. between 62.5 and 67.5)\n",
        "norm.cdf(1) - norm.cdf(-1)"
      ],
      "metadata": {
        "colab": {
          "base_uri": "https://localhost:8080/"
        },
        "id": "PXC4H3aFfHes",
        "outputId": "c8bd91c8-1005-4df2-db2f-5d71aa32ae2d"
      },
      "execution_count": null,
      "outputs": [
        {
          "output_type": "execute_result",
          "data": {
            "text/plain": [
              "0.6826894921370859"
            ]
          },
          "metadata": {},
          "execution_count": 64
        }
      ]
    },
    {
      "cell_type": "code",
      "source": [
        "# Q. Fraction of people having height within 2 standard deviation from the mean (i.e. between 60 and 70)\n",
        "norm.cdf(2) - norm.cdf(-2)"
      ],
      "metadata": {
        "colab": {
          "base_uri": "https://localhost:8080/"
        },
        "id": "47ujZN_Hgeht",
        "outputId": "469cc168-db05-4c1c-883d-49f214d7e7ad"
      },
      "execution_count": null,
      "outputs": [
        {
          "output_type": "execute_result",
          "data": {
            "text/plain": [
              "0.9544997361036416"
            ]
          },
          "metadata": {},
          "execution_count": 65
        }
      ]
    },
    {
      "cell_type": "code",
      "source": [
        "# Q. Fraction of people having height within 3 standard deviation from the mean (i.e. between 57.5 and 72.5)\n",
        "norm.cdf(3) - norm.cdf(-3)"
      ],
      "metadata": {
        "colab": {
          "base_uri": "https://localhost:8080/"
        },
        "id": "3OQQ8L-dhUtl",
        "outputId": "0bf84651-f943-4536-85d5-2ca93ca1a714"
      },
      "execution_count": null,
      "outputs": [
        {
          "output_type": "execute_result",
          "data": {
            "text/plain": [
              "0.9973002039367398"
            ]
          },
          "metadata": {},
          "execution_count": 66
        }
      ]
    },
    {
      "cell_type": "markdown",
      "source": [
        "### **(3) Inverse of CDF (Cumulative Distribution Function) --> Percentile**\n",
        "\n",
        "That is, **Percentile is inverse of CDF**\n",
        "\n",
        "> **CDF** --> Given **x-value**, provide the **y-value** (a.k.a. **fraction**) **o/p**     \n",
        "\n",
        "> **Percentile `(Inverse of CDF)`** --> Given **y-value** (a.k.a. **fraction**), provide the **x-value o/p**"
      ],
      "metadata": {
        "id": "KmzHS1bSiLZz"
      }
    },
    {
      "cell_type": "markdown",
      "source": [
        "**The height of people is Gaussian with mean 65 inches and standard deviation 2.5 inches One person says: 96% people are shorter than me. What is my height?**"
      ],
      "metadata": {
        "id": "QyE7F_q1iK7I"
      }
    },
    {
      "cell_type": "markdown",
      "source": [
        "**Percentile**"
      ],
      "metadata": {
        "id": "BuWrq1Ffj60k"
      }
    },
    {
      "cell_type": "code",
      "source": [
        "# norm.ppf() full form is \"Percent point function\" which gives the \"Z-Score\" value and from that we can find the actual hight...\n",
        "z = norm.ppf(0.96)\n",
        "z"
      ],
      "metadata": {
        "colab": {
          "base_uri": "https://localhost:8080/"
        },
        "id": "N2kOBKsghcJs",
        "outputId": "2ce27af2-4ea7-4bab-f147-af14641a4057"
      },
      "execution_count": null,
      "outputs": [
        {
          "output_type": "execute_result",
          "data": {
            "text/plain": [
              "1.7506860712521692"
            ]
          },
          "metadata": {},
          "execution_count": 67
        }
      ]
    },
    {
      "cell_type": "code",
      "source": [
        "height = 65 + z*2.5     # height = mean + (z)(std)\n",
        "height"
      ],
      "metadata": {
        "colab": {
          "base_uri": "https://localhost:8080/"
        },
        "id": "HBwPZC4fj-yr",
        "outputId": "fd1edd4a-1254-401c-8168-7b61d77bb4ac"
      },
      "execution_count": null,
      "outputs": [
        {
          "output_type": "execute_result",
          "data": {
            "text/plain": [
              "69.37671517813042"
            ]
          },
          "metadata": {},
          "execution_count": 68
        }
      ]
    },
    {
      "cell_type": "code",
      "source": [
        "'''\n",
        "Q. Skaters take a mean of 7.42 seconds and std dev of 0.34 seconds for 500 meters.\n",
        "What should his speed be such that he is faster than 95% of his competitors?\n",
        "'''"
      ],
      "metadata": {
        "id": "ODehQP1Vkb2l"
      },
      "execution_count": null,
      "outputs": []
    },
    {
      "cell_type": "code",
      "source": [
        "z = norm.ppf(0.05)"
      ],
      "metadata": {
        "id": "6dvhKN-5l6mu"
      },
      "execution_count": null,
      "outputs": []
    },
    {
      "cell_type": "code",
      "source": [
        "t = 7.42 + z*0.34"
      ],
      "metadata": {
        "id": "1XPP6cA6l9Wp"
      },
      "execution_count": null,
      "outputs": []
    },
    {
      "cell_type": "code",
      "source": [
        "print(t)"
      ],
      "metadata": {
        "id": "Jm47xWitl9TQ",
        "colab": {
          "base_uri": "https://localhost:8080/"
        },
        "outputId": "faa024c8-e60b-476e-ff6e-e1b5bfa2a78f"
      },
      "execution_count": null,
      "outputs": [
        {
          "output_type": "stream",
          "name": "stdout",
          "text": [
            "6.860749766836499\n"
          ]
        }
      ]
    },
    {
      "cell_type": "code",
      "source": [
        "'''\n",
        "Q. A retail outlet sells around 1000 toothpastes a week, with std dev = 200.\n",
        "If the on-hand inventory is 1300, what is the need for replenishment within the week?\n",
        "'''"
      ],
      "metadata": {
        "id": "ePZe66isl9L5"
      },
      "execution_count": null,
      "outputs": []
    },
    {
      "cell_type": "code",
      "source": [
        "z = (1300 - 1000)/200"
      ],
      "metadata": {
        "id": "Xe5hjS7ul-45"
      },
      "execution_count": null,
      "outputs": []
    },
    {
      "cell_type": "code",
      "source": [
        "x = norm.cdf(z)"
      ],
      "metadata": {
        "id": "-G6wWgrfmA5V"
      },
      "execution_count": null,
      "outputs": []
    },
    {
      "cell_type": "code",
      "source": [
        "print(x)"
      ],
      "metadata": {
        "id": "1mK_1nPfmAxO",
        "colab": {
          "base_uri": "https://localhost:8080/"
        },
        "outputId": "4e224971-b8dd-4f53-f4fb-e04c01e28473"
      },
      "execution_count": null,
      "outputs": [
        {
          "output_type": "stream",
          "name": "stdout",
          "text": [
            "0.9331927987311419\n"
          ]
        }
      ]
    },
    {
      "cell_type": "code",
      "source": [
        "ans = 1 - x"
      ],
      "metadata": {
        "id": "L3Wi4XI8Ftjc"
      },
      "execution_count": null,
      "outputs": []
    },
    {
      "cell_type": "code",
      "source": [
        "print(ans)"
      ],
      "metadata": {
        "id": "winaLchIFtd-",
        "outputId": "091ee852-5efe-420e-f61c-c7fae4937d1f",
        "colab": {
          "base_uri": "https://localhost:8080/"
        }
      },
      "execution_count": null,
      "outputs": [
        {
          "output_type": "stream",
          "name": "stdout",
          "text": [
            "0.06680720126885809\n"
          ]
        }
      ]
    },
    {
      "cell_type": "code",
      "source": [
        "'''\n",
        "Q. Around 6% of the time the qty utilized will be more than 1300 -> there is a need to do replinesihment 6% of the times\n",
        "we want at most 3% of times to be out of stock. What should be my inventory?\n",
        "'''"
      ],
      "metadata": {
        "id": "J5Y8Lck4mAuD"
      },
      "execution_count": null,
      "outputs": []
    },
    {
      "cell_type": "code",
      "source": [
        "z = norm.ppf(0.97)"
      ],
      "metadata": {
        "id": "vXKgWlYsmMmm"
      },
      "execution_count": null,
      "outputs": []
    },
    {
      "cell_type": "code",
      "source": [
        "x = 1000 + z*200"
      ],
      "metadata": {
        "id": "__QVa8iTmPsL"
      },
      "execution_count": null,
      "outputs": []
    },
    {
      "cell_type": "code",
      "source": [
        "print(x)"
      ],
      "metadata": {
        "id": "mzojQ9ozmPoF",
        "colab": {
          "base_uri": "https://localhost:8080/"
        },
        "outputId": "39d85997-f3bf-4b2e-b137-5dd45325f4f2"
      },
      "execution_count": null,
      "outputs": [
        {
          "output_type": "stream",
          "name": "stdout",
          "text": [
            "1376.15872163025\n"
          ]
        }
      ]
    },
    {
      "cell_type": "markdown",
      "source": [
        "### **Summarizing when to use CDF & PPF**\n",
        "\n",
        "**To Summarize when to use CDF & PPF approaches:**\n",
        "\n",
        "*   When the **x-values** is given and we need to find the **Fraction** (a.k.a. **percentile**):\n",
        "> **`Step-1:`** **Z-Score:**              \n",
        "            z = (height - mean)/std          \n",
        "> **`Step-2:`** **Z-table `(or)` Python SciPy:**\n",
        "            fraction_output = norm.csd(z)\n",
        "            \n",
        "*   When the **Fraction** (a.k.a. **percentile**) is given and we need to find the **x-value**:\n",
        "> **`Step-1:`** **Z-Score:**\n",
        "            z = norm.ppf(fraction)\n",
        "> **`Step-2:`** **x-value:**\n",
        "            x_values_output = mean + (z)(std)"
      ],
      "metadata": {
        "id": "MY1QrIZsadhI"
      }
    },
    {
      "cell_type": "code",
      "source": [],
      "metadata": {
        "id": "jXA167Hs-lsp"
      },
      "execution_count": null,
      "outputs": []
    },
    {
      "cell_type": "code",
      "source": [],
      "metadata": {
        "id": "oMcIbq35-leW"
      },
      "execution_count": null,
      "outputs": []
    },
    {
      "cell_type": "markdown",
      "source": [
        "# <center>`Part 2.3:` **Central limit theorem**</center>\n",
        "***"
      ],
      "metadata": {
        "id": "TeKLBYk5-m1N"
      }
    },
    {
      "cell_type": "code",
      "source": [
        "'''\n",
        "Central limit theorem (Content):\n",
        "--------------------------------------\n",
        "> Population, Sample\n",
        "> From sample, what can be infer about population:\n",
        "\t- Central Limit Theorem (CLT)\n",
        "\t- Confidence Interva (NOTE: next lecture...)\n",
        "> For population:\n",
        "\t- data.head()\t#population\n",
        "\t- mu = data.mean()\t#population mean,\n",
        "\t- sigma = data.std()\t#population std dev\n",
        "\t- sns.histplot(data)\t#distribution\n",
        "> Analysis of sample size 5:\n",
        "\t- data.sample(5)\t#random selection of 5 rows from the population dataset\n",
        "\t- np.mean(data.sample(5))\t#mean of one sample mean (NOTE: every time, this mean is different & is close to the population mean of 66.3)\n",
        "\t- sample_mean_5 = [np.mean(data.sample(5)) for i in range(20000)]\t#\"List Comprehension\" - mean of 20000 sample means\n",
        "\t- len(sample_mean_5)\t#length of mean of 20000 sample means\n",
        "\t- sns.histplot(sample_mean_5)\t\t#distribution\n",
        "\t- np.mean(sample_mean_5)\t#Mean of sample means ≈ mean of population\n",
        " \t- np.std(sample_mean_5)\t\t#Std dev of sample < Std dev of population\n",
        " (NOTE: Standard Error (i.e. Standard deviation of the sample mean): As the number of sample size increases, the \"Std dev of sample < Std dev of \tpopulation\". This is called as \"Standard Error\" with the formula \"sigma/sqrt(n)\")\n",
        "\t- sigma/np.sqrt(5)\t\t#\"Standard Error\" for n = 5\n",
        "> Analysis of sample size 20:\n",
        "\t- (Same as above steps but take the random selection of 20 rows)\n",
        "> Analysis of sample size 100:\n",
        "\t- (Same as above steps but take the random selection of 100 rows)\n",
        "\n",
        "Formula:\n",
        "\tLet \"x̄ = (x1+x2+x3+...+xn)/n\" denotes the sample mean.\n",
        "\tThen x̄ follows a normal/gaussian distribution with expected mean.\n",
        "\tThat is, \"E(x̄)=μ\" where \"E(x̄)\" is expected mean and \"μ\" is population mean.\n",
        "\tAnd, Standard deviation of \"x̄ = σ / √n\"\n",
        "In other words, x̄ ≈ N(μ, σ/√n)\n",
        "\tThat is, x̄ follows a Normal/Gaussian Distribution as \"N\" with mean as \"μ\" and std dev as \"σ/√n\"\n",
        "NOTE: If n is large (n > 30), then sigma \"σ\" is finite. That is, original distribution need not be normal distribution...\n",
        "\n",
        "  Q) Systolic blood pressure of a group of people is known to have an average of 122 mmHg and a standard deviation of 10 mmHg (assume normal distribution). Calculate the probability that the average blood pressure of 16 people will be greater than 125mmHg.\n",
        "  Q) Weekly to\tothpaste sales have a mean 1000 and std dev 200 (assume normal distri). What is the probability that the average weekly sales next month is more than 1110?\t\t(Ans: 0.13)\n",
        "\n",
        "Customized Code:\n",
        "\tdef clt_prob(mu , sigma, n, obs):\n",
        "  \t\tstd_err = sigma/np.sqrt(n)\n",
        "  \t\tz = (obs - mu)/std_err\n",
        "  \t\tprob_less = norm.cdf(z)\n",
        "  \t\tprob_greater = 1 - norm.cdf(z)\n",
        "  \t\treturn prob_less, prob_greater\n",
        "\t#blood pressure\n",
        "\tclt_prob(122, 10, 16, 125)\n",
        "\t#toothpaste\n",
        "\tclt_prob(1000, 200, 4, 1110)\n",
        "\n",
        "  Q) In an e-commerce website, the average purchase amount per customer is\n",
        "15. If we randomly select a sample of 50 customers, what is the probability that the average purchase amount in the sample will be less than $75?\t(Ans: 0.009)\n",
        "'''"
      ],
      "metadata": {
        "id": "WXQEd7hK-lZj",
        "colab": {
          "base_uri": "https://localhost:8080/",
          "height": 165
        },
        "outputId": "48a97f7d-c9a0-4cbb-bde0-2dc43aae82ea"
      },
      "execution_count": null,
      "outputs": [
        {
          "output_type": "execute_result",
          "data": {
            "text/plain": [
              "'\\nCentral limit theorem (Content):\\n--------------------------------------\\n> Population, Sample\\n> From sample, what can be infer about population:\\n\\t- Central Limit Theorem (CLT)\\n\\t- Confidence Interva (NOTE: next lecture...)\\n> For population:\\n\\t- data.head()\\t#population\\n\\t- mu = data.mean()\\t#population mean,\\n\\t- sigma = data.std()\\t#population std dev\\n\\t- sns.histplot(data)\\t#distribution\\n> Analysis of sample size 5:\\n\\t- data.sample(5)\\t#random selection of 5 rows from the population dataset\\n\\t- np.mean(data.sample(5))\\t#mean of one sample mean (NOTE: every time, this mean is different & is close to the population mean of 66.3)\\n\\t- sample_mean_5 = [np.mean(data.sample(5)) for i in range(20000)]\\t#\"List Comprehension\" - mean of 20000 sample means\\n\\t- len(sample_mean_5)\\t#length of mean of 20000 sample means\\n\\t- sns.histplot(sample_mean_5)\\t\\t#distribution\\n\\t- np.mean(sample_mean_5)\\t#Mean of sample means ≈ mean of population\\n \\t- np.std(sample_mean_5)\\t\\t#Std dev of sample < Std dev of population\\n (NOTE: Standard Error (i.e. Standard deviation of the sample mean): As the number of sample size increases, the \"Std dev of sample < Std dev of \\tpopulation\". This is called as \"Standard Error\" with the formula \"sigma/sqrt(n)\")\\n\\t- sigma/np.sqrt(5)\\t\\t#\"Standard Error\" for n = 5\\n> Analysis of sample size 20:\\n\\t- (Same as above steps but take the random selection of 20 rows)\\n> Analysis of sample size 100:\\n\\t- (Same as above steps but take the random selection of 100 rows)\\n\\nFormula:\\n\\tLet \"x̄ = (x1+x2+x3+...+xn)/n\" denotes the sample mean.\\n\\tThen x̄ follows a normal/gaussian distribution with expected mean.\\n\\tThat is, \"E(x̄)=μ\" where \"E(x̄)\" is expected mean and \"μ\" is population mean.\\n\\tAnd, Standard deviation of \"x̄ = σ / √n\"\\nIn other words, x̄ ≈ N(μ, σ/√n)\\n\\tThat is, x̄ follows a Normal/Gaussian Distribution as \"N\" with mean as \"μ\" and std dev as \"σ/√n\"\\nNOTE: If n is large (n > 30), then sigma \"σ\" is finite. That is, original distribution need not be normal distribution...\\n\\n  Q) Systolic blood pressure of a group of people is known to have an average of 122 mmHg and a standard deviation of 10 mmHg (assume normal distribution). Calculate the probability that the average blood pressure of 16 people will be greater than 125mmHg.\\n  Q) Weekly to\\tothpaste sales have a mean 1000 and std dev 200 (assume normal distri). What is the probability that the average weekly sales next month is more than 1110?\\t\\t(Ans: 0.13)\\n\\nCustomized Code:\\n\\tdef clt_prob(mu , sigma, n, obs):\\n  \\t\\tstd_err = sigma/np.sqrt(n)\\n  \\t\\tz = (obs - mu)/std_err\\n  \\t\\tprob_less = norm.cdf(z)\\n  \\t\\tprob_greater = 1 - norm.cdf(z)\\n  \\t\\treturn prob_less, prob_greater\\n\\t#blood pressure\\n\\tclt_prob(122, 10, 16, 125)\\n\\t#toothpaste\\n\\tclt_prob(1000, 200, 4, 1110)\\n\\n  Q) In an e-commerce website, the average purchase amount per customer is\\n15. If we randomly select a sample of 50 customers, what is the probability that the average purchase amount in the sample will be less than $75?\\t(Ans: 0.009)\\n'"
            ],
            "application/vnd.google.colaboratory.intrinsic+json": {
              "type": "string"
            }
          },
          "metadata": {},
          "execution_count": 83
        }
      ]
    },
    {
      "cell_type": "code",
      "source": [
        "from scipy.stats import norm"
      ],
      "metadata": {
        "id": "gRDh-RihB5uf"
      },
      "execution_count": null,
      "outputs": []
    },
    {
      "cell_type": "code",
      "source": [
        "df_hw = pd.read_csv(\"weight-height.csv\")"
      ],
      "metadata": {
        "id": "rU_MiBMLB5qc"
      },
      "execution_count": null,
      "outputs": []
    },
    {
      "cell_type": "code",
      "source": [
        "df_hw.head()"
      ],
      "metadata": {
        "id": "0LCqpTWwB5ms",
        "outputId": "0ed5a114-9c28-4b0a-b985-9fe5ecee27d0",
        "colab": {
          "base_uri": "https://localhost:8080/",
          "height": 206
        }
      },
      "execution_count": null,
      "outputs": [
        {
          "output_type": "execute_result",
          "data": {
            "text/plain": [
              "  Gender     Height      Weight\n",
              "0   Male  73.847017  241.893563\n",
              "1   Male  68.781904  162.310473\n",
              "2   Male  74.110105  212.740856\n",
              "3   Male  71.730978  220.042470\n",
              "4   Male  69.881796  206.349801"
            ],
            "text/html": [
              "\n",
              "  <div id=\"df-c44d6fbf-9cad-40e7-9507-6f94eee36df3\" class=\"colab-df-container\">\n",
              "    <div>\n",
              "<style scoped>\n",
              "    .dataframe tbody tr th:only-of-type {\n",
              "        vertical-align: middle;\n",
              "    }\n",
              "\n",
              "    .dataframe tbody tr th {\n",
              "        vertical-align: top;\n",
              "    }\n",
              "\n",
              "    .dataframe thead th {\n",
              "        text-align: right;\n",
              "    }\n",
              "</style>\n",
              "<table border=\"1\" class=\"dataframe\">\n",
              "  <thead>\n",
              "    <tr style=\"text-align: right;\">\n",
              "      <th></th>\n",
              "      <th>Gender</th>\n",
              "      <th>Height</th>\n",
              "      <th>Weight</th>\n",
              "    </tr>\n",
              "  </thead>\n",
              "  <tbody>\n",
              "    <tr>\n",
              "      <th>0</th>\n",
              "      <td>Male</td>\n",
              "      <td>73.847017</td>\n",
              "      <td>241.893563</td>\n",
              "    </tr>\n",
              "    <tr>\n",
              "      <th>1</th>\n",
              "      <td>Male</td>\n",
              "      <td>68.781904</td>\n",
              "      <td>162.310473</td>\n",
              "    </tr>\n",
              "    <tr>\n",
              "      <th>2</th>\n",
              "      <td>Male</td>\n",
              "      <td>74.110105</td>\n",
              "      <td>212.740856</td>\n",
              "    </tr>\n",
              "    <tr>\n",
              "      <th>3</th>\n",
              "      <td>Male</td>\n",
              "      <td>71.730978</td>\n",
              "      <td>220.042470</td>\n",
              "    </tr>\n",
              "    <tr>\n",
              "      <th>4</th>\n",
              "      <td>Male</td>\n",
              "      <td>69.881796</td>\n",
              "      <td>206.349801</td>\n",
              "    </tr>\n",
              "  </tbody>\n",
              "</table>\n",
              "</div>\n",
              "    <div class=\"colab-df-buttons\">\n",
              "\n",
              "  <div class=\"colab-df-container\">\n",
              "    <button class=\"colab-df-convert\" onclick=\"convertToInteractive('df-c44d6fbf-9cad-40e7-9507-6f94eee36df3')\"\n",
              "            title=\"Convert this dataframe to an interactive table.\"\n",
              "            style=\"display:none;\">\n",
              "\n",
              "  <svg xmlns=\"http://www.w3.org/2000/svg\" height=\"24px\" viewBox=\"0 -960 960 960\">\n",
              "    <path d=\"M120-120v-720h720v720H120Zm60-500h600v-160H180v160Zm220 220h160v-160H400v160Zm0 220h160v-160H400v160ZM180-400h160v-160H180v160Zm440 0h160v-160H620v160ZM180-180h160v-160H180v160Zm440 0h160v-160H620v160Z\"/>\n",
              "  </svg>\n",
              "    </button>\n",
              "\n",
              "  <style>\n",
              "    .colab-df-container {\n",
              "      display:flex;\n",
              "      gap: 12px;\n",
              "    }\n",
              "\n",
              "    .colab-df-convert {\n",
              "      background-color: #E8F0FE;\n",
              "      border: none;\n",
              "      border-radius: 50%;\n",
              "      cursor: pointer;\n",
              "      display: none;\n",
              "      fill: #1967D2;\n",
              "      height: 32px;\n",
              "      padding: 0 0 0 0;\n",
              "      width: 32px;\n",
              "    }\n",
              "\n",
              "    .colab-df-convert:hover {\n",
              "      background-color: #E2EBFA;\n",
              "      box-shadow: 0px 1px 2px rgba(60, 64, 67, 0.3), 0px 1px 3px 1px rgba(60, 64, 67, 0.15);\n",
              "      fill: #174EA6;\n",
              "    }\n",
              "\n",
              "    .colab-df-buttons div {\n",
              "      margin-bottom: 4px;\n",
              "    }\n",
              "\n",
              "    [theme=dark] .colab-df-convert {\n",
              "      background-color: #3B4455;\n",
              "      fill: #D2E3FC;\n",
              "    }\n",
              "\n",
              "    [theme=dark] .colab-df-convert:hover {\n",
              "      background-color: #434B5C;\n",
              "      box-shadow: 0px 1px 3px 1px rgba(0, 0, 0, 0.15);\n",
              "      filter: drop-shadow(0px 1px 2px rgba(0, 0, 0, 0.3));\n",
              "      fill: #FFFFFF;\n",
              "    }\n",
              "  </style>\n",
              "\n",
              "    <script>\n",
              "      const buttonEl =\n",
              "        document.querySelector('#df-c44d6fbf-9cad-40e7-9507-6f94eee36df3 button.colab-df-convert');\n",
              "      buttonEl.style.display =\n",
              "        google.colab.kernel.accessAllowed ? 'block' : 'none';\n",
              "\n",
              "      async function convertToInteractive(key) {\n",
              "        const element = document.querySelector('#df-c44d6fbf-9cad-40e7-9507-6f94eee36df3');\n",
              "        const dataTable =\n",
              "          await google.colab.kernel.invokeFunction('convertToInteractive',\n",
              "                                                    [key], {});\n",
              "        if (!dataTable) return;\n",
              "\n",
              "        const docLinkHtml = 'Like what you see? Visit the ' +\n",
              "          '<a target=\"_blank\" href=https://colab.research.google.com/notebooks/data_table.ipynb>data table notebook</a>'\n",
              "          + ' to learn more about interactive tables.';\n",
              "        element.innerHTML = '';\n",
              "        dataTable['output_type'] = 'display_data';\n",
              "        await google.colab.output.renderOutput(dataTable, element);\n",
              "        const docLink = document.createElement('div');\n",
              "        docLink.innerHTML = docLinkHtml;\n",
              "        element.appendChild(docLink);\n",
              "      }\n",
              "    </script>\n",
              "  </div>\n",
              "\n",
              "\n",
              "<div id=\"df-ffd053d7-7c68-4507-80fc-c9d7fdcd85b6\">\n",
              "  <button class=\"colab-df-quickchart\" onclick=\"quickchart('df-ffd053d7-7c68-4507-80fc-c9d7fdcd85b6')\"\n",
              "            title=\"Suggest charts.\"\n",
              "            style=\"display:none;\">\n",
              "\n",
              "<svg xmlns=\"http://www.w3.org/2000/svg\" height=\"24px\"viewBox=\"0 0 24 24\"\n",
              "     width=\"24px\">\n",
              "    <g>\n",
              "        <path d=\"M19 3H5c-1.1 0-2 .9-2 2v14c0 1.1.9 2 2 2h14c1.1 0 2-.9 2-2V5c0-1.1-.9-2-2-2zM9 17H7v-7h2v7zm4 0h-2V7h2v10zm4 0h-2v-4h2v4z\"/>\n",
              "    </g>\n",
              "</svg>\n",
              "  </button>\n",
              "\n",
              "<style>\n",
              "  .colab-df-quickchart {\n",
              "      --bg-color: #E8F0FE;\n",
              "      --fill-color: #1967D2;\n",
              "      --hover-bg-color: #E2EBFA;\n",
              "      --hover-fill-color: #174EA6;\n",
              "      --disabled-fill-color: #AAA;\n",
              "      --disabled-bg-color: #DDD;\n",
              "  }\n",
              "\n",
              "  [theme=dark] .colab-df-quickchart {\n",
              "      --bg-color: #3B4455;\n",
              "      --fill-color: #D2E3FC;\n",
              "      --hover-bg-color: #434B5C;\n",
              "      --hover-fill-color: #FFFFFF;\n",
              "      --disabled-bg-color: #3B4455;\n",
              "      --disabled-fill-color: #666;\n",
              "  }\n",
              "\n",
              "  .colab-df-quickchart {\n",
              "    background-color: var(--bg-color);\n",
              "    border: none;\n",
              "    border-radius: 50%;\n",
              "    cursor: pointer;\n",
              "    display: none;\n",
              "    fill: var(--fill-color);\n",
              "    height: 32px;\n",
              "    padding: 0;\n",
              "    width: 32px;\n",
              "  }\n",
              "\n",
              "  .colab-df-quickchart:hover {\n",
              "    background-color: var(--hover-bg-color);\n",
              "    box-shadow: 0 1px 2px rgba(60, 64, 67, 0.3), 0 1px 3px 1px rgba(60, 64, 67, 0.15);\n",
              "    fill: var(--button-hover-fill-color);\n",
              "  }\n",
              "\n",
              "  .colab-df-quickchart-complete:disabled,\n",
              "  .colab-df-quickchart-complete:disabled:hover {\n",
              "    background-color: var(--disabled-bg-color);\n",
              "    fill: var(--disabled-fill-color);\n",
              "    box-shadow: none;\n",
              "  }\n",
              "\n",
              "  .colab-df-spinner {\n",
              "    border: 2px solid var(--fill-color);\n",
              "    border-color: transparent;\n",
              "    border-bottom-color: var(--fill-color);\n",
              "    animation:\n",
              "      spin 1s steps(1) infinite;\n",
              "  }\n",
              "\n",
              "  @keyframes spin {\n",
              "    0% {\n",
              "      border-color: transparent;\n",
              "      border-bottom-color: var(--fill-color);\n",
              "      border-left-color: var(--fill-color);\n",
              "    }\n",
              "    20% {\n",
              "      border-color: transparent;\n",
              "      border-left-color: var(--fill-color);\n",
              "      border-top-color: var(--fill-color);\n",
              "    }\n",
              "    30% {\n",
              "      border-color: transparent;\n",
              "      border-left-color: var(--fill-color);\n",
              "      border-top-color: var(--fill-color);\n",
              "      border-right-color: var(--fill-color);\n",
              "    }\n",
              "    40% {\n",
              "      border-color: transparent;\n",
              "      border-right-color: var(--fill-color);\n",
              "      border-top-color: var(--fill-color);\n",
              "    }\n",
              "    60% {\n",
              "      border-color: transparent;\n",
              "      border-right-color: var(--fill-color);\n",
              "    }\n",
              "    80% {\n",
              "      border-color: transparent;\n",
              "      border-right-color: var(--fill-color);\n",
              "      border-bottom-color: var(--fill-color);\n",
              "    }\n",
              "    90% {\n",
              "      border-color: transparent;\n",
              "      border-bottom-color: var(--fill-color);\n",
              "    }\n",
              "  }\n",
              "</style>\n",
              "\n",
              "  <script>\n",
              "    async function quickchart(key) {\n",
              "      const quickchartButtonEl =\n",
              "        document.querySelector('#' + key + ' button');\n",
              "      quickchartButtonEl.disabled = true;  // To prevent multiple clicks.\n",
              "      quickchartButtonEl.classList.add('colab-df-spinner');\n",
              "      try {\n",
              "        const charts = await google.colab.kernel.invokeFunction(\n",
              "            'suggestCharts', [key], {});\n",
              "      } catch (error) {\n",
              "        console.error('Error during call to suggestCharts:', error);\n",
              "      }\n",
              "      quickchartButtonEl.classList.remove('colab-df-spinner');\n",
              "      quickchartButtonEl.classList.add('colab-df-quickchart-complete');\n",
              "    }\n",
              "    (() => {\n",
              "      let quickchartButtonEl =\n",
              "        document.querySelector('#df-ffd053d7-7c68-4507-80fc-c9d7fdcd85b6 button');\n",
              "      quickchartButtonEl.style.display =\n",
              "        google.colab.kernel.accessAllowed ? 'block' : 'none';\n",
              "    })();\n",
              "  </script>\n",
              "</div>\n",
              "    </div>\n",
              "  </div>\n"
            ]
          },
          "metadata": {},
          "execution_count": 86
        }
      ]
    },
    {
      "cell_type": "code",
      "source": [
        "df_hw.shape"
      ],
      "metadata": {
        "id": "GbyhSCQZB5gC",
        "outputId": "e8019567-5188-4bc0-edd6-f996f1f8cd3c",
        "colab": {
          "base_uri": "https://localhost:8080/"
        }
      },
      "execution_count": null,
      "outputs": [
        {
          "output_type": "execute_result",
          "data": {
            "text/plain": [
              "(10000, 3)"
            ]
          },
          "metadata": {},
          "execution_count": 87
        }
      ]
    },
    {
      "cell_type": "code",
      "source": [
        "df_height = df_hw[\"Height\"]\n",
        "df_height"
      ],
      "metadata": {
        "id": "WJq9ESkcDYtg",
        "outputId": "5a5ed57b-d820-4d81-e416-3184cc7182a8",
        "colab": {
          "base_uri": "https://localhost:8080/"
        }
      },
      "execution_count": null,
      "outputs": [
        {
          "output_type": "execute_result",
          "data": {
            "text/plain": [
              "0       73.847017\n",
              "1       68.781904\n",
              "2       74.110105\n",
              "3       71.730978\n",
              "4       69.881796\n",
              "          ...    \n",
              "9995    66.172652\n",
              "9996    67.067155\n",
              "9997    63.867992\n",
              "9998    69.034243\n",
              "9999    61.944246\n",
              "Name: Height, Length: 10000, dtype: float64"
            ]
          },
          "metadata": {},
          "execution_count": 88
        }
      ]
    },
    {
      "cell_type": "markdown",
      "source": [
        "### **(1) Population Mean**"
      ],
      "metadata": {
        "id": "jG2iEK1_C-SN"
      }
    },
    {
      "cell_type": "code",
      "source": [
        "\n",
        "'''\n",
        "> For population:\n",
        "\t- data.head()\t#population\n",
        "\t- mu = data.mean()\t#population mean\n",
        "\t- sigma = data.std()\t#population std dev\n",
        "\t- sns.histplot(data)\t#distribution\n",
        "'''"
      ],
      "metadata": {
        "id": "SKxMwab6B5cg",
        "colab": {
          "base_uri": "https://localhost:8080/",
          "height": 55
        },
        "outputId": "7971f7fa-2a3b-4f45-b351-b27e3c289004"
      },
      "execution_count": null,
      "outputs": [
        {
          "output_type": "execute_result",
          "data": {
            "text/plain": [
              "'\\n> For population:\\n\\t- data.head()\\t#population\\n\\t- mu = data.mean()\\t#population mean\\n\\t- sigma = data.std()\\t#population std dev\\n\\t- sns.histplot(data)\\t#distribution\\n'"
            ],
            "application/vnd.google.colaboratory.intrinsic+json": {
              "type": "string"
            }
          },
          "metadata": {},
          "execution_count": 89
        }
      ]
    },
    {
      "cell_type": "code",
      "source": [
        "df_height.head()        # population"
      ],
      "metadata": {
        "id": "aM0gU3rBB5ZK",
        "outputId": "9df1a457-d431-4aec-ec85-8a9bdd7eb568",
        "colab": {
          "base_uri": "https://localhost:8080/"
        }
      },
      "execution_count": null,
      "outputs": [
        {
          "output_type": "execute_result",
          "data": {
            "text/plain": [
              "0    73.847017\n",
              "1    68.781904\n",
              "2    74.110105\n",
              "3    71.730978\n",
              "4    69.881796\n",
              "Name: Height, dtype: float64"
            ]
          },
          "metadata": {},
          "execution_count": 90
        }
      ]
    },
    {
      "cell_type": "code",
      "source": [
        "mu = df_height.mean()         # population mean\n",
        "mu"
      ],
      "metadata": {
        "id": "VeDQAlKTB5U8",
        "outputId": "0dd6706b-f71c-4357-ccff-3b73b84db6c0",
        "colab": {
          "base_uri": "https://localhost:8080/"
        }
      },
      "execution_count": null,
      "outputs": [
        {
          "output_type": "execute_result",
          "data": {
            "text/plain": [
              "66.36755975482124"
            ]
          },
          "metadata": {},
          "execution_count": 91
        }
      ]
    },
    {
      "cell_type": "code",
      "source": [
        "sigma = df_height.std()         # population std dev\n",
        "sigma"
      ],
      "metadata": {
        "id": "iZwTCleYB5RE",
        "outputId": "46b0c30d-048d-4d2b-e834-72a380fbc59e",
        "colab": {
          "base_uri": "https://localhost:8080/"
        }
      },
      "execution_count": null,
      "outputs": [
        {
          "output_type": "execute_result",
          "data": {
            "text/plain": [
              "3.8475281207732293"
            ]
          },
          "metadata": {},
          "execution_count": 92
        }
      ]
    },
    {
      "cell_type": "code",
      "source": [
        "sns.histplot(df_height)         # distribution"
      ],
      "metadata": {
        "id": "VaP4ew-cB5M1",
        "outputId": "1033c012-7199-4589-f2d1-1bee7db270de",
        "colab": {
          "base_uri": "https://localhost:8080/",
          "height": 467
        }
      },
      "execution_count": null,
      "outputs": [
        {
          "output_type": "execute_result",
          "data": {
            "text/plain": [
              "<Axes: xlabel='Height', ylabel='Count'>"
            ]
          },
          "metadata": {},
          "execution_count": 93
        },
        {
          "output_type": "display_data",
          "data": {
            "text/plain": [
              "<Figure size 640x480 with 1 Axes>"
            ],
            "image/png": "[encoded data removed]"
          },
          "metadata": {}
        }
      ]
    },
    {
      "cell_type": "markdown",
      "source": [
        "### **(2) Sample Dataset**"
      ],
      "metadata": {
        "id": "h6Hm-E7RFIcG"
      }
    },
    {
      "cell_type": "markdown",
      "source": [
        "**Analysis of sample size 5**"
      ],
      "metadata": {
        "id": "BhpqpQDDFTxF"
      }
    },
    {
      "cell_type": "code",
      "source": [
        "'''\n",
        "> Analysis of sample size 5:\n",
        "\t- data.sample(5)\t#random selection of 5 rows from the population dataset\n",
        "\t- np.mean(data.sample(5))\t#mean of one sample mean (NOTE: every time, this mean is different & is close to the population mean of 66.3)\n",
        "\t- sample_mean_5 = [np.mean(data.sample(5)) for i in range(20000)]\t#mean of 20000 sample means using list comprehension\n",
        "\t- len(sample_mean_5)\t#length of mean of 20000 sample means\n",
        "\t- sns.histplot(sample_mean_5)\t\t#distribution\n",
        "\t- np.mean(sample_mean_5)\t#Mean of sample means ≈ mean of population\n",
        " \t- np.std(sample_mean_5)\t\t#Std dev of sample < Std dev of population\n",
        " (NOTE: Standard Error (i.e. Standard deviation of the sample mean): As the number of sample size increases, the \"Std dev of sample < Std dev of \tpopulation\".\n",
        "  This is called as \"Standard Error\" with the formula \"sigma/sqrt(n)\")\n",
        "\t- sigma/np.sqrt(5)\t\t#\"Standard Error\" for n = 5\n",
        " '''"
      ],
      "metadata": {
        "id": "i6F6CeWgB5Ix",
        "colab": {
          "base_uri": "https://localhost:8080/",
          "height": 147
        },
        "outputId": "cc1fe0b7-1d45-4142-d29f-9858450de051"
      },
      "execution_count": null,
      "outputs": [
        {
          "output_type": "execute_result",
          "data": {
            "text/plain": [
              "'\\n> Analysis of sample size 5:\\n\\t- data.sample(5)\\t#random selection of 5 rows from the population dataset\\n\\t- np.mean(data.sample(5))\\t#mean of one sample mean (NOTE: every time, this mean is different & is close to the population mean of 66.3)\\n\\t- sample_mean_5 = [np.mean(data.sample(5)) for i in range(20000)]\\t#mean of 20000 sample means using list comprehension\\n\\t- len(sample_mean_5)\\t#length of mean of 20000 sample means\\n\\t- sns.histplot(sample_mean_5)\\t\\t#distribution\\n\\t- np.mean(sample_mean_5)\\t#Mean of sample means ≈ mean of population\\n \\t- np.std(sample_mean_5)\\t\\t#Std dev of sample < Std dev of population\\n (NOTE: Standard Error (i.e. Standard deviation of the sample mean): As the number of sample size increases, the \"Std dev of sample < Std dev of \\tpopulation\".\\n  This is called as \"Standard Error\" with the formula \"sigma/sqrt(n)\")\\n\\t- sigma/np.sqrt(5)\\t\\t#\"Standard Error\" for n = 5\\n '"
            ],
            "application/vnd.google.colaboratory.intrinsic+json": {
              "type": "string"
            }
          },
          "metadata": {},
          "execution_count": 94
        }
      ]
    },
    {
      "cell_type": "code",
      "source": [
        "df_height.head()"
      ],
      "metadata": {
        "id": "MSM_OmuvB5EU",
        "outputId": "447a6973-7eb1-4c37-9a27-1054cee5b68b",
        "colab": {
          "base_uri": "https://localhost:8080/"
        }
      },
      "execution_count": null,
      "outputs": [
        {
          "output_type": "execute_result",
          "data": {
            "text/plain": [
              "0    73.847017\n",
              "1    68.781904\n",
              "2    74.110105\n",
              "3    71.730978\n",
              "4    69.881796\n",
              "Name: Height, dtype: float64"
            ]
          },
          "metadata": {},
          "execution_count": 95
        }
      ]
    },
    {
      "cell_type": "code",
      "source": [
        "df_height.sample(5)         # random selection of 5 rows from the population dataset"
      ],
      "metadata": {
        "id": "DObwQxSqB497",
        "outputId": "552b6da4-6854-430f-bc4e-4b4c8265ac98",
        "colab": {
          "base_uri": "https://localhost:8080/"
        }
      },
      "execution_count": null,
      "outputs": [
        {
          "output_type": "execute_result",
          "data": {
            "text/plain": [
              "5523    68.259311\n",
              "8716    64.741425\n",
              "3074    68.858680\n",
              "4551    68.186157\n",
              "14      69.243732\n",
              "Name: Height, dtype: float64"
            ]
          },
          "metadata": {},
          "execution_count": 96
        }
      ]
    },
    {
      "cell_type": "code",
      "source": [
        "np.mean(df_height.sample(5))        # mean of one sample mean (NOTE: every time, this mean is different & is close to the population mean of 66.3)"
      ],
      "metadata": {
        "id": "tfKGdkIqB46p",
        "outputId": "1f8a6ee5-8eb5-4ea0-b08c-30ed21e2cab4",
        "colab": {
          "base_uri": "https://localhost:8080/"
        }
      },
      "execution_count": null,
      "outputs": [
        {
          "output_type": "execute_result",
          "data": {
            "text/plain": [
              "68.70616213546569"
            ]
          },
          "metadata": {},
          "execution_count": 97
        }
      ]
    },
    {
      "cell_type": "code",
      "source": [
        "sample_mean_5 = [np.mean(df_height.sample(5)) for i in range(20000)]          # \"List Comprehension\" - mean of 20000 sample means\n",
        "len(sample_mean_5)          # each of these numbers represents a sample mean of sample size 5\n",
        "sns.histplot(sample_mean_5)         # distribution"
      ],
      "metadata": {
        "id": "ydURLsGvB43Y",
        "outputId": "5b4911eb-bef0-4933-f48b-20acd0568528",
        "colab": {
          "base_uri": "https://localhost:8080/",
          "height": 448
        }
      },
      "execution_count": null,
      "outputs": [
        {
          "output_type": "execute_result",
          "data": {
            "text/plain": [
              "<Axes: ylabel='Count'>"
            ]
          },
          "metadata": {},
          "execution_count": 98
        },
        {
          "output_type": "display_data",
          "data": {
            "text/plain": [
              "<Figure size 640x480 with 1 Axes>"
            ],
            "image/png": "[encoded data removed]"
          },
          "metadata": {}
        }
      ]
    },
    {
      "cell_type": "code",
      "source": [
        "np.mean(sample_mean_5)          # Mean of sample means ≈ mean of population"
      ],
      "metadata": {
        "id": "lOwb-v-mB4ut",
        "outputId": "5be7453a-48e0-4615-9507-92d401c1c0af",
        "colab": {
          "base_uri": "https://localhost:8080/"
        }
      },
      "execution_count": null,
      "outputs": [
        {
          "output_type": "execute_result",
          "data": {
            "text/plain": [
              "66.4003074791223"
            ]
          },
          "metadata": {},
          "execution_count": 99
        }
      ]
    },
    {
      "cell_type": "code",
      "source": [
        "np.std(sample_mean_5)         # Std dev of sample < Std dev of population"
      ],
      "metadata": {
        "id": "4mCfsa1cB4rY",
        "outputId": "1d9c8320-ec98-4466-abac-ea106227e8ba",
        "colab": {
          "base_uri": "https://localhost:8080/"
        }
      },
      "execution_count": null,
      "outputs": [
        {
          "output_type": "execute_result",
          "data": {
            "text/plain": [
              "1.727190461055194"
            ]
          },
          "metadata": {},
          "execution_count": 100
        }
      ]
    },
    {
      "cell_type": "code",
      "source": [
        "# (sigma = std of the population) / (square root of sample size)\n",
        "sigma/np.sqrt(5)          # \"Standard Error\" for n = 5"
      ],
      "metadata": {
        "id": "Gx6hIw8eHW86",
        "outputId": "d60fe0fb-5e3e-4063-ef1f-5574870c6c80",
        "colab": {
          "base_uri": "https://localhost:8080/"
        }
      },
      "execution_count": null,
      "outputs": [
        {
          "output_type": "execute_result",
          "data": {
            "text/plain": [
              "1.7206668846781923"
            ]
          },
          "metadata": {},
          "execution_count": 101
        }
      ]
    },
    {
      "cell_type": "markdown",
      "source": [
        "**Analysis of sample size 20**"
      ],
      "metadata": {
        "id": "ThyHnWe5wNbS"
      }
    },
    {
      "cell_type": "code",
      "source": [
        "\n",
        "'''\n",
        "> Analysis of sample size 20:\n",
        "\t- (Same as above steps but take the random selection of 20 rows)\n",
        "'''"
      ],
      "metadata": {
        "id": "YbhOsoLAHm0r",
        "colab": {
          "base_uri": "https://localhost:8080/",
          "height": 36
        },
        "outputId": "2976abca-21b3-4711-dbb1-74a9f5a00677"
      },
      "execution_count": null,
      "outputs": [
        {
          "output_type": "execute_result",
          "data": {
            "text/plain": [
              "'\\n> Analysis of sample size 20:\\n\\t- (Same as above steps but take the random selection of 20 rows)\\n'"
            ],
            "application/vnd.google.colaboratory.intrinsic+json": {
              "type": "string"
            }
          },
          "metadata": {},
          "execution_count": 102
        }
      ]
    },
    {
      "cell_type": "code",
      "source": [
        "df_height.sample(20) #random selection of 20 rows"
      ],
      "metadata": {
        "colab": {
          "base_uri": "https://localhost:8080/"
        },
        "id": "nYMzpfCowWSP",
        "outputId": "ad8b3f05-4124-48c8-957d-8fc489cbc7f0"
      },
      "execution_count": null,
      "outputs": [
        {
          "output_type": "execute_result",
          "data": {
            "text/plain": [
              "3084    65.914971\n",
              "6077    61.781452\n",
              "9981    60.443264\n",
              "1298    69.702258\n",
              "8440    61.662367\n",
              "9455    63.571404\n",
              "8630    68.423169\n",
              "3221    64.766566\n",
              "5007    65.652156\n",
              "2671    66.351331\n",
              "3659    70.485749\n",
              "4829    70.378608\n",
              "5146    65.182239\n",
              "869     67.697104\n",
              "7209    61.309108\n",
              "9915    60.063144\n",
              "6098    66.813681\n",
              "4266    71.879538\n",
              "9751    65.908350\n",
              "7807    62.409264\n",
              "Name: Height, dtype: float64"
            ]
          },
          "metadata": {},
          "execution_count": 103
        }
      ]
    },
    {
      "cell_type": "code",
      "source": [
        "np.mean(df_height.sample(20))"
      ],
      "metadata": {
        "colab": {
          "base_uri": "https://localhost:8080/"
        },
        "id": "0pVnjjHMxIeJ",
        "outputId": "f9edb28e-029f-43e5-c063-2e96efa1dad6"
      },
      "execution_count": null,
      "outputs": [
        {
          "output_type": "execute_result",
          "data": {
            "text/plain": [
              "66.67154668729111"
            ]
          },
          "metadata": {},
          "execution_count": 104
        }
      ]
    },
    {
      "cell_type": "code",
      "source": [
        "sample_mean_20 = [np.mean(df_height.sample(20))  for i in range(20000)]"
      ],
      "metadata": {
        "id": "uLiXkM9oxIbP"
      },
      "execution_count": null,
      "outputs": []
    },
    {
      "cell_type": "code",
      "source": [
        "len(sample_mean_20)"
      ],
      "metadata": {
        "colab": {
          "base_uri": "https://localhost:8080/"
        },
        "id": "cRQ54bmixIXp",
        "outputId": "562eae4c-c10a-4f6c-c354-13d857f7c72a"
      },
      "execution_count": null,
      "outputs": [
        {
          "output_type": "execute_result",
          "data": {
            "text/plain": [
              "20000"
            ]
          },
          "metadata": {},
          "execution_count": 106
        }
      ]
    },
    {
      "cell_type": "code",
      "source": [
        "sns.histplot(sample_mean_20)"
      ],
      "metadata": {
        "colab": {
          "base_uri": "https://localhost:8080/",
          "height": 448
        },
        "id": "-Yzs5AlfxIT-",
        "outputId": "6358640a-31e1-4243-b7ec-73a3eb5e0a07"
      },
      "execution_count": null,
      "outputs": [
        {
          "output_type": "execute_result",
          "data": {
            "text/plain": [
              "<Axes: ylabel='Count'>"
            ]
          },
          "metadata": {},
          "execution_count": 107
        },
        {
          "output_type": "display_data",
          "data": {
            "text/plain": [
              "<Figure size 640x480 with 1 Axes>"
            ],
            "image/png": "[encoded data removed]"
          },
          "metadata": {}
        }
      ]
    },
    {
      "cell_type": "code",
      "source": [
        "np.mean(sample_mean_20)"
      ],
      "metadata": {
        "colab": {
          "base_uri": "https://localhost:8080/"
        },
        "id": "1kBNI9KRxIP4",
        "outputId": "98c5df1c-31c9-4079-ad3f-7ddc5ad8c2b0"
      },
      "execution_count": null,
      "outputs": [
        {
          "output_type": "execute_result",
          "data": {
            "text/plain": [
              "66.36741057999943"
            ]
          },
          "metadata": {},
          "execution_count": 108
        }
      ]
    },
    {
      "cell_type": "code",
      "source": [
        "np.std(sample_mean_20)"
      ],
      "metadata": {
        "colab": {
          "base_uri": "https://localhost:8080/"
        },
        "id": "av8AMiVkxIMv",
        "outputId": "395cb227-30bf-488a-be26-bc26a7a3c14d"
      },
      "execution_count": null,
      "outputs": [
        {
          "output_type": "execute_result",
          "data": {
            "text/plain": [
              "0.867169335542693"
            ]
          },
          "metadata": {},
          "execution_count": 109
        }
      ]
    },
    {
      "cell_type": "code",
      "source": [
        "sigma/np.sqrt(20) #standard error for n = 20"
      ],
      "metadata": {
        "colab": {
          "base_uri": "https://localhost:8080/"
        },
        "id": "AVNnkND4xIJz",
        "outputId": "a4aef240-b6ac-44ac-f425-b74eb16288b3"
      },
      "execution_count": null,
      "outputs": [
        {
          "output_type": "execute_result",
          "data": {
            "text/plain": [
              "0.8603334423390961"
            ]
          },
          "metadata": {},
          "execution_count": 110
        }
      ]
    },
    {
      "cell_type": "markdown",
      "source": [
        "**Analysis of sample size 100**"
      ],
      "metadata": {
        "id": "tUGlPkJ5xbqu"
      }
    },
    {
      "cell_type": "code",
      "source": [
        "'''\n",
        "> Analysis of sample size 100:\n",
        "\t- (Same as above steps but take the random selection of 100 rows)\n",
        "'''"
      ],
      "metadata": {
        "colab": {
          "base_uri": "https://localhost:8080/",
          "height": 36
        },
        "id": "kKw3YR04xIGU",
        "outputId": "12fae16e-df51-4095-f20e-ea8f758f4636"
      },
      "execution_count": null,
      "outputs": [
        {
          "output_type": "execute_result",
          "data": {
            "text/plain": [
              "'\\n> Analysis of sample size 100:\\n\\t- (Same as above steps but take the random selection of 100 rows)\\n'"
            ],
            "application/vnd.google.colaboratory.intrinsic+json": {
              "type": "string"
            }
          },
          "metadata": {},
          "execution_count": 111
        }
      ]
    },
    {
      "cell_type": "code",
      "source": [
        "np.mean(df_height.sample(100))"
      ],
      "metadata": {
        "colab": {
          "base_uri": "https://localhost:8080/"
        },
        "id": "5H3sVfdfxIDN",
        "outputId": "9aeb2755-e989-4b66-af54-9e1ac11c687d"
      },
      "execution_count": null,
      "outputs": [
        {
          "output_type": "execute_result",
          "data": {
            "text/plain": [
              "66.22824102049599"
            ]
          },
          "metadata": {},
          "execution_count": 112
        }
      ]
    },
    {
      "cell_type": "code",
      "source": [
        "sample_mean_100 = [np.mean(df_height.sample(100))  for i in range(20000)]"
      ],
      "metadata": {
        "id": "ToJ6IQKjxH_2"
      },
      "execution_count": null,
      "outputs": []
    },
    {
      "cell_type": "code",
      "source": [
        "len(sample_mean_100)"
      ],
      "metadata": {
        "colab": {
          "base_uri": "https://localhost:8080/"
        },
        "id": "1MjM7c0ixH8D",
        "outputId": "135edeb6-4964-4adb-d17b-1b3442ee8dd4"
      },
      "execution_count": null,
      "outputs": [
        {
          "output_type": "execute_result",
          "data": {
            "text/plain": [
              "20000"
            ]
          },
          "metadata": {},
          "execution_count": 114
        }
      ]
    },
    {
      "cell_type": "code",
      "source": [
        "sns.histplot(sample_mean_100)"
      ],
      "metadata": {
        "colab": {
          "base_uri": "https://localhost:8080/",
          "height": 448
        },
        "id": "IK8eNQrsxH49",
        "outputId": "2574e7d6-882d-4ea0-ce13-90a16955c35e"
      },
      "execution_count": null,
      "outputs": [
        {
          "output_type": "execute_result",
          "data": {
            "text/plain": [
              "<Axes: ylabel='Count'>"
            ]
          },
          "metadata": {},
          "execution_count": 115
        },
        {
          "output_type": "display_data",
          "data": {
            "text/plain": [
              "<Figure size 640x480 with 1 Axes>"
            ],
            "image/png": "[encoded data removed]"
          },
          "metadata": {}
        }
      ]
    },
    {
      "cell_type": "code",
      "source": [
        "np.mean(sample_mean_100)"
      ],
      "metadata": {
        "colab": {
          "base_uri": "https://localhost:8080/"
        },
        "id": "BdGVYM2rxoq_",
        "outputId": "c86b993d-8791-41e8-8b88-e7fd00207046"
      },
      "execution_count": null,
      "outputs": [
        {
          "output_type": "execute_result",
          "data": {
            "text/plain": [
              "66.36269185132467"
            ]
          },
          "metadata": {},
          "execution_count": 116
        }
      ]
    },
    {
      "cell_type": "code",
      "source": [
        "np.std(sample_mean_100)"
      ],
      "metadata": {
        "colab": {
          "base_uri": "https://localhost:8080/"
        },
        "id": "_MTI6Lwgxonm",
        "outputId": "35a21ca4-43ae-4b24-d710-6f05646a986b"
      },
      "execution_count": null,
      "outputs": [
        {
          "output_type": "execute_result",
          "data": {
            "text/plain": [
              "0.38144237730716213"
            ]
          },
          "metadata": {},
          "execution_count": 117
        }
      ]
    },
    {
      "cell_type": "code",
      "source": [
        "sigma/np.sqrt(100)  #standard error for n = 100"
      ],
      "metadata": {
        "colab": {
          "base_uri": "https://localhost:8080/"
        },
        "id": "gMtdHU1CxokO",
        "outputId": "75e363fb-06e5-434e-c6fb-03703a744803"
      },
      "execution_count": null,
      "outputs": [
        {
          "output_type": "execute_result",
          "data": {
            "text/plain": [
              "0.3847528120773229"
            ]
          },
          "metadata": {},
          "execution_count": 118
        }
      ]
    },
    {
      "cell_type": "markdown",
      "source": [
        "**Standard-Error (i.e. standard deviation of Sample Means)**\n",
        "\n",
        "As the **sampe size ↑** , the **standard deviation of sample mean ↓** , which is also known as **\"Standard Error\"**."
      ],
      "metadata": {
        "id": "kDix_bK_3YAm"
      }
    },
    {
      "cell_type": "markdown",
      "source": [
        "### **(3) Formula & Industry Standards**"
      ],
      "metadata": {
        "id": "OEJQAbPb3lal"
      }
    },
    {
      "cell_type": "code",
      "source": [
        "'''\n",
        "Formula:\n",
        "\tLet \"x̄ = (x1+x2+x3+...+xn)/n\" denotes the sample mean.\n",
        "\tThen x̄ follows a normal/gaussian distribution with expected mean.\n",
        "\tThat is, \"E(x̄)=μ\" where \"E(x̄)\" is expected mean and \"μ\" is population mean.\n",
        "\tAnd, Standard deviation of \"x̄ = σ / √n\"\n",
        "In other words, x̄ ≈ N(μ, σ/√n)\n",
        "\tThat is, x̄ follows a Normal/Gaussian Distribution as \"N\" with mean as \"μ\" and std dev as \"σ/√n\"\n",
        "'''"
      ],
      "metadata": {
        "id": "4qeYKSHkxogy"
      },
      "execution_count": null,
      "outputs": []
    },
    {
      "cell_type": "markdown",
      "source": [
        "### **(4) When will dataset be \"Gaussian Distributed/Normal\" ???**\n",
        "**`Very IMP:`**         \n",
        "When ever you take a **sample size of the dataset greater than 30**, then given any dataset which is **either Gaussian Distributed or Not**, when we take a **sample mean and plot the means of the samples**, then it becomes **\"Gaussian Distribution/Normal\"**."
      ],
      "metadata": {
        "id": "xGM4ezOY30lN"
      }
    },
    {
      "cell_type": "code",
      "source": [
        "'''\n",
        "NOTE: If n is large (n > 30), then sigma \"σ\" is finite. That is, original distribution need not be normal distribution...\n",
        "'''"
      ],
      "metadata": {
        "id": "ceAz23CK3w8Q"
      },
      "execution_count": null,
      "outputs": []
    },
    {
      "cell_type": "markdown",
      "source": [
        "### **(5) Quizzes**"
      ],
      "metadata": {
        "id": "yuYpSl4J4H7B"
      }
    },
    {
      "cell_type": "code",
      "source": [
        "# Quiz-1\n",
        "'''\n",
        "Systolic blood pressure of a group of people is known to have an average of 122 mmHg and a standard deviation of 10 mmHg. (assume normal distribution)\n",
        "Calculate the probability that the average blood pressure of 16 people will be greater than 125mmHg.\n",
        "'''"
      ],
      "metadata": {
        "id": "98iJSoS04GtY"
      },
      "execution_count": null,
      "outputs": []
    },
    {
      "cell_type": "code",
      "source": [
        "z = (125 - 122)/2.5       #Z-Score"
      ],
      "metadata": {
        "id": "I3oBZwct4R_A"
      },
      "execution_count": null,
      "outputs": []
    },
    {
      "cell_type": "code",
      "source": [
        "ans = 1 - norm.cdf(z)       #Fraction value on y-axis"
      ],
      "metadata": {
        "id": "4GLH6ahT4WBA"
      },
      "execution_count": null,
      "outputs": []
    },
    {
      "cell_type": "code",
      "source": [
        "print(ans)"
      ],
      "metadata": {
        "colab": {
          "base_uri": "https://localhost:8080/"
        },
        "id": "Fl8CS3J-4XWI",
        "outputId": "ebd84a35-b1ee-42d0-8a6a-651f645b6ac9"
      },
      "execution_count": null,
      "outputs": [
        {
          "output_type": "stream",
          "name": "stdout",
          "text": [
            "0.11506967022170822\n"
          ]
        }
      ]
    },
    {
      "cell_type": "code",
      "source": [
        "# Quiz-2\n",
        "'''\n",
        "Weekly toothpaste sales have a mean 1000 and std dev 200. (assume normal distri)\n",
        "What is the probability that the average weekly sales next month is more than 1110?\n",
        "'''"
      ],
      "metadata": {
        "id": "ox1891yk4aBH"
      },
      "execution_count": null,
      "outputs": []
    },
    {
      "cell_type": "code",
      "source": [
        "std_err = 200/np.sqrt(4)"
      ],
      "metadata": {
        "id": "On2icak64feB"
      },
      "execution_count": null,
      "outputs": []
    },
    {
      "cell_type": "code",
      "source": [
        "z = (1110 - 1000)/std_err"
      ],
      "metadata": {
        "id": "iYeSqrz64laP"
      },
      "execution_count": null,
      "outputs": []
    },
    {
      "cell_type": "code",
      "source": [
        "prob_less = norm.cdf(z)"
      ],
      "metadata": {
        "id": "15LW8d8i4n2w"
      },
      "execution_count": null,
      "outputs": []
    },
    {
      "cell_type": "code",
      "source": [
        "prob_more = 1 - prob_less"
      ],
      "metadata": {
        "id": "I8HPqbbd4poX"
      },
      "execution_count": null,
      "outputs": []
    },
    {
      "cell_type": "code",
      "source": [
        "prob_more"
      ],
      "metadata": {
        "colab": {
          "base_uri": "https://localhost:8080/"
        },
        "id": "1QOKxRKs4rFI",
        "outputId": "c43a9640-148a-4194-a092-7f168f87d63b"
      },
      "execution_count": null,
      "outputs": [
        {
          "output_type": "execute_result",
          "data": {
            "text/plain": [
              "0.13566606094638267"
            ]
          },
          "metadata": {},
          "execution_count": 132
        }
      ]
    },
    {
      "cell_type": "markdown",
      "source": [
        "### **`[IMP]`: Customized Code as per Industry Standard**"
      ],
      "metadata": {
        "id": "pOmS8nhK4vSV"
      }
    },
    {
      "cell_type": "code",
      "source": [
        "'''\n",
        "Customized Code:\n",
        "---------------------\n",
        "\tdef clt_prob(mu , sigma, n, obs):\n",
        "  \t\tstd_err = sigma/np.sqrt(n)\n",
        "  \t\tz = (obs - mu)/std_err\n",
        "  \t\tprob_less = norm.cdf(z)\n",
        "  \t\tprob_greater = 1 - norm.cdf(z)\n",
        "  \t\treturn prob_less, prob_greater\n",
        "\t#blood pressure\n",
        "\tclt_prob(122, 10, 16, 125)\n",
        "\t#toothpaste\n",
        "\tclt_prob(1000, 200, 4, 1110)\n",
        "'''"
      ],
      "metadata": {
        "id": "xw9BKFDX4skY"
      },
      "execution_count": null,
      "outputs": []
    },
    {
      "cell_type": "code",
      "source": [
        "def clt_prob(mu , sigma, n, obs):\n",
        "  std_err = sigma/np.sqrt(n)\n",
        "  z = (obs - mu)/std_err\n",
        "  prob_less = norm.cdf(z)\n",
        "  prob_greater = 1 - norm.cdf(z)\n",
        "  return prob_less, prob_greater"
      ],
      "metadata": {
        "id": "gSxpjLGa44qP"
      },
      "execution_count": null,
      "outputs": []
    },
    {
      "cell_type": "code",
      "source": [
        "#blood pressure\n",
        "clt_prob(122, 10, 16, 125)"
      ],
      "metadata": {
        "colab": {
          "base_uri": "https://localhost:8080/"
        },
        "id": "fDvjsLDk48TH",
        "outputId": "da8c6c6f-77bc-4936-a580-b8b5ad8c2fc1"
      },
      "execution_count": null,
      "outputs": [
        {
          "output_type": "execute_result",
          "data": {
            "text/plain": [
              "(0.8849303297782918, 0.11506967022170822)"
            ]
          },
          "metadata": {},
          "execution_count": 135
        }
      ]
    },
    {
      "cell_type": "code",
      "source": [
        "#toothpaste\n",
        "clt_prob(1000, 200, 4, 1110)"
      ],
      "metadata": {
        "colab": {
          "base_uri": "https://localhost:8080/"
        },
        "id": "9gZ0Q6Jr4-TA",
        "outputId": "7cfafc32-6acf-460e-8897-818995901f8c"
      },
      "execution_count": null,
      "outputs": [
        {
          "output_type": "execute_result",
          "data": {
            "text/plain": [
              "(0.8643339390536173, 0.13566606094638267)"
            ]
          },
          "metadata": {},
          "execution_count": 136
        }
      ]
    },
    {
      "cell_type": "code",
      "source": [
        "# Quiz-3\n",
        "'''\n",
        "In an e-commerce website, the average purchase amount per customer is\n",
        "15.\n",
        "If we randomly select a sample of 50 customers,\n",
        "what is the probability that the average purchase amount in the sample will be less than $75?\n",
        "'''"
      ],
      "metadata": {
        "id": "ZOSGSkPL5AOp"
      },
      "execution_count": null,
      "outputs": []
    },
    {
      "cell_type": "code",
      "source": [
        "clt_prob(80, 15, 50, 75)"
      ],
      "metadata": {
        "colab": {
          "base_uri": "https://localhost:8080/"
        },
        "id": "LVB3u0iX5DyI",
        "outputId": "a3c43373-c3a9-4ad6-be2d-a56513ad4086"
      },
      "execution_count": null,
      "outputs": [
        {
          "output_type": "execute_result",
          "data": {
            "text/plain": [
              "(0.009211062727049501, 0.9907889372729505)"
            ]
          },
          "metadata": {},
          "execution_count": 138
        }
      ]
    },
    {
      "cell_type": "code",
      "source": [],
      "metadata": {
        "id": "w4U-G_3u5GxQ"
      },
      "execution_count": null,
      "outputs": []
    },
    {
      "cell_type": "code",
      "source": [],
      "metadata": {
        "id": "SODLfIfv0FsT"
      },
      "execution_count": null,
      "outputs": []
    },
    {
      "cell_type": "markdown",
      "source": [
        "# <center>`Part 2.4:` **Confidence interval**</center>\n",
        "***"
      ],
      "metadata": {
        "id": "p9uDN-1P0GAC"
      }
    },
    {
      "cell_type": "code",
      "source": [
        "from scipy.stats import norm"
      ],
      "metadata": {
        "id": "vy9dXQZh0FZY"
      },
      "execution_count": null,
      "outputs": []
    },
    {
      "cell_type": "markdown",
      "source": [
        "## **Recap - Gaussian and CLT**\n",
        "\n"
      ],
      "metadata": {
        "id": "YFpdfW7OlPeF"
      }
    },
    {
      "cell_type": "markdown",
      "source": [
        "### **Purchase time**\n",
        "\n",
        "The average time taken for customers to complete a purchase is 4 minutes with a standard deviation of 1 minute. Find the probability that a randomly selected customer will complete a purchase within 6 minutes?\n",
        "Assume Gaussian"
      ],
      "metadata": {
        "id": "UgyYFE9pusAP"
      }
    },
    {
      "cell_type": "code",
      "source": [
        "z = (6-4)/1"
      ],
      "metadata": {
        "id": "u74F8qjljCQl"
      },
      "execution_count": null,
      "outputs": []
    },
    {
      "cell_type": "code",
      "source": [
        "norm.cdf(z)"
      ],
      "metadata": {
        "id": "FUNedcwOjGjl",
        "outputId": "db744e1f-fbff-495f-b928-34d5ded838f5",
        "colab": {
          "base_uri": "https://localhost:8080/"
        }
      },
      "execution_count": null,
      "outputs": [
        {
          "output_type": "execute_result",
          "data": {
            "text/plain": [
              "0.9772498680518208"
            ]
          },
          "metadata": {},
          "execution_count": 5
        }
      ]
    },
    {
      "cell_type": "code",
      "source": [
        "# In short:\n",
        "norm.cdf((6 - 4) / (1))"
      ],
      "metadata": {
        "id": "hKrpejXwljfX",
        "outputId": "426a831b-00fe-40ef-b9e0-3ca7a8ff4a6a",
        "colab": {
          "base_uri": "https://localhost:8080/"
        }
      },
      "execution_count": null,
      "outputs": [
        {
          "output_type": "execute_result",
          "data": {
            "text/plain": [
              "0.9772498680518208"
            ]
          },
          "metadata": {},
          "execution_count": 47
        }
      ]
    },
    {
      "cell_type": "markdown",
      "source": [
        "What is the probability that the average time of the next 5 customers is less than 6 minutes?\n"
      ],
      "metadata": {
        "id": "fwy6I7vHjK2r"
      }
    },
    {
      "cell_type": "code",
      "source": [
        "sigma = 1\n",
        "n = 5\n",
        "sigma_sample = sigma/np.sqrt(n)\n",
        "z = (6-4)/sigma_sample\n",
        "\n",
        "norm.cdf(z)"
      ],
      "metadata": {
        "id": "Ny0rEerMjKg0",
        "outputId": "ebaacbff-8c48-48a8-c14e-5a5704aa55a1",
        "colab": {
          "base_uri": "https://localhost:8080/"
        }
      },
      "execution_count": null,
      "outputs": [
        {
          "output_type": "execute_result",
          "data": {
            "text/plain": [
              "0.9999961278917845"
            ]
          },
          "metadata": {},
          "execution_count": 6
        }
      ]
    },
    {
      "cell_type": "code",
      "source": [
        "# In short:\n",
        "norm.cdf((6 - 4) / (1/np.sqrt(5)))"
      ],
      "metadata": {
        "id": "Vd9Nr3o8ltaF",
        "outputId": "825993f1-4c0c-4e51-8d17-2e48ef9d7b91",
        "colab": {
          "base_uri": "https://localhost:8080/"
        }
      },
      "execution_count": null,
      "outputs": [
        {
          "output_type": "execute_result",
          "data": {
            "text/plain": [
              "0.9999961278917845"
            ]
          },
          "metadata": {},
          "execution_count": 49
        }
      ]
    },
    {
      "cell_type": "markdown",
      "source": [
        "### **Purchase amount**\n",
        "The average order value on an e-commerce website is 50, with a standard deviation of 5. What is the probability that a randomly selected order will have a value exceeding 60?"
      ],
      "metadata": {
        "id": "hBuzxHJejQaj"
      }
    },
    {
      "cell_type": "code",
      "source": [
        "z = (60-50)/5\n",
        "1- norm.cdf(z)"
      ],
      "metadata": {
        "id": "4Ho8wKi3jIhO",
        "outputId": "753e8ed7-3cc3-4102-e945-fc92491a83a8",
        "colab": {
          "base_uri": "https://localhost:8080/"
        }
      },
      "execution_count": null,
      "outputs": [
        {
          "output_type": "execute_result",
          "data": {
            "text/plain": [
              "0.02275013194817921"
            ]
          },
          "metadata": {},
          "execution_count": 7
        }
      ]
    },
    {
      "cell_type": "code",
      "source": [
        "# In short:\n",
        "1 - norm.cdf((60-50)/(5))"
      ],
      "metadata": {
        "id": "Rq4ANtfwl50o",
        "outputId": "d7984e8f-61cf-466e-d181-f303e9cf9074",
        "colab": {
          "base_uri": "https://localhost:8080/"
        }
      },
      "execution_count": null,
      "outputs": [
        {
          "output_type": "execute_result",
          "data": {
            "text/plain": [
              "0.02275013194817921"
            ]
          },
          "metadata": {},
          "execution_count": 50
        }
      ]
    },
    {
      "cell_type": "markdown",
      "source": [
        "The average order value on an e-commerce website is 50, with a standard deviation of 5. What is the probability that the average of the next 3 orders exceeds 60?"
      ],
      "metadata": {
        "id": "aYgtuevLjVKa"
      }
    },
    {
      "cell_type": "code",
      "source": [
        "sigma = 5\n",
        "n = 3\n",
        "sigma_sample = sigma/np.sqrt(n)\n",
        "z = (60-50)/sigma_sample\n",
        "1 - norm.cdf(z)"
      ],
      "metadata": {
        "id": "ZP8L11J1jSYR",
        "outputId": "9a896723-3389-42ec-f0e2-3725c1c4048d",
        "colab": {
          "base_uri": "https://localhost:8080/"
        }
      },
      "execution_count": null,
      "outputs": [
        {
          "output_type": "execute_result",
          "data": {
            "text/plain": [
              "0.00026600275256960515"
            ]
          },
          "metadata": {},
          "execution_count": 8
        }
      ]
    },
    {
      "cell_type": "code",
      "source": [
        "# In short:\n",
        "1 - norm.cdf((60-50)/(5/np.sqrt(3)))"
      ],
      "metadata": {
        "id": "jsNUE6hEmAwC",
        "outputId": "e2c75ef7-c093-455b-d7a2-c0b626db840c",
        "colab": {
          "base_uri": "https://localhost:8080/"
        }
      },
      "execution_count": null,
      "outputs": [
        {
          "output_type": "execute_result",
          "data": {
            "text/plain": [
              "0.00026600275256960515"
            ]
          },
          "metadata": {},
          "execution_count": 51
        }
      ]
    },
    {
      "cell_type": "markdown",
      "source": [
        "### **Body temperature**\n",
        "Average body temperature has a mean of 98.6°F and a standard deviation of 0.5°F. What is the probability that a randomly chosen patient has a body temperature higher than 99.5°F?"
      ],
      "metadata": {
        "id": "7qZvkye-jZeR"
      }
    },
    {
      "cell_type": "code",
      "source": [
        "1 - norm.cdf((99.5 - 98.6)/0.5)"
      ],
      "metadata": {
        "id": "9AJ2yfCOjXYK",
        "outputId": "0deddb8d-f602-4ef1-a374-5cda44892c5d",
        "colab": {
          "base_uri": "https://localhost:8080/"
        }
      },
      "execution_count": null,
      "outputs": [
        {
          "output_type": "execute_result",
          "data": {
            "text/plain": [
              "0.03593031911292488"
            ]
          },
          "metadata": {},
          "execution_count": 10
        }
      ]
    },
    {
      "cell_type": "markdown",
      "source": [
        "## **Confidence Interval using CLT**\n",
        "\n",
        "### **Height**\n",
        "\n",
        "The mean height of a sample of 100 adults was found to be 65 inches, with a standard deviation of 2.5 inches. What is the mean height of the population?"
      ],
      "metadata": {
        "id": "K21bXoXyjeNJ"
      }
    },
    {
      "cell_type": "code",
      "source": [
        "sigma = 2.5     # sample standard deviation\n",
        "sample_mean = 65\n",
        "n = 100"
      ],
      "metadata": {
        "id": "XOO9r1HejbAS"
      },
      "execution_count": null,
      "outputs": []
    },
    {
      "cell_type": "code",
      "source": [
        "std_error = sigma/np.sqrt(n)\n",
        "std_error"
      ],
      "metadata": {
        "id": "SeM5UuinjhDS",
        "outputId": "47c10635-e098-4b39-ff8a-1dd92f47922b",
        "colab": {
          "base_uri": "https://localhost:8080/"
        }
      },
      "execution_count": null,
      "outputs": [
        {
          "output_type": "execute_result",
          "data": {
            "text/plain": [
              "0.25"
            ]
          },
          "metadata": {},
          "execution_count": 12
        }
      ]
    },
    {
      "cell_type": "code",
      "source": [
        "# NOTE: We need to find 95% condifence interval & due to which on the left side of the Gaussian distribution will be 2.5% and on the right side 2.5%, which makes it 5% total.\n",
        "z1 = norm.ppf(0.025)\n",
        "z1"
      ],
      "metadata": {
        "id": "pzDQtCtTjkRj",
        "outputId": "5f43f2ab-5a79-4fdf-fa88-06179f54aa67",
        "colab": {
          "base_uri": "https://localhost:8080/"
        }
      },
      "execution_count": null,
      "outputs": [
        {
          "output_type": "execute_result",
          "data": {
            "text/plain": [
              "-1.9599639845400545"
            ]
          },
          "metadata": {},
          "execution_count": 13
        }
      ]
    },
    {
      "cell_type": "code",
      "source": [
        "z2 = norm.ppf(0.975)\n",
        "z2"
      ],
      "metadata": {
        "id": "jy1qX34UjnL5",
        "outputId": "4b34425b-834c-4e4f-bdc2-c00500c60ec5",
        "colab": {
          "base_uri": "https://localhost:8080/"
        }
      },
      "execution_count": null,
      "outputs": [
        {
          "output_type": "execute_result",
          "data": {
            "text/plain": [
              "1.959963984540054"
            ]
          },
          "metadata": {},
          "execution_count": 14
        }
      ]
    },
    {
      "cell_type": "code",
      "source": [
        "x1 = 65 + z1 * std_error\n",
        "x1"
      ],
      "metadata": {
        "id": "q_BMdLopjohR",
        "outputId": "88ea1923-00b6-4396-b0fc-06f31423843c",
        "colab": {
          "base_uri": "https://localhost:8080/"
        }
      },
      "execution_count": null,
      "outputs": [
        {
          "output_type": "execute_result",
          "data": {
            "text/plain": [
              "64.51000900386498"
            ]
          },
          "metadata": {},
          "execution_count": 15
        }
      ]
    },
    {
      "cell_type": "code",
      "source": [
        "x2 = 65 + z2 * std_error\n",
        "x2"
      ],
      "metadata": {
        "id": "xYEbSibgjp5q",
        "outputId": "b98bb197-a5e7-47df-f0fa-aba38b88315a",
        "colab": {
          "base_uri": "https://localhost:8080/"
        }
      },
      "execution_count": null,
      "outputs": [
        {
          "output_type": "execute_result",
          "data": {
            "text/plain": [
              "65.48999099613502"
            ]
          },
          "metadata": {},
          "execution_count": 16
        }
      ]
    },
    {
      "cell_type": "markdown",
      "source": [
        "With 95% confidence (there is 95% probability) , we can say that the true mean (the mean height of the population) will be in the range [64.51 , 65.49]\n",
        "\n",
        "That is, **`95% confidence interval --> [64.51, 65.49]`**"
      ],
      "metadata": {
        "id": "86jskJfamxeN"
      }
    },
    {
      "cell_type": "markdown",
      "source": [
        "Compute the 90% confidence interval\n",
        "\n"
      ],
      "metadata": {
        "id": "UOUeyjDvjx_k"
      }
    },
    {
      "cell_type": "code",
      "source": [
        "z1 = norm.ppf(0.05)\n",
        "z2 = norm.ppf(0.95)"
      ],
      "metadata": {
        "id": "uRo4vx8yjtuR"
      },
      "execution_count": null,
      "outputs": []
    },
    {
      "cell_type": "code",
      "source": [
        "x1 = 65 + z1 * std_error\n",
        "x2 = 65 + z2 * std_error"
      ],
      "metadata": {
        "id": "cW9mSWZ-j1Ch"
      },
      "execution_count": null,
      "outputs": []
    },
    {
      "cell_type": "code",
      "source": [
        "print(x1, x2)"
      ],
      "metadata": {
        "id": "sgohD_azj3th",
        "outputId": "bd37d7a8-f9bf-4ae6-b80c-763f6728fd79",
        "colab": {
          "base_uri": "https://localhost:8080/"
        }
      },
      "execution_count": null,
      "outputs": [
        {
          "output_type": "stream",
          "name": "stdout",
          "text": [
            "64.58878659326213 65.41121340673787\n"
          ]
        }
      ]
    },
    {
      "cell_type": "code",
      "source": [
        "# In short:\n",
        "65 + norm.ppf(0.05) * std_error"
      ],
      "metadata": {
        "id": "J-12MAaYnRhJ",
        "outputId": "2dce228f-eca2-4ac3-99e7-facff16e43ea",
        "colab": {
          "base_uri": "https://localhost:8080/"
        }
      },
      "execution_count": null,
      "outputs": [
        {
          "output_type": "execute_result",
          "data": {
            "text/plain": [
              "64.67102927460971"
            ]
          },
          "metadata": {},
          "execution_count": 53
        }
      ]
    },
    {
      "cell_type": "code",
      "source": [
        "# In short:\n",
        "65 + norm.ppf(0.95) * std_error"
      ],
      "metadata": {
        "id": "UodMl0uynYja",
        "outputId": "aa961be3-7438-4212-ebbe-647bf3080e2a",
        "colab": {
          "base_uri": "https://localhost:8080/"
        }
      },
      "execution_count": null,
      "outputs": [
        {
          "output_type": "execute_result",
          "data": {
            "text/plain": [
              "65.32897072539029"
            ]
          },
          "metadata": {},
          "execution_count": 54
        }
      ]
    },
    {
      "cell_type": "markdown",
      "source": [
        "With 90% confidence, the mean height of the population will be in the range [64.59, 65.41]"
      ],
      "metadata": {
        "id": "D4-7Mf17ngsq"
      }
    },
    {
      "cell_type": "markdown",
      "source": [
        "### **Recovery days**\n",
        "The sample mean recovery time of 100 patients after taking a drug was seen to be 10.5 days with a standard deviation of 2 days. Find the 95% confidence interval of the true mean."
      ],
      "metadata": {
        "id": "NWN4n86Wj_q_"
      }
    },
    {
      "cell_type": "code",
      "source": [
        "std_error = 2/np.sqrt(100)\n",
        "std_error"
      ],
      "metadata": {
        "id": "xfUbKBawnwY9",
        "outputId": "f1363591-6854-498e-8eee-d3e31b826229",
        "colab": {
          "base_uri": "https://localhost:8080/"
        }
      },
      "execution_count": null,
      "outputs": [
        {
          "output_type": "execute_result",
          "data": {
            "text/plain": [
              "0.2"
            ]
          },
          "metadata": {},
          "execution_count": 55
        }
      ]
    },
    {
      "cell_type": "code",
      "source": [
        "z1 = norm.ppf(0.025)\n",
        "x1 = 10.5 + z1 * std_error\n",
        "x1"
      ],
      "metadata": {
        "id": "15k0z0GqnywO",
        "outputId": "11173207-2a13-4abc-8377-95be717c6569",
        "colab": {
          "base_uri": "https://localhost:8080/"
        }
      },
      "execution_count": null,
      "outputs": [
        {
          "output_type": "execute_result",
          "data": {
            "text/plain": [
              "10.108007203091988"
            ]
          },
          "metadata": {},
          "execution_count": 56
        }
      ]
    },
    {
      "cell_type": "code",
      "source": [
        "z2 = norm.ppf(0.975)\n",
        "x2 = 10.5 + z2 * std_error\n",
        "x2"
      ],
      "metadata": {
        "id": "4TmZ70Myn1Zw",
        "outputId": "1c75d7ee-994b-4065-e6fe-3bb23d4973bd",
        "colab": {
          "base_uri": "https://localhost:8080/"
        }
      },
      "execution_count": null,
      "outputs": [
        {
          "output_type": "execute_result",
          "data": {
            "text/plain": [
              "10.89199279690801"
            ]
          },
          "metadata": {},
          "execution_count": 57
        }
      ]
    },
    {
      "cell_type": "code",
      "source": [
        "# create function at the end\n",
        "def calc_CI(mean, std, N, prob):\n",
        "\n",
        "    std_err = std / np.sqrt(N)\n",
        "    print(\"SE \", std_err)\n",
        "\n",
        "    slice = (1 - (prob/100))/2\n",
        "    print(\"slice \", slice)\n",
        "\n",
        "    z1 = norm.ppf(slice)\n",
        "    print(\"z1 \", z1)\n",
        "\n",
        "    z2 = norm.ppf(1-slice)\n",
        "    print(\"z2 \", z2)\n",
        "\n",
        "    x1 = mean + ( z1 * std_err)\n",
        "    x2 = mean + ( z2 * std_err)\n",
        "\n",
        "    return x1, x2"
      ],
      "metadata": {
        "id": "JlqOSZ53j8C5"
      },
      "execution_count": null,
      "outputs": []
    },
    {
      "cell_type": "code",
      "source": [
        "calc_CI(10.5, 2, 100, 95)"
      ],
      "metadata": {
        "id": "Q5M0BaTRkCVh",
        "outputId": "bab7884a-eea1-4c21-ddbb-e675f1095950",
        "colab": {
          "base_uri": "https://localhost:8080/"
        }
      },
      "execution_count": null,
      "outputs": [
        {
          "output_type": "stream",
          "name": "stdout",
          "text": [
            "SE  0.2\n",
            "slice  0.025000000000000022\n",
            "z1  -1.959963984540054\n",
            "z2  1.959963984540054\n"
          ]
        },
        {
          "output_type": "execute_result",
          "data": {
            "text/plain": [
              "(10.10800720309199, 10.89199279690801)"
            ]
          },
          "metadata": {},
          "execution_count": 24
        }
      ]
    },
    {
      "cell_type": "code",
      "source": [
        "# summarizing the steps\n",
        "sample_mean = 10.5\n",
        "n = 100\n",
        "sigma = 2\n",
        "\n",
        "std_error = sigma/np.sqrt(100)\n",
        "std_error\n",
        "\n",
        "z1 = norm.ppf(0.025)\n",
        "z2 = norm.ppf(0.975)\n",
        "\n",
        "x1 = 10.5 + z1*std_error\n",
        "x2 = 10.5 + z2*std_error\n",
        "\n",
        "print(x1, x2)"
      ],
      "metadata": {
        "id": "KAMrcg0fkKrp",
        "outputId": "c50cc919-eb13-438f-c34a-4c58b40dc6e2",
        "colab": {
          "base_uri": "https://localhost:8080/"
        }
      },
      "execution_count": null,
      "outputs": [
        {
          "output_type": "stream",
          "name": "stdout",
          "text": [
            "10.108007203091988 10.89199279690801\n"
          ]
        }
      ]
    },
    {
      "cell_type": "code",
      "source": [
        "# Alternative short-cut\n",
        "norm.interval(confidence=0.95, loc = 10.5, scale = 2/np.sqrt(100))"
      ],
      "metadata": {
        "id": "A30UJZyk5dcX",
        "outputId": "1233a733-511c-4cf5-f80d-3b612a7c5004",
        "colab": {
          "base_uri": "https://localhost:8080/"
        }
      },
      "execution_count": null,
      "outputs": [
        {
          "output_type": "execute_result",
          "data": {
            "text/plain": [
              "(10.10800720309199, 10.89199279690801)"
            ]
          },
          "metadata": {},
          "execution_count": 75
        }
      ]
    },
    {
      "cell_type": "markdown",
      "source": [
        "### **Youtube watch hours**\n",
        "\n",
        "The mean Youtube watch time of a sample of 100 students was found to be 3.5 hours, with a standard deviation of 1 hour. Construct a 90% confidence interval for the true watch time."
      ],
      "metadata": {
        "id": "PltwPFLvkHR9"
      }
    },
    {
      "cell_type": "code",
      "source": [
        "calc_CI(3.5, 1, 100, 90)"
      ],
      "metadata": {
        "id": "KCsUYV6OkD4s",
        "outputId": "b06927fc-92f4-4b1c-e877-56247636cf1d",
        "colab": {
          "base_uri": "https://localhost:8080/"
        }
      },
      "execution_count": null,
      "outputs": [
        {
          "output_type": "stream",
          "name": "stdout",
          "text": [
            "SE  0.1\n",
            "slice  0.04999999999999999\n",
            "z1  -1.6448536269514729\n",
            "z2  1.6448536269514722\n"
          ]
        },
        {
          "output_type": "execute_result",
          "data": {
            "text/plain": [
              "(3.3355146373048528, 3.6644853626951472)"
            ]
          },
          "metadata": {},
          "execution_count": 25
        }
      ]
    },
    {
      "cell_type": "code",
      "source": [
        "# Alternative short-cut\n",
        "norm.interval(confidence=0.90, loc = 3.5, scale = 1/np.sqrt(100))"
      ],
      "metadata": {
        "id": "-OGo4ItQrFVT",
        "outputId": "323d1cd9-f838-4408-cda8-6d1094b22761",
        "colab": {
          "base_uri": "https://localhost:8080/"
        }
      },
      "execution_count": null,
      "outputs": [
        {
          "output_type": "execute_result",
          "data": {
            "text/plain": [
              "(3.3355146373048528, 3.6644853626951472)"
            ]
          },
          "metadata": {},
          "execution_count": 73
        }
      ]
    },
    {
      "cell_type": "code",
      "source": [
        "import scipy\n",
        "scipy.__version__"
      ],
      "metadata": {
        "id": "2WWsZcBdrKx4",
        "outputId": "89c12953-a561-4a5f-c62e-a54888f16ad9",
        "colab": {
          "base_uri": "https://localhost:8080/",
          "height": 36
        }
      },
      "execution_count": null,
      "outputs": [
        {
          "output_type": "execute_result",
          "data": {
            "text/plain": [
              "'1.11.3'"
            ],
            "application/vnd.google.colaboratory.intrinsic+json": {
              "type": "string"
            }
          },
          "metadata": {},
          "execution_count": 74
        }
      ]
    },
    {
      "cell_type": "markdown",
      "source": [
        "## **Confidence interval using Bootstrap**"
      ],
      "metadata": {
        "id": "AyRIDztnkP-g"
      }
    },
    {
      "cell_type": "code",
      "source": [
        "survey_1 = [35, 36, 33, 37, 34, 35] #less variance\n",
        "np.mean(survey_1)"
      ],
      "metadata": {
        "id": "M4_HkL6akNxJ",
        "outputId": "f01e003c-8b71-47bd-bc3b-f1b3bb0108c5",
        "colab": {
          "base_uri": "https://localhost:8080/"
        }
      },
      "execution_count": null,
      "outputs": [
        {
          "output_type": "execute_result",
          "data": {
            "text/plain": [
              "35.0"
            ]
          },
          "metadata": {},
          "execution_count": 59
        }
      ]
    },
    {
      "cell_type": "code",
      "source": [
        "survey_2 = [20, 37, 17, 50, 53, 33]\n",
        "np.mean(survey_2)"
      ],
      "metadata": {
        "id": "K--gEigyowwl",
        "outputId": "85386d4e-efd9-4293-ba68-ec9390ee3eb1",
        "colab": {
          "base_uri": "https://localhost:8080/"
        }
      },
      "execution_count": null,
      "outputs": [
        {
          "output_type": "execute_result",
          "data": {
            "text/plain": [
              "35.0"
            ]
          },
          "metadata": {},
          "execution_count": 60
        }
      ]
    },
    {
      "cell_type": "markdown",
      "source": [
        "Can we simulate more and more sets of samples like the ones above\n",
        "\n"
      ],
      "metadata": {
        "id": "ZboxTYg4kYYl"
      }
    },
    {
      "cell_type": "code",
      "source": [
        "np.random.choice(survey_1)"
      ],
      "metadata": {
        "id": "FXc1VHarkWNB",
        "outputId": "79128037-b829-45d7-b57f-eceb17e9b931",
        "colab": {
          "base_uri": "https://localhost:8080/"
        }
      },
      "execution_count": null,
      "outputs": [
        {
          "output_type": "execute_result",
          "data": {
            "text/plain": [
              "34"
            ]
          },
          "metadata": {},
          "execution_count": 29
        }
      ]
    },
    {
      "cell_type": "code",
      "source": [
        "#sample with replacement\n",
        "n = 6\n",
        "np.random.choice(survey_1, size = n)"
      ],
      "metadata": {
        "id": "7_d0Cmfrkap6",
        "outputId": "c8e44c15-4857-490a-bd6a-1ee0e785f41c",
        "colab": {
          "base_uri": "https://localhost:8080/"
        }
      },
      "execution_count": null,
      "outputs": [
        {
          "output_type": "execute_result",
          "data": {
            "text/plain": [
              "array([37, 37, 35, 37, 36, 33])"
            ]
          },
          "metadata": {},
          "execution_count": 61
        }
      ]
    },
    {
      "cell_type": "code",
      "source": [
        "np.random.choice(survey_1, size = n)"
      ],
      "metadata": {
        "id": "oTLrFpDBkcxp",
        "outputId": "4d34b0dc-d20b-4046-b436-d96c528eccec",
        "colab": {
          "base_uri": "https://localhost:8080/"
        }
      },
      "execution_count": null,
      "outputs": [
        {
          "output_type": "execute_result",
          "data": {
            "text/plain": [
              "array([36, 36, 37, 35, 34, 35])"
            ]
          },
          "metadata": {},
          "execution_count": 62
        }
      ]
    },
    {
      "cell_type": "code",
      "source": [
        "n = 6\n",
        "bootstrapped_samples = np.random.choice(survey_1, size=n)\n",
        "np.mean(bootstrapped_samples)"
      ],
      "metadata": {
        "id": "QkDFtWjapNjR",
        "outputId": "f690f2b5-82cb-4236-ca4e-9d7068939ec0",
        "colab": {
          "base_uri": "https://localhost:8080/"
        }
      },
      "execution_count": null,
      "outputs": [
        {
          "output_type": "execute_result",
          "data": {
            "text/plain": [
              "36.166666666666664"
            ]
          },
          "metadata": {},
          "execution_count": 65
        }
      ]
    },
    {
      "cell_type": "code",
      "source": [
        "bootstrapped_samples = np.random.choice(survey_2, size=n)\n",
        "np.mean(bootstrapped_samples)"
      ],
      "metadata": {
        "id": "8NJzK_GmpadT",
        "outputId": "5543ec6b-0df9-4043-b679-c1c7d8ba8c2c",
        "colab": {
          "base_uri": "https://localhost:8080/"
        }
      },
      "execution_count": null,
      "outputs": [
        {
          "output_type": "execute_result",
          "data": {
            "text/plain": [
              "29.5"
            ]
          },
          "metadata": {},
          "execution_count": 67
        }
      ]
    },
    {
      "cell_type": "code",
      "source": [
        "bootstrapped_means_survey_1 = []\n",
        "for reps in range(10000):\n",
        "  bootstrapped_samples = np.random.choice(survey_1, size = n)\n",
        "  bootstrapped_mean = np.mean(bootstrapped_samples) #median, any statitical function\n",
        "  bootstrapped_means_survey_1.append(bootstrapped_mean)"
      ],
      "metadata": {
        "id": "Ut2uGEUWkejB"
      },
      "execution_count": null,
      "outputs": []
    },
    {
      "cell_type": "code",
      "source": [
        "sns.histplot(bootstrapped_means_survey_1)"
      ],
      "metadata": {
        "id": "rFzzONr8khIR",
        "outputId": "7ca75168-bacb-4a6d-f860-a87d67053f35",
        "colab": {
          "base_uri": "https://localhost:8080/",
          "height": 448
        }
      },
      "execution_count": null,
      "outputs": [
        {
          "output_type": "execute_result",
          "data": {
            "text/plain": [
              "<Axes: ylabel='Count'>"
            ]
          },
          "metadata": {},
          "execution_count": 33
        },
        {
          "output_type": "display_data",
          "data": {
            "text/plain": [
              "<Figure size 640x480 with 1 Axes>"
            ],
            "image/png": "[encoded data removed]"
          },
          "metadata": {}
        }
      ]
    },
    {
      "cell_type": "code",
      "source": [
        "len(bootstrapped_means_survey_1)"
      ],
      "metadata": {
        "id": "27r64fxWkiup",
        "outputId": "3c2bf563-0e5c-4dc0-f064-1ffe93f19247",
        "colab": {
          "base_uri": "https://localhost:8080/"
        }
      },
      "execution_count": null,
      "outputs": [
        {
          "output_type": "execute_result",
          "data": {
            "text/plain": [
              "10000"
            ]
          },
          "metadata": {},
          "execution_count": 34
        }
      ]
    },
    {
      "cell_type": "code",
      "source": [
        "bootstrapped_means_survey_1[:5]"
      ],
      "metadata": {
        "id": "DR7VHQxyklfR",
        "outputId": "b821b3bb-8896-4c4b-eb7d-15320fc8477b",
        "colab": {
          "base_uri": "https://localhost:8080/"
        }
      },
      "execution_count": null,
      "outputs": [
        {
          "output_type": "execute_result",
          "data": {
            "text/plain": [
              "[35.0, 34.833333333333336, 35.5, 35.0, 35.0]"
            ]
          },
          "metadata": {},
          "execution_count": 35
        }
      ]
    },
    {
      "cell_type": "code",
      "source": [
        "# survey2"
      ],
      "metadata": {
        "id": "_OLeZ06nkm6p"
      },
      "execution_count": null,
      "outputs": []
    },
    {
      "cell_type": "code",
      "source": [
        "bootstrapped_means_survey_2  = []\n",
        "for i in range(10000):\n",
        "  bootstrapped_samples = np.random.choice(survey_2, size = n)\n",
        "  bootstrapped_mean = np.mean(bootstrapped_samples)\n",
        "  bootstrapped_means_survey_2.append(bootstrapped_mean)"
      ],
      "metadata": {
        "id": "_bnOGt_NkqxR"
      },
      "execution_count": null,
      "outputs": []
    },
    {
      "cell_type": "code",
      "source": [
        "sns.histplot(bootstrapped_means_survey_2)"
      ],
      "metadata": {
        "id": "YmXS229EksZz",
        "outputId": "163352f7-4ffe-4bc2-809c-d2bb3937326c",
        "colab": {
          "base_uri": "https://localhost:8080/",
          "height": 448
        }
      },
      "execution_count": null,
      "outputs": [
        {
          "output_type": "execute_result",
          "data": {
            "text/plain": [
              "<Axes: ylabel='Count'>"
            ]
          },
          "metadata": {},
          "execution_count": 69
        },
        {
          "output_type": "display_data",
          "data": {
            "text/plain": [
              "<Figure size 640x480 with 1 Axes>"
            ],
            "image/png": "[encoded data removed]"
          },
          "metadata": {}
        }
      ]
    },
    {
      "cell_type": "markdown",
      "source": [
        "With 90% confidence interval --> true mean of the population"
      ],
      "metadata": {
        "id": "0zssE259qZSD"
      }
    },
    {
      "cell_type": "code",
      "source": [
        "x1 = np.percentile(bootstrapped_means_survey_1, 2.5) #getting the 2.5th percentile of this bootstrapped sample\n",
        "x1"
      ],
      "metadata": {
        "id": "ijRTv0ewkwvS",
        "outputId": "c589e564-55e9-4ad8-9bde-41dbc6cb9797",
        "colab": {
          "base_uri": "https://localhost:8080/"
        }
      },
      "execution_count": null,
      "outputs": [
        {
          "output_type": "execute_result",
          "data": {
            "text/plain": [
              "34.0"
            ]
          },
          "metadata": {},
          "execution_count": 42
        }
      ]
    },
    {
      "cell_type": "code",
      "source": [
        "x2 = np.percentile(bootstrapped_means_survey_1, 97.5)\n",
        "x2"
      ],
      "metadata": {
        "id": "BDGa9-_0kyep",
        "outputId": "8ed5f267-4ad2-4273-e69b-d17ab96cbd38",
        "colab": {
          "base_uri": "https://localhost:8080/"
        }
      },
      "execution_count": null,
      "outputs": [
        {
          "output_type": "execute_result",
          "data": {
            "text/plain": [
              "36.0"
            ]
          },
          "metadata": {},
          "execution_count": 43
        }
      ]
    },
    {
      "cell_type": "markdown",
      "source": [
        "With 95% confidence, the mean salary of the population will be [34.0 , 36.0]"
      ],
      "metadata": {
        "id": "lrDjlQAhqmUJ"
      }
    },
    {
      "cell_type": "code",
      "source": [
        "len(bootstrapped_means_survey_2)"
      ],
      "metadata": {
        "id": "Iekhcg39quqR",
        "outputId": "6dd7847c-6101-4898-d482-cb17533e5ed8",
        "colab": {
          "base_uri": "https://localhost:8080/"
        }
      },
      "execution_count": null,
      "outputs": [
        {
          "output_type": "execute_result",
          "data": {
            "text/plain": [
              "10000"
            ]
          },
          "metadata": {},
          "execution_count": 71
        }
      ]
    },
    {
      "cell_type": "code",
      "source": [
        "x1 = np.percentile(bootstrapped_means_survey_2, 2.5)\n",
        "x2 = np.percentile(bootstrapped_means_survey_2, 97.5)\n",
        "\n",
        "print(x1, x2)"
      ],
      "metadata": {
        "id": "bFLfEf4Dk4MC",
        "outputId": "4a97879f-892e-4956-f85a-d1c239579c40",
        "colab": {
          "base_uri": "https://localhost:8080/"
        }
      },
      "execution_count": null,
      "outputs": [
        {
          "output_type": "stream",
          "name": "stdout",
          "text": [
            "24.0 46.0\n"
          ]
        }
      ]
    },
    {
      "cell_type": "markdown",
      "source": [
        "For survery_2, with 95% confidence, the mean salary of the population will be [24.0 , 46.0]"
      ],
      "metadata": {
        "id": "5Es7-alK0br0"
      }
    },
    {
      "cell_type": "code",
      "source": [],
      "metadata": {
        "id": "BHwfSPSjk54D"
      },
      "execution_count": null,
      "outputs": []
    },
    {
      "cell_type": "code",
      "source": [],
      "metadata": {
        "id": "7uzZDN3KrSGU"
      },
      "execution_count": null,
      "outputs": []
    },
    {
      "cell_type": "markdown",
      "source": [
        "# <center>`Part 3.1:` **Combinatorics `(Permutations & Combinations)`**</center>\n",
        "***"
      ],
      "metadata": {
        "id": "sg6syjhwPQw4"
      }
    },
    {
      "cell_type": "markdown",
      "source": [
        "### **Q1. Keep Revising**\n",
        "\n",
        "A Machine Learning course contains **5** ‘Supervised Learning’, **6** ‘Unsupervised Learning’, and **2** ‘Reinforcement Learning’ modules. One of the students wants to revise these topics and picks **two** modules at random.\n",
        "\n",
        "Find the probability that one module is of ‘Unsupervised Learning’ and one is of ‘Supervised Learning’.\n",
        "\n",
        "* 11/13\n",
        "* 5/13\n",
        "* 5/26\n",
        "* 11/26"
      ],
      "metadata": {
        "id": "43BUa_35ngQM"
      }
    },
    {
      "cell_type": "code",
      "source": [
        "# Combination --> (5C1 * 6C1) / 13C2 = (6 * 5) / (78) = 30 / 78 = 5/13\n",
        "print(math.comb(5, 1) * math.comb(6, 1) / math.comb(13, 2))"
      ],
      "metadata": {
        "id": "uHe28HiZrR5L",
        "outputId": "df83f750-3046-4108-bc38-a7c8b2a9f6f8",
        "colab": {
          "base_uri": "https://localhost:8080/"
        }
      },
      "execution_count": null,
      "outputs": [
        {
          "output_type": "stream",
          "name": "stdout",
          "text": [
            "0.38461538461538464\n"
          ]
        }
      ]
    },
    {
      "cell_type": "markdown",
      "source": [
        "**Explanation:**\n",
        "\n",
        "so think like this in numerator just try to find what asked in the qiestion for ex : here from 6 ‘Unsupervised Learning’, i want to pick so 6C1 then from 5 ‘Supervised Learning i want any one so 5C1\n",
        "\n",
        "and in denominator just blindly TOTAL possiblities that is : Total Courses [13] and choose any 2 so 13C2\n",
        "\n",
        "so ans will be 6C1 * 5C1 / 13C2"
      ],
      "metadata": {
        "id": "tTEYGhG9tzAs"
      }
    },
    {
      "cell_type": "markdown",
      "source": [
        "### **Q2. Student Committee**\n",
        "\n",
        "In a school, from a students committee of **10** persons, one **President**, one **treasurer**, and one **secretary** are to be chosen. No person can hold two posts at a time.\n",
        "\n",
        "In how many ways can this happen?\n",
        "\n",
        "* 880\n",
        "* 1000\n",
        "* 120\n",
        "* 720"
      ],
      "metadata": {
        "id": "zlyscoL4qsms"
      }
    },
    {
      "cell_type": "code",
      "source": [
        "# Permutation --> 10P3 = 10! / (10 - 3)!\n",
        "print(math.perm(10, 3))"
      ],
      "metadata": {
        "id": "JSUmKwshoKnA",
        "outputId": "96110fa7-eb1d-428f-c1c6-1c29067a1580",
        "colab": {
          "base_uri": "https://localhost:8080/"
        }
      },
      "execution_count": null,
      "outputs": [
        {
          "output_type": "stream",
          "name": "stdout",
          "text": [
            "720\n"
          ]
        }
      ]
    },
    {
      "cell_type": "markdown",
      "source": [
        "### **Q3. Give a Medal**\n",
        "\n",
        "A student participates in **four** different sports on Sport’s Day at her school. Each sport has three medals assigned, **gold**, **silver**, and **bronze**.\n",
        "\n",
        "It is possible that the student wins no medals. How many possible ways can she get **at least one** medal?\n",
        "\n",
        "* 80\n",
        "* 255\n",
        "* 81\n",
        "* 256"
      ],
      "metadata": {
        "id": "xVgpxKowr5ho"
      }
    },
    {
      "cell_type": "code",
      "source": [
        "# Multiplication rule --> AND\n",
        "print(4 * 4 * 4 * 4 - 1)"
      ],
      "metadata": {
        "id": "G4nBcdHBoV9-",
        "outputId": "839dbf79-9abc-41e7-a167-0396f4f28e8a",
        "colab": {
          "base_uri": "https://localhost:8080/"
        }
      },
      "execution_count": null,
      "outputs": [
        {
          "output_type": "stream",
          "name": "stdout",
          "text": [
            "255\n"
          ]
        }
      ]
    },
    {
      "cell_type": "markdown",
      "source": [
        "**Explanation:**\n",
        "\n",
        "There are four games or sports. For each sport, three medals are assigned, and it is also possible that the student gets no medal. Hence, each game can have four outcomes (repetition allowed).\n",
        "\n",
        "i.e. In the first game, she can win one of the three medals, or lose. In the same way, she can win one of the three medals or lose in the second, third and fourth games as well. However, we should not count the possibility that she loses all four games, since the question states that we have to count only those possibilities where she at least wins one medal.\n",
        "\n",
        "Hence, she can get a medal in 4^4-1 = 255 ways."
      ],
      "metadata": {
        "id": "1WYeTgF-tfif"
      }
    },
    {
      "cell_type": "markdown",
      "source": [
        "### **Q4. Creating Passwords**\n",
        "\n",
        "How many **five-character-long** passwords can be created such that the first two characters can use any digit from **0 to 9**, and the last three characters can use letters from **A to Z**?\n",
        "\n",
        "* 1,581,840\n",
        "* 1,560,000\n",
        "* 1,757,600\n",
        "* 1,263,600"
      ],
      "metadata": {
        "id": "z9XyfHNGuGYK"
      }
    },
    {
      "cell_type": "code",
      "source": [
        "# Multiplication rule --> AND\n",
        "print(10 * 10 * 26 * 26 * 26)"
      ],
      "metadata": {
        "id": "VTXY9GTjs297",
        "outputId": "640acd59-ba82-4c23-9148-6e8bbfe72261",
        "colab": {
          "base_uri": "https://localhost:8080/"
        }
      },
      "execution_count": null,
      "outputs": [
        {
          "output_type": "stream",
          "name": "stdout",
          "text": [
            "1757600\n"
          ]
        }
      ]
    },
    {
      "cell_type": "markdown",
      "source": [
        "### **Q5. Elite team**\n",
        "\n",
        "A company wants to form an elite team of **5 members** to assign a particular project.\n",
        "\n",
        "Suppose the company has **5** Data Scientists, **4** Data Engineers, and **6** Data Analysts.\n",
        "\n",
        "Find the probability that the company will select a team that contains **2** Data Scientists, **1** Data Engineer, and **2** Data Analysts.\n",
        "\n",
        "* 0.158\n",
        "* 0.199\n",
        "* 0.302\n",
        "* 0.245"
      ],
      "metadata": {
        "id": "wi3kGLwxu3lo"
      }
    },
    {
      "cell_type": "code",
      "source": [
        "# Combination --> (5C2 * 4C1 * 6C2)/15C5\n",
        "print((math.comb(5, 2) * math.comb(4, 1) * math.comb(6, 2)) / math.comb(15, 5))"
      ],
      "metadata": {
        "id": "dodshveCukCS",
        "outputId": "b40bced8-e8c3-4429-fc2c-96cd4013aaa0",
        "colab": {
          "base_uri": "https://localhost:8080/"
        }
      },
      "execution_count": null,
      "outputs": [
        {
          "output_type": "stream",
          "name": "stdout",
          "text": [
            "0.1998001998001998\n"
          ]
        }
      ]
    },
    {
      "cell_type": "markdown",
      "source": [
        "### **Q6. Cars**\n",
        "\n",
        "**Twenty** distinct cars park in the same parking lot every day. **Ten** of these cars are **India-made**. while the other **ten** are **foreign-made**.\n",
        "\n",
        "The parking lot has exactly **twenty spaces** all in a row.\n",
        "\n",
        "What is the probability that on a given day, the cars will park in such a way that they **alternate** (no two same cars are adjacent)?\n",
        "\n",
        "a) 3.293e-8         \n",
        "b) 1.829e-3           \n",
        "c) 2.003e-7         \n",
        "d) 1.082e-5        \n",
        "\n",
        "* a)\n",
        "* b)\n",
        "* c)\n",
        "* d)"
      ],
      "metadata": {
        "id": "-gbLynNevz1N"
      }
    },
    {
      "cell_type": "code",
      "source": [
        "# Multiplication & Addition rules respectively  --> AND, OR\n",
        "print((math.factorial(10) * math.factorial(10) * 2) / math.factorial(20))"
      ],
      "metadata": {
        "id": "Fo9zEQGXvhrq",
        "outputId": "8bbe4022-0bf3-4a31-fe49-219b2ab8f0db",
        "colab": {
          "base_uri": "https://localhost:8080/"
        }
      },
      "execution_count": null,
      "outputs": [
        {
          "output_type": "stream",
          "name": "stdout",
          "text": [
            "1.082508822446903e-05\n"
          ]
        }
      ]
    },
    {
      "cell_type": "markdown",
      "source": [
        "**Explanation:**\n",
        "\n",
        "To find the probability that the cars will be parked so that they alternate, we first arrange the India-made cars in an ordered sequence (permutation).\n",
        "We can do this in 10! ways, since there are 10 distinct cars.\n",
        "\n",
        "Similarly, arrange the foreign cars in an ordered sequence, which can also be done in 10! ways.\n",
        "\n",
        "Finally, this can be done in two different ways, since we can let the first car in the row be either India-made or foreign-made.\n",
        "\n",
        "Thus, we have a total of 2 x 10! x 10! Possibilities.\n",
        "\n",
        "The probability that the cars will be parked so that they alternate is\n",
        "\n",
        "= 2∗10!∗10! / 20!        \n",
        "= 2∗3628800∗3628800 / 2.432902e18           \n",
        "= 1.082e−5"
      ],
      "metadata": {
        "id": "f6bE6EiXxOrW"
      }
    },
    {
      "cell_type": "markdown",
      "source": [
        "### **Q7. Not to include 5s**\n",
        "\n",
        "Suppose you’re making a list of **three digit** numbers.\n",
        "\n",
        "Answer the following questions:\n",
        "\n",
        "i) How many three digit numbers are there that **do not contain 5**?\n",
        "ii) Which contain 5 **at least** once?\n",
        "iii) Which contains 5 **at most** once?\n",
        "\n",
        "* 648, 252, 873\n",
        "* 729, 873, 252\n",
        "* 648, 252, 874\n",
        "* 729, 873, 253"
      ],
      "metadata": {
        "id": "S_CIMzeHyDAt"
      }
    },
    {
      "cell_type": "code",
      "source": [],
      "metadata": {
        "id": "fH-Ie4EDxFv-"
      },
      "execution_count": null,
      "outputs": []
    },
    {
      "cell_type": "code",
      "source": [],
      "metadata": {
        "id": "0CQkvCNXyQ13"
      },
      "execution_count": null,
      "outputs": []
    },
    {
      "cell_type": "markdown",
      "source": [
        "# <center>`Part 3.2:` **Binomial and Geometric distributions**</center>\n",
        "***\n",
        "\n",
        "**Interview** --> Probability of Success **≠** 100% at good companies.\n",
        "\n",
        "Hence, Probability of Success maybe 10% or 20%.\n",
        "\n",
        "**Strategies** --> Multiple companies\n",
        "\n",
        "1.   Give **10 interviews** --> pick the **best offer letter**  **`(Binomial)`**\n",
        "2.   **Keep giving interviews** till your **first success** **`(Geometric)`**"
      ],
      "metadata": {
        "id": "ISFR-UxgNSy_"
      }
    },
    {
      "cell_type": "markdown",
      "source": [
        "## **Strategy 1: (Binomial distribution)**\n",
        "\n",
        "(1) Fixed no. of interview `(no. of trials)` --> \"n\" `(n = 10)`\n",
        "\n",
        "(2) Success prob is constant --> \"p\" `(p = 0.1 or p = 0.2)`\n",
        "\n",
        "(3) Each interview/trial is independent of another.\n",
        "\n",
        "    X: number of successes (no. of offer letters)\n",
        "\n",
        "**`NOTE:`**\n",
        "> **Binomial means** --> each trial has a fixed prob of success and we are counting the number of success\n",
        "\n",
        "> **Bernouli** --> its a special case of **Binomial** with **n=1** (only 1 trial)\n",
        "\n",
        "> **`IMP to know:`** **Multinomial** --> So far we have seen that **two outcomes** with **one event** (ex: Coin touse - Head or Tail), but if we do **three outcomes** with **one event**, its calles **Multinomial**"
      ],
      "metadata": {
        "id": "2PfyRdE0QAFd"
      }
    },
    {
      "cell_type": "markdown",
      "source": [
        "### **One interview --> One trial**\n",
        "\n",
        "n = 1 **`(Fixed no. of interview (trial))`**        \n",
        "p = 0.1 **`(Success prob is constant)`**         \n",
        "x = {0, 1} **`(No. of success)`**      \n",
        "p[x = 0] = 0.9 **`(NO offer letter)`**    \n",
        "p[x = 1] = 0.1 **`(cleared & got offer letter)`**       \n",
        "Bar plor **`(Probability Mass Function (PMF))`**\n"
      ],
      "metadata": {
        "id": "fQY1PNS2VeDJ"
      }
    },
    {
      "cell_type": "code",
      "source": [
        "'''\n",
        "Suppose you are giving one interview. Let X denote the number of offer letters you can get.\n",
        "What are all the possible values that X can take?\n",
        "'''"
      ],
      "metadata": {
        "id": "QxKFX0E6yQwj"
      },
      "execution_count": null,
      "outputs": []
    },
    {
      "cell_type": "code",
      "source": [
        "n = 1     # no. of interview = 1\n",
        "p = 0.1     # prob of success (10%)\n",
        "x_vals = [0, 1]     # number of success (i.e. offer-letters)"
      ],
      "metadata": {
        "id": "IYLyfK14UZMe"
      },
      "execution_count": null,
      "outputs": []
    },
    {
      "cell_type": "code",
      "source": [
        "probs = [1-p, p]      # prob of 0 or 1 offer letter\n",
        "probs"
      ],
      "metadata": {
        "id": "JrbGaNTkUy6E",
        "outputId": "c5fe9c7d-5a64-4e0c-de60-f7168063cdc6",
        "colab": {
          "base_uri": "https://localhost:8080/"
        }
      },
      "execution_count": null,
      "outputs": [
        {
          "output_type": "execute_result",
          "data": {
            "text/plain": [
              "[0.9, 0.1]"
            ]
          },
          "metadata": {},
          "execution_count": 12
        }
      ]
    },
    {
      "cell_type": "code",
      "source": [
        "sns.barplot(x = x_vals, y = probs)      # PMF (Probability Mass Function)"
      ],
      "metadata": {
        "id": "hx1qjDy7VmRD",
        "outputId": "e0d4d848-6db7-43d3-c34a-e47524081867",
        "colab": {
          "base_uri": "https://localhost:8080/",
          "height": 448
        }
      },
      "execution_count": null,
      "outputs": [
        {
          "output_type": "execute_result",
          "data": {
            "text/plain": [
              "<Axes: >"
            ]
          },
          "metadata": {},
          "execution_count": 13
        },
        {
          "output_type": "display_data",
          "data": {
            "text/plain": [
              "<Figure size 640x480 with 1 Axes>"
            ],
            "image/png": "[encoded data removed]"
          },
          "metadata": {}
        }
      ]
    },
    {
      "cell_type": "code",
      "source": [
        "# For one trial, this probability mass function represents \"Bernouli Distribution\"\n",
        "# \"Bernouli\" is a special case of Binomial with n = 1"
      ],
      "metadata": {
        "id": "jzekdQqfXj59"
      },
      "execution_count": null,
      "outputs": []
    },
    {
      "cell_type": "markdown",
      "source": [
        "### **Two interview --> Two trials**\n",
        "\n",
        "**Question:** Suppose you are giving two interviews. Let X denote number of offer letters you can get. What are all the possible values that X can take?\n",
        "\n",
        "**Answer:** {0, 1, 2}\n",
        "\n",
        "![Capture.PNG](data:image/png;base64,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)"
      ],
      "metadata": {
        "id": "b16cwKU1YEM0"
      }
    },
    {
      "cell_type": "code",
      "source": [
        "n = 2\n",
        "p = 0.1\n",
        "x_vals = [0, 1, 2]"
      ],
      "metadata": {
        "id": "Yloeg9bYYJf6"
      },
      "execution_count": null,
      "outputs": []
    },
    {
      "cell_type": "code",
      "source": [
        "# Prob of no. of success using Sample Space\n",
        "probs = [\n",
        "    (1-p)*(1-p),      # prob of x = 0\n",
        "    p*(1-p) + (1-p)*p,      # prob of x = 1\n",
        "    (1-p)*(1-p)     # prob of x = 2\n",
        "]"
      ],
      "metadata": {
        "id": "hyYh6sS9YWrf"
      },
      "execution_count": null,
      "outputs": []
    },
    {
      "cell_type": "code",
      "source": [
        "probs"
      ],
      "metadata": {
        "id": "UqcYGEyhZAl7",
        "outputId": "1def1854-0d37-4ef4-a9fa-154ec2791ac8",
        "colab": {
          "base_uri": "https://localhost:8080/"
        }
      },
      "execution_count": null,
      "outputs": [
        {
          "output_type": "execute_result",
          "data": {
            "text/plain": [
              "[0.81, 0.18000000000000002, 0.81]"
            ]
          },
          "metadata": {},
          "execution_count": 17
        }
      ]
    },
    {
      "cell_type": "code",
      "source": [
        "# PMF\n",
        "sns.barplot(x = x_vals, y = probs)"
      ],
      "metadata": {
        "id": "7tRF17FDZCw-",
        "outputId": "87a6133d-a699-44c1-8230-28a2c7f8e800",
        "colab": {
          "base_uri": "https://localhost:8080/",
          "height": 448
        }
      },
      "execution_count": null,
      "outputs": [
        {
          "output_type": "execute_result",
          "data": {
            "text/plain": [
              "<Axes: >"
            ]
          },
          "metadata": {},
          "execution_count": 18
        },
        {
          "output_type": "display_data",
          "data": {
            "text/plain": [
              "<Figure size 640x480 with 1 Axes>"
            ],
            "image/png": "[encoded data removed]"
          },
          "metadata": {}
        }
      ]
    },
    {
      "cell_type": "markdown",
      "source": [
        "### **Three interview --> Three trials**\n",
        "\n",
        "**Question:** Suppose you are giving three interviews. Let X denote number of offer letters you can get. What are all the possible values that X can take?\n",
        "\n",
        "**Answer:** {0, 1, 2, 3}\n",
        "\n",
        "![Capture.PNG](data:image/png;base64,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)"
      ],
      "metadata": {
        "id": "quvWdtwnZNKo"
      }
    },
    {
      "cell_type": "code",
      "source": [
        "n = 3\n",
        "p = 0.1\n",
        "x_vals = [0, 1, 2, 3]"
      ],
      "metadata": {
        "id": "OrqXobI-ZGcq"
      },
      "execution_count": null,
      "outputs": []
    },
    {
      "cell_type": "code",
      "source": [
        "probs = [\n",
        "    (1-p)*(1-p)*(1-p),      # prob for x = 0\n",
        "    (1-p)*(1-p)*p + (1-p)*p*(1-p) + p*(1-p)*(1-p),      # prob of x = 1\n",
        "    (1-p)*p*p + p*(1-p)*p + p*p*(1-p),      # prob x = 2\n",
        "    p*p*p     # prob for x = 4\n",
        "]"
      ],
      "metadata": {
        "id": "tthgiyXUZT2r"
      },
      "execution_count": null,
      "outputs": []
    },
    {
      "cell_type": "code",
      "source": [
        "probs"
      ],
      "metadata": {
        "id": "tVmof-1JZtFD",
        "outputId": "1cbd0dc2-53c2-4301-a537-ec2163150776",
        "colab": {
          "base_uri": "https://localhost:8080/"
        }
      },
      "execution_count": null,
      "outputs": [
        {
          "output_type": "execute_result",
          "data": {
            "text/plain": [
              "[0.7290000000000001,\n",
              " 0.24300000000000005,\n",
              " 0.027000000000000003,\n",
              " 0.0010000000000000002]"
            ]
          },
          "metadata": {},
          "execution_count": 21
        }
      ]
    },
    {
      "cell_type": "code",
      "source": [
        "sns.barplot(x = x_vals, y = probs)"
      ],
      "metadata": {
        "id": "0eK0Y0zZZtrV",
        "outputId": "6f9e2f5f-019a-4e3d-92c9-523db1977031",
        "colab": {
          "base_uri": "https://localhost:8080/",
          "height": 448
        }
      },
      "execution_count": null,
      "outputs": [
        {
          "output_type": "execute_result",
          "data": {
            "text/plain": [
              "<Axes: >"
            ]
          },
          "metadata": {},
          "execution_count": 22
        },
        {
          "output_type": "display_data",
          "data": {
            "text/plain": [
              "<Figure size 640x480 with 1 Axes>"
            ],
            "image/png": "[encoded data removed]"
          },
          "metadata": {}
        }
      ]
    },
    {
      "cell_type": "markdown",
      "source": [
        "> **`NOTE:`**          \n",
        "**Quicker solution using \"`from scipy.stats import binom, geom`\"**"
      ],
      "metadata": {
        "id": "egpEct5NaHJs"
      }
    },
    {
      "cell_type": "code",
      "source": [
        "probs_binom = binom.pmf(x_vals, n = 3, p = 0.1)\n",
        "sns.barplot(x = x_vals, y = probs_binom)"
      ],
      "metadata": {
        "id": "UD3qVPRJZzID",
        "outputId": "207380a3-8191-4857-ddad-1ff64f1b12e7",
        "colab": {
          "base_uri": "https://localhost:8080/",
          "height": 448
        }
      },
      "execution_count": null,
      "outputs": [
        {
          "output_type": "execute_result",
          "data": {
            "text/plain": [
              "<Axes: >"
            ]
          },
          "metadata": {},
          "execution_count": 23
        },
        {
          "output_type": "display_data",
          "data": {
            "text/plain": [
              "<Figure size 640x480 with 1 Axes>"
            ],
            "image/png": "[encoded data removed]"
          },
          "metadata": {}
        }
      ]
    },
    {
      "cell_type": "code",
      "source": [
        "print(probs_binom)"
      ],
      "metadata": {
        "id": "CehT6sUiaaRA",
        "outputId": "b4b2114d-204f-4470-ee6b-59ee1d625b82",
        "colab": {
          "base_uri": "https://localhost:8080/"
        }
      },
      "execution_count": null,
      "outputs": [
        {
          "output_type": "stream",
          "name": "stdout",
          "text": [
            "[0.729 0.243 0.027 0.001]\n"
          ]
        }
      ]
    },
    {
      "cell_type": "code",
      "source": [
        "# Finding the individual prob of success of no. of success\n",
        "a = binom.pmf(0, n= 3, p = 0.1)\n",
        "print(a)"
      ],
      "metadata": {
        "id": "L_iuk51YamZD",
        "outputId": "098e2423-4df4-4091-9c4e-51f39b66af3e",
        "colab": {
          "base_uri": "https://localhost:8080/"
        }
      },
      "execution_count": null,
      "outputs": [
        {
          "output_type": "stream",
          "name": "stdout",
          "text": [
            "0.729\n"
          ]
        }
      ]
    },
    {
      "cell_type": "code",
      "source": [
        "a = binom.pmf([0,1], n= 3, p = 0.1)\n",
        "print(a)"
      ],
      "metadata": {
        "id": "GEtKAmkHaz2r",
        "outputId": "c172de80-a02d-4a62-bcdf-8f6836396418",
        "colab": {
          "base_uri": "https://localhost:8080/"
        }
      },
      "execution_count": null,
      "outputs": [
        {
          "output_type": "stream",
          "name": "stdout",
          "text": [
            "[0.729 0.243]\n"
          ]
        }
      ]
    },
    {
      "cell_type": "markdown",
      "source": [
        "### **N trials**\n",
        "\n",
        "**Question:** Suppose you are giving \"n\" interviews. Let X denote number of offer letters you can get. What are all the possible values that X can take?\n",
        "\n",
        "![Capture.PNG](data:image/png;base64,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)"
      ],
      "metadata": {
        "id": "DwHQbw4aa5gK"
      }
    },
    {
      "cell_type": "code",
      "source": [
        "n = 10\n",
        "p = 0.1\n",
        "x_vals = np.arange(0, n+1)\n",
        "probs_binom = binom.pmf(x_vals, n = n, p = p)\n",
        "sns.barplot(x = x_vals, y = probs_binom)\n",
        "\n",
        "#HW - try to change n and p and observe the pattern"
      ],
      "metadata": {
        "id": "m9kRH3cua3Va",
        "outputId": "f10402b6-0def-4413-a48d-a79753a46cca",
        "colab": {
          "base_uri": "https://localhost:8080/",
          "height": 448
        }
      },
      "execution_count": null,
      "outputs": [
        {
          "output_type": "execute_result",
          "data": {
            "text/plain": [
              "<Axes: >"
            ]
          },
          "metadata": {},
          "execution_count": 29
        },
        {
          "output_type": "display_data",
          "data": {
            "text/plain": [
              "<Figure size 640x480 with 1 Axes>"
            ],
            "image/png": "[encoded data removed]"
          },
          "metadata": {}
        }
      ]
    },
    {
      "cell_type": "markdown",
      "source": [
        "### **Binomial Formula --> `(No. of outcomes maping the k-success)`**\n",
        "\n",
        "Finding the individual prob of success of no. of success.\n",
        "\n",
        "![Capture.PNG](data:image/png;base64,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)"
      ],
      "metadata": {
        "id": "B3K8agDbbgH-"
      }
    },
    {
      "cell_type": "markdown",
      "source": [
        "![Capture.PNG](data:image/png;base64,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)"
      ],
      "metadata": {
        "id": "ex72ShuxfvdK"
      }
    },
    {
      "cell_type": "code",
      "source": [
        "n = 15\n",
        "p = 0.1"
      ],
      "metadata": {
        "id": "omG7RV1WbZMG"
      },
      "execution_count": null,
      "outputs": []
    },
    {
      "cell_type": "code",
      "source": [
        "binom.pmf(k = 3, n = 15, p = 0.1)     #p(x = k) = nck * p^k * (1-p)^(n-k)"
      ],
      "metadata": {
        "id": "hO4Wb_5lbpfV",
        "outputId": "8d19d101-b0e9-4f7e-dbf7-68476b1f044d",
        "colab": {
          "base_uri": "https://localhost:8080/"
        }
      },
      "execution_count": null,
      "outputs": [
        {
          "output_type": "execute_result",
          "data": {
            "text/plain": [
              "0.1285054390988551"
            ]
          },
          "metadata": {},
          "execution_count": 31
        }
      ]
    },
    {
      "cell_type": "code",
      "source": [
        "# Alternative approach\n",
        "math.comb(15,3)*p**3*(1-p)**(n-3)"
      ],
      "metadata": {
        "id": "tfmbjvZzcZRE"
      },
      "execution_count": null,
      "outputs": []
    },
    {
      "cell_type": "markdown",
      "source": [
        "## **Strategy 2: (Geometric distribution)**\n",
        "\n",
        "Here we are interested in **no.of interviews** as **no. of offer letter** is **fixed to 1 - first success**\n",
        "\n",
        "    X: no of interviews till first success\n",
        "\n",
        "![Capture.PNG](data:image/png;base64,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)"
      ],
      "metadata": {
        "id": "m2u_6hXsgBdP"
      }
    },
    {
      "cell_type": "code",
      "source": [
        "p = 0.1"
      ],
      "metadata": {
        "id": "YLufh5t3gHBC"
      },
      "execution_count": null,
      "outputs": []
    },
    {
      "cell_type": "code",
      "source": [
        "x_vals = np.arange(1, 20)     # technically, infinite values"
      ],
      "metadata": {
        "id": "HuD4BzYmg4dg"
      },
      "execution_count": null,
      "outputs": []
    },
    {
      "cell_type": "code",
      "source": [
        "probs_geom = geom.pmf(x_vals, p = p)\n",
        "sns.barplot(x = x_vals, y = probs_geom)"
      ],
      "metadata": {
        "id": "4IWjACi-g6Ur",
        "outputId": "4d64be9b-204a-49a0-bbb4-456063e8dca4",
        "colab": {
          "base_uri": "https://localhost:8080/",
          "height": 448
        }
      },
      "execution_count": null,
      "outputs": [
        {
          "output_type": "execute_result",
          "data": {
            "text/plain": [
              "<Axes: >"
            ]
          },
          "metadata": {},
          "execution_count": 34
        },
        {
          "output_type": "display_data",
          "data": {
            "text/plain": [
              "<Figure size 640x480 with 1 Axes>"
            ],
            "image/png": "[encoded data removed]"
          },
          "metadata": {}
        }
      ]
    },
    {
      "cell_type": "markdown",
      "source": [
        "## **Binomial CDF**\n",
        "\n",
        "Messi and penalty: Success rate is 80%\n",
        "\n",
        "He kicks 10 times. What is the probability of having 7 or less successes?"
      ],
      "metadata": {
        "id": "vS0C9Cm8kmba"
      }
    },
    {
      "cell_type": "code",
      "source": [
        "n = 10\n",
        "p = 0.8"
      ],
      "metadata": {
        "id": "VztTTV59ko5x"
      },
      "execution_count": null,
      "outputs": []
    },
    {
      "cell_type": "code",
      "source": [
        "binom.cdf(k=7, n=n, p=p)"
      ],
      "metadata": {
        "id": "jQwRcdjDkoax",
        "outputId": "4fbfc316-1df0-45bc-e369-74769e37b687",
        "colab": {
          "base_uri": "https://localhost:8080/"
        }
      },
      "execution_count": null,
      "outputs": [
        {
          "output_type": "execute_result",
          "data": {
            "text/plain": [
              "0.32220047359999987"
            ]
          },
          "metadata": {},
          "execution_count": 45
        }
      ]
    },
    {
      "cell_type": "code",
      "source": [
        "np.sum([binom.pmf(k=i, n=n, p=p) for i in np.arange(0, 8)]) #adding all the pmf from 0 to 7 (k)\n",
        "#cdf is sum of individual pmfs (usually when <= asked --> cumulative)"
      ],
      "metadata": {
        "id": "sRGZSFnfkoMc",
        "outputId": "2cf44f64-0450-4be2-9378-fa21539dd05f",
        "colab": {
          "base_uri": "https://localhost:8080/"
        }
      },
      "execution_count": null,
      "outputs": [
        {
          "output_type": "execute_result",
          "data": {
            "text/plain": [
              "0.3222004735999996"
            ]
          },
          "metadata": {},
          "execution_count": 46
        }
      ]
    },
    {
      "cell_type": "code",
      "source": [
        "prob = 0\n",
        "for i in range(8):\n",
        "    prob += binom.pmf(k=i, n=n, p=p)\n",
        "prob"
      ],
      "metadata": {
        "id": "HvuRjKCmlJMG",
        "outputId": "11d26338-2254-4f30-be72-78d2aa2fc60f",
        "colab": {
          "base_uri": "https://localhost:8080/"
        }
      },
      "execution_count": null,
      "outputs": [
        {
          "output_type": "execute_result",
          "data": {
            "text/plain": [
              "0.3222004735999996"
            ]
          },
          "metadata": {},
          "execution_count": 47
        }
      ]
    },
    {
      "cell_type": "code",
      "source": [
        "# usually we will solve x<=4 types of questions using complement : 1- x<= format as cdf is avialalbe which captures 0 to x=k in one go"
      ],
      "metadata": {
        "id": "Gp4OjddhlQM-"
      },
      "execution_count": null,
      "outputs": []
    },
    {
      "cell_type": "code",
      "source": [
        "# practical usecase of Gemoetric - as an HR how many intervaiews shall I take to get my first hire candidate"
      ],
      "metadata": {
        "id": "arRLGkfIlQIU"
      },
      "execution_count": null,
      "outputs": []
    },
    {
      "cell_type": "markdown",
      "source": [
        "## **Quizes**\n",
        "\n",
        "![Capture.PNG](data:image/png;base64,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)"
      ],
      "metadata": {
        "id": "sSDWAFuThlf7"
      }
    },
    {
      "cell_type": "markdown",
      "source": [
        "**Q. Suppose we float 10 quizzes with four options each. Calculate the probability that a student, who randomly guesses, answers exactly 2 questions correctly**"
      ],
      "metadata": {
        "id": "q0Pe95FAkPN7"
      }
    },
    {
      "cell_type": "code",
      "source": [
        "n = 10\n",
        "p = 0.25\n",
        "k = 2"
      ],
      "metadata": {
        "id": "ilpOpDTGhV6E"
      },
      "execution_count": null,
      "outputs": []
    },
    {
      "cell_type": "code",
      "source": [
        "probs_binom = binom.pmf(k = k, n = n, p = p)\n",
        "probs_binom"
      ],
      "metadata": {
        "id": "ZyNx_2nAiZsG",
        "outputId": "c3d05385-b2b1-41ef-e591-81119d24fd4a",
        "colab": {
          "base_uri": "https://localhost:8080/"
        }
      },
      "execution_count": null,
      "outputs": [
        {
          "output_type": "execute_result",
          "data": {
            "text/plain": [
              "0.28156757354736334"
            ]
          },
          "metadata": {},
          "execution_count": 39
        }
      ]
    },
    {
      "cell_type": "markdown",
      "source": [
        "**Q. Prob of 3 or more question correct?**"
      ],
      "metadata": {
        "id": "kc77K_u-jhrz"
      }
    },
    {
      "cell_type": "code",
      "source": [
        "probs_binom = 1 - binom.cdf(k = 2, n = 10, p = 0.25)\n",
        "probs_binom"
      ],
      "metadata": {
        "id": "LM0rOO6Bjtym",
        "outputId": "f1ad5be7-1e34-4da1-b5ae-baa943f10429",
        "colab": {
          "base_uri": "https://localhost:8080/"
        }
      },
      "execution_count": null,
      "outputs": [
        {
          "output_type": "execute_result",
          "data": {
            "text/plain": [
              "0.4744071960449219"
            ]
          },
          "metadata": {},
          "execution_count": 43
        }
      ]
    },
    {
      "cell_type": "code",
      "source": [],
      "metadata": {
        "id": "A0cFWlYaivNb"
      },
      "execution_count": null,
      "outputs": []
    },
    {
      "cell_type": "code",
      "source": [],
      "metadata": {
        "id": "3pO4LLN7ldTD"
      },
      "execution_count": null,
      "outputs": []
    },
    {
      "cell_type": "code",
      "source": [],
      "metadata": {
        "id": "xOnkA1XJEsbK"
      },
      "execution_count": null,
      "outputs": []
    }
  ]
}