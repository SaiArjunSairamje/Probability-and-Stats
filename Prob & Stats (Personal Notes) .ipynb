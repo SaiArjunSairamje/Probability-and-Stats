{
  "nbformat": 4,
  "nbformat_minor": 0,
  "metadata": {
    "colab": {
      "provenance": [],
      "toc_visible": true,
      "authorship_tag": "ABX9TyPsmlGTq4w/kqA/LLp9em3P",
      "include_colab_link": true
    },
    "kernelspec": {
      "name": "python3",
      "display_name": "Python 3"
    },
    "language_info": {
      "name": "python"
    }
  },
  "cells": [
    {
      "cell_type": "markdown",
      "metadata": {
        "id": "view-in-github",
        "colab_type": "text"
      },
      "source": [
        "<a href=\"https://colab.research.google.com/github/SaiArjunSairamje/Probability-and-Stats/blob/main/Prob%20%26%20Stats%20(Personal%20Notes)%20.ipynb\" target=\"_parent\"><img src=\"https://colab.research.google.com/assets/colab-badge.svg\" alt=\"Open In Colab\"/></a>"
      ]
    },
    {
      "cell_type": "code",
      "execution_count": null,
      "metadata": {
        "id": "59wqHghlaFq2"
      },
      "outputs": [],
      "source": [
        "import numpy as np\n",
        "import pandas as pd\n",
        "import matplotlib.pyplot as plt\n",
        "import seaborn as sns\n",
        "\n",
        "from statsmodels.distributions.empirical_distribution import ECDF       # Empirical CDF (i.e. Empirical means from a data) --> \"Descriptive Statistics\"\n",
        "from scipy.stats import norm        # norm.cdf  # norm.ppf --> \"Gaussian Distribution\""
      ]
    },
    {
      "cell_type": "markdown",
      "source": [
        "# <center>**Data Analytics and Visualisation - Probability and Stats**</center>\n",
        "***\n",
        "\n",
        "**Part 1**\n",
        "  - Basic Definitions\n",
        "  - Conditional Probability\n",
        "  - Bayes Theorem 1\n",
        "  - Bayes Theorem 2\n",
        "\n",
        "**Part 2**\n",
        "  - Descriptive Statistics\n",
        "  - Gaussian Distribution\n",
        "  - Central Limit Theorem\n",
        "  - Confidence Interval\n",
        "\n",
        "**Part 2**\n",
        "  - Combinatorics\n",
        "  - Binomial and Geometric distributions"
      ],
      "metadata": {
        "id": "BB1iLuX85546"
      }
    },
    {
      "cell_type": "code",
      "source": [
        "length = [10, 20, 40, 50, 30, 60 , 80, 90, 100, 70]\n",
        "op = np.percentile(length, 50)\n",
        "op"
      ],
      "metadata": {
        "id": "g4CuKorHmVxK",
        "outputId": "9a4c9cd4-9af1-426c-f1c6-18bc19bd3656",
        "colab": {
          "base_uri": "https://localhost:8080/"
        }
      },
      "execution_count": null,
      "outputs": [
        {
          "output_type": "execute_result",
          "data": {
            "text/plain": [
              "55.0"
            ]
          },
          "metadata": {},
          "execution_count": 4
        }
      ]
    },
    {
      "cell_type": "markdown",
      "source": [
        "# <center>**`Part 2.1:` Descriptive Statistics**</center>\n",
        "***"
      ],
      "metadata": {
        "id": "1qOf0Q1Rbirb"
      }
    },
    {
      "cell_type": "code",
      "source": [
        "'''\n",
        "Descriptive Statistics (Content):\n",
        "--------------------------------------\n",
        "> Intro to Stats: Descriptive Statistics & Inferencial Statistics\n",
        "> Measures of central tendency (mean, median, mode, weighted average)\n",
        "> Measure of dispersion (range, percentiles & quartiles, interquartile range (IQR))\n",
        "> Data visualization (Box plots)\n",
        "> Outliers\n",
        "> Cumulative Distribution Function (CDF)\n",
        "> Data visualization (Histogram Plot) for Distribution of the data points\n",
        "> Measures of dispersion (variance, standard deviation, range)\n",
        "\n",
        "* Intro to Statistics: Descriptive Statistics & Inferencial Statistics\n",
        "* Measures of central tendency (mean, median, mode, weighted average)\n",
        "  (NOTE: Why Median better than Mean ??? \"Median is more robest to outliers\")\n",
        "  Q) There are 4 people whose average age is 24. We know the age of three people: 20, 22, and 28. What is the median age of these 4 people?\n",
        "  Q) In a survey about favourite animal, 30 people said cat, 40 people said dog, 20 people said cow. Wha is the mode of favourite animals in this data?\n",
        "  Q) The mean weight of 2 children in a family is 40 Kgs. If the weight of the mother is included, the mean becomes 45. What is the weight of the mother?\n",
        "  Q) A survey of number of pets in a town saw that 30% people had 0 pets, 40% had 1 pet, 10% had 2 pets, 20% had 3 pets. What is the average number of pets?\n",
        "\n",
        "* Measure of dispersion\n",
        "\t- Range (i.e. spread of data), variance, and standard deviation\n",
        "\t- Percentiles and quartiles\n",
        "\t- Interquartile range (IQR)\n",
        "* Data visualization (Box plots)\n",
        "\t- Percentiles, Min, Max\n",
        "\t- IQR (i.e. range b/w 25th & 75th percentiles)\n",
        "* Calculating Percentiles (25th, 50th (Median), 75th) & Quartiles (Q1, Q2, Q3)\n",
        "  For Percentiles:\n",
        "    Approach (1):\n",
        "\t- np.percentile(data[], 25) --> 25th percentile or Q1 quartile\n",
        "\t- np.percentile(data[], 50) --> 50th percentile or Q2 quartile or medium\n",
        "\t- np.percentile(data[], 75) --> 75th percentile or Q3 quartile\n",
        "    Approach (2):\n",
        "\t- data[].quantile(0.25) -->  Q1 quartile or 25th percentile\n",
        "\t- data[].quantile(0.50) -->  Q2 quartile or 50th percentile or medium\n",
        "\t- data[].quantile(0.75) -->  Q3 quartile or 75th percentile\n",
        "  For IQR (Interquartile Range):\n",
        "\t- (np.percentile(data[], 75) - np.percentile(data[], 75)) --> (75th percentile - 25th percentile)\n",
        "* Creating Data visualization (Box plots) for Percentiles & Quartiles\n",
        "\t- sns.boxplot(data = data[], orient = \"h\")\n",
        "* Calculating max (i.e. upper) & min (i.e. lower) points\n",
        "\t- upper_bound = min(actual_max, 75_percentile + 1.5*IQR)\n",
        "\t- lower_bound = max(0, 25_percentile - 1.5*IQR)\n",
        "* How much % of data is above the upper_bound (i.e. outliers)???\n",
        "\t- data_outlier = data[data[] > upper_bound]\n",
        "\t  len(data_outlier)\n",
        "\t  (above_output/count_value_from_describe_function)*100\n",
        "\n",
        "(NOTE: Using a different dataset)\n",
        "* Cumulative Distribution Function (CDF) (Connecting CDF to percentiles and cumulative probabilities in dataset)\n",
        "  Approach (1): Manual code\n",
        "\t- x_values = np.linspace(min_height, max_height, 1000)  --> creating x_axis (NOTE: similar to np.arange())\n",
        "\t  y_values = []\n",
        "\t  for x in x_values:\n",
        "\t  \tpeople_shorter_than_x = df_height[df_height <= x]\n",
        "    \t\tnum_people_shorter_than_x = len(people_shorter_than_x)\n",
        "\t\tfrac_people_shorter_than_x = num_people_shorter_than_x / total\n",
        "\t\ty_values.append(frac_people_shorter_than_x)\n",
        "\t\tplt.plot(x_values, y_values)\n",
        "  Approach (2): Pre-defined library\n",
        "\t- from statsmodels.distributions.empirical_distribution import ECDF  #Expirical CDF\n",
        "\t  e = ECDF(data)\n",
        "\t  plt.plot(e.x, e.y, c = \"r\")\n",
        "* Data visualization (Histogram Plot) for Distribution of the data points\n",
        "\t- sns.histplot(data[])\n",
        "* Measures of dispersion (variance, standard deviation, range)\n",
        "\t- formula for Variance\n",
        "\t- formula for Standard Deviation\n",
        "'''"
      ],
      "metadata": {
        "id": "TOlTtc3twZZY"
      },
      "execution_count": null,
      "outputs": []
    },
    {
      "cell_type": "code",
      "source": [
        "sehwag = pd.read_csv(\"sehwag.csv\")\n",
        "dravid = pd.read_csv(\"dravid.csv\")"
      ],
      "metadata": {
        "id": "af6nNANRaOQR"
      },
      "execution_count": null,
      "outputs": []
    },
    {
      "cell_type": "code",
      "source": [
        "sehwag.head()"
      ],
      "metadata": {
        "colab": {
          "base_uri": "https://localhost:8080/",
          "height": 206
        },
        "id": "dKFbS3BLajcR",
        "outputId": "4777a002-5c8f-4a7a-b635-9339084f68f1"
      },
      "execution_count": null,
      "outputs": [
        {
          "output_type": "execute_result",
          "data": {
            "text/plain": [
              "   Runs Mins  BF  4s  6s      SR  Pos Dismissal  Inns  Unnamed: 9  \\\n",
              "0     1    5   2   0   0   50.00    7       lbw     1         NaN   \n",
              "1    19   18  24   0   1   79.16    6    caught     1         NaN   \n",
              "2    58   62  54   8   0  107.40    6    bowled     1         NaN   \n",
              "3     2    7   7   0   0   28.57    6    caught     2         NaN   \n",
              "4    11   19  16   1   0   68.75    6   not out     2         NaN   \n",
              "\n",
              "      Opposition     Ground   Start Date Unnamed: 13  \n",
              "0     v Pakistan     Mohali   1 Apr 1999  ODI # 1427  \n",
              "1     v Zimbabwe     Rajkot  14 Dec 2000  ODI # 1660  \n",
              "2    v Australia  Bengaluru  25 Mar 2001  ODI # 1696  \n",
              "3     v Zimbabwe   Bulawayo  27 Jun 2001  ODI # 1730  \n",
              "4  v West Indies   Bulawayo  30 Jun 2001  ODI # 1731  "
            ],
            "text/html": [
              "\n",
              "  <div id=\"df-6d287641-4f2a-46f5-95c5-afaa284b55ea\" class=\"colab-df-container\">\n",
              "    <div>\n",
              "<style scoped>\n",
              "    .dataframe tbody tr th:only-of-type {\n",
              "        vertical-align: middle;\n",
              "    }\n",
              "\n",
              "    .dataframe tbody tr th {\n",
              "        vertical-align: top;\n",
              "    }\n",
              "\n",
              "    .dataframe thead th {\n",
              "        text-align: right;\n",
              "    }\n",
              "</style>\n",
              "<table border=\"1\" class=\"dataframe\">\n",
              "  <thead>\n",
              "    <tr style=\"text-align: right;\">\n",
              "      <th></th>\n",
              "      <th>Runs</th>\n",
              "      <th>Mins</th>\n",
              "      <th>BF</th>\n",
              "      <th>4s</th>\n",
              "      <th>6s</th>\n",
              "      <th>SR</th>\n",
              "      <th>Pos</th>\n",
              "      <th>Dismissal</th>\n",
              "      <th>Inns</th>\n",
              "      <th>Unnamed: 9</th>\n",
              "      <th>Opposition</th>\n",
              "      <th>Ground</th>\n",
              "      <th>Start Date</th>\n",
              "      <th>Unnamed: 13</th>\n",
              "    </tr>\n",
              "  </thead>\n",
              "  <tbody>\n",
              "    <tr>\n",
              "      <th>0</th>\n",
              "      <td>1</td>\n",
              "      <td>5</td>\n",
              "      <td>2</td>\n",
              "      <td>0</td>\n",
              "      <td>0</td>\n",
              "      <td>50.00</td>\n",
              "      <td>7</td>\n",
              "      <td>lbw</td>\n",
              "      <td>1</td>\n",
              "      <td>NaN</td>\n",
              "      <td>v Pakistan</td>\n",
              "      <td>Mohali</td>\n",
              "      <td>1 Apr 1999</td>\n",
              "      <td>ODI # 1427</td>\n",
              "    </tr>\n",
              "    <tr>\n",
              "      <th>1</th>\n",
              "      <td>19</td>\n",
              "      <td>18</td>\n",
              "      <td>24</td>\n",
              "      <td>0</td>\n",
              "      <td>1</td>\n",
              "      <td>79.16</td>\n",
              "      <td>6</td>\n",
              "      <td>caught</td>\n",
              "      <td>1</td>\n",
              "      <td>NaN</td>\n",
              "      <td>v Zimbabwe</td>\n",
              "      <td>Rajkot</td>\n",
              "      <td>14 Dec 2000</td>\n",
              "      <td>ODI # 1660</td>\n",
              "    </tr>\n",
              "    <tr>\n",
              "      <th>2</th>\n",
              "      <td>58</td>\n",
              "      <td>62</td>\n",
              "      <td>54</td>\n",
              "      <td>8</td>\n",
              "      <td>0</td>\n",
              "      <td>107.40</td>\n",
              "      <td>6</td>\n",
              "      <td>bowled</td>\n",
              "      <td>1</td>\n",
              "      <td>NaN</td>\n",
              "      <td>v Australia</td>\n",
              "      <td>Bengaluru</td>\n",
              "      <td>25 Mar 2001</td>\n",
              "      <td>ODI # 1696</td>\n",
              "    </tr>\n",
              "    <tr>\n",
              "      <th>3</th>\n",
              "      <td>2</td>\n",
              "      <td>7</td>\n",
              "      <td>7</td>\n",
              "      <td>0</td>\n",
              "      <td>0</td>\n",
              "      <td>28.57</td>\n",
              "      <td>6</td>\n",
              "      <td>caught</td>\n",
              "      <td>2</td>\n",
              "      <td>NaN</td>\n",
              "      <td>v Zimbabwe</td>\n",
              "      <td>Bulawayo</td>\n",
              "      <td>27 Jun 2001</td>\n",
              "      <td>ODI # 1730</td>\n",
              "    </tr>\n",
              "    <tr>\n",
              "      <th>4</th>\n",
              "      <td>11</td>\n",
              "      <td>19</td>\n",
              "      <td>16</td>\n",
              "      <td>1</td>\n",
              "      <td>0</td>\n",
              "      <td>68.75</td>\n",
              "      <td>6</td>\n",
              "      <td>not out</td>\n",
              "      <td>2</td>\n",
              "      <td>NaN</td>\n",
              "      <td>v West Indies</td>\n",
              "      <td>Bulawayo</td>\n",
              "      <td>30 Jun 2001</td>\n",
              "      <td>ODI # 1731</td>\n",
              "    </tr>\n",
              "  </tbody>\n",
              "</table>\n",
              "</div>\n",
              "    <div class=\"colab-df-buttons\">\n",
              "\n",
              "  <div class=\"colab-df-container\">\n",
              "    <button class=\"colab-df-convert\" onclick=\"convertToInteractive('df-6d287641-4f2a-46f5-95c5-afaa284b55ea')\"\n",
              "            title=\"Convert this dataframe to an interactive table.\"\n",
              "            style=\"display:none;\">\n",
              "\n",
              "  <svg xmlns=\"http://www.w3.org/2000/svg\" height=\"24px\" viewBox=\"0 -960 960 960\">\n",
              "    <path d=\"M120-120v-720h720v720H120Zm60-500h600v-160H180v160Zm220 220h160v-160H400v160Zm0 220h160v-160H400v160ZM180-400h160v-160H180v160Zm440 0h160v-160H620v160ZM180-180h160v-160H180v160Zm440 0h160v-160H620v160Z\"/>\n",
              "  </svg>\n",
              "    </button>\n",
              "\n",
              "  <style>\n",
              "    .colab-df-container {\n",
              "      display:flex;\n",
              "      gap: 12px;\n",
              "    }\n",
              "\n",
              "    .colab-df-convert {\n",
              "      background-color: #E8F0FE;\n",
              "      border: none;\n",
              "      border-radius: 50%;\n",
              "      cursor: pointer;\n",
              "      display: none;\n",
              "      fill: #1967D2;\n",
              "      height: 32px;\n",
              "      padding: 0 0 0 0;\n",
              "      width: 32px;\n",
              "    }\n",
              "\n",
              "    .colab-df-convert:hover {\n",
              "      background-color: #E2EBFA;\n",
              "      box-shadow: 0px 1px 2px rgba(60, 64, 67, 0.3), 0px 1px 3px 1px rgba(60, 64, 67, 0.15);\n",
              "      fill: #174EA6;\n",
              "    }\n",
              "\n",
              "    .colab-df-buttons div {\n",
              "      margin-bottom: 4px;\n",
              "    }\n",
              "\n",
              "    [theme=dark] .colab-df-convert {\n",
              "      background-color: #3B4455;\n",
              "      fill: #D2E3FC;\n",
              "    }\n",
              "\n",
              "    [theme=dark] .colab-df-convert:hover {\n",
              "      background-color: #434B5C;\n",
              "      box-shadow: 0px 1px 3px 1px rgba(0, 0, 0, 0.15);\n",
              "      filter: drop-shadow(0px 1px 2px rgba(0, 0, 0, 0.3));\n",
              "      fill: #FFFFFF;\n",
              "    }\n",
              "  </style>\n",
              "\n",
              "    <script>\n",
              "      const buttonEl =\n",
              "        document.querySelector('#df-6d287641-4f2a-46f5-95c5-afaa284b55ea button.colab-df-convert');\n",
              "      buttonEl.style.display =\n",
              "        google.colab.kernel.accessAllowed ? 'block' : 'none';\n",
              "\n",
              "      async function convertToInteractive(key) {\n",
              "        const element = document.querySelector('#df-6d287641-4f2a-46f5-95c5-afaa284b55ea');\n",
              "        const dataTable =\n",
              "          await google.colab.kernel.invokeFunction('convertToInteractive',\n",
              "                                                    [key], {});\n",
              "        if (!dataTable) return;\n",
              "\n",
              "        const docLinkHtml = 'Like what you see? Visit the ' +\n",
              "          '<a target=\"_blank\" href=https://colab.research.google.com/notebooks/data_table.ipynb>data table notebook</a>'\n",
              "          + ' to learn more about interactive tables.';\n",
              "        element.innerHTML = '';\n",
              "        dataTable['output_type'] = 'display_data';\n",
              "        await google.colab.output.renderOutput(dataTable, element);\n",
              "        const docLink = document.createElement('div');\n",
              "        docLink.innerHTML = docLinkHtml;\n",
              "        element.appendChild(docLink);\n",
              "      }\n",
              "    </script>\n",
              "  </div>\n",
              "\n",
              "\n",
              "<div id=\"df-9073617d-106b-4801-b559-856400c16116\">\n",
              "  <button class=\"colab-df-quickchart\" onclick=\"quickchart('df-9073617d-106b-4801-b559-856400c16116')\"\n",
              "            title=\"Suggest charts.\"\n",
              "            style=\"display:none;\">\n",
              "\n",
              "<svg xmlns=\"http://www.w3.org/2000/svg\" height=\"24px\"viewBox=\"0 0 24 24\"\n",
              "     width=\"24px\">\n",
              "    <g>\n",
              "        <path d=\"M19 3H5c-1.1 0-2 .9-2 2v14c0 1.1.9 2 2 2h14c1.1 0 2-.9 2-2V5c0-1.1-.9-2-2-2zM9 17H7v-7h2v7zm4 0h-2V7h2v10zm4 0h-2v-4h2v4z\"/>\n",
              "    </g>\n",
              "</svg>\n",
              "  </button>\n",
              "\n",
              "<style>\n",
              "  .colab-df-quickchart {\n",
              "      --bg-color: #E8F0FE;\n",
              "      --fill-color: #1967D2;\n",
              "      --hover-bg-color: #E2EBFA;\n",
              "      --hover-fill-color: #174EA6;\n",
              "      --disabled-fill-color: #AAA;\n",
              "      --disabled-bg-color: #DDD;\n",
              "  }\n",
              "\n",
              "  [theme=dark] .colab-df-quickchart {\n",
              "      --bg-color: #3B4455;\n",
              "      --fill-color: #D2E3FC;\n",
              "      --hover-bg-color: #434B5C;\n",
              "      --hover-fill-color: #FFFFFF;\n",
              "      --disabled-bg-color: #3B4455;\n",
              "      --disabled-fill-color: #666;\n",
              "  }\n",
              "\n",
              "  .colab-df-quickchart {\n",
              "    background-color: var(--bg-color);\n",
              "    border: none;\n",
              "    border-radius: 50%;\n",
              "    cursor: pointer;\n",
              "    display: none;\n",
              "    fill: var(--fill-color);\n",
              "    height: 32px;\n",
              "    padding: 0;\n",
              "    width: 32px;\n",
              "  }\n",
              "\n",
              "  .colab-df-quickchart:hover {\n",
              "    background-color: var(--hover-bg-color);\n",
              "    box-shadow: 0 1px 2px rgba(60, 64, 67, 0.3), 0 1px 3px 1px rgba(60, 64, 67, 0.15);\n",
              "    fill: var(--button-hover-fill-color);\n",
              "  }\n",
              "\n",
              "  .colab-df-quickchart-complete:disabled,\n",
              "  .colab-df-quickchart-complete:disabled:hover {\n",
              "    background-color: var(--disabled-bg-color);\n",
              "    fill: var(--disabled-fill-color);\n",
              "    box-shadow: none;\n",
              "  }\n",
              "\n",
              "  .colab-df-spinner {\n",
              "    border: 2px solid var(--fill-color);\n",
              "    border-color: transparent;\n",
              "    border-bottom-color: var(--fill-color);\n",
              "    animation:\n",
              "      spin 1s steps(1) infinite;\n",
              "  }\n",
              "\n",
              "  @keyframes spin {\n",
              "    0% {\n",
              "      border-color: transparent;\n",
              "      border-bottom-color: var(--fill-color);\n",
              "      border-left-color: var(--fill-color);\n",
              "    }\n",
              "    20% {\n",
              "      border-color: transparent;\n",
              "      border-left-color: var(--fill-color);\n",
              "      border-top-color: var(--fill-color);\n",
              "    }\n",
              "    30% {\n",
              "      border-color: transparent;\n",
              "      border-left-color: var(--fill-color);\n",
              "      border-top-color: var(--fill-color);\n",
              "      border-right-color: var(--fill-color);\n",
              "    }\n",
              "    40% {\n",
              "      border-color: transparent;\n",
              "      border-right-color: var(--fill-color);\n",
              "      border-top-color: var(--fill-color);\n",
              "    }\n",
              "    60% {\n",
              "      border-color: transparent;\n",
              "      border-right-color: var(--fill-color);\n",
              "    }\n",
              "    80% {\n",
              "      border-color: transparent;\n",
              "      border-right-color: var(--fill-color);\n",
              "      border-bottom-color: var(--fill-color);\n",
              "    }\n",
              "    90% {\n",
              "      border-color: transparent;\n",
              "      border-bottom-color: var(--fill-color);\n",
              "    }\n",
              "  }\n",
              "</style>\n",
              "\n",
              "  <script>\n",
              "    async function quickchart(key) {\n",
              "      const quickchartButtonEl =\n",
              "        document.querySelector('#' + key + ' button');\n",
              "      quickchartButtonEl.disabled = true;  // To prevent multiple clicks.\n",
              "      quickchartButtonEl.classList.add('colab-df-spinner');\n",
              "      try {\n",
              "        const charts = await google.colab.kernel.invokeFunction(\n",
              "            'suggestCharts', [key], {});\n",
              "      } catch (error) {\n",
              "        console.error('Error during call to suggestCharts:', error);\n",
              "      }\n",
              "      quickchartButtonEl.classList.remove('colab-df-spinner');\n",
              "      quickchartButtonEl.classList.add('colab-df-quickchart-complete');\n",
              "    }\n",
              "    (() => {\n",
              "      let quickchartButtonEl =\n",
              "        document.querySelector('#df-9073617d-106b-4801-b559-856400c16116 button');\n",
              "      quickchartButtonEl.style.display =\n",
              "        google.colab.kernel.accessAllowed ? 'block' : 'none';\n",
              "    })();\n",
              "  </script>\n",
              "</div>\n",
              "    </div>\n",
              "  </div>\n"
            ]
          },
          "metadata": {},
          "execution_count": 4
        }
      ]
    },
    {
      "cell_type": "code",
      "source": [
        "dravid.head()"
      ],
      "metadata": {
        "colab": {
          "base_uri": "https://localhost:8080/",
          "height": 206
        },
        "id": "XdEkndAhamP3",
        "outputId": "d819f1cd-4e37-40c6-9ca9-67801eaa3ced"
      },
      "execution_count": null,
      "outputs": [
        {
          "output_type": "execute_result",
          "data": {
            "text/plain": [
              "   Runs Mins  BF  4s  6s      SR  Pos Dismissal  Inns  Unnamed: 9  \\\n",
              "0     3    -   4   0   0   75.00    4    caught     1         NaN   \n",
              "1     4    -   7   0   0   57.14    4   run out     1         NaN   \n",
              "2     3    -   5   0   0   60.00    5    caught     2         NaN   \n",
              "3    11   28  21   0   0   52.38    8    caught     2         NaN   \n",
              "4    22   21  15   3   0  146.66    6   not out     1         NaN   \n",
              "\n",
              "       Opposition      Ground   Start Date Unnamed: 13  \n",
              "0     v Sri Lanka   Singapore   3 Apr 1996  ODI # 1089  \n",
              "1      v Pakistan   Singapore   5 Apr 1996  ODI # 1091  \n",
              "2      v Pakistan     Sharjah  12 Apr 1996  ODI # 1094  \n",
              "3  v South Africa     Sharjah  14 Apr 1996  ODI # 1097  \n",
              "4       v England  Manchester  26 May 1996  ODI # 1104  "
            ],
            "text/html": [
              "\n",
              "  <div id=\"df-f332f051-6e89-4192-bc8b-471aac8550cb\" class=\"colab-df-container\">\n",
              "    <div>\n",
              "<style scoped>\n",
              "    .dataframe tbody tr th:only-of-type {\n",
              "        vertical-align: middle;\n",
              "    }\n",
              "\n",
              "    .dataframe tbody tr th {\n",
              "        vertical-align: top;\n",
              "    }\n",
              "\n",
              "    .dataframe thead th {\n",
              "        text-align: right;\n",
              "    }\n",
              "</style>\n",
              "<table border=\"1\" class=\"dataframe\">\n",
              "  <thead>\n",
              "    <tr style=\"text-align: right;\">\n",
              "      <th></th>\n",
              "      <th>Runs</th>\n",
              "      <th>Mins</th>\n",
              "      <th>BF</th>\n",
              "      <th>4s</th>\n",
              "      <th>6s</th>\n",
              "      <th>SR</th>\n",
              "      <th>Pos</th>\n",
              "      <th>Dismissal</th>\n",
              "      <th>Inns</th>\n",
              "      <th>Unnamed: 9</th>\n",
              "      <th>Opposition</th>\n",
              "      <th>Ground</th>\n",
              "      <th>Start Date</th>\n",
              "      <th>Unnamed: 13</th>\n",
              "    </tr>\n",
              "  </thead>\n",
              "  <tbody>\n",
              "    <tr>\n",
              "      <th>0</th>\n",
              "      <td>3</td>\n",
              "      <td>-</td>\n",
              "      <td>4</td>\n",
              "      <td>0</td>\n",
              "      <td>0</td>\n",
              "      <td>75.00</td>\n",
              "      <td>4</td>\n",
              "      <td>caught</td>\n",
              "      <td>1</td>\n",
              "      <td>NaN</td>\n",
              "      <td>v Sri Lanka</td>\n",
              "      <td>Singapore</td>\n",
              "      <td>3 Apr 1996</td>\n",
              "      <td>ODI # 1089</td>\n",
              "    </tr>\n",
              "    <tr>\n",
              "      <th>1</th>\n",
              "      <td>4</td>\n",
              "      <td>-</td>\n",
              "      <td>7</td>\n",
              "      <td>0</td>\n",
              "      <td>0</td>\n",
              "      <td>57.14</td>\n",
              "      <td>4</td>\n",
              "      <td>run out</td>\n",
              "      <td>1</td>\n",
              "      <td>NaN</td>\n",
              "      <td>v Pakistan</td>\n",
              "      <td>Singapore</td>\n",
              "      <td>5 Apr 1996</td>\n",
              "      <td>ODI # 1091</td>\n",
              "    </tr>\n",
              "    <tr>\n",
              "      <th>2</th>\n",
              "      <td>3</td>\n",
              "      <td>-</td>\n",
              "      <td>5</td>\n",
              "      <td>0</td>\n",
              "      <td>0</td>\n",
              "      <td>60.00</td>\n",
              "      <td>5</td>\n",
              "      <td>caught</td>\n",
              "      <td>2</td>\n",
              "      <td>NaN</td>\n",
              "      <td>v Pakistan</td>\n",
              "      <td>Sharjah</td>\n",
              "      <td>12 Apr 1996</td>\n",
              "      <td>ODI # 1094</td>\n",
              "    </tr>\n",
              "    <tr>\n",
              "      <th>3</th>\n",
              "      <td>11</td>\n",
              "      <td>28</td>\n",
              "      <td>21</td>\n",
              "      <td>0</td>\n",
              "      <td>0</td>\n",
              "      <td>52.38</td>\n",
              "      <td>8</td>\n",
              "      <td>caught</td>\n",
              "      <td>2</td>\n",
              "      <td>NaN</td>\n",
              "      <td>v South Africa</td>\n",
              "      <td>Sharjah</td>\n",
              "      <td>14 Apr 1996</td>\n",
              "      <td>ODI # 1097</td>\n",
              "    </tr>\n",
              "    <tr>\n",
              "      <th>4</th>\n",
              "      <td>22</td>\n",
              "      <td>21</td>\n",
              "      <td>15</td>\n",
              "      <td>3</td>\n",
              "      <td>0</td>\n",
              "      <td>146.66</td>\n",
              "      <td>6</td>\n",
              "      <td>not out</td>\n",
              "      <td>1</td>\n",
              "      <td>NaN</td>\n",
              "      <td>v England</td>\n",
              "      <td>Manchester</td>\n",
              "      <td>26 May 1996</td>\n",
              "      <td>ODI # 1104</td>\n",
              "    </tr>\n",
              "  </tbody>\n",
              "</table>\n",
              "</div>\n",
              "    <div class=\"colab-df-buttons\">\n",
              "\n",
              "  <div class=\"colab-df-container\">\n",
              "    <button class=\"colab-df-convert\" onclick=\"convertToInteractive('df-f332f051-6e89-4192-bc8b-471aac8550cb')\"\n",
              "            title=\"Convert this dataframe to an interactive table.\"\n",
              "            style=\"display:none;\">\n",
              "\n",
              "  <svg xmlns=\"http://www.w3.org/2000/svg\" height=\"24px\" viewBox=\"0 -960 960 960\">\n",
              "    <path d=\"M120-120v-720h720v720H120Zm60-500h600v-160H180v160Zm220 220h160v-160H400v160Zm0 220h160v-160H400v160ZM180-400h160v-160H180v160Zm440 0h160v-160H620v160ZM180-180h160v-160H180v160Zm440 0h160v-160H620v160Z\"/>\n",
              "  </svg>\n",
              "    </button>\n",
              "\n",
              "  <style>\n",
              "    .colab-df-container {\n",
              "      display:flex;\n",
              "      gap: 12px;\n",
              "    }\n",
              "\n",
              "    .colab-df-convert {\n",
              "      background-color: #E8F0FE;\n",
              "      border: none;\n",
              "      border-radius: 50%;\n",
              "      cursor: pointer;\n",
              "      display: none;\n",
              "      fill: #1967D2;\n",
              "      height: 32px;\n",
              "      padding: 0 0 0 0;\n",
              "      width: 32px;\n",
              "    }\n",
              "\n",
              "    .colab-df-convert:hover {\n",
              "      background-color: #E2EBFA;\n",
              "      box-shadow: 0px 1px 2px rgba(60, 64, 67, 0.3), 0px 1px 3px 1px rgba(60, 64, 67, 0.15);\n",
              "      fill: #174EA6;\n",
              "    }\n",
              "\n",
              "    .colab-df-buttons div {\n",
              "      margin-bottom: 4px;\n",
              "    }\n",
              "\n",
              "    [theme=dark] .colab-df-convert {\n",
              "      background-color: #3B4455;\n",
              "      fill: #D2E3FC;\n",
              "    }\n",
              "\n",
              "    [theme=dark] .colab-df-convert:hover {\n",
              "      background-color: #434B5C;\n",
              "      box-shadow: 0px 1px 3px 1px rgba(0, 0, 0, 0.15);\n",
              "      filter: drop-shadow(0px 1px 2px rgba(0, 0, 0, 0.3));\n",
              "      fill: #FFFFFF;\n",
              "    }\n",
              "  </style>\n",
              "\n",
              "    <script>\n",
              "      const buttonEl =\n",
              "        document.querySelector('#df-f332f051-6e89-4192-bc8b-471aac8550cb button.colab-df-convert');\n",
              "      buttonEl.style.display =\n",
              "        google.colab.kernel.accessAllowed ? 'block' : 'none';\n",
              "\n",
              "      async function convertToInteractive(key) {\n",
              "        const element = document.querySelector('#df-f332f051-6e89-4192-bc8b-471aac8550cb');\n",
              "        const dataTable =\n",
              "          await google.colab.kernel.invokeFunction('convertToInteractive',\n",
              "                                                    [key], {});\n",
              "        if (!dataTable) return;\n",
              "\n",
              "        const docLinkHtml = 'Like what you see? Visit the ' +\n",
              "          '<a target=\"_blank\" href=https://colab.research.google.com/notebooks/data_table.ipynb>data table notebook</a>'\n",
              "          + ' to learn more about interactive tables.';\n",
              "        element.innerHTML = '';\n",
              "        dataTable['output_type'] = 'display_data';\n",
              "        await google.colab.output.renderOutput(dataTable, element);\n",
              "        const docLink = document.createElement('div');\n",
              "        docLink.innerHTML = docLinkHtml;\n",
              "        element.appendChild(docLink);\n",
              "      }\n",
              "    </script>\n",
              "  </div>\n",
              "\n",
              "\n",
              "<div id=\"df-d4651e47-98d6-4cb5-98cb-c55631e5970a\">\n",
              "  <button class=\"colab-df-quickchart\" onclick=\"quickchart('df-d4651e47-98d6-4cb5-98cb-c55631e5970a')\"\n",
              "            title=\"Suggest charts.\"\n",
              "            style=\"display:none;\">\n",
              "\n",
              "<svg xmlns=\"http://www.w3.org/2000/svg\" height=\"24px\"viewBox=\"0 0 24 24\"\n",
              "     width=\"24px\">\n",
              "    <g>\n",
              "        <path d=\"M19 3H5c-1.1 0-2 .9-2 2v14c0 1.1.9 2 2 2h14c1.1 0 2-.9 2-2V5c0-1.1-.9-2-2-2zM9 17H7v-7h2v7zm4 0h-2V7h2v10zm4 0h-2v-4h2v4z\"/>\n",
              "    </g>\n",
              "</svg>\n",
              "  </button>\n",
              "\n",
              "<style>\n",
              "  .colab-df-quickchart {\n",
              "      --bg-color: #E8F0FE;\n",
              "      --fill-color: #1967D2;\n",
              "      --hover-bg-color: #E2EBFA;\n",
              "      --hover-fill-color: #174EA6;\n",
              "      --disabled-fill-color: #AAA;\n",
              "      --disabled-bg-color: #DDD;\n",
              "  }\n",
              "\n",
              "  [theme=dark] .colab-df-quickchart {\n",
              "      --bg-color: #3B4455;\n",
              "      --fill-color: #D2E3FC;\n",
              "      --hover-bg-color: #434B5C;\n",
              "      --hover-fill-color: #FFFFFF;\n",
              "      --disabled-bg-color: #3B4455;\n",
              "      --disabled-fill-color: #666;\n",
              "  }\n",
              "\n",
              "  .colab-df-quickchart {\n",
              "    background-color: var(--bg-color);\n",
              "    border: none;\n",
              "    border-radius: 50%;\n",
              "    cursor: pointer;\n",
              "    display: none;\n",
              "    fill: var(--fill-color);\n",
              "    height: 32px;\n",
              "    padding: 0;\n",
              "    width: 32px;\n",
              "  }\n",
              "\n",
              "  .colab-df-quickchart:hover {\n",
              "    background-color: var(--hover-bg-color);\n",
              "    box-shadow: 0 1px 2px rgba(60, 64, 67, 0.3), 0 1px 3px 1px rgba(60, 64, 67, 0.15);\n",
              "    fill: var(--button-hover-fill-color);\n",
              "  }\n",
              "\n",
              "  .colab-df-quickchart-complete:disabled,\n",
              "  .colab-df-quickchart-complete:disabled:hover {\n",
              "    background-color: var(--disabled-bg-color);\n",
              "    fill: var(--disabled-fill-color);\n",
              "    box-shadow: none;\n",
              "  }\n",
              "\n",
              "  .colab-df-spinner {\n",
              "    border: 2px solid var(--fill-color);\n",
              "    border-color: transparent;\n",
              "    border-bottom-color: var(--fill-color);\n",
              "    animation:\n",
              "      spin 1s steps(1) infinite;\n",
              "  }\n",
              "\n",
              "  @keyframes spin {\n",
              "    0% {\n",
              "      border-color: transparent;\n",
              "      border-bottom-color: var(--fill-color);\n",
              "      border-left-color: var(--fill-color);\n",
              "    }\n",
              "    20% {\n",
              "      border-color: transparent;\n",
              "      border-left-color: var(--fill-color);\n",
              "      border-top-color: var(--fill-color);\n",
              "    }\n",
              "    30% {\n",
              "      border-color: transparent;\n",
              "      border-left-color: var(--fill-color);\n",
              "      border-top-color: var(--fill-color);\n",
              "      border-right-color: var(--fill-color);\n",
              "    }\n",
              "    40% {\n",
              "      border-color: transparent;\n",
              "      border-right-color: var(--fill-color);\n",
              "      border-top-color: var(--fill-color);\n",
              "    }\n",
              "    60% {\n",
              "      border-color: transparent;\n",
              "      border-right-color: var(--fill-color);\n",
              "    }\n",
              "    80% {\n",
              "      border-color: transparent;\n",
              "      border-right-color: var(--fill-color);\n",
              "      border-bottom-color: var(--fill-color);\n",
              "    }\n",
              "    90% {\n",
              "      border-color: transparent;\n",
              "      border-bottom-color: var(--fill-color);\n",
              "    }\n",
              "  }\n",
              "</style>\n",
              "\n",
              "  <script>\n",
              "    async function quickchart(key) {\n",
              "      const quickchartButtonEl =\n",
              "        document.querySelector('#' + key + ' button');\n",
              "      quickchartButtonEl.disabled = true;  // To prevent multiple clicks.\n",
              "      quickchartButtonEl.classList.add('colab-df-spinner');\n",
              "      try {\n",
              "        const charts = await google.colab.kernel.invokeFunction(\n",
              "            'suggestCharts', [key], {});\n",
              "      } catch (error) {\n",
              "        console.error('Error during call to suggestCharts:', error);\n",
              "      }\n",
              "      quickchartButtonEl.classList.remove('colab-df-spinner');\n",
              "      quickchartButtonEl.classList.add('colab-df-quickchart-complete');\n",
              "    }\n",
              "    (() => {\n",
              "      let quickchartButtonEl =\n",
              "        document.querySelector('#df-d4651e47-98d6-4cb5-98cb-c55631e5970a button');\n",
              "      quickchartButtonEl.style.display =\n",
              "        google.colab.kernel.accessAllowed ? 'block' : 'none';\n",
              "    })();\n",
              "  </script>\n",
              "</div>\n",
              "    </div>\n",
              "  </div>\n"
            ]
          },
          "metadata": {},
          "execution_count": 5
        }
      ]
    },
    {
      "cell_type": "markdown",
      "source": [
        "## **(1) Let's handle sehwag.csv first**"
      ],
      "metadata": {
        "id": "jo26N_tHjlZn"
      }
    },
    {
      "cell_type": "code",
      "source": [
        "sehwag.shape"
      ],
      "metadata": {
        "colab": {
          "base_uri": "https://localhost:8080/"
        },
        "id": "lEk-NnszayJg",
        "outputId": "33231999-ef55-425f-d640-380da5aad2cf"
      },
      "execution_count": null,
      "outputs": [
        {
          "output_type": "execute_result",
          "data": {
            "text/plain": [
              "(245, 14)"
            ]
          },
          "metadata": {},
          "execution_count": 6
        }
      ]
    },
    {
      "cell_type": "code",
      "source": [
        "sehwag.describe()"
      ],
      "metadata": {
        "colab": {
          "base_uri": "https://localhost:8080/",
          "height": 300
        },
        "id": "fwVnJZuda0C_",
        "outputId": "e9f8047c-4d86-427f-8200-6695c96070c9"
      },
      "execution_count": null,
      "outputs": [
        {
          "output_type": "execute_result",
          "data": {
            "text/plain": [
              "             Runs          BF          4s          6s          SR        Pos  \\\n",
              "count  245.000000  245.000000  245.000000  245.000000  245.000000  245.00000   \n",
              "mean    33.767347   32.363265    4.620408    0.555102   93.085755    1.82449   \n",
              "std     34.809419   29.175744    4.583335    1.124442   46.830716    1.24376   \n",
              "min      0.000000    1.000000    0.000000    0.000000    0.000000    1.00000   \n",
              "25%      8.000000   10.000000    1.000000    0.000000   65.850000    1.00000   \n",
              "50%     23.000000   25.000000    3.000000    0.000000   92.230000    1.00000   \n",
              "75%     46.000000   42.000000    7.000000    1.000000  123.800000    2.00000   \n",
              "max    219.000000  149.000000   25.000000    7.000000  260.000000    8.00000   \n",
              "\n",
              "             Inns  Unnamed: 9  \n",
              "count  245.000000         0.0  \n",
              "mean     1.530612         NaN  \n",
              "std      0.500084         NaN  \n",
              "min      1.000000         NaN  \n",
              "25%      1.000000         NaN  \n",
              "50%      2.000000         NaN  \n",
              "75%      2.000000         NaN  \n",
              "max      2.000000         NaN  "
            ],
            "text/html": [
              "\n",
              "  <div id=\"df-822f38a7-21d2-48dd-a038-060a3510054c\" class=\"colab-df-container\">\n",
              "    <div>\n",
              "<style scoped>\n",
              "    .dataframe tbody tr th:only-of-type {\n",
              "        vertical-align: middle;\n",
              "    }\n",
              "\n",
              "    .dataframe tbody tr th {\n",
              "        vertical-align: top;\n",
              "    }\n",
              "\n",
              "    .dataframe thead th {\n",
              "        text-align: right;\n",
              "    }\n",
              "</style>\n",
              "<table border=\"1\" class=\"dataframe\">\n",
              "  <thead>\n",
              "    <tr style=\"text-align: right;\">\n",
              "      <th></th>\n",
              "      <th>Runs</th>\n",
              "      <th>BF</th>\n",
              "      <th>4s</th>\n",
              "      <th>6s</th>\n",
              "      <th>SR</th>\n",
              "      <th>Pos</th>\n",
              "      <th>Inns</th>\n",
              "      <th>Unnamed: 9</th>\n",
              "    </tr>\n",
              "  </thead>\n",
              "  <tbody>\n",
              "    <tr>\n",
              "      <th>count</th>\n",
              "      <td>245.000000</td>\n",
              "      <td>245.000000</td>\n",
              "      <td>245.000000</td>\n",
              "      <td>245.000000</td>\n",
              "      <td>245.000000</td>\n",
              "      <td>245.00000</td>\n",
              "      <td>245.000000</td>\n",
              "      <td>0.0</td>\n",
              "    </tr>\n",
              "    <tr>\n",
              "      <th>mean</th>\n",
              "      <td>33.767347</td>\n",
              "      <td>32.363265</td>\n",
              "      <td>4.620408</td>\n",
              "      <td>0.555102</td>\n",
              "      <td>93.085755</td>\n",
              "      <td>1.82449</td>\n",
              "      <td>1.530612</td>\n",
              "      <td>NaN</td>\n",
              "    </tr>\n",
              "    <tr>\n",
              "      <th>std</th>\n",
              "      <td>34.809419</td>\n",
              "      <td>29.175744</td>\n",
              "      <td>4.583335</td>\n",
              "      <td>1.124442</td>\n",
              "      <td>46.830716</td>\n",
              "      <td>1.24376</td>\n",
              "      <td>0.500084</td>\n",
              "      <td>NaN</td>\n",
              "    </tr>\n",
              "    <tr>\n",
              "      <th>min</th>\n",
              "      <td>0.000000</td>\n",
              "      <td>1.000000</td>\n",
              "      <td>0.000000</td>\n",
              "      <td>0.000000</td>\n",
              "      <td>0.000000</td>\n",
              "      <td>1.00000</td>\n",
              "      <td>1.000000</td>\n",
              "      <td>NaN</td>\n",
              "    </tr>\n",
              "    <tr>\n",
              "      <th>25%</th>\n",
              "      <td>8.000000</td>\n",
              "      <td>10.000000</td>\n",
              "      <td>1.000000</td>\n",
              "      <td>0.000000</td>\n",
              "      <td>65.850000</td>\n",
              "      <td>1.00000</td>\n",
              "      <td>1.000000</td>\n",
              "      <td>NaN</td>\n",
              "    </tr>\n",
              "    <tr>\n",
              "      <th>50%</th>\n",
              "      <td>23.000000</td>\n",
              "      <td>25.000000</td>\n",
              "      <td>3.000000</td>\n",
              "      <td>0.000000</td>\n",
              "      <td>92.230000</td>\n",
              "      <td>1.00000</td>\n",
              "      <td>2.000000</td>\n",
              "      <td>NaN</td>\n",
              "    </tr>\n",
              "    <tr>\n",
              "      <th>75%</th>\n",
              "      <td>46.000000</td>\n",
              "      <td>42.000000</td>\n",
              "      <td>7.000000</td>\n",
              "      <td>1.000000</td>\n",
              "      <td>123.800000</td>\n",
              "      <td>2.00000</td>\n",
              "      <td>2.000000</td>\n",
              "      <td>NaN</td>\n",
              "    </tr>\n",
              "    <tr>\n",
              "      <th>max</th>\n",
              "      <td>219.000000</td>\n",
              "      <td>149.000000</td>\n",
              "      <td>25.000000</td>\n",
              "      <td>7.000000</td>\n",
              "      <td>260.000000</td>\n",
              "      <td>8.00000</td>\n",
              "      <td>2.000000</td>\n",
              "      <td>NaN</td>\n",
              "    </tr>\n",
              "  </tbody>\n",
              "</table>\n",
              "</div>\n",
              "    <div class=\"colab-df-buttons\">\n",
              "\n",
              "  <div class=\"colab-df-container\">\n",
              "    <button class=\"colab-df-convert\" onclick=\"convertToInteractive('df-822f38a7-21d2-48dd-a038-060a3510054c')\"\n",
              "            title=\"Convert this dataframe to an interactive table.\"\n",
              "            style=\"display:none;\">\n",
              "\n",
              "  <svg xmlns=\"http://www.w3.org/2000/svg\" height=\"24px\" viewBox=\"0 -960 960 960\">\n",
              "    <path d=\"M120-120v-720h720v720H120Zm60-500h600v-160H180v160Zm220 220h160v-160H400v160Zm0 220h160v-160H400v160ZM180-400h160v-160H180v160Zm440 0h160v-160H620v160ZM180-180h160v-160H180v160Zm440 0h160v-160H620v160Z\"/>\n",
              "  </svg>\n",
              "    </button>\n",
              "\n",
              "  <style>\n",
              "    .colab-df-container {\n",
              "      display:flex;\n",
              "      gap: 12px;\n",
              "    }\n",
              "\n",
              "    .colab-df-convert {\n",
              "      background-color: #E8F0FE;\n",
              "      border: none;\n",
              "      border-radius: 50%;\n",
              "      cursor: pointer;\n",
              "      display: none;\n",
              "      fill: #1967D2;\n",
              "      height: 32px;\n",
              "      padding: 0 0 0 0;\n",
              "      width: 32px;\n",
              "    }\n",
              "\n",
              "    .colab-df-convert:hover {\n",
              "      background-color: #E2EBFA;\n",
              "      box-shadow: 0px 1px 2px rgba(60, 64, 67, 0.3), 0px 1px 3px 1px rgba(60, 64, 67, 0.15);\n",
              "      fill: #174EA6;\n",
              "    }\n",
              "\n",
              "    .colab-df-buttons div {\n",
              "      margin-bottom: 4px;\n",
              "    }\n",
              "\n",
              "    [theme=dark] .colab-df-convert {\n",
              "      background-color: #3B4455;\n",
              "      fill: #D2E3FC;\n",
              "    }\n",
              "\n",
              "    [theme=dark] .colab-df-convert:hover {\n",
              "      background-color: #434B5C;\n",
              "      box-shadow: 0px 1px 3px 1px rgba(0, 0, 0, 0.15);\n",
              "      filter: drop-shadow(0px 1px 2px rgba(0, 0, 0, 0.3));\n",
              "      fill: #FFFFFF;\n",
              "    }\n",
              "  </style>\n",
              "\n",
              "    <script>\n",
              "      const buttonEl =\n",
              "        document.querySelector('#df-822f38a7-21d2-48dd-a038-060a3510054c button.colab-df-convert');\n",
              "      buttonEl.style.display =\n",
              "        google.colab.kernel.accessAllowed ? 'block' : 'none';\n",
              "\n",
              "      async function convertToInteractive(key) {\n",
              "        const element = document.querySelector('#df-822f38a7-21d2-48dd-a038-060a3510054c');\n",
              "        const dataTable =\n",
              "          await google.colab.kernel.invokeFunction('convertToInteractive',\n",
              "                                                    [key], {});\n",
              "        if (!dataTable) return;\n",
              "\n",
              "        const docLinkHtml = 'Like what you see? Visit the ' +\n",
              "          '<a target=\"_blank\" href=https://colab.research.google.com/notebooks/data_table.ipynb>data table notebook</a>'\n",
              "          + ' to learn more about interactive tables.';\n",
              "        element.innerHTML = '';\n",
              "        dataTable['output_type'] = 'display_data';\n",
              "        await google.colab.output.renderOutput(dataTable, element);\n",
              "        const docLink = document.createElement('div');\n",
              "        docLink.innerHTML = docLinkHtml;\n",
              "        element.appendChild(docLink);\n",
              "      }\n",
              "    </script>\n",
              "  </div>\n",
              "\n",
              "\n",
              "<div id=\"df-1c542b85-9bc0-4a59-84bc-fa8849bcca35\">\n",
              "  <button class=\"colab-df-quickchart\" onclick=\"quickchart('df-1c542b85-9bc0-4a59-84bc-fa8849bcca35')\"\n",
              "            title=\"Suggest charts.\"\n",
              "            style=\"display:none;\">\n",
              "\n",
              "<svg xmlns=\"http://www.w3.org/2000/svg\" height=\"24px\"viewBox=\"0 0 24 24\"\n",
              "     width=\"24px\">\n",
              "    <g>\n",
              "        <path d=\"M19 3H5c-1.1 0-2 .9-2 2v14c0 1.1.9 2 2 2h14c1.1 0 2-.9 2-2V5c0-1.1-.9-2-2-2zM9 17H7v-7h2v7zm4 0h-2V7h2v10zm4 0h-2v-4h2v4z\"/>\n",
              "    </g>\n",
              "</svg>\n",
              "  </button>\n",
              "\n",
              "<style>\n",
              "  .colab-df-quickchart {\n",
              "      --bg-color: #E8F0FE;\n",
              "      --fill-color: #1967D2;\n",
              "      --hover-bg-color: #E2EBFA;\n",
              "      --hover-fill-color: #174EA6;\n",
              "      --disabled-fill-color: #AAA;\n",
              "      --disabled-bg-color: #DDD;\n",
              "  }\n",
              "\n",
              "  [theme=dark] .colab-df-quickchart {\n",
              "      --bg-color: #3B4455;\n",
              "      --fill-color: #D2E3FC;\n",
              "      --hover-bg-color: #434B5C;\n",
              "      --hover-fill-color: #FFFFFF;\n",
              "      --disabled-bg-color: #3B4455;\n",
              "      --disabled-fill-color: #666;\n",
              "  }\n",
              "\n",
              "  .colab-df-quickchart {\n",
              "    background-color: var(--bg-color);\n",
              "    border: none;\n",
              "    border-radius: 50%;\n",
              "    cursor: pointer;\n",
              "    display: none;\n",
              "    fill: var(--fill-color);\n",
              "    height: 32px;\n",
              "    padding: 0;\n",
              "    width: 32px;\n",
              "  }\n",
              "\n",
              "  .colab-df-quickchart:hover {\n",
              "    background-color: var(--hover-bg-color);\n",
              "    box-shadow: 0 1px 2px rgba(60, 64, 67, 0.3), 0 1px 3px 1px rgba(60, 64, 67, 0.15);\n",
              "    fill: var(--button-hover-fill-color);\n",
              "  }\n",
              "\n",
              "  .colab-df-quickchart-complete:disabled,\n",
              "  .colab-df-quickchart-complete:disabled:hover {\n",
              "    background-color: var(--disabled-bg-color);\n",
              "    fill: var(--disabled-fill-color);\n",
              "    box-shadow: none;\n",
              "  }\n",
              "\n",
              "  .colab-df-spinner {\n",
              "    border: 2px solid var(--fill-color);\n",
              "    border-color: transparent;\n",
              "    border-bottom-color: var(--fill-color);\n",
              "    animation:\n",
              "      spin 1s steps(1) infinite;\n",
              "  }\n",
              "\n",
              "  @keyframes spin {\n",
              "    0% {\n",
              "      border-color: transparent;\n",
              "      border-bottom-color: var(--fill-color);\n",
              "      border-left-color: var(--fill-color);\n",
              "    }\n",
              "    20% {\n",
              "      border-color: transparent;\n",
              "      border-left-color: var(--fill-color);\n",
              "      border-top-color: var(--fill-color);\n",
              "    }\n",
              "    30% {\n",
              "      border-color: transparent;\n",
              "      border-left-color: var(--fill-color);\n",
              "      border-top-color: var(--fill-color);\n",
              "      border-right-color: var(--fill-color);\n",
              "    }\n",
              "    40% {\n",
              "      border-color: transparent;\n",
              "      border-right-color: var(--fill-color);\n",
              "      border-top-color: var(--fill-color);\n",
              "    }\n",
              "    60% {\n",
              "      border-color: transparent;\n",
              "      border-right-color: var(--fill-color);\n",
              "    }\n",
              "    80% {\n",
              "      border-color: transparent;\n",
              "      border-right-color: var(--fill-color);\n",
              "      border-bottom-color: var(--fill-color);\n",
              "    }\n",
              "    90% {\n",
              "      border-color: transparent;\n",
              "      border-bottom-color: var(--fill-color);\n",
              "    }\n",
              "  }\n",
              "</style>\n",
              "\n",
              "  <script>\n",
              "    async function quickchart(key) {\n",
              "      const quickchartButtonEl =\n",
              "        document.querySelector('#' + key + ' button');\n",
              "      quickchartButtonEl.disabled = true;  // To prevent multiple clicks.\n",
              "      quickchartButtonEl.classList.add('colab-df-spinner');\n",
              "      try {\n",
              "        const charts = await google.colab.kernel.invokeFunction(\n",
              "            'suggestCharts', [key], {});\n",
              "      } catch (error) {\n",
              "        console.error('Error during call to suggestCharts:', error);\n",
              "      }\n",
              "      quickchartButtonEl.classList.remove('colab-df-spinner');\n",
              "      quickchartButtonEl.classList.add('colab-df-quickchart-complete');\n",
              "    }\n",
              "    (() => {\n",
              "      let quickchartButtonEl =\n",
              "        document.querySelector('#df-1c542b85-9bc0-4a59-84bc-fa8849bcca35 button');\n",
              "      quickchartButtonEl.style.display =\n",
              "        google.colab.kernel.accessAllowed ? 'block' : 'none';\n",
              "    })();\n",
              "  </script>\n",
              "</div>\n",
              "    </div>\n",
              "  </div>\n"
            ]
          },
          "metadata": {},
          "execution_count": 7
        }
      ]
    },
    {
      "cell_type": "code",
      "source": [
        "sehwag[\"Runs\"].describe()     # We are handling only the \"Runs\" column in this dataset"
      ],
      "metadata": {
        "colab": {
          "base_uri": "https://localhost:8080/"
        },
        "id": "UQebto9ia2RG",
        "outputId": "ce580778-7170-449e-d290-313306765f85"
      },
      "execution_count": null,
      "outputs": [
        {
          "output_type": "execute_result",
          "data": {
            "text/plain": [
              "count    245.000000\n",
              "mean      33.767347\n",
              "std       34.809419\n",
              "min        0.000000\n",
              "25%        8.000000\n",
              "50%       23.000000\n",
              "75%       46.000000\n",
              "max      219.000000\n",
              "Name: Runs, dtype: float64"
            ]
          },
          "metadata": {},
          "execution_count": 8
        }
      ]
    },
    {
      "cell_type": "markdown",
      "source": [
        "### **Calculating Percentiles (25th, 50th `(Median)`, 75th) / Quartiles (Q1, Q2, Q3)**\n",
        "\n",
        "> **`Approach (1):` np.percentile()**\n",
        "\n",
        "> **`Approach (2):` dataset[col].quantile()**"
      ],
      "metadata": {
        "id": "vzsXFK_Qc0sz"
      }
    },
    {
      "cell_type": "code",
      "source": [
        "# Approach (1)"
      ],
      "metadata": {
        "id": "vFGA8_Q_cPPd"
      },
      "execution_count": null,
      "outputs": []
    },
    {
      "cell_type": "code",
      "source": [
        "perc_25 = np.percentile(sehwag[\"Runs\"], 25)\n",
        "perc_25"
      ],
      "metadata": {
        "colab": {
          "base_uri": "https://localhost:8080/"
        },
        "id": "IkCBis26a-Mv",
        "outputId": "9f74d06f-d411-44cd-caea-4f9148e9c4f8"
      },
      "execution_count": null,
      "outputs": [
        {
          "output_type": "execute_result",
          "data": {
            "text/plain": [
              "8.0"
            ]
          },
          "metadata": {},
          "execution_count": 10
        }
      ]
    },
    {
      "cell_type": "code",
      "source": [
        "perc_50 = np.percentile(sehwag[\"Runs\"], 50)\n",
        "perc_50"
      ],
      "metadata": {
        "colab": {
          "base_uri": "https://localhost:8080/"
        },
        "id": "4LZpyi6dbRAf",
        "outputId": "b05958c5-8cc5-4b12-8c66-1e12ef3a607b"
      },
      "execution_count": null,
      "outputs": [
        {
          "output_type": "execute_result",
          "data": {
            "text/plain": [
              "23.0"
            ]
          },
          "metadata": {},
          "execution_count": 11
        }
      ]
    },
    {
      "cell_type": "code",
      "source": [
        "perc_75 = np.percentile(sehwag[\"Runs\"], 75)\n",
        "perc_75"
      ],
      "metadata": {
        "colab": {
          "base_uri": "https://localhost:8080/"
        },
        "id": "-IKvWN0nbXz3",
        "outputId": "c451678c-5cf0-4af3-f418-48db3d643057"
      },
      "execution_count": null,
      "outputs": [
        {
          "output_type": "execute_result",
          "data": {
            "text/plain": [
              "46.0"
            ]
          },
          "metadata": {},
          "execution_count": 12
        }
      ]
    },
    {
      "cell_type": "code",
      "source": [
        "# Approach (2)"
      ],
      "metadata": {
        "id": "W3eLmeQtcJpv"
      },
      "execution_count": null,
      "outputs": []
    },
    {
      "cell_type": "code",
      "source": [
        "p_25 = sehwag[\"Runs\"].quantile(0.25)      # Q1 or p_25\n",
        "p_50 = sehwag[\"Runs\"].quantile(0.5)       # Q2 or p_50 or median\n",
        "p_75 = sehwag[\"Runs\"].quantile(0.75)      # Q3 or p_75\n",
        "print(p_25, p_50, p_75)"
      ],
      "metadata": {
        "colab": {
          "base_uri": "https://localhost:8080/"
        },
        "id": "CcvaiwBrcSPX",
        "outputId": "5e8c6f8c-9167-49b8-a125-5a421c8fa4d2"
      },
      "execution_count": null,
      "outputs": [
        {
          "output_type": "stream",
          "name": "stdout",
          "text": [
            "8.0 23.0 46.0\n"
          ]
        }
      ]
    },
    {
      "cell_type": "markdown",
      "source": [
        "### **Calculating IQR (Interquartile Range)**"
      ],
      "metadata": {
        "id": "KVbEnVaqc9Y5"
      }
    },
    {
      "cell_type": "code",
      "source": [
        "iqr = p_75 - p_25\n",
        "iqr"
      ],
      "metadata": {
        "colab": {
          "base_uri": "https://localhost:8080/"
        },
        "id": "uzUKJOG5chHY",
        "outputId": "9f871f5a-bd7e-48ec-b44f-4a07c98e22d7"
      },
      "execution_count": null,
      "outputs": [
        {
          "output_type": "execute_result",
          "data": {
            "text/plain": [
              "38.0"
            ]
          },
          "metadata": {},
          "execution_count": 15
        }
      ]
    },
    {
      "cell_type": "markdown",
      "source": [
        "### **Creating Data visualization (Box plots) for Percentiles & Quartiles**"
      ],
      "metadata": {
        "id": "h3govwCDe6Ta"
      }
    },
    {
      "cell_type": "code",
      "source": [
        "sns.boxplot(data = sehwag[\"Runs\"], orient = \"h\")"
      ],
      "metadata": {
        "colab": {
          "base_uri": "https://localhost:8080/",
          "height": 448
        },
        "id": "8RmdEwW5cxgP",
        "outputId": "798b5282-e707-41c8-e8ac-dba6abf7d829"
      },
      "execution_count": null,
      "outputs": [
        {
          "output_type": "execute_result",
          "data": {
            "text/plain": [
              "<Axes: >"
            ]
          },
          "metadata": {},
          "execution_count": 16
        },
        {
          "output_type": "display_data",
          "data": {
            "text/plain": [
              "<Figure size 640x480 with 1 Axes>"
            ],
            "image/png": "[encoded data removed]"
          },
          "metadata": {}
        }
      ]
    },
    {
      "cell_type": "markdown",
      "source": [
        "### **Calculating the max (i.e. upper boundary) & min (i.e. lower boundary) points**\n",
        "\n",
        "- **upper_bound = min(actual_max, 75_percentile + 1.5*IQR)**\n",
        "- **lower_bound = max(0, 25_percentile - 1.5*IQR)**"
      ],
      "metadata": {
        "id": "Kzxm4gPpfwBs"
      }
    },
    {
      "cell_type": "code",
      "source": [
        "lower = max(0, p_25 - 1.5*iqr)\n",
        "lower"
      ],
      "metadata": {
        "colab": {
          "base_uri": "https://localhost:8080/"
        },
        "id": "s7ZtDdrGfLVf",
        "outputId": "224bf0aa-a29b-41ea-d440-fc1d8f8e00a6"
      },
      "execution_count": null,
      "outputs": [
        {
          "output_type": "execute_result",
          "data": {
            "text/plain": [
              "0"
            ]
          },
          "metadata": {},
          "execution_count": 17
        }
      ]
    },
    {
      "cell_type": "code",
      "source": [
        "upper = p_75 + 1.5 * iqr      # easier code since we know the 75% percentile\n",
        "upper"
      ],
      "metadata": {
        "colab": {
          "base_uri": "https://localhost:8080/"
        },
        "id": "r9kH4VpXh_Lp",
        "outputId": "8a0f9083-cc14-43e3-9fb7-3485016077af"
      },
      "execution_count": null,
      "outputs": [
        {
          "output_type": "execute_result",
          "data": {
            "text/plain": [
              "103.0"
            ]
          },
          "metadata": {},
          "execution_count": 18
        }
      ]
    },
    {
      "cell_type": "code",
      "source": [
        "upper2 = min(max(sehwag[\"Runs\"]), p_75 + 1.5 * iqr)\n",
        "upper2"
      ],
      "metadata": {
        "colab": {
          "base_uri": "https://localhost:8080/"
        },
        "id": "hFS3oK1NhQnN",
        "outputId": "3dcf4b3a-adf2-49e1-c3b9-353aa5b8bc3d"
      },
      "execution_count": null,
      "outputs": [
        {
          "output_type": "execute_result",
          "data": {
            "text/plain": [
              "103.0"
            ]
          },
          "metadata": {},
          "execution_count": 19
        }
      ]
    },
    {
      "cell_type": "code",
      "source": [
        "print(f\"lower: {lower} \\nupper: {upper}\")"
      ],
      "metadata": {
        "colab": {
          "base_uri": "https://localhost:8080/"
        },
        "id": "GK11cvDPiJ-W",
        "outputId": "443d183e-30dc-43e8-9768-181f0dec79f5"
      },
      "execution_count": null,
      "outputs": [
        {
          "output_type": "stream",
          "name": "stdout",
          "text": [
            "lower: 0 \n",
            "upper: 103.0\n"
          ]
        }
      ]
    },
    {
      "cell_type": "markdown",
      "source": [
        "### **Calculating the % of data which is above the upper_bound (i.e. outliers)**\n"
      ],
      "metadata": {
        "id": "Vk9o_dCrixnz"
      }
    },
    {
      "cell_type": "code",
      "source": [
        "sehwag_outlier = sehwag[sehwag['Runs'] > upper]      # Masking"
      ],
      "metadata": {
        "id": "DIt2vIGuipSp"
      },
      "execution_count": null,
      "outputs": []
    },
    {
      "cell_type": "code",
      "source": [
        "len(sehwag_outlier)       # Number of Outliers"
      ],
      "metadata": {
        "colab": {
          "base_uri": "https://localhost:8080/"
        },
        "id": "2KdxzJadjUOu",
        "outputId": "279290d1-067f-437a-b248-918774ccc492"
      },
      "execution_count": null,
      "outputs": [
        {
          "output_type": "execute_result",
          "data": {
            "text/plain": [
              "14"
            ]
          },
          "metadata": {},
          "execution_count": 22
        }
      ]
    },
    {
      "cell_type": "code",
      "source": [
        "(14/245)*100          # % of Outliers"
      ],
      "metadata": {
        "colab": {
          "base_uri": "https://localhost:8080/"
        },
        "id": "BKloydXGjX--",
        "outputId": "88325fa8-6d84-4b11-82be-e02ec6478b50"
      },
      "execution_count": null,
      "outputs": [
        {
          "output_type": "execute_result",
          "data": {
            "text/plain": [
              "5.714285714285714"
            ]
          },
          "metadata": {},
          "execution_count": 23
        }
      ]
    },
    {
      "cell_type": "code",
      "source": [],
      "metadata": {
        "id": "Fc0Z6hR1m_8W"
      },
      "execution_count": null,
      "outputs": []
    },
    {
      "cell_type": "code",
      "source": [],
      "metadata": {
        "id": "BM_2_jE1m_5Y"
      },
      "execution_count": null,
      "outputs": []
    },
    {
      "cell_type": "markdown",
      "source": [
        "## **(2) Now let's handle dravid.csv `(NOTE: Same code steps as previous)`**"
      ],
      "metadata": {
        "id": "JyUVGmBcjxZc"
      }
    },
    {
      "cell_type": "code",
      "source": [
        "dravid.shape"
      ],
      "metadata": {
        "colab": {
          "base_uri": "https://localhost:8080/"
        },
        "id": "2IElvrIHfmEF",
        "outputId": "627f1e96-4aa7-436f-df72-a674c9221ec3"
      },
      "execution_count": null,
      "outputs": [
        {
          "output_type": "execute_result",
          "data": {
            "text/plain": [
              "(318, 14)"
            ]
          },
          "metadata": {},
          "execution_count": 24
        }
      ]
    },
    {
      "cell_type": "code",
      "source": [
        "dravid[\"Runs\"].describe()"
      ],
      "metadata": {
        "colab": {
          "base_uri": "https://localhost:8080/"
        },
        "id": "0L7QMVrgj58x",
        "outputId": "75754eba-cbc7-4ffb-cf76-67f3935149f4"
      },
      "execution_count": null,
      "outputs": [
        {
          "output_type": "execute_result",
          "data": {
            "text/plain": [
              "count    318.000000\n",
              "mean      34.242138\n",
              "std       29.681822\n",
              "min        0.000000\n",
              "25%       10.000000\n",
              "50%       26.000000\n",
              "75%       54.000000\n",
              "max      153.000000\n",
              "Name: Runs, dtype: float64"
            ]
          },
          "metadata": {},
          "execution_count": 25
        }
      ]
    },
    {
      "cell_type": "markdown",
      "source": [
        "**Calculating Percentiles (25th, 50th (Median), 75th) / Quartiles (Q1, Q2, Q3)**"
      ],
      "metadata": {
        "id": "VGxldY5-lPpY"
      }
    },
    {
      "cell_type": "code",
      "source": [
        "p_25 = np.percentile(dravid[\"Runs\"], 25)\n",
        "p_25"
      ],
      "metadata": {
        "colab": {
          "base_uri": "https://localhost:8080/"
        },
        "id": "KVRowRSqkC8Z",
        "outputId": "ba5e28c2-6b43-4093-c685-6b225dd9ff83"
      },
      "execution_count": null,
      "outputs": [
        {
          "output_type": "execute_result",
          "data": {
            "text/plain": [
              "10.0"
            ]
          },
          "metadata": {},
          "execution_count": 26
        }
      ]
    },
    {
      "cell_type": "code",
      "source": [
        "p_50 = np.percentile(dravid[\"Runs\"], 50)\n",
        "p_50"
      ],
      "metadata": {
        "colab": {
          "base_uri": "https://localhost:8080/"
        },
        "id": "M6kwWhU1ksyn",
        "outputId": "91aa6da2-b0b6-4d14-b501-8c27facc6d79"
      },
      "execution_count": null,
      "outputs": [
        {
          "output_type": "execute_result",
          "data": {
            "text/plain": [
              "26.0"
            ]
          },
          "metadata": {},
          "execution_count": 27
        }
      ]
    },
    {
      "cell_type": "code",
      "source": [
        "p_75 = np.percentile(dravid[\"Runs\"], 75)\n",
        "p_75"
      ],
      "metadata": {
        "colab": {
          "base_uri": "https://localhost:8080/"
        },
        "id": "dypCvCrpk3NI",
        "outputId": "b77c1e35-adba-440e-e0a0-697e75731022"
      },
      "execution_count": null,
      "outputs": [
        {
          "output_type": "execute_result",
          "data": {
            "text/plain": [
              "54.0"
            ]
          },
          "metadata": {},
          "execution_count": 28
        }
      ]
    },
    {
      "cell_type": "markdown",
      "source": [
        "**Calculating IQR (Interquartile Range)**"
      ],
      "metadata": {
        "id": "uZp-l80WlMI2"
      }
    },
    {
      "cell_type": "code",
      "source": [
        "iqr = p_75 - p_25\n",
        "iqr"
      ],
      "metadata": {
        "colab": {
          "base_uri": "https://localhost:8080/"
        },
        "id": "MrW-rC2RlHWH",
        "outputId": "032b0c02-4ec9-4433-9c80-5f2a245b5a19"
      },
      "execution_count": null,
      "outputs": [
        {
          "output_type": "execute_result",
          "data": {
            "text/plain": [
              "44.0"
            ]
          },
          "metadata": {},
          "execution_count": 29
        }
      ]
    },
    {
      "cell_type": "markdown",
      "source": [
        "**Creating Data visualization (Box plots) for Percentiles & Quartiles**"
      ],
      "metadata": {
        "id": "r64Gbyn_lH1b"
      }
    },
    {
      "cell_type": "code",
      "source": [
        "sns.boxplot(data = dravid[\"Runs\"], orient = \"h\")"
      ],
      "metadata": {
        "colab": {
          "base_uri": "https://localhost:8080/",
          "height": 448
        },
        "id": "VMQLc49Fk3KB",
        "outputId": "8dc0a925-5a7a-4c65-fb18-582bedd4b895"
      },
      "execution_count": null,
      "outputs": [
        {
          "output_type": "execute_result",
          "data": {
            "text/plain": [
              "<Axes: >"
            ]
          },
          "metadata": {},
          "execution_count": 30
        },
        {
          "output_type": "display_data",
          "data": {
            "text/plain": [
              "<Figure size 640x480 with 1 Axes>"
            ],
            "image/png": "[encoded data removed]"
          },
          "metadata": {}
        }
      ]
    },
    {
      "cell_type": "markdown",
      "source": [
        "**Calculating the max (i.e. upper boundary) & min (i.e. lower boundary) points**"
      ],
      "metadata": {
        "id": "yuZImG_xlEZf"
      }
    },
    {
      "cell_type": "code",
      "source": [
        "lower = max(0, p_25 - 1.5 * iqr)\n",
        "lower"
      ],
      "metadata": {
        "colab": {
          "base_uri": "https://localhost:8080/"
        },
        "id": "5aHv2OqklABS",
        "outputId": "4789a166-ea21-4911-99c7-b8416bca4b26"
      },
      "execution_count": null,
      "outputs": [
        {
          "output_type": "execute_result",
          "data": {
            "text/plain": [
              "0"
            ]
          },
          "metadata": {},
          "execution_count": 31
        }
      ]
    },
    {
      "cell_type": "code",
      "source": [
        "upper = p_75 + 1.5 * iqr\n",
        "upper"
      ],
      "metadata": {
        "colab": {
          "base_uri": "https://localhost:8080/"
        },
        "id": "9ZSdUPEwmAvS",
        "outputId": "b60817d5-788c-401b-d05e-e4daf333c113"
      },
      "execution_count": null,
      "outputs": [
        {
          "output_type": "execute_result",
          "data": {
            "text/plain": [
              "120.0"
            ]
          },
          "metadata": {},
          "execution_count": 32
        }
      ]
    },
    {
      "cell_type": "code",
      "source": [
        "print(f\"lower: {lower}, \\nupper: {upper}\")"
      ],
      "metadata": {
        "colab": {
          "base_uri": "https://localhost:8080/"
        },
        "id": "jhhldF_hmSen",
        "outputId": "324777ec-5d1c-497b-deb6-06db17c5c8a6"
      },
      "execution_count": null,
      "outputs": [
        {
          "output_type": "stream",
          "name": "stdout",
          "text": [
            "lower: 0, \n",
            "upper: 120.0\n"
          ]
        }
      ]
    },
    {
      "cell_type": "markdown",
      "source": [
        "**Calculating the % of data which is above the upper_bound (i.e. outliers)**"
      ],
      "metadata": {
        "id": "dMwBQRfnmIow"
      }
    },
    {
      "cell_type": "code",
      "source": [
        "dravid_outlier = dravid[dravid['Runs'] > upper]      # Masking"
      ],
      "metadata": {
        "id": "Gwj9_-QTmF9K"
      },
      "execution_count": null,
      "outputs": []
    },
    {
      "cell_type": "code",
      "source": [
        "len(dravid_outlier)       # Number of outliers"
      ],
      "metadata": {
        "colab": {
          "base_uri": "https://localhost:8080/"
        },
        "id": "fZn1D1gXmdUZ",
        "outputId": "c9ef35fc-473a-4f27-944d-058e0dcd2fef"
      },
      "execution_count": null,
      "outputs": [
        {
          "output_type": "execute_result",
          "data": {
            "text/plain": [
              "3"
            ]
          },
          "metadata": {},
          "execution_count": 35
        }
      ]
    },
    {
      "cell_type": "code",
      "source": [
        "(3 / 318) * 100       # % of Outliers"
      ],
      "metadata": {
        "colab": {
          "base_uri": "https://localhost:8080/"
        },
        "id": "l4FArI0smg9x",
        "outputId": "55755004-b453-4b54-9da7-a932068ce7c5"
      },
      "execution_count": null,
      "outputs": [
        {
          "output_type": "execute_result",
          "data": {
            "text/plain": [
              "0.9433962264150944"
            ]
          },
          "metadata": {},
          "execution_count": 36
        }
      ]
    },
    {
      "cell_type": "code",
      "source": [],
      "metadata": {
        "id": "ZLS_LP3_mm1i"
      },
      "execution_count": null,
      "outputs": []
    },
    {
      "cell_type": "code",
      "source": [],
      "metadata": {
        "id": "n_H1XvPRm3vs"
      },
      "execution_count": null,
      "outputs": []
    },
    {
      "cell_type": "markdown",
      "source": [
        "## **(3) Let's work on weight-height.csv**"
      ],
      "metadata": {
        "id": "Be3CFVxcm4KU"
      }
    },
    {
      "cell_type": "code",
      "source": [
        "df_hw = pd.read_csv(\"weight-height.csv\")\n",
        "df_hw"
      ],
      "metadata": {
        "colab": {
          "base_uri": "https://localhost:8080/",
          "height": 423
        },
        "id": "MIvYnltQm3On",
        "outputId": "2539c820-b6a9-46f5-dd63-d1341ed692db"
      },
      "execution_count": null,
      "outputs": [
        {
          "output_type": "execute_result",
          "data": {
            "text/plain": [
              "      Gender     Height      Weight\n",
              "0       Male  73.847017  241.893563\n",
              "1       Male  68.781904  162.310473\n",
              "2       Male  74.110105  212.740856\n",
              "3       Male  71.730978  220.042470\n",
              "4       Male  69.881796  206.349801\n",
              "...      ...        ...         ...\n",
              "9995  Female  66.172652  136.777454\n",
              "9996  Female  67.067155  170.867906\n",
              "9997  Female  63.867992  128.475319\n",
              "9998  Female  69.034243  163.852461\n",
              "9999  Female  61.944246  113.649103\n",
              "\n",
              "[10000 rows x 3 columns]"
            ],
            "text/html": [
              "\n",
              "  <div id=\"df-85373874-9330-426a-a72c-d63cd7cbdb0b\" class=\"colab-df-container\">\n",
              "    <div>\n",
              "<style scoped>\n",
              "    .dataframe tbody tr th:only-of-type {\n",
              "        vertical-align: middle;\n",
              "    }\n",
              "\n",
              "    .dataframe tbody tr th {\n",
              "        vertical-align: top;\n",
              "    }\n",
              "\n",
              "    .dataframe thead th {\n",
              "        text-align: right;\n",
              "    }\n",
              "</style>\n",
              "<table border=\"1\" class=\"dataframe\">\n",
              "  <thead>\n",
              "    <tr style=\"text-align: right;\">\n",
              "      <th></th>\n",
              "      <th>Gender</th>\n",
              "      <th>Height</th>\n",
              "      <th>Weight</th>\n",
              "    </tr>\n",
              "  </thead>\n",
              "  <tbody>\n",
              "    <tr>\n",
              "      <th>0</th>\n",
              "      <td>Male</td>\n",
              "      <td>73.847017</td>\n",
              "      <td>241.893563</td>\n",
              "    </tr>\n",
              "    <tr>\n",
              "      <th>1</th>\n",
              "      <td>Male</td>\n",
              "      <td>68.781904</td>\n",
              "      <td>162.310473</td>\n",
              "    </tr>\n",
              "    <tr>\n",
              "      <th>2</th>\n",
              "      <td>Male</td>\n",
              "      <td>74.110105</td>\n",
              "      <td>212.740856</td>\n",
              "    </tr>\n",
              "    <tr>\n",
              "      <th>3</th>\n",
              "      <td>Male</td>\n",
              "      <td>71.730978</td>\n",
              "      <td>220.042470</td>\n",
              "    </tr>\n",
              "    <tr>\n",
              "      <th>4</th>\n",
              "      <td>Male</td>\n",
              "      <td>69.881796</td>\n",
              "      <td>206.349801</td>\n",
              "    </tr>\n",
              "    <tr>\n",
              "      <th>...</th>\n",
              "      <td>...</td>\n",
              "      <td>...</td>\n",
              "      <td>...</td>\n",
              "    </tr>\n",
              "    <tr>\n",
              "      <th>9995</th>\n",
              "      <td>Female</td>\n",
              "      <td>66.172652</td>\n",
              "      <td>136.777454</td>\n",
              "    </tr>\n",
              "    <tr>\n",
              "      <th>9996</th>\n",
              "      <td>Female</td>\n",
              "      <td>67.067155</td>\n",
              "      <td>170.867906</td>\n",
              "    </tr>\n",
              "    <tr>\n",
              "      <th>9997</th>\n",
              "      <td>Female</td>\n",
              "      <td>63.867992</td>\n",
              "      <td>128.475319</td>\n",
              "    </tr>\n",
              "    <tr>\n",
              "      <th>9998</th>\n",
              "      <td>Female</td>\n",
              "      <td>69.034243</td>\n",
              "      <td>163.852461</td>\n",
              "    </tr>\n",
              "    <tr>\n",
              "      <th>9999</th>\n",
              "      <td>Female</td>\n",
              "      <td>61.944246</td>\n",
              "      <td>113.649103</td>\n",
              "    </tr>\n",
              "  </tbody>\n",
              "</table>\n",
              "<p>10000 rows × 3 columns</p>\n",
              "</div>\n",
              "    <div class=\"colab-df-buttons\">\n",
              "\n",
              "  <div class=\"colab-df-container\">\n",
              "    <button class=\"colab-df-convert\" onclick=\"convertToInteractive('df-85373874-9330-426a-a72c-d63cd7cbdb0b')\"\n",
              "            title=\"Convert this dataframe to an interactive table.\"\n",
              "            style=\"display:none;\">\n",
              "\n",
              "  <svg xmlns=\"http://www.w3.org/2000/svg\" height=\"24px\" viewBox=\"0 -960 960 960\">\n",
              "    <path d=\"M120-120v-720h720v720H120Zm60-500h600v-160H180v160Zm220 220h160v-160H400v160Zm0 220h160v-160H400v160ZM180-400h160v-160H180v160Zm440 0h160v-160H620v160ZM180-180h160v-160H180v160Zm440 0h160v-160H620v160Z\"/>\n",
              "  </svg>\n",
              "    </button>\n",
              "\n",
              "  <style>\n",
              "    .colab-df-container {\n",
              "      display:flex;\n",
              "      gap: 12px;\n",
              "    }\n",
              "\n",
              "    .colab-df-convert {\n",
              "      background-color: #E8F0FE;\n",
              "      border: none;\n",
              "      border-radius: 50%;\n",
              "      cursor: pointer;\n",
              "      display: none;\n",
              "      fill: #1967D2;\n",
              "      height: 32px;\n",
              "      padding: 0 0 0 0;\n",
              "      width: 32px;\n",
              "    }\n",
              "\n",
              "    .colab-df-convert:hover {\n",
              "      background-color: #E2EBFA;\n",
              "      box-shadow: 0px 1px 2px rgba(60, 64, 67, 0.3), 0px 1px 3px 1px rgba(60, 64, 67, 0.15);\n",
              "      fill: #174EA6;\n",
              "    }\n",
              "\n",
              "    .colab-df-buttons div {\n",
              "      margin-bottom: 4px;\n",
              "    }\n",
              "\n",
              "    [theme=dark] .colab-df-convert {\n",
              "      background-color: #3B4455;\n",
              "      fill: #D2E3FC;\n",
              "    }\n",
              "\n",
              "    [theme=dark] .colab-df-convert:hover {\n",
              "      background-color: #434B5C;\n",
              "      box-shadow: 0px 1px 3px 1px rgba(0, 0, 0, 0.15);\n",
              "      filter: drop-shadow(0px 1px 2px rgba(0, 0, 0, 0.3));\n",
              "      fill: #FFFFFF;\n",
              "    }\n",
              "  </style>\n",
              "\n",
              "    <script>\n",
              "      const buttonEl =\n",
              "        document.querySelector('#df-85373874-9330-426a-a72c-d63cd7cbdb0b button.colab-df-convert');\n",
              "      buttonEl.style.display =\n",
              "        google.colab.kernel.accessAllowed ? 'block' : 'none';\n",
              "\n",
              "      async function convertToInteractive(key) {\n",
              "        const element = document.querySelector('#df-85373874-9330-426a-a72c-d63cd7cbdb0b');\n",
              "        const dataTable =\n",
              "          await google.colab.kernel.invokeFunction('convertToInteractive',\n",
              "                                                    [key], {});\n",
              "        if (!dataTable) return;\n",
              "\n",
              "        const docLinkHtml = 'Like what you see? Visit the ' +\n",
              "          '<a target=\"_blank\" href=https://colab.research.google.com/notebooks/data_table.ipynb>data table notebook</a>'\n",
              "          + ' to learn more about interactive tables.';\n",
              "        element.innerHTML = '';\n",
              "        dataTable['output_type'] = 'display_data';\n",
              "        await google.colab.output.renderOutput(dataTable, element);\n",
              "        const docLink = document.createElement('div');\n",
              "        docLink.innerHTML = docLinkHtml;\n",
              "        element.appendChild(docLink);\n",
              "      }\n",
              "    </script>\n",
              "  </div>\n",
              "\n",
              "\n",
              "<div id=\"df-859e5e0c-81f3-4727-9234-99496d1731ce\">\n",
              "  <button class=\"colab-df-quickchart\" onclick=\"quickchart('df-859e5e0c-81f3-4727-9234-99496d1731ce')\"\n",
              "            title=\"Suggest charts.\"\n",
              "            style=\"display:none;\">\n",
              "\n",
              "<svg xmlns=\"http://www.w3.org/2000/svg\" height=\"24px\"viewBox=\"0 0 24 24\"\n",
              "     width=\"24px\">\n",
              "    <g>\n",
              "        <path d=\"M19 3H5c-1.1 0-2 .9-2 2v14c0 1.1.9 2 2 2h14c1.1 0 2-.9 2-2V5c0-1.1-.9-2-2-2zM9 17H7v-7h2v7zm4 0h-2V7h2v10zm4 0h-2v-4h2v4z\"/>\n",
              "    </g>\n",
              "</svg>\n",
              "  </button>\n",
              "\n",
              "<style>\n",
              "  .colab-df-quickchart {\n",
              "      --bg-color: #E8F0FE;\n",
              "      --fill-color: #1967D2;\n",
              "      --hover-bg-color: #E2EBFA;\n",
              "      --hover-fill-color: #174EA6;\n",
              "      --disabled-fill-color: #AAA;\n",
              "      --disabled-bg-color: #DDD;\n",
              "  }\n",
              "\n",
              "  [theme=dark] .colab-df-quickchart {\n",
              "      --bg-color: #3B4455;\n",
              "      --fill-color: #D2E3FC;\n",
              "      --hover-bg-color: #434B5C;\n",
              "      --hover-fill-color: #FFFFFF;\n",
              "      --disabled-bg-color: #3B4455;\n",
              "      --disabled-fill-color: #666;\n",
              "  }\n",
              "\n",
              "  .colab-df-quickchart {\n",
              "    background-color: var(--bg-color);\n",
              "    border: none;\n",
              "    border-radius: 50%;\n",
              "    cursor: pointer;\n",
              "    display: none;\n",
              "    fill: var(--fill-color);\n",
              "    height: 32px;\n",
              "    padding: 0;\n",
              "    width: 32px;\n",
              "  }\n",
              "\n",
              "  .colab-df-quickchart:hover {\n",
              "    background-color: var(--hover-bg-color);\n",
              "    box-shadow: 0 1px 2px rgba(60, 64, 67, 0.3), 0 1px 3px 1px rgba(60, 64, 67, 0.15);\n",
              "    fill: var(--button-hover-fill-color);\n",
              "  }\n",
              "\n",
              "  .colab-df-quickchart-complete:disabled,\n",
              "  .colab-df-quickchart-complete:disabled:hover {\n",
              "    background-color: var(--disabled-bg-color);\n",
              "    fill: var(--disabled-fill-color);\n",
              "    box-shadow: none;\n",
              "  }\n",
              "\n",
              "  .colab-df-spinner {\n",
              "    border: 2px solid var(--fill-color);\n",
              "    border-color: transparent;\n",
              "    border-bottom-color: var(--fill-color);\n",
              "    animation:\n",
              "      spin 1s steps(1) infinite;\n",
              "  }\n",
              "\n",
              "  @keyframes spin {\n",
              "    0% {\n",
              "      border-color: transparent;\n",
              "      border-bottom-color: var(--fill-color);\n",
              "      border-left-color: var(--fill-color);\n",
              "    }\n",
              "    20% {\n",
              "      border-color: transparent;\n",
              "      border-left-color: var(--fill-color);\n",
              "      border-top-color: var(--fill-color);\n",
              "    }\n",
              "    30% {\n",
              "      border-color: transparent;\n",
              "      border-left-color: var(--fill-color);\n",
              "      border-top-color: var(--fill-color);\n",
              "      border-right-color: var(--fill-color);\n",
              "    }\n",
              "    40% {\n",
              "      border-color: transparent;\n",
              "      border-right-color: var(--fill-color);\n",
              "      border-top-color: var(--fill-color);\n",
              "    }\n",
              "    60% {\n",
              "      border-color: transparent;\n",
              "      border-right-color: var(--fill-color);\n",
              "    }\n",
              "    80% {\n",
              "      border-color: transparent;\n",
              "      border-right-color: var(--fill-color);\n",
              "      border-bottom-color: var(--fill-color);\n",
              "    }\n",
              "    90% {\n",
              "      border-color: transparent;\n",
              "      border-bottom-color: var(--fill-color);\n",
              "    }\n",
              "  }\n",
              "</style>\n",
              "\n",
              "  <script>\n",
              "    async function quickchart(key) {\n",
              "      const quickchartButtonEl =\n",
              "        document.querySelector('#' + key + ' button');\n",
              "      quickchartButtonEl.disabled = true;  // To prevent multiple clicks.\n",
              "      quickchartButtonEl.classList.add('colab-df-spinner');\n",
              "      try {\n",
              "        const charts = await google.colab.kernel.invokeFunction(\n",
              "            'suggestCharts', [key], {});\n",
              "      } catch (error) {\n",
              "        console.error('Error during call to suggestCharts:', error);\n",
              "      }\n",
              "      quickchartButtonEl.classList.remove('colab-df-spinner');\n",
              "      quickchartButtonEl.classList.add('colab-df-quickchart-complete');\n",
              "    }\n",
              "    (() => {\n",
              "      let quickchartButtonEl =\n",
              "        document.querySelector('#df-859e5e0c-81f3-4727-9234-99496d1731ce button');\n",
              "      quickchartButtonEl.style.display =\n",
              "        google.colab.kernel.accessAllowed ? 'block' : 'none';\n",
              "    })();\n",
              "  </script>\n",
              "</div>\n",
              "    </div>\n",
              "  </div>\n"
            ]
          },
          "metadata": {},
          "execution_count": 37
        }
      ]
    },
    {
      "cell_type": "code",
      "source": [
        "df_hw[\"Height\"].describe()    # inch"
      ],
      "metadata": {
        "colab": {
          "base_uri": "https://localhost:8080/"
        },
        "id": "-VbqGZs2nVnQ",
        "outputId": "502e1609-01b0-4a6c-917a-8d7be889a403"
      },
      "execution_count": null,
      "outputs": [
        {
          "output_type": "execute_result",
          "data": {
            "text/plain": [
              "count    10000.000000\n",
              "mean        66.367560\n",
              "std          3.847528\n",
              "min         54.263133\n",
              "25%         63.505620\n",
              "50%         66.318070\n",
              "75%         69.174262\n",
              "max         78.998742\n",
              "Name: Height, dtype: float64"
            ]
          },
          "metadata": {},
          "execution_count": 38
        }
      ]
    },
    {
      "cell_type": "code",
      "source": [
        "df_height = df_hw[\"Height\"]"
      ],
      "metadata": {
        "id": "3kAIe7IznX6K"
      },
      "execution_count": null,
      "outputs": []
    },
    {
      "cell_type": "code",
      "source": [
        "min_height = df_height.min()"
      ],
      "metadata": {
        "id": "n0awURFanbBa"
      },
      "execution_count": null,
      "outputs": []
    },
    {
      "cell_type": "code",
      "source": [
        "max_height = df_height.max()"
      ],
      "metadata": {
        "id": "dc7K2Fucnc3E"
      },
      "execution_count": null,
      "outputs": []
    },
    {
      "cell_type": "code",
      "source": [
        "print(min_height, max_height)"
      ],
      "metadata": {
        "colab": {
          "base_uri": "https://localhost:8080/"
        },
        "id": "EzrRXKvvnefi",
        "outputId": "94fef65f-7274-4f9d-86c8-903a724275fc"
      },
      "execution_count": null,
      "outputs": [
        {
          "output_type": "stream",
          "name": "stdout",
          "text": [
            "54.2631333250971 78.9987423463896\n"
          ]
        }
      ]
    },
    {
      "cell_type": "code",
      "source": [
        "total = len(df_height)\n",
        "total"
      ],
      "metadata": {
        "colab": {
          "base_uri": "https://localhost:8080/"
        },
        "id": "XabvYHAMngQy",
        "outputId": "d801d4a2-5760-48d9-863b-e0b2b59a8980"
      },
      "execution_count": null,
      "outputs": [
        {
          "output_type": "execute_result",
          "data": {
            "text/plain": [
              "10000"
            ]
          },
          "metadata": {},
          "execution_count": 43
        }
      ]
    },
    {
      "cell_type": "markdown",
      "source": [
        "### **Cumulative Distribution Function (CDF)**\n",
        "\n",
        "Cumulative Distribution Function (CDF) `(Connecting CDF to percentiles and cumulative probabilities in dataset)`\n",
        "\n",
        "> **`Approach (1):` Manual code**\n",
        "\n",
        "> **`Approach (2):` from statsmodels.distributions.empirical_distribution import ECDF `(i.e. Empirical CDF)`**"
      ],
      "metadata": {
        "id": "LU47CImFnmgj"
      }
    },
    {
      "cell_type": "code",
      "source": [
        "# Approach (1)"
      ],
      "metadata": {
        "id": "puFrbBjKnh1n"
      },
      "execution_count": null,
      "outputs": []
    },
    {
      "cell_type": "code",
      "source": [
        "x_values = np.linspace(min_height, max_height, 1000)\n",
        "y_values = []\n",
        "\n",
        "for x in x_values:\n",
        "    people_shorter_than_x = df_height[df_height <= x]     # Masking\n",
        "\n",
        "    num_people_shorter_than_x = len(people_shorter_than_x)        # Number of people_shorter_than_x\n",
        "\n",
        "    frac_people_shorter_than_x = num_people_shorter_than_x / total        # Fraction of people_shorter_than_x\n",
        "\n",
        "    y_values.append(frac_people_shorter_than_x)        # Appending the list having fraction of people_shorter_than_x\n",
        "\n",
        "plt.plot(x_values, y_values)"
      ],
      "metadata": {
        "colab": {
          "base_uri": "https://localhost:8080/",
          "height": 448
        },
        "id": "JZQkFvyGn4jC",
        "outputId": "ac185a2e-9ec1-45f4-bd60-871a6f213517"
      },
      "execution_count": null,
      "outputs": [
        {
          "output_type": "execute_result",
          "data": {
            "text/plain": [
              "[<matplotlib.lines.Line2D at 0x7894a77eded0>]"
            ]
          },
          "metadata": {},
          "execution_count": 45
        },
        {
          "output_type": "display_data",
          "data": {
            "text/plain": [
              "<Figure size 640x480 with 1 Axes>"
            ],
            "image/png": "[encoded data removed]"
          },
          "metadata": {}
        }
      ]
    },
    {
      "cell_type": "code",
      "source": [
        "# Approach (2)"
      ],
      "metadata": {
        "id": "DvV8RcCZn48i"
      },
      "execution_count": null,
      "outputs": []
    },
    {
      "cell_type": "code",
      "source": [
        "from statsmodels.distributions.empirical_distribution import ECDF       # Empirical CDF (i.e. Empirical means from a data)"
      ],
      "metadata": {
        "id": "qbEJfNZQoLCf"
      },
      "execution_count": null,
      "outputs": []
    },
    {
      "cell_type": "code",
      "source": [
        "e = ECDF(df_height)"
      ],
      "metadata": {
        "id": "Z0Pto3mYoAHD"
      },
      "execution_count": null,
      "outputs": []
    },
    {
      "cell_type": "code",
      "source": [
        "plt.plot(e.x, e.y, c = \"r\")"
      ],
      "metadata": {
        "colab": {
          "base_uri": "https://localhost:8080/",
          "height": 448
        },
        "id": "6ue1hKMPoCFr",
        "outputId": "f8d447ac-933a-4c64-fb3a-f4432515380a"
      },
      "execution_count": null,
      "outputs": [
        {
          "output_type": "execute_result",
          "data": {
            "text/plain": [
              "[<matplotlib.lines.Line2D at 0x7894a76ef6d0>]"
            ]
          },
          "metadata": {},
          "execution_count": 49
        },
        {
          "output_type": "display_data",
          "data": {
            "text/plain": [
              "<Figure size 640x480 with 1 Axes>"
            ],
            "image/png": "[encoded data removed]"
          },
          "metadata": {}
        }
      ]
    },
    {
      "cell_type": "code",
      "source": [
        "df_height.describe()"
      ],
      "metadata": {
        "colab": {
          "base_uri": "https://localhost:8080/"
        },
        "id": "VZnNkEOioEMr",
        "outputId": "94044848-da66-4a46-a61b-25eb70f7fd5b"
      },
      "execution_count": null,
      "outputs": [
        {
          "output_type": "execute_result",
          "data": {
            "text/plain": [
              "count    10000.000000\n",
              "mean        66.367560\n",
              "std          3.847528\n",
              "min         54.263133\n",
              "25%         63.505620\n",
              "50%         66.318070\n",
              "75%         69.174262\n",
              "max         78.998742\n",
              "Name: Height, dtype: float64"
            ]
          },
          "metadata": {},
          "execution_count": 50
        }
      ]
    },
    {
      "cell_type": "markdown",
      "source": [
        "### **Data visualization (Histogram Plot) for Distribution of the data points**"
      ],
      "metadata": {
        "id": "mZAfWhaGoNIG"
      }
    },
    {
      "cell_type": "code",
      "source": [
        "sns.histplot(df_height)"
      ],
      "metadata": {
        "colab": {
          "base_uri": "https://localhost:8080/",
          "height": 467
        },
        "id": "6WyVAFVWoGgD",
        "outputId": "3b682f56-eea4-44aa-dc75-7405f11779b5"
      },
      "execution_count": null,
      "outputs": [
        {
          "output_type": "execute_result",
          "data": {
            "text/plain": [
              "<Axes: xlabel='Height', ylabel='Count'>"
            ]
          },
          "metadata": {},
          "execution_count": 51
        },
        {
          "output_type": "display_data",
          "data": {
            "text/plain": [
              "<Figure size 640x480 with 1 Axes>"
            ],
            "image/png": "[encoded data removed]"
          },
          "metadata": {}
        }
      ]
    },
    {
      "cell_type": "code",
      "source": [],
      "metadata": {
        "id": "iPXhSpl4ssid"
      },
      "execution_count": null,
      "outputs": []
    },
    {
      "cell_type": "code",
      "source": [],
      "metadata": {
        "id": "oT0heL3TssQA"
      },
      "execution_count": null,
      "outputs": []
    },
    {
      "cell_type": "markdown",
      "source": [
        "# <center>**`Part 2.2:` Gaussian distribution** `(weight-height.csv dataset)`</center>\n",
        "***"
      ],
      "metadata": {
        "id": "eyPviU3uss5l"
      }
    },
    {
      "cell_type": "code",
      "source": [
        "'''\n",
        "Gaussian Distribution (Content):\n",
        "--------------------------------------\n",
        "> 68/95/99 Rule (Emperical Rule)\n",
        "> (1) Z-Score (2) Z-Table Vs Python Library (SciPy)\n",
        "> Computing Prob\n",
        "> Actual example\n",
        "\n",
        "* 68/95/99 Rule (Emperical Rule)\n",
        "\t- 68% of the data falls within 1 standard deviation of the mean (μ ± σ) in a normal distribution\n",
        "\t- 95% of the data falls within 2 standard deviations of the mean (μ ± 2σ) in a normal distribution\n",
        "\t- 99.7% of the data falls within 3 standard deviations of the mean (μ ± 3σ) in a normal distribution\n",
        "  Q) The height of people is Gaussian with mean 65 inches and standard deviation 2.5 inches.\n",
        "\t\t(Q1) If I randomly meet one of these people, what is the probability their height is between 60 and 62.5 inches?\n",
        " \t\t(Q2) What fraction of people are shorter than 67.5?\n",
        "\t\t(Q3) What is the fraction of people whose height is between 60 and 72.5?\n",
        "\n",
        "* IMP: CDF and Percentile (a.k.a. Fraction) are inverse of each other\n",
        "  The CDF gives the cumulative probability up to a specific value, while percentiles provide the value below which a specified percentage of data falls. These two concepts complement each other and are essential in understanding and analyzing data distributions.\n",
        "\t- CDF --> Given the x-axis (input value), you can find the y-axis value (i.e. cumulative probability (a.k.a. fraction)) using CDF\n",
        "\t- Percentile (a.k.a. Fraction) --> Given the y-axis (i.e. cumulative probability (a.k.a. fraction)), you can find the x-axis value using percentiles\n",
        "\n",
        "* NOTE: There are 2 types of handling Gaussian Distribution queries:\n",
        "\t(1) Using 68/95/97 rule as shown previously\n",
        "\t(2) General approach (i.e. under \"Calculating Probabilities and Percentiles\" topic)\n",
        "\t\t- when the questions is based on \"shorter/lesser than\"\n",
        "\t\t- when the questions is based on \"between range\"\n",
        "\n",
        "* Computing Probabilities (i.e. y-axis) and Percentiles (i.e. x-axis)\n",
        "  General approach to find fraction (i.e. percentage) given x-axis input value. That is, CDF: \"given height --> tell me the fraction\"\n",
        "  Step (1)-Q) Given a person with hight 69.1 inch, how much standard deviation away it is from from the mean?\n",
        "\t\t- 69.1 = 65 + (z)2.5\n",
        "\t  \t  z = (69.1 - 65) / 2.5\n",
        "\t  \t  z = 1.64\n",
        "\t\t  That is,\n",
        "\t  \t  z = (height - mean) / standard_deviation\n",
        "  Step (2)-Q) What fraction of people are shorter than 69.1 inch?\n",
        "\t\t- Approach (1): Z-Score table (Link: https://www.z-table.com/)\n",
        "\t\t- Approach (2): Python Scipy library\n",
        "\n",
        "  Q) What fraction of people have height less than 70.8 inch?\n",
        "  Step (1): Z Score Calculation\n",
        "\t \t70.8 = 65 + (z)2.5\n",
        "\t  \tz = (70.8 - 65) / 2.5\n",
        "\t  \tz = 2.32\n",
        "  Step (2):\n",
        "\t- Approach (1) --> Z-Score table\n",
        "\t  \tZ-Score Table = 0.9898\n",
        "\t- Approach (2) --> Python Scipy\n",
        "\t\tfrom scipy.stats import norm\n",
        "\t\tz = (x_value - mean)/std   #Z Score Calculation\n",
        "\t\tnorm.cdf(z)\t# Alternative to Z-Score Table\n",
        "\n",
        "  Q) Balls produced by manufacturer have mean 50 mm and std dev 2 mm. What fraction of balls are smaller than 53 mm?\t(Ans: 0.93)\n",
        "\n",
        "* Deriving the Emperical Rule (68/95/99 Rule)\n",
        "  NOTE: norm.cdf() --> gives o/p based on questions asked in \"shorter/lesser than\"\n",
        "\tnorm.cdf() - norm.cdf() --> gives o/p based on questions asked in \"between range\"\n",
        "  Fraction of people having hegith between 1 standard deviation from the mean\n",
        "\t- norm.cdf(1)  #z = (67.5 - 65)/2.5 = 2.5/2.5 = 1\n",
        "\t  norm.cdf(-1)  #z = (62.5 - 65)/2.5 = -2.5/2.5 = -1\n",
        "\t  norm.cdf(1) - norm.cdf(-1)  #give o/p 0.68268...\n",
        "  Fraction of people having hegith between 2 standard deviation from the mean\n",
        "\t- norm.cdf(2) - norm.cdf(-2)  #give o/p 0.9544...\n",
        "  Fraction of people having hegith between 3 standard deviation from the mean\n",
        "\t- norm.cdf(3) - norm.cdf(-3)  #give o/p 0.9973...\n",
        "\n",
        "* Computing Probabilities (i.e. y-axis) and Percentiles (i.e. x-axis)-(Revised)\n",
        "  General approach to find x-axis (i.e. percentage) given y-axis value (i.e. fraction). That is, Percentile: \"given fraction --> tell percentage\"\n",
        "  Q) The height of people is Gaussian with mean 65 inches and standard deviation 2.5 inches. One person says: 96% people are shorter than me. What is my height?\n",
        "  \tStep (1): z = norm.ppf(y_value)  #PPF (Probability Point Function) is the inverse of the CDF that gives the Z-Score value\n",
        "  \tStep (2): height = mean + (z * std)\t#NOTE: this is how we started first previously as \"z = (x_value - meanu) / std\" so reversing back to same process\n",
        "\n",
        "* Actual example\n",
        "  Sample (Q) Skaters take a mean of 7.42 seconds and std dev of 0.34 seconds for 500 meters. What should his speed be such that he is faster than 95% of his competitors?\n",
        "  Case Study: Inventory Manager - Analyse sales data and choose an optimum inventory.\n",
        "\tQ1) A retail outlet sells around 1000 toothpastes a week, with std dev = 200. If the on-hand inventory is 1300, what is the need for replenishment within the week?\n",
        "\tQ2) We want at most 3% of times to be out of stock. What should be my inventory?\n",
        "'''"
      ],
      "metadata": {
        "id": "hB68-UunssLD"
      },
      "execution_count": null,
      "outputs": []
    },
    {
      "cell_type": "markdown",
      "source": [
        "### **(1) Z-Score & then Z-Table Vs Python Library (SciPy)**\n",
        "\n",
        "[Z-Score Table](https://www.z-table.com/)"
      ],
      "metadata": {
        "id": "nWoC07rBdqeW"
      }
    },
    {
      "cell_type": "code",
      "source": [
        "from scipy.stats import norm"
      ],
      "metadata": {
        "id": "SiaXpd8JwvoW"
      },
      "execution_count": null,
      "outputs": []
    },
    {
      "cell_type": "markdown",
      "source": [
        "**The height of people is Gaussian with mean (μ) 65 inches and standard deviation (𝜎) 2.5 inches**"
      ],
      "metadata": {
        "id": "Iy8kh9wYaiwr"
      }
    },
    {
      "cell_type": "code",
      "source": [
        "# Q. Fraction of people are shorter than 69.1\n",
        "z = (69.1 - 65)/2.5\n",
        "z"
      ],
      "metadata": {
        "colab": {
          "base_uri": "https://localhost:8080/"
        },
        "id": "Cde7EyxmaGpV",
        "outputId": "0731ffca-44bf-4f9b-919e-b239b2a45c66"
      },
      "execution_count": null,
      "outputs": [
        {
          "output_type": "execute_result",
          "data": {
            "text/plain": [
              "1.6399999999999977"
            ]
          },
          "metadata": {},
          "execution_count": 54
        }
      ]
    },
    {
      "cell_type": "code",
      "source": [
        "norm.cdf(z)     # alternative to z-table --> gives the fraction of people shorter/lesser than given H: 69.1"
      ],
      "metadata": {
        "colab": {
          "base_uri": "https://localhost:8080/"
        },
        "id": "EMOkBgePao5q",
        "outputId": "871b421d-e044-4562-f1b9-4fe5edb159a2"
      },
      "execution_count": null,
      "outputs": [
        {
          "output_type": "execute_result",
          "data": {
            "text/plain": [
              "0.949497416525896"
            ]
          },
          "metadata": {},
          "execution_count": 55
        }
      ]
    },
    {
      "cell_type": "code",
      "source": [
        "# Q. Fraction of people are shorter than 70.8\n",
        "z = (70.8 - 65) / 2.5\n",
        "norm.cdf(z)"
      ],
      "metadata": {
        "colab": {
          "base_uri": "https://localhost:8080/"
        },
        "id": "gdFWRP5fasoS",
        "outputId": "fbf3f1fc-8f60-4f24-ea99-ec1e7bee5bf0"
      },
      "execution_count": null,
      "outputs": [
        {
          "output_type": "execute_result",
          "data": {
            "text/plain": [
              "0.9898295613312803"
            ]
          },
          "metadata": {},
          "execution_count": 56
        }
      ]
    },
    {
      "cell_type": "markdown",
      "source": [
        "**Balls produced by manufacturer have mean (μ) 50 mm and std dev (𝜎) 2 mm. What fraction of balls are smaller than 53 mm?**"
      ],
      "metadata": {
        "id": "Tr_IkXVDbFU3"
      }
    },
    {
      "cell_type": "code",
      "source": [
        "z = (53 - 50) / 2\n",
        "norm.cdf(z)"
      ],
      "metadata": {
        "colab": {
          "base_uri": "https://localhost:8080/"
        },
        "id": "W1qgGNeFa3Mj",
        "outputId": "897271fc-784e-40a0-eeed-ade0c5805db8"
      },
      "execution_count": null,
      "outputs": [
        {
          "output_type": "execute_result",
          "data": {
            "text/plain": [
              "0.9331927987311419"
            ]
          },
          "metadata": {},
          "execution_count": 57
        }
      ]
    },
    {
      "cell_type": "markdown",
      "source": [
        "### **(2) Empirical Rule (68/95/99)**\n",
        "\n",
        "> **`NOTE:`** The **norm.cdf(z)** provides only the **lower than the given value based o/p percentage**. In order to obtain o/p based on **between than values**, we will be using the **Empirical Rule based idea**."
      ],
      "metadata": {
        "id": "950B7NihdYha"
      }
    },
    {
      "cell_type": "code",
      "source": [
        "# Q. Fraction are shorter than 67.5\n",
        "z = (67.5 - 65) / 2.5\n",
        "norm.cdf(z)"
      ],
      "metadata": {
        "colab": {
          "base_uri": "https://localhost:8080/"
        },
        "id": "r3f4-zUHb65b",
        "outputId": "44c0262a-bf18-43d6-8616-bdeda6d4b680"
      },
      "execution_count": null,
      "outputs": [
        {
          "output_type": "execute_result",
          "data": {
            "text/plain": [
              "0.8413447460685429"
            ]
          },
          "metadata": {},
          "execution_count": 58
        }
      ]
    },
    {
      "cell_type": "code",
      "source": [
        "'''\n",
        "That is, see the breakdown below which is same o/p as above cell:\n",
        "z = (67.5 - 65) / 2.5\n",
        "z = 2.5 / 2.5\n",
        "z = 1\n",
        "norm.cdf(z)\n",
        "'''"
      ],
      "metadata": {
        "id": "oY3fWP31gjPQ"
      },
      "execution_count": null,
      "outputs": []
    },
    {
      "cell_type": "code",
      "source": [
        "norm.cdf(1)     # Same o/p as above cell o/p"
      ],
      "metadata": {
        "colab": {
          "base_uri": "https://localhost:8080/"
        },
        "id": "zxuUWkYQgn2t",
        "outputId": "8788df71-4b6f-4b43-fdb7-5241644956a6"
      },
      "execution_count": null,
      "outputs": [
        {
          "output_type": "execute_result",
          "data": {
            "text/plain": [
              "0.8413447460685429"
            ]
          },
          "metadata": {},
          "execution_count": 60
        }
      ]
    },
    {
      "cell_type": "code",
      "source": [
        "# Q. Fraction are shorter than 62.5\n",
        "z = (62.5 - 65) / 2.5\n",
        "norm.cdf(z)"
      ],
      "metadata": {
        "colab": {
          "base_uri": "https://localhost:8080/"
        },
        "id": "pCfNLuINeXwc",
        "outputId": "b1600193-042a-468f-83da-8af5f30c88b8"
      },
      "execution_count": null,
      "outputs": [
        {
          "output_type": "execute_result",
          "data": {
            "text/plain": [
              "0.15865525393145707"
            ]
          },
          "metadata": {},
          "execution_count": 61
        }
      ]
    },
    {
      "cell_type": "code",
      "source": [
        "'''\n",
        "That is, see the breakdown below which is same o/p as above cell:\n",
        "z = (62.5 - 65) / 2.5\n",
        "z = -2.5 / 2.5\n",
        "z = -1\n",
        "norm.cdf(z)\n",
        "'''"
      ],
      "metadata": {
        "id": "iRnoX2zDe4KE"
      },
      "execution_count": null,
      "outputs": []
    },
    {
      "cell_type": "code",
      "source": [
        "norm.cdf(-1)      # Same o/p as above cell o/p"
      ],
      "metadata": {
        "colab": {
          "base_uri": "https://localhost:8080/"
        },
        "id": "t_cOl-eEgMRm",
        "outputId": "81a8311a-bc59-4562-ed29-0191392baf05"
      },
      "execution_count": null,
      "outputs": [
        {
          "output_type": "execute_result",
          "data": {
            "text/plain": [
              "0.15865525393145707"
            ]
          },
          "metadata": {},
          "execution_count": 63
        }
      ]
    },
    {
      "cell_type": "code",
      "source": [
        "# Q. Fraction of people having height within 1 standard deviation from the mean (i.e. between 62.5 and 67.5)\n",
        "norm.cdf(1) - norm.cdf(-1)"
      ],
      "metadata": {
        "colab": {
          "base_uri": "https://localhost:8080/"
        },
        "id": "PXC4H3aFfHes",
        "outputId": "c8bd91c8-1005-4df2-db2f-5d71aa32ae2d"
      },
      "execution_count": null,
      "outputs": [
        {
          "output_type": "execute_result",
          "data": {
            "text/plain": [
              "0.6826894921370859"
            ]
          },
          "metadata": {},
          "execution_count": 64
        }
      ]
    },
    {
      "cell_type": "code",
      "source": [
        "# Q. Fraction of people having height within 2 standard deviation from the mean (i.e. between 60 and 70)\n",
        "norm.cdf(2) - norm.cdf(-2)"
      ],
      "metadata": {
        "colab": {
          "base_uri": "https://localhost:8080/"
        },
        "id": "47ujZN_Hgeht",
        "outputId": "469cc168-db05-4c1c-883d-49f214d7e7ad"
      },
      "execution_count": null,
      "outputs": [
        {
          "output_type": "execute_result",
          "data": {
            "text/plain": [
              "0.9544997361036416"
            ]
          },
          "metadata": {},
          "execution_count": 65
        }
      ]
    },
    {
      "cell_type": "code",
      "source": [
        "# Q. Fraction of people having height within 3 standard deviation from the mean (i.e. between 57.5 and 72.5)\n",
        "norm.cdf(3) - norm.cdf(-3)"
      ],
      "metadata": {
        "colab": {
          "base_uri": "https://localhost:8080/"
        },
        "id": "3OQQ8L-dhUtl",
        "outputId": "0bf84651-f943-4536-85d5-2ca93ca1a714"
      },
      "execution_count": null,
      "outputs": [
        {
          "output_type": "execute_result",
          "data": {
            "text/plain": [
              "0.9973002039367398"
            ]
          },
          "metadata": {},
          "execution_count": 66
        }
      ]
    },
    {
      "cell_type": "markdown",
      "source": [
        "### **(3) Inverse of CDF (Cumulative Distribution Function) --> Percentile**\n",
        "\n",
        "That is, **Percentile is inverse of CDF**\n",
        "\n",
        "> **CDF** --> Given **x-value**, provide the **y-value** (a.k.a. **fraction**) **o/p**     \n",
        "\n",
        "> **Percentile `(Inverse of CDF)`** --> Given **y-value** (a.k.a. **fraction**), provide the **x-value o/p**"
      ],
      "metadata": {
        "id": "KmzHS1bSiLZz"
      }
    },
    {
      "cell_type": "markdown",
      "source": [
        "**The height of people is Gaussian with mean 65 inches and standard deviation 2.5 inches One person says: 96% people are shorter than me. What is my height?**"
      ],
      "metadata": {
        "id": "QyE7F_q1iK7I"
      }
    },
    {
      "cell_type": "markdown",
      "source": [
        "**Percentile**"
      ],
      "metadata": {
        "id": "BuWrq1Ffj60k"
      }
    },
    {
      "cell_type": "code",
      "source": [
        "# norm.ppf() full form is \"Percent point function\" which gives the \"Z-Score\" value and from that we can find the actual hight...\n",
        "z = norm.ppf(0.96)\n",
        "z"
      ],
      "metadata": {
        "colab": {
          "base_uri": "https://localhost:8080/"
        },
        "id": "N2kOBKsghcJs",
        "outputId": "2ce27af2-4ea7-4bab-f147-af14641a4057"
      },
      "execution_count": null,
      "outputs": [
        {
          "output_type": "execute_result",
          "data": {
            "text/plain": [
              "1.7506860712521692"
            ]
          },
          "metadata": {},
          "execution_count": 67
        }
      ]
    },
    {
      "cell_type": "code",
      "source": [
        "height = 65 + z*2.5     # height = mean + (z)(std)\n",
        "height"
      ],
      "metadata": {
        "colab": {
          "base_uri": "https://localhost:8080/"
        },
        "id": "HBwPZC4fj-yr",
        "outputId": "fd1edd4a-1254-401c-8168-7b61d77bb4ac"
      },
      "execution_count": null,
      "outputs": [
        {
          "output_type": "execute_result",
          "data": {
            "text/plain": [
              "69.37671517813042"
            ]
          },
          "metadata": {},
          "execution_count": 68
        }
      ]
    },
    {
      "cell_type": "code",
      "source": [
        "'''\n",
        "Q. Skaters take a mean of 7.42 seconds and std dev of 0.34 seconds for 500 meters.\n",
        "What should his speed be such that he is faster than 95% of his competitors?\n",
        "'''"
      ],
      "metadata": {
        "id": "ODehQP1Vkb2l"
      },
      "execution_count": null,
      "outputs": []
    },
    {
      "cell_type": "code",
      "source": [
        "z = norm.ppf(0.05)"
      ],
      "metadata": {
        "id": "6dvhKN-5l6mu"
      },
      "execution_count": null,
      "outputs": []
    },
    {
      "cell_type": "code",
      "source": [
        "t = 7.42 + z*0.34"
      ],
      "metadata": {
        "id": "1XPP6cA6l9Wp"
      },
      "execution_count": null,
      "outputs": []
    },
    {
      "cell_type": "code",
      "source": [
        "print(t)"
      ],
      "metadata": {
        "id": "Jm47xWitl9TQ",
        "colab": {
          "base_uri": "https://localhost:8080/"
        },
        "outputId": "faa024c8-e60b-476e-ff6e-e1b5bfa2a78f"
      },
      "execution_count": null,
      "outputs": [
        {
          "output_type": "stream",
          "name": "stdout",
          "text": [
            "6.860749766836499\n"
          ]
        }
      ]
    },
    {
      "cell_type": "code",
      "source": [
        "'''\n",
        "Q. A retail outlet sells around 1000 toothpastes a week, with std dev = 200.\n",
        "If the on-hand inventory is 1300, what is the need for replenishment within the week?\n",
        "'''"
      ],
      "metadata": {
        "id": "ePZe66isl9L5"
      },
      "execution_count": null,
      "outputs": []
    },
    {
      "cell_type": "code",
      "source": [
        "z = (1300 - 1000)/200"
      ],
      "metadata": {
        "id": "Xe5hjS7ul-45"
      },
      "execution_count": null,
      "outputs": []
    },
    {
      "cell_type": "code",
      "source": [
        "x = norm.cdf(z)"
      ],
      "metadata": {
        "id": "-G6wWgrfmA5V"
      },
      "execution_count": null,
      "outputs": []
    },
    {
      "cell_type": "code",
      "source": [
        "print(x)"
      ],
      "metadata": {
        "id": "1mK_1nPfmAxO",
        "colab": {
          "base_uri": "https://localhost:8080/"
        },
        "outputId": "4e224971-b8dd-4f53-f4fb-e04c01e28473"
      },
      "execution_count": null,
      "outputs": [
        {
          "output_type": "stream",
          "name": "stdout",
          "text": [
            "0.9331927987311419\n"
          ]
        }
      ]
    },
    {
      "cell_type": "code",
      "source": [
        "ans = 1 - x"
      ],
      "metadata": {
        "id": "L3Wi4XI8Ftjc"
      },
      "execution_count": null,
      "outputs": []
    },
    {
      "cell_type": "code",
      "source": [
        "print(ans)"
      ],
      "metadata": {
        "id": "winaLchIFtd-",
        "outputId": "091ee852-5efe-420e-f61c-c7fae4937d1f",
        "colab": {
          "base_uri": "https://localhost:8080/"
        }
      },
      "execution_count": null,
      "outputs": [
        {
          "output_type": "stream",
          "name": "stdout",
          "text": [
            "0.06680720126885809\n"
          ]
        }
      ]
    },
    {
      "cell_type": "code",
      "source": [
        "'''\n",
        "Q. Around 6% of the time the qty utilized will be more than 1300 -> there is a need to do replinesihment 6% of the times\n",
        "we want at most 3% of times to be out of stock. What should be my inventory?\n",
        "'''"
      ],
      "metadata": {
        "id": "J5Y8Lck4mAuD"
      },
      "execution_count": null,
      "outputs": []
    },
    {
      "cell_type": "code",
      "source": [
        "z = norm.ppf(0.97)"
      ],
      "metadata": {
        "id": "vXKgWlYsmMmm"
      },
      "execution_count": null,
      "outputs": []
    },
    {
      "cell_type": "code",
      "source": [
        "x = 1000 + z*200"
      ],
      "metadata": {
        "id": "__QVa8iTmPsL"
      },
      "execution_count": null,
      "outputs": []
    },
    {
      "cell_type": "code",
      "source": [
        "print(x)"
      ],
      "metadata": {
        "id": "mzojQ9ozmPoF",
        "colab": {
          "base_uri": "https://localhost:8080/"
        },
        "outputId": "39d85997-f3bf-4b2e-b137-5dd45325f4f2"
      },
      "execution_count": null,
      "outputs": [
        {
          "output_type": "stream",
          "name": "stdout",
          "text": [
            "1376.15872163025\n"
          ]
        }
      ]
    },
    {
      "cell_type": "markdown",
      "source": [
        "### **Summarizing when to use CDF & PPF**\n",
        "\n",
        "**To Summarize when to use CDF & PPF approaches:**\n",
        "\n",
        "*   When the **x-values** is given and we need to find the **Fraction** (a.k.a. **percentile**):\n",
        "> **`Step-1:`** **Z-Score:**              \n",
        "            z = (height - mean)/std          \n",
        "> **`Step-2:`** **Z-table `(or)` Python SciPy:**\n",
        "            fraction_output = norm.csd(z)\n",
        "            \n",
        "*   When the **Fraction** (a.k.a. **percentile**) is given and we need to find the **x-value**:\n",
        "> **`Step-1:`** **Z-Score:**\n",
        "            z = norm.ppf(fraction)\n",
        "> **`Step-2:`** **x-value:**\n",
        "            x_values_output = mean + (z)(std)"
      ],
      "metadata": {
        "id": "MY1QrIZsadhI"
      }
    },
    {
      "cell_type": "code",
      "source": [],
      "metadata": {
        "id": "jXA167Hs-lsp"
      },
      "execution_count": null,
      "outputs": []
    },
    {
      "cell_type": "code",
      "source": [],
      "metadata": {
        "id": "oMcIbq35-leW"
      },
      "execution_count": null,
      "outputs": []
    },
    {
      "cell_type": "markdown",
      "source": [
        "# <center>**`Part 2.3:` Central limit theorem**</center>\n",
        "***"
      ],
      "metadata": {
        "id": "TeKLBYk5-m1N"
      }
    },
    {
      "cell_type": "code",
      "source": [
        "'''\n",
        "Central limit theorem (Content):\n",
        "--------------------------------------\n",
        "> Population, Sample\n",
        "> From sample, what can be infer about population:\n",
        "\t- Central Limit Theorem (CLT)\n",
        "\t- Confidence Interva (NOTE: next lecture...)\n",
        "> For population:\n",
        "\t- data.head()\t#population\n",
        "\t- mu = data.mean()\t#population mean,\n",
        "\t- sigma = data.std()\t#population std dev\n",
        "\t- sns.histplot(data)\t#distribution\n",
        "> Analysis of sample size 5:\n",
        "\t- data.sample(5)\t#random selection of 5 rows from the population dataset\n",
        "\t- np.mean(data.sample(5))\t#mean of one sample mean (NOTE: every time, this mean is different & is close to the population mean of 66.3)\n",
        "\t- sample_mean_5 = [np.mean(data.sample(5)) for i in range(20000)]\t#\"List Comprehension\" - mean of 20000 sample means\n",
        "\t- len(sample_mean_5)\t#length of mean of 20000 sample means\n",
        "\t- sns.histplot(sample_mean_5)\t\t#distribution\n",
        "\t- np.mean(sample_mean_5)\t#Mean of sample means ≈ mean of population\n",
        " \t- np.std(sample_mean_5)\t\t#Std dev of sample < Std dev of population\n",
        " (NOTE: Standard Error (i.e. Standard deviation of the sample mean): As the number of sample size increases, the \"Std dev of sample < Std dev of \tpopulation\". This is called as \"Standard Error\" with the formula \"sigma/sqrt(n)\")\n",
        "\t- sigma/np.sqrt(5)\t\t#\"Standard Error\" for n = 5\n",
        "> Analysis of sample size 20:\n",
        "\t- (Same as above steps but take the random selection of 20 rows)\n",
        "> Analysis of sample size 100:\n",
        "\t- (Same as above steps but take the random selection of 100 rows)\n",
        "\n",
        "Formula:\n",
        "\tLet \"x̄ = (x1+x2+x3+...+xn)/n\" denotes the sample mean.\n",
        "\tThen x̄ follows a normal/gaussian distribution with expected mean.\n",
        "\tThat is, \"E(x̄)=μ\" where \"E(x̄)\" is expected mean and \"μ\" is population mean.\n",
        "\tAnd, Standard deviation of \"x̄ = σ / √n\"\n",
        "In other words, x̄ ≈ N(μ, σ/√n)\n",
        "\tThat is, x̄ follows a Normal/Gaussian Distribution as \"N\" with mean as \"μ\" and std dev as \"σ/√n\"\n",
        "NOTE: If n is large (n > 30), then sigma \"σ\" is finite. That is, original distribution need not be normal distribution...\n",
        "\n",
        "  Q) Systolic blood pressure of a group of people is known to have an average of 122 mmHg and a standard deviation of 10 mmHg (assume normal distribution). Calculate the probability that the average blood pressure of 16 people will be greater than 125mmHg.\n",
        "  Q) Weekly to\tothpaste sales have a mean 1000 and std dev 200 (assume normal distri). What is the probability that the average weekly sales next month is more than 1110?\t\t(Ans: 0.13)\n",
        "\n",
        "Customized Code:\n",
        "\tdef clt_prob(mu , sigma, n, obs):\n",
        "  \t\tstd_err = sigma/np.sqrt(n)\n",
        "  \t\tz = (obs - mu)/std_err\n",
        "  \t\tprob_less = norm.cdf(z)\n",
        "  \t\tprob_greater = 1 - norm.cdf(z)\n",
        "  \t\treturn prob_less, prob_greater\n",
        "\t#blood pressure\n",
        "\tclt_prob(122, 10, 16, 125)\n",
        "\t#toothpaste\n",
        "\tclt_prob(1000, 200, 4, 1110)\n",
        "\n",
        "  Q) In an e-commerce website, the average purchase amount per customer is\n",
        "15. If we randomly select a sample of 50 customers, what is the probability that the average purchase amount in the sample will be less than $75?\t(Ans: 0.009)\n",
        "'''"
      ],
      "metadata": {
        "id": "WXQEd7hK-lZj",
        "colab": {
          "base_uri": "https://localhost:8080/",
          "height": 165
        },
        "outputId": "48a97f7d-c9a0-4cbb-bde0-2dc43aae82ea"
      },
      "execution_count": null,
      "outputs": [
        {
          "output_type": "execute_result",
          "data": {
            "text/plain": [
              "'\\nCentral limit theorem (Content):\\n--------------------------------------\\n> Population, Sample\\n> From sample, what can be infer about population:\\n\\t- Central Limit Theorem (CLT)\\n\\t- Confidence Interva (NOTE: next lecture...)\\n> For population:\\n\\t- data.head()\\t#population\\n\\t- mu = data.mean()\\t#population mean,\\n\\t- sigma = data.std()\\t#population std dev\\n\\t- sns.histplot(data)\\t#distribution\\n> Analysis of sample size 5:\\n\\t- data.sample(5)\\t#random selection of 5 rows from the population dataset\\n\\t- np.mean(data.sample(5))\\t#mean of one sample mean (NOTE: every time, this mean is different & is close to the population mean of 66.3)\\n\\t- sample_mean_5 = [np.mean(data.sample(5)) for i in range(20000)]\\t#\"List Comprehension\" - mean of 20000 sample means\\n\\t- len(sample_mean_5)\\t#length of mean of 20000 sample means\\n\\t- sns.histplot(sample_mean_5)\\t\\t#distribution\\n\\t- np.mean(sample_mean_5)\\t#Mean of sample means ≈ mean of population\\n \\t- np.std(sample_mean_5)\\t\\t#Std dev of sample < Std dev of population\\n (NOTE: Standard Error (i.e. Standard deviation of the sample mean): As the number of sample size increases, the \"Std dev of sample < Std dev of \\tpopulation\". This is called as \"Standard Error\" with the formula \"sigma/sqrt(n)\")\\n\\t- sigma/np.sqrt(5)\\t\\t#\"Standard Error\" for n = 5\\n> Analysis of sample size 20:\\n\\t- (Same as above steps but take the random selection of 20 rows)\\n> Analysis of sample size 100:\\n\\t- (Same as above steps but take the random selection of 100 rows)\\n\\nFormula:\\n\\tLet \"x̄ = (x1+x2+x3+...+xn)/n\" denotes the sample mean.\\n\\tThen x̄ follows a normal/gaussian distribution with expected mean.\\n\\tThat is, \"E(x̄)=μ\" where \"E(x̄)\" is expected mean and \"μ\" is population mean.\\n\\tAnd, Standard deviation of \"x̄ = σ / √n\"\\nIn other words, x̄ ≈ N(μ, σ/√n)\\n\\tThat is, x̄ follows a Normal/Gaussian Distribution as \"N\" with mean as \"μ\" and std dev as \"σ/√n\"\\nNOTE: If n is large (n > 30), then sigma \"σ\" is finite. That is, original distribution need not be normal distribution...\\n\\n  Q) Systolic blood pressure of a group of people is known to have an average of 122 mmHg and a standard deviation of 10 mmHg (assume normal distribution). Calculate the probability that the average blood pressure of 16 people will be greater than 125mmHg.\\n  Q) Weekly to\\tothpaste sales have a mean 1000 and std dev 200 (assume normal distri). What is the probability that the average weekly sales next month is more than 1110?\\t\\t(Ans: 0.13)\\n\\nCustomized Code:\\n\\tdef clt_prob(mu , sigma, n, obs):\\n  \\t\\tstd_err = sigma/np.sqrt(n)\\n  \\t\\tz = (obs - mu)/std_err\\n  \\t\\tprob_less = norm.cdf(z)\\n  \\t\\tprob_greater = 1 - norm.cdf(z)\\n  \\t\\treturn prob_less, prob_greater\\n\\t#blood pressure\\n\\tclt_prob(122, 10, 16, 125)\\n\\t#toothpaste\\n\\tclt_prob(1000, 200, 4, 1110)\\n\\n  Q) In an e-commerce website, the average purchase amount per customer is\\n15. If we randomly select a sample of 50 customers, what is the probability that the average purchase amount in the sample will be less than $75?\\t(Ans: 0.009)\\n'"
            ],
            "application/vnd.google.colaboratory.intrinsic+json": {
              "type": "string"
            }
          },
          "metadata": {},
          "execution_count": 83
        }
      ]
    },
    {
      "cell_type": "code",
      "source": [
        "from scipy.stats import norm"
      ],
      "metadata": {
        "id": "gRDh-RihB5uf"
      },
      "execution_count": null,
      "outputs": []
    },
    {
      "cell_type": "code",
      "source": [
        "df_hw = pd.read_csv(\"weight-height.csv\")"
      ],
      "metadata": {
        "id": "rU_MiBMLB5qc"
      },
      "execution_count": null,
      "outputs": []
    },
    {
      "cell_type": "code",
      "source": [
        "df_hw.head()"
      ],
      "metadata": {
        "id": "0LCqpTWwB5ms",
        "outputId": "0ed5a114-9c28-4b0a-b985-9fe5ecee27d0",
        "colab": {
          "base_uri": "https://localhost:8080/",
          "height": 206
        }
      },
      "execution_count": null,
      "outputs": [
        {
          "output_type": "execute_result",
          "data": {
            "text/plain": [
              "  Gender     Height      Weight\n",
              "0   Male  73.847017  241.893563\n",
              "1   Male  68.781904  162.310473\n",
              "2   Male  74.110105  212.740856\n",
              "3   Male  71.730978  220.042470\n",
              "4   Male  69.881796  206.349801"
            ],
            "text/html": [
              "\n",
              "  <div id=\"df-c44d6fbf-9cad-40e7-9507-6f94eee36df3\" class=\"colab-df-container\">\n",
              "    <div>\n",
              "<style scoped>\n",
              "    .dataframe tbody tr th:only-of-type {\n",
              "        vertical-align: middle;\n",
              "    }\n",
              "\n",
              "    .dataframe tbody tr th {\n",
              "        vertical-align: top;\n",
              "    }\n",
              "\n",
              "    .dataframe thead th {\n",
              "        text-align: right;\n",
              "    }\n",
              "</style>\n",
              "<table border=\"1\" class=\"dataframe\">\n",
              "  <thead>\n",
              "    <tr style=\"text-align: right;\">\n",
              "      <th></th>\n",
              "      <th>Gender</th>\n",
              "      <th>Height</th>\n",
              "      <th>Weight</th>\n",
              "    </tr>\n",
              "  </thead>\n",
              "  <tbody>\n",
              "    <tr>\n",
              "      <th>0</th>\n",
              "      <td>Male</td>\n",
              "      <td>73.847017</td>\n",
              "      <td>241.893563</td>\n",
              "    </tr>\n",
              "    <tr>\n",
              "      <th>1</th>\n",
              "      <td>Male</td>\n",
              "      <td>68.781904</td>\n",
              "      <td>162.310473</td>\n",
              "    </tr>\n",
              "    <tr>\n",
              "      <th>2</th>\n",
              "      <td>Male</td>\n",
              "      <td>74.110105</td>\n",
              "      <td>212.740856</td>\n",
              "    </tr>\n",
              "    <tr>\n",
              "      <th>3</th>\n",
              "      <td>Male</td>\n",
              "      <td>71.730978</td>\n",
              "      <td>220.042470</td>\n",
              "    </tr>\n",
              "    <tr>\n",
              "      <th>4</th>\n",
              "      <td>Male</td>\n",
              "      <td>69.881796</td>\n",
              "      <td>206.349801</td>\n",
              "    </tr>\n",
              "  </tbody>\n",
              "</table>\n",
              "</div>\n",
              "    <div class=\"colab-df-buttons\">\n",
              "\n",
              "  <div class=\"colab-df-container\">\n",
              "    <button class=\"colab-df-convert\" onclick=\"convertToInteractive('df-c44d6fbf-9cad-40e7-9507-6f94eee36df3')\"\n",
              "            title=\"Convert this dataframe to an interactive table.\"\n",
              "            style=\"display:none;\">\n",
              "\n",
              "  <svg xmlns=\"http://www.w3.org/2000/svg\" height=\"24px\" viewBox=\"0 -960 960 960\">\n",
              "    <path d=\"M120-120v-720h720v720H120Zm60-500h600v-160H180v160Zm220 220h160v-160H400v160Zm0 220h160v-160H400v160ZM180-400h160v-160H180v160Zm440 0h160v-160H620v160ZM180-180h160v-160H180v160Zm440 0h160v-160H620v160Z\"/>\n",
              "  </svg>\n",
              "    </button>\n",
              "\n",
              "  <style>\n",
              "    .colab-df-container {\n",
              "      display:flex;\n",
              "      gap: 12px;\n",
              "    }\n",
              "\n",
              "    .colab-df-convert {\n",
              "      background-color: #E8F0FE;\n",
              "      border: none;\n",
              "      border-radius: 50%;\n",
              "      cursor: pointer;\n",
              "      display: none;\n",
              "      fill: #1967D2;\n",
              "      height: 32px;\n",
              "      padding: 0 0 0 0;\n",
              "      width: 32px;\n",
              "    }\n",
              "\n",
              "    .colab-df-convert:hover {\n",
              "      background-color: #E2EBFA;\n",
              "      box-shadow: 0px 1px 2px rgba(60, 64, 67, 0.3), 0px 1px 3px 1px rgba(60, 64, 67, 0.15);\n",
              "      fill: #174EA6;\n",
              "    }\n",
              "\n",
              "    .colab-df-buttons div {\n",
              "      margin-bottom: 4px;\n",
              "    }\n",
              "\n",
              "    [theme=dark] .colab-df-convert {\n",
              "      background-color: #3B4455;\n",
              "      fill: #D2E3FC;\n",
              "    }\n",
              "\n",
              "    [theme=dark] .colab-df-convert:hover {\n",
              "      background-color: #434B5C;\n",
              "      box-shadow: 0px 1px 3px 1px rgba(0, 0, 0, 0.15);\n",
              "      filter: drop-shadow(0px 1px 2px rgba(0, 0, 0, 0.3));\n",
              "      fill: #FFFFFF;\n",
              "    }\n",
              "  </style>\n",
              "\n",
              "    <script>\n",
              "      const buttonEl =\n",
              "        document.querySelector('#df-c44d6fbf-9cad-40e7-9507-6f94eee36df3 button.colab-df-convert');\n",
              "      buttonEl.style.display =\n",
              "        google.colab.kernel.accessAllowed ? 'block' : 'none';\n",
              "\n",
              "      async function convertToInteractive(key) {\n",
              "        const element = document.querySelector('#df-c44d6fbf-9cad-40e7-9507-6f94eee36df3');\n",
              "        const dataTable =\n",
              "          await google.colab.kernel.invokeFunction('convertToInteractive',\n",
              "                                                    [key], {});\n",
              "        if (!dataTable) return;\n",
              "\n",
              "        const docLinkHtml = 'Like what you see? Visit the ' +\n",
              "          '<a target=\"_blank\" href=https://colab.research.google.com/notebooks/data_table.ipynb>data table notebook</a>'\n",
              "          + ' to learn more about interactive tables.';\n",
              "        element.innerHTML = '';\n",
              "        dataTable['output_type'] = 'display_data';\n",
              "        await google.colab.output.renderOutput(dataTable, element);\n",
              "        const docLink = document.createElement('div');\n",
              "        docLink.innerHTML = docLinkHtml;\n",
              "        element.appendChild(docLink);\n",
              "      }\n",
              "    </script>\n",
              "  </div>\n",
              "\n",
              "\n",
              "<div id=\"df-ffd053d7-7c68-4507-80fc-c9d7fdcd85b6\">\n",
              "  <button class=\"colab-df-quickchart\" onclick=\"quickchart('df-ffd053d7-7c68-4507-80fc-c9d7fdcd85b6')\"\n",
              "            title=\"Suggest charts.\"\n",
              "            style=\"display:none;\">\n",
              "\n",
              "<svg xmlns=\"http://www.w3.org/2000/svg\" height=\"24px\"viewBox=\"0 0 24 24\"\n",
              "     width=\"24px\">\n",
              "    <g>\n",
              "        <path d=\"M19 3H5c-1.1 0-2 .9-2 2v14c0 1.1.9 2 2 2h14c1.1 0 2-.9 2-2V5c0-1.1-.9-2-2-2zM9 17H7v-7h2v7zm4 0h-2V7h2v10zm4 0h-2v-4h2v4z\"/>\n",
              "    </g>\n",
              "</svg>\n",
              "  </button>\n",
              "\n",
              "<style>\n",
              "  .colab-df-quickchart {\n",
              "      --bg-color: #E8F0FE;\n",
              "      --fill-color: #1967D2;\n",
              "      --hover-bg-color: #E2EBFA;\n",
              "      --hover-fill-color: #174EA6;\n",
              "      --disabled-fill-color: #AAA;\n",
              "      --disabled-bg-color: #DDD;\n",
              "  }\n",
              "\n",
              "  [theme=dark] .colab-df-quickchart {\n",
              "      --bg-color: #3B4455;\n",
              "      --fill-color: #D2E3FC;\n",
              "      --hover-bg-color: #434B5C;\n",
              "      --hover-fill-color: #FFFFFF;\n",
              "      --disabled-bg-color: #3B4455;\n",
              "      --disabled-fill-color: #666;\n",
              "  }\n",
              "\n",
              "  .colab-df-quickchart {\n",
              "    background-color: var(--bg-color);\n",
              "    border: none;\n",
              "    border-radius: 50%;\n",
              "    cursor: pointer;\n",
              "    display: none;\n",
              "    fill: var(--fill-color);\n",
              "    height: 32px;\n",
              "    padding: 0;\n",
              "    width: 32px;\n",
              "  }\n",
              "\n",
              "  .colab-df-quickchart:hover {\n",
              "    background-color: var(--hover-bg-color);\n",
              "    box-shadow: 0 1px 2px rgba(60, 64, 67, 0.3), 0 1px 3px 1px rgba(60, 64, 67, 0.15);\n",
              "    fill: var(--button-hover-fill-color);\n",
              "  }\n",
              "\n",
              "  .colab-df-quickchart-complete:disabled,\n",
              "  .colab-df-quickchart-complete:disabled:hover {\n",
              "    background-color: var(--disabled-bg-color);\n",
              "    fill: var(--disabled-fill-color);\n",
              "    box-shadow: none;\n",
              "  }\n",
              "\n",
              "  .colab-df-spinner {\n",
              "    border: 2px solid var(--fill-color);\n",
              "    border-color: transparent;\n",
              "    border-bottom-color: var(--fill-color);\n",
              "    animation:\n",
              "      spin 1s steps(1) infinite;\n",
              "  }\n",
              "\n",
              "  @keyframes spin {\n",
              "    0% {\n",
              "      border-color: transparent;\n",
              "      border-bottom-color: var(--fill-color);\n",
              "      border-left-color: var(--fill-color);\n",
              "    }\n",
              "    20% {\n",
              "      border-color: transparent;\n",
              "      border-left-color: var(--fill-color);\n",
              "      border-top-color: var(--fill-color);\n",
              "    }\n",
              "    30% {\n",
              "      border-color: transparent;\n",
              "      border-left-color: var(--fill-color);\n",
              "      border-top-color: var(--fill-color);\n",
              "      border-right-color: var(--fill-color);\n",
              "    }\n",
              "    40% {\n",
              "      border-color: transparent;\n",
              "      border-right-color: var(--fill-color);\n",
              "      border-top-color: var(--fill-color);\n",
              "    }\n",
              "    60% {\n",
              "      border-color: transparent;\n",
              "      border-right-color: var(--fill-color);\n",
              "    }\n",
              "    80% {\n",
              "      border-color: transparent;\n",
              "      border-right-color: var(--fill-color);\n",
              "      border-bottom-color: var(--fill-color);\n",
              "    }\n",
              "    90% {\n",
              "      border-color: transparent;\n",
              "      border-bottom-color: var(--fill-color);\n",
              "    }\n",
              "  }\n",
              "</style>\n",
              "\n",
              "  <script>\n",
              "    async function quickchart(key) {\n",
              "      const quickchartButtonEl =\n",
              "        document.querySelector('#' + key + ' button');\n",
              "      quickchartButtonEl.disabled = true;  // To prevent multiple clicks.\n",
              "      quickchartButtonEl.classList.add('colab-df-spinner');\n",
              "      try {\n",
              "        const charts = await google.colab.kernel.invokeFunction(\n",
              "            'suggestCharts', [key], {});\n",
              "      } catch (error) {\n",
              "        console.error('Error during call to suggestCharts:', error);\n",
              "      }\n",
              "      quickchartButtonEl.classList.remove('colab-df-spinner');\n",
              "      quickchartButtonEl.classList.add('colab-df-quickchart-complete');\n",
              "    }\n",
              "    (() => {\n",
              "      let quickchartButtonEl =\n",
              "        document.querySelector('#df-ffd053d7-7c68-4507-80fc-c9d7fdcd85b6 button');\n",
              "      quickchartButtonEl.style.display =\n",
              "        google.colab.kernel.accessAllowed ? 'block' : 'none';\n",
              "    })();\n",
              "  </script>\n",
              "</div>\n",
              "    </div>\n",
              "  </div>\n"
            ]
          },
          "metadata": {},
          "execution_count": 86
        }
      ]
    },
    {
      "cell_type": "code",
      "source": [
        "df_hw.shape"
      ],
      "metadata": {
        "id": "GbyhSCQZB5gC",
        "outputId": "e8019567-5188-4bc0-edd6-f996f1f8cd3c",
        "colab": {
          "base_uri": "https://localhost:8080/"
        }
      },
      "execution_count": null,
      "outputs": [
        {
          "output_type": "execute_result",
          "data": {
            "text/plain": [
              "(10000, 3)"
            ]
          },
          "metadata": {},
          "execution_count": 87
        }
      ]
    },
    {
      "cell_type": "code",
      "source": [
        "df_height = df_hw[\"Height\"]\n",
        "df_height"
      ],
      "metadata": {
        "id": "WJq9ESkcDYtg",
        "outputId": "5a5ed57b-d820-4d81-e416-3184cc7182a8",
        "colab": {
          "base_uri": "https://localhost:8080/"
        }
      },
      "execution_count": null,
      "outputs": [
        {
          "output_type": "execute_result",
          "data": {
            "text/plain": [
              "0       73.847017\n",
              "1       68.781904\n",
              "2       74.110105\n",
              "3       71.730978\n",
              "4       69.881796\n",
              "          ...    \n",
              "9995    66.172652\n",
              "9996    67.067155\n",
              "9997    63.867992\n",
              "9998    69.034243\n",
              "9999    61.944246\n",
              "Name: Height, Length: 10000, dtype: float64"
            ]
          },
          "metadata": {},
          "execution_count": 88
        }
      ]
    },
    {
      "cell_type": "markdown",
      "source": [
        "### **(1) Population Mean**"
      ],
      "metadata": {
        "id": "jG2iEK1_C-SN"
      }
    },
    {
      "cell_type": "code",
      "source": [
        "\n",
        "'''\n",
        "> For population:\n",
        "\t- data.head()\t#population\n",
        "\t- mu = data.mean()\t#population mean\n",
        "\t- sigma = data.std()\t#population std dev\n",
        "\t- sns.histplot(data)\t#distribution\n",
        "'''"
      ],
      "metadata": {
        "id": "SKxMwab6B5cg",
        "colab": {
          "base_uri": "https://localhost:8080/",
          "height": 55
        },
        "outputId": "7971f7fa-2a3b-4f45-b351-b27e3c289004"
      },
      "execution_count": null,
      "outputs": [
        {
          "output_type": "execute_result",
          "data": {
            "text/plain": [
              "'\\n> For population:\\n\\t- data.head()\\t#population\\n\\t- mu = data.mean()\\t#population mean\\n\\t- sigma = data.std()\\t#population std dev\\n\\t- sns.histplot(data)\\t#distribution\\n'"
            ],
            "application/vnd.google.colaboratory.intrinsic+json": {
              "type": "string"
            }
          },
          "metadata": {},
          "execution_count": 89
        }
      ]
    },
    {
      "cell_type": "code",
      "source": [
        "df_height.head()        # population"
      ],
      "metadata": {
        "id": "aM0gU3rBB5ZK",
        "outputId": "9df1a457-d431-4aec-ec85-8a9bdd7eb568",
        "colab": {
          "base_uri": "https://localhost:8080/"
        }
      },
      "execution_count": null,
      "outputs": [
        {
          "output_type": "execute_result",
          "data": {
            "text/plain": [
              "0    73.847017\n",
              "1    68.781904\n",
              "2    74.110105\n",
              "3    71.730978\n",
              "4    69.881796\n",
              "Name: Height, dtype: float64"
            ]
          },
          "metadata": {},
          "execution_count": 90
        }
      ]
    },
    {
      "cell_type": "code",
      "source": [
        "mu = df_height.mean()         # population mean\n",
        "mu"
      ],
      "metadata": {
        "id": "VeDQAlKTB5U8",
        "outputId": "0dd6706b-f71c-4357-ccff-3b73b84db6c0",
        "colab": {
          "base_uri": "https://localhost:8080/"
        }
      },
      "execution_count": null,
      "outputs": [
        {
          "output_type": "execute_result",
          "data": {
            "text/plain": [
              "66.36755975482124"
            ]
          },
          "metadata": {},
          "execution_count": 91
        }
      ]
    },
    {
      "cell_type": "code",
      "source": [
        "sigma = df_height.std()         # population std dev\n",
        "sigma"
      ],
      "metadata": {
        "id": "iZwTCleYB5RE",
        "outputId": "46b0c30d-048d-4d2b-e834-72a380fbc59e",
        "colab": {
          "base_uri": "https://localhost:8080/"
        }
      },
      "execution_count": null,
      "outputs": [
        {
          "output_type": "execute_result",
          "data": {
            "text/plain": [
              "3.8475281207732293"
            ]
          },
          "metadata": {},
          "execution_count": 92
        }
      ]
    },
    {
      "cell_type": "code",
      "source": [
        "sns.histplot(df_height)         # distribution"
      ],
      "metadata": {
        "id": "VaP4ew-cB5M1",
        "outputId": "1033c012-7199-4589-f2d1-1bee7db270de",
        "colab": {
          "base_uri": "https://localhost:8080/",
          "height": 467
        }
      },
      "execution_count": null,
      "outputs": [
        {
          "output_type": "execute_result",
          "data": {
            "text/plain": [
              "<Axes: xlabel='Height', ylabel='Count'>"
            ]
          },
          "metadata": {},
          "execution_count": 93
        },
        {
          "output_type": "display_data",
          "data": {
            "text/plain": [
              "<Figure size 640x480 with 1 Axes>"
            ],
            "image/png": "[encoded data removed]"
          },
          "metadata": {}
        }
      ]
    },
    {
      "cell_type": "markdown",
      "source": [
        "### **(2) Sample Dataset**"
      ],
      "metadata": {
        "id": "h6Hm-E7RFIcG"
      }
    },
    {
      "cell_type": "markdown",
      "source": [
        "**Analysis of sample size 5**"
      ],
      "metadata": {
        "id": "BhpqpQDDFTxF"
      }
    },
    {
      "cell_type": "code",
      "source": [
        "'''\n",
        "> Analysis of sample size 5:\n",
        "\t- data.sample(5)\t#random selection of 5 rows from the population dataset\n",
        "\t- np.mean(data.sample(5))\t#mean of one sample mean (NOTE: every time, this mean is different & is close to the population mean of 66.3)\n",
        "\t- sample_mean_5 = [np.mean(data.sample(5)) for i in range(20000)]\t#mean of 20000 sample means using list comprehension\n",
        "\t- len(sample_mean_5)\t#length of mean of 20000 sample means\n",
        "\t- sns.histplot(sample_mean_5)\t\t#distribution\n",
        "\t- np.mean(sample_mean_5)\t#Mean of sample means ≈ mean of population\n",
        " \t- np.std(sample_mean_5)\t\t#Std dev of sample < Std dev of population\n",
        " (NOTE: Standard Error (i.e. Standard deviation of the sample mean): As the number of sample size increases, the \"Std dev of sample < Std dev of \tpopulation\".\n",
        "  This is called as \"Standard Error\" with the formula \"sigma/sqrt(n)\")\n",
        "\t- sigma/np.sqrt(5)\t\t#\"Standard Error\" for n = 5\n",
        " '''"
      ],
      "metadata": {
        "id": "i6F6CeWgB5Ix",
        "colab": {
          "base_uri": "https://localhost:8080/",
          "height": 147
        },
        "outputId": "cc1fe0b7-1d45-4142-d29f-9858450de051"
      },
      "execution_count": null,
      "outputs": [
        {
          "output_type": "execute_result",
          "data": {
            "text/plain": [
              "'\\n> Analysis of sample size 5:\\n\\t- data.sample(5)\\t#random selection of 5 rows from the population dataset\\n\\t- np.mean(data.sample(5))\\t#mean of one sample mean (NOTE: every time, this mean is different & is close to the population mean of 66.3)\\n\\t- sample_mean_5 = [np.mean(data.sample(5)) for i in range(20000)]\\t#mean of 20000 sample means using list comprehension\\n\\t- len(sample_mean_5)\\t#length of mean of 20000 sample means\\n\\t- sns.histplot(sample_mean_5)\\t\\t#distribution\\n\\t- np.mean(sample_mean_5)\\t#Mean of sample means ≈ mean of population\\n \\t- np.std(sample_mean_5)\\t\\t#Std dev of sample < Std dev of population\\n (NOTE: Standard Error (i.e. Standard deviation of the sample mean): As the number of sample size increases, the \"Std dev of sample < Std dev of \\tpopulation\".\\n  This is called as \"Standard Error\" with the formula \"sigma/sqrt(n)\")\\n\\t- sigma/np.sqrt(5)\\t\\t#\"Standard Error\" for n = 5\\n '"
            ],
            "application/vnd.google.colaboratory.intrinsic+json": {
              "type": "string"
            }
          },
          "metadata": {},
          "execution_count": 94
        }
      ]
    },
    {
      "cell_type": "code",
      "source": [
        "df_height.head()"
      ],
      "metadata": {
        "id": "MSM_OmuvB5EU",
        "outputId": "447a6973-7eb1-4c37-9a27-1054cee5b68b",
        "colab": {
          "base_uri": "https://localhost:8080/"
        }
      },
      "execution_count": null,
      "outputs": [
        {
          "output_type": "execute_result",
          "data": {
            "text/plain": [
              "0    73.847017\n",
              "1    68.781904\n",
              "2    74.110105\n",
              "3    71.730978\n",
              "4    69.881796\n",
              "Name: Height, dtype: float64"
            ]
          },
          "metadata": {},
          "execution_count": 95
        }
      ]
    },
    {
      "cell_type": "code",
      "source": [
        "df_height.sample(5)         # random selection of 5 rows from the population dataset"
      ],
      "metadata": {
        "id": "DObwQxSqB497",
        "outputId": "552b6da4-6854-430f-bc4e-4b4c8265ac98",
        "colab": {
          "base_uri": "https://localhost:8080/"
        }
      },
      "execution_count": null,
      "outputs": [
        {
          "output_type": "execute_result",
          "data": {
            "text/plain": [
              "5523    68.259311\n",
              "8716    64.741425\n",
              "3074    68.858680\n",
              "4551    68.186157\n",
              "14      69.243732\n",
              "Name: Height, dtype: float64"
            ]
          },
          "metadata": {},
          "execution_count": 96
        }
      ]
    },
    {
      "cell_type": "code",
      "source": [
        "np.mean(df_height.sample(5))        # mean of one sample mean (NOTE: every time, this mean is different & is close to the population mean of 66.3)"
      ],
      "metadata": {
        "id": "tfKGdkIqB46p",
        "outputId": "1f8a6ee5-8eb5-4ea0-b08c-30ed21e2cab4",
        "colab": {
          "base_uri": "https://localhost:8080/"
        }
      },
      "execution_count": null,
      "outputs": [
        {
          "output_type": "execute_result",
          "data": {
            "text/plain": [
              "68.70616213546569"
            ]
          },
          "metadata": {},
          "execution_count": 97
        }
      ]
    },
    {
      "cell_type": "code",
      "source": [
        "sample_mean_5 = [np.mean(df_height.sample(5)) for i in range(20000)]          # \"List Comprehension\" - mean of 20000 sample means\n",
        "len(sample_mean_5)          # each of these numbers represents a sample mean of sample size 5\n",
        "sns.histplot(sample_mean_5)         # distribution"
      ],
      "metadata": {
        "id": "ydURLsGvB43Y",
        "outputId": "5b4911eb-bef0-4933-f48b-20acd0568528",
        "colab": {
          "base_uri": "https://localhost:8080/",
          "height": 448
        }
      },
      "execution_count": null,
      "outputs": [
        {
          "output_type": "execute_result",
          "data": {
            "text/plain": [
              "<Axes: ylabel='Count'>"
            ]
          },
          "metadata": {},
          "execution_count": 98
        },
        {
          "output_type": "display_data",
          "data": {
            "text/plain": [
              "<Figure size 640x480 with 1 Axes>"
            ],
            "image/png": "[encoded data removed]"
          },
          "metadata": {}
        }
      ]
    },
    {
      "cell_type": "code",
      "source": [
        "np.mean(sample_mean_5)          # Mean of sample means ≈ mean of population"
      ],
      "metadata": {
        "id": "lOwb-v-mB4ut",
        "outputId": "5be7453a-48e0-4615-9507-92d401c1c0af",
        "colab": {
          "base_uri": "https://localhost:8080/"
        }
      },
      "execution_count": null,
      "outputs": [
        {
          "output_type": "execute_result",
          "data": {
            "text/plain": [
              "66.4003074791223"
            ]
          },
          "metadata": {},
          "execution_count": 99
        }
      ]
    },
    {
      "cell_type": "code",
      "source": [
        "np.std(sample_mean_5)         # Std dev of sample < Std dev of population"
      ],
      "metadata": {
        "id": "4mCfsa1cB4rY",
        "outputId": "1d9c8320-ec98-4466-abac-ea106227e8ba",
        "colab": {
          "base_uri": "https://localhost:8080/"
        }
      },
      "execution_count": null,
      "outputs": [
        {
          "output_type": "execute_result",
          "data": {
            "text/plain": [
              "1.727190461055194"
            ]
          },
          "metadata": {},
          "execution_count": 100
        }
      ]
    },
    {
      "cell_type": "code",
      "source": [
        "# (sigma = std of the population) / (square root of sample size)\n",
        "sigma/np.sqrt(5)          # \"Standard Error\" for n = 5"
      ],
      "metadata": {
        "id": "Gx6hIw8eHW86",
        "outputId": "d60fe0fb-5e3e-4063-ef1f-5574870c6c80",
        "colab": {
          "base_uri": "https://localhost:8080/"
        }
      },
      "execution_count": null,
      "outputs": [
        {
          "output_type": "execute_result",
          "data": {
            "text/plain": [
              "1.7206668846781923"
            ]
          },
          "metadata": {},
          "execution_count": 101
        }
      ]
    },
    {
      "cell_type": "markdown",
      "source": [
        "**Analysis of sample size 20**"
      ],
      "metadata": {
        "id": "ThyHnWe5wNbS"
      }
    },
    {
      "cell_type": "code",
      "source": [
        "\n",
        "'''\n",
        "> Analysis of sample size 20:\n",
        "\t- (Same as above steps but take the random selection of 20 rows)\n",
        "'''"
      ],
      "metadata": {
        "id": "YbhOsoLAHm0r",
        "colab": {
          "base_uri": "https://localhost:8080/",
          "height": 36
        },
        "outputId": "2976abca-21b3-4711-dbb1-74a9f5a00677"
      },
      "execution_count": null,
      "outputs": [
        {
          "output_type": "execute_result",
          "data": {
            "text/plain": [
              "'\\n> Analysis of sample size 20:\\n\\t- (Same as above steps but take the random selection of 20 rows)\\n'"
            ],
            "application/vnd.google.colaboratory.intrinsic+json": {
              "type": "string"
            }
          },
          "metadata": {},
          "execution_count": 102
        }
      ]
    },
    {
      "cell_type": "code",
      "source": [
        "df_height.sample(20) #random selection of 20 rows"
      ],
      "metadata": {
        "colab": {
          "base_uri": "https://localhost:8080/"
        },
        "id": "nYMzpfCowWSP",
        "outputId": "ad8b3f05-4124-48c8-957d-8fc489cbc7f0"
      },
      "execution_count": null,
      "outputs": [
        {
          "output_type": "execute_result",
          "data": {
            "text/plain": [
              "3084    65.914971\n",
              "6077    61.781452\n",
              "9981    60.443264\n",
              "1298    69.702258\n",
              "8440    61.662367\n",
              "9455    63.571404\n",
              "8630    68.423169\n",
              "3221    64.766566\n",
              "5007    65.652156\n",
              "2671    66.351331\n",
              "3659    70.485749\n",
              "4829    70.378608\n",
              "5146    65.182239\n",
              "869     67.697104\n",
              "7209    61.309108\n",
              "9915    60.063144\n",
              "6098    66.813681\n",
              "4266    71.879538\n",
              "9751    65.908350\n",
              "7807    62.409264\n",
              "Name: Height, dtype: float64"
            ]
          },
          "metadata": {},
          "execution_count": 103
        }
      ]
    },
    {
      "cell_type": "code",
      "source": [
        "np.mean(df_height.sample(20))"
      ],
      "metadata": {
        "colab": {
          "base_uri": "https://localhost:8080/"
        },
        "id": "0pVnjjHMxIeJ",
        "outputId": "f9edb28e-029f-43e5-c063-2e96efa1dad6"
      },
      "execution_count": null,
      "outputs": [
        {
          "output_type": "execute_result",
          "data": {
            "text/plain": [
              "66.67154668729111"
            ]
          },
          "metadata": {},
          "execution_count": 104
        }
      ]
    },
    {
      "cell_type": "code",
      "source": [
        "sample_mean_20 = [np.mean(df_height.sample(20))  for i in range(20000)]"
      ],
      "metadata": {
        "id": "uLiXkM9oxIbP"
      },
      "execution_count": null,
      "outputs": []
    },
    {
      "cell_type": "code",
      "source": [
        "len(sample_mean_20)"
      ],
      "metadata": {
        "colab": {
          "base_uri": "https://localhost:8080/"
        },
        "id": "cRQ54bmixIXp",
        "outputId": "562eae4c-c10a-4f6c-c354-13d857f7c72a"
      },
      "execution_count": null,
      "outputs": [
        {
          "output_type": "execute_result",
          "data": {
            "text/plain": [
              "20000"
            ]
          },
          "metadata": {},
          "execution_count": 106
        }
      ]
    },
    {
      "cell_type": "code",
      "source": [
        "sns.histplot(sample_mean_20)"
      ],
      "metadata": {
        "colab": {
          "base_uri": "https://localhost:8080/",
          "height": 448
        },
        "id": "-Yzs5AlfxIT-",
        "outputId": "6358640a-31e1-4243-b7ec-73a3eb5e0a07"
      },
      "execution_count": null,
      "outputs": [
        {
          "output_type": "execute_result",
          "data": {
            "text/plain": [
              "<Axes: ylabel='Count'>"
            ]
          },
          "metadata": {},
          "execution_count": 107
        },
        {
          "output_type": "display_data",
          "data": {
            "text/plain": [
              "<Figure size 640x480 with 1 Axes>"
            ],
            "image/png": "[encoded data removed]"
          },
          "metadata": {}
        }
      ]
    },
    {
      "cell_type": "code",
      "source": [
        "np.mean(sample_mean_20)"
      ],
      "metadata": {
        "colab": {
          "base_uri": "https://localhost:8080/"
        },
        "id": "1kBNI9KRxIP4",
        "outputId": "98c5df1c-31c9-4079-ad3f-7ddc5ad8c2b0"
      },
      "execution_count": null,
      "outputs": [
        {
          "output_type": "execute_result",
          "data": {
            "text/plain": [
              "66.36741057999943"
            ]
          },
          "metadata": {},
          "execution_count": 108
        }
      ]
    },
    {
      "cell_type": "code",
      "source": [
        "np.std(sample_mean_20)"
      ],
      "metadata": {
        "colab": {
          "base_uri": "https://localhost:8080/"
        },
        "id": "av8AMiVkxIMv",
        "outputId": "395cb227-30bf-488a-be26-bc26a7a3c14d"
      },
      "execution_count": null,
      "outputs": [
        {
          "output_type": "execute_result",
          "data": {
            "text/plain": [
              "0.867169335542693"
            ]
          },
          "metadata": {},
          "execution_count": 109
        }
      ]
    },
    {
      "cell_type": "code",
      "source": [
        "sigma/np.sqrt(20) #standard error for n = 20"
      ],
      "metadata": {
        "colab": {
          "base_uri": "https://localhost:8080/"
        },
        "id": "AVNnkND4xIJz",
        "outputId": "a4aef240-b6ac-44ac-f425-b74eb16288b3"
      },
      "execution_count": null,
      "outputs": [
        {
          "output_type": "execute_result",
          "data": {
            "text/plain": [
              "0.8603334423390961"
            ]
          },
          "metadata": {},
          "execution_count": 110
        }
      ]
    },
    {
      "cell_type": "markdown",
      "source": [
        "**Analysis of sample size 100**"
      ],
      "metadata": {
        "id": "tUGlPkJ5xbqu"
      }
    },
    {
      "cell_type": "code",
      "source": [
        "'''\n",
        "> Analysis of sample size 100:\n",
        "\t- (Same as above steps but take the random selection of 100 rows)\n",
        "'''"
      ],
      "metadata": {
        "colab": {
          "base_uri": "https://localhost:8080/",
          "height": 36
        },
        "id": "kKw3YR04xIGU",
        "outputId": "12fae16e-df51-4095-f20e-ea8f758f4636"
      },
      "execution_count": null,
      "outputs": [
        {
          "output_type": "execute_result",
          "data": {
            "text/plain": [
              "'\\n> Analysis of sample size 100:\\n\\t- (Same as above steps but take the random selection of 100 rows)\\n'"
            ],
            "application/vnd.google.colaboratory.intrinsic+json": {
              "type": "string"
            }
          },
          "metadata": {},
          "execution_count": 111
        }
      ]
    },
    {
      "cell_type": "code",
      "source": [
        "np.mean(df_height.sample(100))"
      ],
      "metadata": {
        "colab": {
          "base_uri": "https://localhost:8080/"
        },
        "id": "5H3sVfdfxIDN",
        "outputId": "9aeb2755-e989-4b66-af54-9e1ac11c687d"
      },
      "execution_count": null,
      "outputs": [
        {
          "output_type": "execute_result",
          "data": {
            "text/plain": [
              "66.22824102049599"
            ]
          },
          "metadata": {},
          "execution_count": 112
        }
      ]
    },
    {
      "cell_type": "code",
      "source": [
        "sample_mean_100 = [np.mean(df_height.sample(100))  for i in range(20000)]"
      ],
      "metadata": {
        "id": "ToJ6IQKjxH_2"
      },
      "execution_count": null,
      "outputs": []
    },
    {
      "cell_type": "code",
      "source": [
        "len(sample_mean_100)"
      ],
      "metadata": {
        "colab": {
          "base_uri": "https://localhost:8080/"
        },
        "id": "1MjM7c0ixH8D",
        "outputId": "135edeb6-4964-4adb-d17b-1b3442ee8dd4"
      },
      "execution_count": null,
      "outputs": [
        {
          "output_type": "execute_result",
          "data": {
            "text/plain": [
              "20000"
            ]
          },
          "metadata": {},
          "execution_count": 114
        }
      ]
    },
    {
      "cell_type": "code",
      "source": [
        "sns.histplot(sample_mean_100)"
      ],
      "metadata": {
        "colab": {
          "base_uri": "https://localhost:8080/",
          "height": 448
        },
        "id": "IK8eNQrsxH49",
        "outputId": "2574e7d6-882d-4ea0-ce13-90a16955c35e"
      },
      "execution_count": null,
      "outputs": [
        {
          "output_type": "execute_result",
          "data": {
            "text/plain": [
              "<Axes: ylabel='Count'>"
            ]
          },
          "metadata": {},
          "execution_count": 115
        },
        {
          "output_type": "display_data",
          "data": {
            "text/plain": [
              "<Figure size 640x480 with 1 Axes>"
            ],
            "image/png": "[encoded data removed]"
          },
          "metadata": {}
        }
      ]
    },
    {
      "cell_type": "code",
      "source": [
        "np.mean(sample_mean_100)"
      ],
      "metadata": {
        "colab": {
          "base_uri": "https://localhost:8080/"
        },
        "id": "BdGVYM2rxoq_",
        "outputId": "c86b993d-8791-41e8-8b88-e7fd00207046"
      },
      "execution_count": null,
      "outputs": [
        {
          "output_type": "execute_result",
          "data": {
            "text/plain": [
              "66.36269185132467"
            ]
          },
          "metadata": {},
          "execution_count": 116
        }
      ]
    },
    {
      "cell_type": "code",
      "source": [
        "np.std(sample_mean_100)"
      ],
      "metadata": {
        "colab": {
          "base_uri": "https://localhost:8080/"
        },
        "id": "_MTI6Lwgxonm",
        "outputId": "35a21ca4-43ae-4b24-d710-6f05646a986b"
      },
      "execution_count": null,
      "outputs": [
        {
          "output_type": "execute_result",
          "data": {
            "text/plain": [
              "0.38144237730716213"
            ]
          },
          "metadata": {},
          "execution_count": 117
        }
      ]
    },
    {
      "cell_type": "code",
      "source": [
        "sigma/np.sqrt(100)  #standard error for n = 100"
      ],
      "metadata": {
        "colab": {
          "base_uri": "https://localhost:8080/"
        },
        "id": "gMtdHU1CxokO",
        "outputId": "75e363fb-06e5-434e-c6fb-03703a744803"
      },
      "execution_count": null,
      "outputs": [
        {
          "output_type": "execute_result",
          "data": {
            "text/plain": [
              "0.3847528120773229"
            ]
          },
          "metadata": {},
          "execution_count": 118
        }
      ]
    },
    {
      "cell_type": "markdown",
      "source": [
        "**Standard-Error (i.e. standard deviation of Sample Means)**\n",
        "\n",
        "As the **sampe size ↑** , the **standard deviation of sample mean ↓** , which is also known as **\"Standard Error\"**."
      ],
      "metadata": {
        "id": "kDix_bK_3YAm"
      }
    },
    {
      "cell_type": "markdown",
      "source": [
        "### **(3) Formula & Industry Standards**"
      ],
      "metadata": {
        "id": "OEJQAbPb3lal"
      }
    },
    {
      "cell_type": "code",
      "source": [
        "'''\n",
        "Formula:\n",
        "\tLet \"x̄ = (x1+x2+x3+...+xn)/n\" denotes the sample mean.\n",
        "\tThen x̄ follows a normal/gaussian distribution with expected mean.\n",
        "\tThat is, \"E(x̄)=μ\" where \"E(x̄)\" is expected mean and \"μ\" is population mean.\n",
        "\tAnd, Standard deviation of \"x̄ = σ / √n\"\n",
        "In other words, x̄ ≈ N(μ, σ/√n)\n",
        "\tThat is, x̄ follows a Normal/Gaussian Distribution as \"N\" with mean as \"μ\" and std dev as \"σ/√n\"\n",
        "'''"
      ],
      "metadata": {
        "id": "4qeYKSHkxogy"
      },
      "execution_count": null,
      "outputs": []
    },
    {
      "cell_type": "markdown",
      "source": [
        "### **(4) When will dataset be \"Gaussian Distributed/Normal\" ???**\n",
        "**`Very IMP:`**         \n",
        "When ever you take a **sample size of the dataset greater than 30**, then given any dataset which is **either Gaussian Distributed or Not**, when we take a **sample mean and plot the means of the samples**, then it becomes **\"Gaussian Distribution/Normal\"**."
      ],
      "metadata": {
        "id": "xGM4ezOY30lN"
      }
    },
    {
      "cell_type": "code",
      "source": [
        "'''\n",
        "NOTE: If n is large (n > 30), then sigma \"σ\" is finite. That is, original distribution need not be normal distribution...\n",
        "'''"
      ],
      "metadata": {
        "id": "ceAz23CK3w8Q"
      },
      "execution_count": null,
      "outputs": []
    },
    {
      "cell_type": "markdown",
      "source": [
        "### **(5) Quizzes**"
      ],
      "metadata": {
        "id": "yuYpSl4J4H7B"
      }
    },
    {
      "cell_type": "code",
      "source": [
        "# Quiz-1\n",
        "'''\n",
        "Systolic blood pressure of a group of people is known to have an average of 122 mmHg and a standard deviation of 10 mmHg. (assume normal distribution)\n",
        "Calculate the probability that the average blood pressure of 16 people will be greater than 125mmHg.\n",
        "'''"
      ],
      "metadata": {
        "id": "98iJSoS04GtY"
      },
      "execution_count": null,
      "outputs": []
    },
    {
      "cell_type": "code",
      "source": [
        "z = (125 - 122)/2.5       #Z-Score"
      ],
      "metadata": {
        "id": "I3oBZwct4R_A"
      },
      "execution_count": null,
      "outputs": []
    },
    {
      "cell_type": "code",
      "source": [
        "ans = 1 - norm.cdf(z)       #Fraction value on y-axis"
      ],
      "metadata": {
        "id": "4GLH6ahT4WBA"
      },
      "execution_count": null,
      "outputs": []
    },
    {
      "cell_type": "code",
      "source": [
        "print(ans)"
      ],
      "metadata": {
        "colab": {
          "base_uri": "https://localhost:8080/"
        },
        "id": "Fl8CS3J-4XWI",
        "outputId": "ebd84a35-b1ee-42d0-8a6a-651f645b6ac9"
      },
      "execution_count": null,
      "outputs": [
        {
          "output_type": "stream",
          "name": "stdout",
          "text": [
            "0.11506967022170822\n"
          ]
        }
      ]
    },
    {
      "cell_type": "code",
      "source": [
        "# Quiz-2\n",
        "'''\n",
        "Weekly toothpaste sales have a mean 1000 and std dev 200. (assume normal distri)\n",
        "What is the probability that the average weekly sales next month is more than 1110?\n",
        "'''"
      ],
      "metadata": {
        "id": "ox1891yk4aBH"
      },
      "execution_count": null,
      "outputs": []
    },
    {
      "cell_type": "code",
      "source": [
        "std_err = 200/np.sqrt(4)"
      ],
      "metadata": {
        "id": "On2icak64feB"
      },
      "execution_count": null,
      "outputs": []
    },
    {
      "cell_type": "code",
      "source": [
        "z = (1110 - 1000)/std_err"
      ],
      "metadata": {
        "id": "iYeSqrz64laP"
      },
      "execution_count": null,
      "outputs": []
    },
    {
      "cell_type": "code",
      "source": [
        "prob_less = norm.cdf(z)"
      ],
      "metadata": {
        "id": "15LW8d8i4n2w"
      },
      "execution_count": null,
      "outputs": []
    },
    {
      "cell_type": "code",
      "source": [
        "prob_more = 1 - prob_less"
      ],
      "metadata": {
        "id": "I8HPqbbd4poX"
      },
      "execution_count": null,
      "outputs": []
    },
    {
      "cell_type": "code",
      "source": [
        "prob_more"
      ],
      "metadata": {
        "colab": {
          "base_uri": "https://localhost:8080/"
        },
        "id": "1QOKxRKs4rFI",
        "outputId": "c43a9640-148a-4194-a092-7f168f87d63b"
      },
      "execution_count": null,
      "outputs": [
        {
          "output_type": "execute_result",
          "data": {
            "text/plain": [
              "0.13566606094638267"
            ]
          },
          "metadata": {},
          "execution_count": 132
        }
      ]
    },
    {
      "cell_type": "markdown",
      "source": [
        "### **`[IMP]`: Customized Code as per Industry Standard**"
      ],
      "metadata": {
        "id": "pOmS8nhK4vSV"
      }
    },
    {
      "cell_type": "code",
      "source": [
        "'''\n",
        "Customized Code:\n",
        "---------------------\n",
        "\tdef clt_prob(mu , sigma, n, obs):\n",
        "  \t\tstd_err = sigma/np.sqrt(n)\n",
        "  \t\tz = (obs - mu)/std_err\n",
        "  \t\tprob_less = norm.cdf(z)\n",
        "  \t\tprob_greater = 1 - norm.cdf(z)\n",
        "  \t\treturn prob_less, prob_greater\n",
        "\t#blood pressure\n",
        "\tclt_prob(122, 10, 16, 125)\n",
        "\t#toothpaste\n",
        "\tclt_prob(1000, 200, 4, 1110)\n",
        "'''"
      ],
      "metadata": {
        "id": "xw9BKFDX4skY"
      },
      "execution_count": null,
      "outputs": []
    },
    {
      "cell_type": "code",
      "source": [
        "def clt_prob(mu , sigma, n, obs):\n",
        "  std_err = sigma/np.sqrt(n)\n",
        "  z = (obs - mu)/std_err\n",
        "  prob_less = norm.cdf(z)\n",
        "  prob_greater = 1 - norm.cdf(z)\n",
        "  return prob_less, prob_greater"
      ],
      "metadata": {
        "id": "gSxpjLGa44qP"
      },
      "execution_count": null,
      "outputs": []
    },
    {
      "cell_type": "code",
      "source": [
        "#blood pressure\n",
        "clt_prob(122, 10, 16, 125)"
      ],
      "metadata": {
        "colab": {
          "base_uri": "https://localhost:8080/"
        },
        "id": "fDvjsLDk48TH",
        "outputId": "da8c6c6f-77bc-4936-a580-b8b5ad8c2fc1"
      },
      "execution_count": null,
      "outputs": [
        {
          "output_type": "execute_result",
          "data": {
            "text/plain": [
              "(0.8849303297782918, 0.11506967022170822)"
            ]
          },
          "metadata": {},
          "execution_count": 135
        }
      ]
    },
    {
      "cell_type": "code",
      "source": [
        "#toothpaste\n",
        "clt_prob(1000, 200, 4, 1110)"
      ],
      "metadata": {
        "colab": {
          "base_uri": "https://localhost:8080/"
        },
        "id": "9gZ0Q6Jr4-TA",
        "outputId": "7cfafc32-6acf-460e-8897-818995901f8c"
      },
      "execution_count": null,
      "outputs": [
        {
          "output_type": "execute_result",
          "data": {
            "text/plain": [
              "(0.8643339390536173, 0.13566606094638267)"
            ]
          },
          "metadata": {},
          "execution_count": 136
        }
      ]
    },
    {
      "cell_type": "code",
      "source": [
        "# Quiz-3\n",
        "'''\n",
        "In an e-commerce website, the average purchase amount per customer is\n",
        "15.\n",
        "If we randomly select a sample of 50 customers,\n",
        "what is the probability that the average purchase amount in the sample will be less than $75?\n",
        "'''"
      ],
      "metadata": {
        "id": "ZOSGSkPL5AOp"
      },
      "execution_count": null,
      "outputs": []
    },
    {
      "cell_type": "code",
      "source": [
        "clt_prob(80, 15, 50, 75)"
      ],
      "metadata": {
        "colab": {
          "base_uri": "https://localhost:8080/"
        },
        "id": "LVB3u0iX5DyI",
        "outputId": "a3c43373-c3a9-4ad6-be2d-a56513ad4086"
      },
      "execution_count": null,
      "outputs": [
        {
          "output_type": "execute_result",
          "data": {
            "text/plain": [
              "(0.009211062727049501, 0.9907889372729505)"
            ]
          },
          "metadata": {},
          "execution_count": 138
        }
      ]
    },
    {
      "cell_type": "code",
      "source": [],
      "metadata": {
        "id": "w4U-G_3u5GxQ"
      },
      "execution_count": null,
      "outputs": []
    },
    {
      "cell_type": "code",
      "source": [],
      "metadata": {
        "id": "SODLfIfv0FsT"
      },
      "execution_count": null,
      "outputs": []
    },
    {
      "cell_type": "markdown",
      "source": [
        "# <center>**`Part 2.4:` Confidence interval**</center>\n",
        "***"
      ],
      "metadata": {
        "id": "p9uDN-1P0GAC"
      }
    },
    {
      "cell_type": "code",
      "source": [
        "from scipy.stats import norm"
      ],
      "metadata": {
        "id": "vy9dXQZh0FZY"
      },
      "execution_count": null,
      "outputs": []
    }
  ]
}